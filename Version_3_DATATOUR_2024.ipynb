{
  "nbformat": 4,
  "nbformat_minor": 0,
  "metadata": {
    "colab": {
      "provenance": [],
      "include_colab_link": true
    },
    "kernelspec": {
      "name": "python3",
      "display_name": "Python 3"
    },
    "language_info": {
      "name": "python"
    }
  },
  "cells": [
    {
      "cell_type": "markdown",
      "metadata": {
        "id": "view-in-github",
        "colab_type": "text"
      },
      "source": [
        "<a href=\"https://colab.research.google.com/github/SIDIBEMoussa/DataHubInternational/blob/main/Version_3_DATATOUR_2024.ipynb\" target=\"_parent\"><img src=\"https://colab.research.google.com/assets/colab-badge.svg\" alt=\"Open In Colab\"/></a>"
      ]
    },
    {
      "cell_type": "markdown",
      "source": [
        "---\n",
        "\n",
        "# **Challenge Finale DataTour 2024 :** Prédiction des ventes futures pour une entreprise basée sur les ventes passées et des facteurs contextuels\n",
        "\n",
        "---\n",
        "\n",
        "### **Contexte :**\n",
        "\n",
        "L’Afrique connaît une dynamique économique croissante avec une diversité d'entreprises opérant dans des secteurs variés (commerce de détail, e-commerce, agroalimentaire, etc.). Cependant, l'un des défis majeurs pour les entreprises africaines reste la gestion des stocks et la prédiction des ventes futures. Une prédiction précise des ventes peut aider les entreprises à mieux gérer leur inventaire, optimiser leurs promotions, ajuster leur stratégie de prix et maximiser leurs profits. En raison de la nature volatile de la demande, des promotions fréquentes, de la variation des conditions météorologiques et des événements spéciaux (tels que les fêtes et jours fériés), une méthode basée sur l'analyse des données passées est essentielle pour établir des prévisions fiables.\n",
        "\n",
        "Ce projet vise à **prédire les ventes futures d'une entreprise** en se basant sur les ventes passées et plusieurs facteurs contextuels influençant la demande, notamment les promotions, les jours fériés, les conditions météorologiques et la disponibilité des stocks.\n",
        "\n",
        "---\n",
        "\n",
        "### **Objectifs :**\n",
        "\n",
        "À partir des données historiques de ventes d'une entreprise entre **2022-01-01 et 2024-10-31**, prédire le nombre d'unités qui seront vendues entre le **2024-11-01 et le 2024-11-30**. Cette prédiction permettra à l'entreprise de mieux gérer ses stocks, planifier ses campagnes promotionnelles et ajuster ses stratégies de marketing.\n",
        "\n",
        "---\n",
        "\n",
        "### **Structure des données**\n",
        "\n",
        "Les données sont divisées en deux fichiers distincts :\n",
        "\n",
        "1. **Fichier d’entraînement** (`train.csv`) :\n",
        "   - **Taille** : 83 047 lignes.\n",
        "   - **Colonnes** : Comprend toutes les colonnes, y compris la cible `quantite_vendue`.\n",
        "   - **Utilisation** : Ces données servent à entraîner et tester votre modèles.\n",
        "   - **Source** : https://raw.githubusercontent.com/dataafriquehub/donnee_vente/refs/heads/main/train.csv\n",
        "\n",
        "\n",
        "2. **Fichier de soumission** (`submission.csv`) :\n",
        "   - **Taille** : 2 576 lignes.\n",
        "   - **Colonnes** : Contient toutes les caractéristiques sauf la colonne cible `quantite_vendue`.\n",
        "   - **Utilisation** : Ce fichier doit être utilisé pour générer les prédictions finales, sans accès à la colonne cible.\n",
        "   - **Source** : https://raw.githubusercontent.com/dataafriquehub/donnee_vente/refs/heads/main/submission.csv\n",
        "\n",
        "---\n",
        "\n",
        "### **Description des colonnes**\n",
        "\n",
        "Le dataset contient des informations relatives aux transactions de ventes passées, couvrant la période du **2022-01-01 au 2024-10-31**. Les variables disponibles sont :\n",
        "Voici les informations sous forme de tableau :\n",
        "\n",
        "| **Variable**                | **Description**                                                                                   |\n",
        "|-----------------------------|---------------------------------------------------------------------------------------------------|\n",
        "| **ID Produit (id_produit)**  | Identifiant unique pour chaque produit vendu.                                                     |\n",
        "| **Date (date)**              | La date de la vente, allant du 1er janvier 2022 au 31 octobre 2024.                               |\n",
        "| **Catégorie (categorie)**    | La catégorie du produit (ex. Électronique, Habillement, Alimentaire).                             |\n",
        "| **Marque (marque)**          | La marque du produit (ex. Samsung, Nike, Nestlé, etc.).                                           |\n",
        "| **Prix Unitaire (prix_unitaire)** | Le prix de vente par unité du produit.                                                            |\n",
        "| **Promotion (promotion)**    | Indicateur binaire (0 ou 1) indiquant si le produit était en promotion au moment de la vente.     |\n",
        "| **Jour Férié (jour_ferie)**  | Indicateur binaire (0 ou 1) indiquant si la vente a eu lieu un jour férié.                        |\n",
        "| **Week-end (weekend)**       | Indicateur binaire (0 ou 1) indiquant si la vente a eu lieu un week-end.                          |\n",
        "| **Stock Disponible (stock_disponible)** | Nombre d’unités disponibles pour la vente ce jour-là.                                            |\n",
        "| **Condition Météo (condition_meteo)** | Type de condition météo le jour de la vente (ex. Ensoleillé, Pluie, Orageux, Neigeux).              |\n",
        "| **Région (region)**          | Région géographique de la vente (ex. Urbain, Périurbain, Rural).                                 |\n",
        "| **Moment de la Journée (moment_journee)** | Le moment de la journée où la vente a eu lieu (ex. Matinée, Après-midi, Soirée).                |\n",
        "| **Quantité Vendue (quantite_vendue)** | Le nombre d'unités réellement vendues de chaque produit (pour l'entraînement seulement).         |\n",
        "\n",
        "\n",
        "*Note :* La **Quantité Vendue** est la variable cible à prédire pour la période de novembre 2024.\n",
        "\n",
        "Ces données serviront à entraîner le modèle de prédiction pour estimer les ventes du mois de **novembre 2024** (du **2024-11-01 au 2024-11-30**).\n",
        "\n",
        "---\n",
        "\n",
        "### **Critères d'évaluation**\n",
        "Les prédictions des équipes seront évaluées à l'aide de la **Mean Absolute Percentage Error (MAPE)**. Cette métrique mesure l'erreur moyenne entre les valeurs réelles et prédites en pourcentage.\n",
        "\n",
        "- Les équipes seront classées selon leur **score MAPE**.\n",
        "- **Les équipes ayant les MAPE les plus faibles** (indiquant une meilleure précision) seront classées en tête.\n",
        "- Trois soumissions au plus par équipe quotidiennement\n",
        "\n",
        "---\n",
        "\n",
        "### **Format de la soumission**\n",
        "Les participants doivent soumettre un fichier CSV avec exactement les colonnes suivantes :\n",
        "\n",
        "- **`id`** : L'identifiant de chaque ligne dans `submission.csv`.\n",
        "- **`quantite_vendue`** : La prédiction de la quantite_vendue pour chaque ligne.\n",
        "- **Lien vers le formulaire soumission :** https://docs.google.com/forms/d/e/1FAIpQLSeZcaBaYLSa8ZJ3xcqFEIuTThA4GcaBBIwI32RzEzNaYh-kAg/viewform\n",
        "\n",
        "Exemple de format attendu :\n",
        "```csv\n",
        "id,quantite_vendue\n",
        "1,320\n",
        "2,7500\n",
        "3,1000\n",
        "...\n",
        "```\n",
        "\n",
        "---\n",
        "\n",
        "\n",
        "\n",
        "\n",
        "Ainsi, ce projet de prédiction des ventes est non seulement crucial pour l'entreprise dans sa gestion quotidienne, mais il permet également de mieux anticiper les besoins du marché à l'échelle locale, avec une approche basée sur les données réelles de l'entreprise.\n",
        "\n",
        "**Prêts à relever? Faites donc partir des meilleurs de DataTour2024 et faites briller les couleurs des drapeaux de votre pays**"
      ],
      "metadata": {
        "id": "9DS4tw2fGBsF"
      }
    },
    {
      "cell_type": "markdown",
      "source": [
        "##Analyse Exploiratoire des Données"
      ],
      "metadata": {
        "id": "iNVpLd4Q3Kae"
      }
    },
    {
      "cell_type": "code",
      "source": [
        "import warnings\n",
        "warnings.filterwarnings('ignore')"
      ],
      "metadata": {
        "id": "AfUhYyE6DDY3"
      },
      "execution_count": null,
      "outputs": []
    },
    {
      "cell_type": "code",
      "source": [
        "import pandas as pd                 # for data manipulation and analysis\n",
        "import numpy as np                  # for mathematical operations\n",
        "import plotly.express as px         # for data visualization\n",
        "import seaborn as sns               # for data visualization\n",
        "import matplotlib.pyplot as plt     # for data visualization"
      ],
      "metadata": {
        "id": "_K7OhjP_KsGX"
      },
      "execution_count": null,
      "outputs": []
    },
    {
      "cell_type": "code",
      "source": [
        "from google.colab import drive\n",
        "drive.mount('/content/drive')"
      ],
      "metadata": {
        "id": "n4mefpqwUnXw",
        "colab": {
          "base_uri": "https://localhost:8080/"
        },
        "outputId": "f910f586-1496-4aa9-83fc-4608097374fb"
      },
      "execution_count": null,
      "outputs": [
        {
          "output_type": "stream",
          "name": "stdout",
          "text": [
            "Mounted at /content/drive\n"
          ]
        }
      ]
    },
    {
      "cell_type": "code",
      "source": [
        "train_data = pd.read_csv(\"https://raw.githubusercontent.com/dataafriquehub/donnee_vente/refs/heads/main/train.csv\")\n",
        "sub_data = pd.read_csv(\"https://raw.githubusercontent.com/dataafriquehub/donnee_vente/refs/heads/main/submission.csv\")"
      ],
      "metadata": {
        "id": "_jSZSrpQ3dFg"
      },
      "execution_count": null,
      "outputs": []
    },
    {
      "cell_type": "code",
      "source": [
        "train_data.shape\n",
        "sub_data.shape"
      ],
      "metadata": {
        "colab": {
          "base_uri": "https://localhost:8080/"
        },
        "id": "DzMGR_5u3z5Y",
        "outputId": "582135a5-4f75-4834-a457-6edfed235e82"
      },
      "execution_count": null,
      "outputs": [
        {
          "output_type": "execute_result",
          "data": {
            "text/plain": [
              "(2576, 13)"
            ]
          },
          "metadata": {},
          "execution_count": 5
        }
      ]
    },
    {
      "cell_type": "code",
      "source": [
        "##Transformez les données dans un type de données adapté.\n",
        "analyst_data = train_data.copy()\n",
        "analyst_data['date'] = pd.to_datetime(analyst_data['date'])\n",
        "for col in analyst_data.columns:\n",
        "    if analyst_data[col].dtype == 'object':\n",
        "        analyst_data[col] = analyst_data[col].astype('category')\n",
        "\n",
        "##Convertir ces variables dans le bon format après le nettoyages\n",
        "# analyst_data['weekend'] = analyst_data['weekend'].astype(int)\n",
        "# analyst_data['promotion'] = analyst_data['promotion'].astype(int)\n",
        "# analyst_data['jour_ferie'] = analyst_data['jour_ferie'].astype(int)"
      ],
      "metadata": {
        "id": "q9UxOd9FIbUu"
      },
      "execution_count": null,
      "outputs": []
    },
    {
      "cell_type": "markdown",
      "source": [
        "Visualisation des données brutes"
      ],
      "metadata": {
        "id": "va1Em5itK_Cy"
      }
    },
    {
      "cell_type": "code",
      "source": [
        "# Repartition des modalités des variables qualitatives\n",
        "\n",
        "fig, axes = plt.subplots(2, 2, figsize=(20, 10))\n",
        "fig.suptitle('Repartition des modalités des variables qualitatives')\n",
        "sns.countplot(ax=axes[0, 0], x=\"categorie\", data=train_data, palette=\"Set2\")\n",
        "sns.countplot(ax=axes[0, 1], x=\"marque\", data=train_data, palette=\"Set2\")\n",
        "sns.countplot(ax=axes[1, 0], x=\"condition_meteo\", data=train_data, palette=\"Set2\", orient='v')\n",
        "sns.countplot(ax=axes[1, 1], x=\"moment_journee\", data=train_data, palette=\"Set2\")\n",
        "plt.show()"
      ],
      "metadata": {
        "colab": {
          "base_uri": "https://localhost:8080/",
          "height": 551
        },
        "id": "2xDxqzYs312G",
        "outputId": "da630081-a72d-4c53-b71b-8d084740c931"
      },
      "execution_count": null,
      "outputs": [
        {
          "output_type": "display_data",
          "data": {
            "text/plain": [
              "<Figure size 2000x1000 with 4 Axes>"
            ],
            "image/png": "[encoded data removed]"
          },
          "metadata": {}
        }
      ]
    },
    {
      "cell_type": "markdown",
      "source": [
        "Histogramme"
      ],
      "metadata": {
        "id": "YejnyYfQfGRx"
      }
    },
    {
      "cell_type": "code",
      "source": [
        "#kde=True pour avoir la densité en plus de l'histogramme\n",
        "fig, ax = plt.subplots(2,2,figsize=(10, 6))\n",
        "sns.histplot(data=analyst_data, x=\"quantite_vendue\", color=\"#e41a1c\", kde=True, ax=ax[0,0])\n",
        "sns.histplot(data=analyst_data, x=\"prix_unitaire\", color=\"#377eb8\", kde=True, ax=ax[0,1])\n",
        "sns.histplot(data=analyst_data, x=\"stock_disponible\", color=\"#4daf4a\", kde=True, ax=ax[1,0])\n",
        "plt.show()"
      ],
      "metadata": {
        "colab": {
          "base_uri": "https://localhost:8080/",
          "height": 542
        },
        "id": "vcu9gWlx64W_",
        "outputId": "60f8ab12-c3d6-4e6f-85f8-5b2850957bbf"
      },
      "execution_count": null,
      "outputs": [
        {
          "output_type": "display_data",
          "data": {
            "text/plain": [
              "<Figure size 1000x600 with 4 Axes>"
            ],
            "image/png": "[encoded data removed]"
          },
          "metadata": {}
        }
      ]
    },
    {
      "cell_type": "markdown",
      "source": [
        "Nettoyage de la base des données"
      ],
      "metadata": {
        "id": "espMHgNHgyu2"
      }
    },
    {
      "cell_type": "code",
      "source": [
        "##Suppression des colonnes inutile\n",
        "def drop_unuseful_col(data, cols):\n",
        "  dfs = []\n",
        "  for df in data:\n",
        "\n",
        "      df = df.drop(columns = cols)\n",
        "\n",
        "      dfs.append(df)\n",
        "\n",
        "  return dfs\n",
        "\n",
        "cols = ['Unnamed: 0']\n",
        "trains_data, subs_data = drop_unuseful_col([train_data, sub_data],cols[0])"
      ],
      "metadata": {
        "id": "xWr6mlC5-XRS"
      },
      "execution_count": null,
      "outputs": []
    },
    {
      "cell_type": "code",
      "source": [
        "##Mise au bon format les données\n",
        "def encodage(data):\n",
        "      dfs=[]\n",
        "      for df in data:\n",
        "         df['date'] = pd.to_datetime(df['date'])\n",
        "         for col in df.columns:\n",
        "            if df[col].dtype == 'object':\n",
        "                df[col] = df[col].astype('category')\n",
        "         dfs.append(df)\n",
        "\n",
        "      return data\n",
        "\n",
        "trains_data,subs_data= encodage([trains_data,subs_data])"
      ],
      "metadata": {
        "id": "9qbPQcAxh4wR"
      },
      "execution_count": null,
      "outputs": []
    },
    {
      "cell_type": "markdown",
      "source": [
        "Etude des valeurs manquantes et aberantes"
      ],
      "metadata": {
        "id": "Wqergk9oP1c4"
      }
    },
    {
      "cell_type": "code",
      "source": [
        "trains_data.boxplot(column=['prix_unitaire','quantite_vendue','stock_disponible'])\n",
        "plt.title(\"Distribution des variables quantitatives\")\n",
        "plt.show()"
      ],
      "metadata": {
        "colab": {
          "base_uri": "https://localhost:8080/",
          "height": 452
        },
        "id": "qWPwNqnePpJM",
        "outputId": "c3ba7151-2fb0-4e3c-c976-4b9f3e9d3478"
      },
      "execution_count": null,
      "outputs": [
        {
          "output_type": "display_data",
          "data": {
            "text/plain": [
              "<Figure size 640x480 with 1 Axes>"
            ],
            "image/png": "[encoded data removed]"
          },
          "metadata": {}
        }
      ]
    },
    {
      "cell_type": "markdown",
      "source": [
        "Valeur manquante"
      ],
      "metadata": {
        "id": "9gMt76mBSKjX"
      }
    },
    {
      "cell_type": "code",
      "source": [
        "na = trains_data.isna().sum()/trains_data.shape[0]*100 #calcul du pourcentage de valeurs manquantes par variable\n",
        "\n",
        "px.bar(na.sort_values(),\n",
        "         title = \"Pourcentage de valeurs manquantes par variable\",\n",
        "         color_discrete_sequence = [\"#377eb8\"],\n",
        "         template='ggplot2',\n",
        "         range_y = [0,100],\n",
        "         width=800,\n",
        "         labels={'value':'%', 'index':''},\n",
        "         color=None\n",
        "        ).update_traces(showlegend=False).update_xaxes(tickangle=45)"
      ],
      "metadata": {
        "colab": {
          "base_uri": "https://localhost:8080/",
          "height": 542
        },
        "id": "pxWobK5gSNKn",
        "outputId": "1422ffad-84fe-41df-d640-2cc8a71b227e"
      },
      "execution_count": null,
      "outputs": [
        {
          "output_type": "display_data",
          "data": {
            "text/html": [
              "<html>\n",
              "<head><meta charset=\"utf-8\" /></head>\n",
              "<body>\n",
              "    <div>            <script src=\"https://cdnjs.cloudflare.com/ajax/libs/mathjax/2.7.5/MathJax.js?config=TeX-AMS-MML_SVG\"></script><script type=\"text/javascript\">if (window.MathJax && window.MathJax.Hub && window.MathJax.Hub.Config) {window.MathJax.Hub.Config({SVG: {font: \"STIX-Web\"}});}</script>                <script type=\"text/javascript\">window.PlotlyConfig = {MathJaxConfig: 'local'};</script>\n",
              "        <script charset=\"utf-8\" src=\"https://cdn.plot.ly/plotly-2.35.2.min.js\"></script>                <div id=\"dfcf223d-b6d5-427b-b51e-e2cf9b42932e\" class=\"plotly-graph-div\" style=\"height:525px; width:800px;\"></div>            <script type=\"text/javascript\">                                    window.PLOTLYENV=window.PLOTLYENV || {};                                    if (document.getElementById(\"dfcf223d-b6d5-427b-b51e-e2cf9b42932e\")) {                    Plotly.newPlot(                        \"dfcf223d-b6d5-427b-b51e-e2cf9b42932e\",                        [{\"alignmentgroup\":\"True\",\"hovertemplate\":\"variable=0\\u003cbr\\u003e=%{x}\\u003cbr\\u003e%=%{y}\\u003cextra\\u003e\\u003c\\u002fextra\\u003e\",\"legendgroup\":\"0\",\"marker\":{\"color\":\"#377eb8\",\"pattern\":{\"shape\":\"\"}},\"name\":\"0\",\"offsetgroup\":\"0\",\"orientation\":\"v\",\"showlegend\":false,\"textposition\":\"auto\",\"x\":[\"date\",\"categorie\",\"prix_unitaire\",\"marque\",\"region\",\"condition_meteo\",\"id_produit\",\"quantite_vendue\",\"stock_disponible\",\"moment_journee\",\"weekend\",\"jour_ferie\",\"promotion\"],\"xaxis\":\"x\",\"y\":[0.0,0.0,5.376473563163028,10.046118463039003,12.842125543367008,13.264777776439848,13.699471383674306,13.735595506159163,16.915722422242826,20.393271280118487,22.228376702349273,25.36515467145111,29.048611027490455],\"yaxis\":\"y\",\"type\":\"bar\"}],                        {\"template\":{\"data\":{\"barpolar\":[{\"marker\":{\"line\":{\"color\":\"rgb(237,237,237)\",\"width\":0.5},\"pattern\":{\"fillmode\":\"overlay\",\"size\":10,\"solidity\":0.2}},\"type\":\"barpolar\"}],\"bar\":[{\"error_x\":{\"color\":\"rgb(51,51,51)\"},\"error_y\":{\"color\":\"rgb(51,51,51)\"},\"marker\":{\"line\":{\"color\":\"rgb(237,237,237)\",\"width\":0.5},\"pattern\":{\"fillmode\":\"overlay\",\"size\":10,\"solidity\":0.2}},\"type\":\"bar\"}],\"carpet\":[{\"aaxis\":{\"endlinecolor\":\"rgb(51,51,51)\",\"gridcolor\":\"white\",\"linecolor\":\"white\",\"minorgridcolor\":\"white\",\"startlinecolor\":\"rgb(51,51,51)\"},\"baxis\":{\"endlinecolor\":\"rgb(51,51,51)\",\"gridcolor\":\"white\",\"linecolor\":\"white\",\"minorgridcolor\":\"white\",\"startlinecolor\":\"rgb(51,51,51)\"},\"type\":\"carpet\"}],\"choropleth\":[{\"colorbar\":{\"outlinewidth\":0,\"tickcolor\":\"rgb(237,237,237)\",\"ticklen\":6,\"ticks\":\"inside\"},\"type\":\"choropleth\"}],\"contourcarpet\":[{\"colorbar\":{\"outlinewidth\":0,\"tickcolor\":\"rgb(237,237,237)\",\"ticklen\":6,\"ticks\":\"inside\"},\"type\":\"contourcarpet\"}],\"contour\":[{\"colorbar\":{\"outlinewidth\":0,\"tickcolor\":\"rgb(237,237,237)\",\"ticklen\":6,\"ticks\":\"inside\"},\"colorscale\":[[0,\"rgb(20,44,66)\"],[1,\"rgb(90,179,244)\"]],\"type\":\"contour\"}],\"heatmapgl\":[{\"colorbar\":{\"outlinewidth\":0,\"tickcolor\":\"rgb(237,237,237)\",\"ticklen\":6,\"ticks\":\"inside\"},\"colorscale\":[[0,\"rgb(20,44,66)\"],[1,\"rgb(90,179,244)\"]],\"type\":\"heatmapgl\"}],\"heatmap\":[{\"colorbar\":{\"outlinewidth\":0,\"tickcolor\":\"rgb(237,237,237)\",\"ticklen\":6,\"ticks\":\"inside\"},\"colorscale\":[[0,\"rgb(20,44,66)\"],[1,\"rgb(90,179,244)\"]],\"type\":\"heatmap\"}],\"histogram2dcontour\":[{\"colorbar\":{\"outlinewidth\":0,\"tickcolor\":\"rgb(237,237,237)\",\"ticklen\":6,\"ticks\":\"inside\"},\"colorscale\":[[0,\"rgb(20,44,66)\"],[1,\"rgb(90,179,244)\"]],\"type\":\"histogram2dcontour\"}],\"histogram2d\":[{\"colorbar\":{\"outlinewidth\":0,\"tickcolor\":\"rgb(237,237,237)\",\"ticklen\":6,\"ticks\":\"inside\"},\"colorscale\":[[0,\"rgb(20,44,66)\"],[1,\"rgb(90,179,244)\"]],\"type\":\"histogram2d\"}],\"histogram\":[{\"marker\":{\"pattern\":{\"fillmode\":\"overlay\",\"size\":10,\"solidity\":0.2}},\"type\":\"histogram\"}],\"mesh3d\":[{\"colorbar\":{\"outlinewidth\":0,\"tickcolor\":\"rgb(237,237,237)\",\"ticklen\":6,\"ticks\":\"inside\"},\"type\":\"mesh3d\"}],\"parcoords\":[{\"line\":{\"colorbar\":{\"outlinewidth\":0,\"tickcolor\":\"rgb(237,237,237)\",\"ticklen\":6,\"ticks\":\"inside\"}},\"type\":\"parcoords\"}],\"pie\":[{\"automargin\":true,\"type\":\"pie\"}],\"scatter3d\":[{\"line\":{\"colorbar\":{\"outlinewidth\":0,\"tickcolor\":\"rgb(237,237,237)\",\"ticklen\":6,\"ticks\":\"inside\"}},\"marker\":{\"colorbar\":{\"outlinewidth\":0,\"tickcolor\":\"rgb(237,237,237)\",\"ticklen\":6,\"ticks\":\"inside\"}},\"type\":\"scatter3d\"}],\"scattercarpet\":[{\"marker\":{\"colorbar\":{\"outlinewidth\":0,\"tickcolor\":\"rgb(237,237,237)\",\"ticklen\":6,\"ticks\":\"inside\"}},\"type\":\"scattercarpet\"}],\"scattergeo\":[{\"marker\":{\"colorbar\":{\"outlinewidth\":0,\"tickcolor\":\"rgb(237,237,237)\",\"ticklen\":6,\"ticks\":\"inside\"}},\"type\":\"scattergeo\"}],\"scattergl\":[{\"marker\":{\"colorbar\":{\"outlinewidth\":0,\"tickcolor\":\"rgb(237,237,237)\",\"ticklen\":6,\"ticks\":\"inside\"}},\"type\":\"scattergl\"}],\"scattermapbox\":[{\"marker\":{\"colorbar\":{\"outlinewidth\":0,\"tickcolor\":\"rgb(237,237,237)\",\"ticklen\":6,\"ticks\":\"inside\"}},\"type\":\"scattermapbox\"}],\"scatterpolargl\":[{\"marker\":{\"colorbar\":{\"outlinewidth\":0,\"tickcolor\":\"rgb(237,237,237)\",\"ticklen\":6,\"ticks\":\"inside\"}},\"type\":\"scatterpolargl\"}],\"scatterpolar\":[{\"marker\":{\"colorbar\":{\"outlinewidth\":0,\"tickcolor\":\"rgb(237,237,237)\",\"ticklen\":6,\"ticks\":\"inside\"}},\"type\":\"scatterpolar\"}],\"scatter\":[{\"fillpattern\":{\"fillmode\":\"overlay\",\"size\":10,\"solidity\":0.2},\"type\":\"scatter\"}],\"scatterternary\":[{\"marker\":{\"colorbar\":{\"outlinewidth\":0,\"tickcolor\":\"rgb(237,237,237)\",\"ticklen\":6,\"ticks\":\"inside\"}},\"type\":\"scatterternary\"}],\"surface\":[{\"colorbar\":{\"outlinewidth\":0,\"tickcolor\":\"rgb(237,237,237)\",\"ticklen\":6,\"ticks\":\"inside\"},\"colorscale\":[[0,\"rgb(20,44,66)\"],[1,\"rgb(90,179,244)\"]],\"type\":\"surface\"}],\"table\":[{\"cells\":{\"fill\":{\"color\":\"rgb(237,237,237)\"},\"line\":{\"color\":\"white\"}},\"header\":{\"fill\":{\"color\":\"rgb(217,217,217)\"},\"line\":{\"color\":\"white\"}},\"type\":\"table\"}]},\"layout\":{\"annotationdefaults\":{\"arrowhead\":0,\"arrowwidth\":1},\"autotypenumbers\":\"strict\",\"coloraxis\":{\"colorbar\":{\"outlinewidth\":0,\"tickcolor\":\"rgb(237,237,237)\",\"ticklen\":6,\"ticks\":\"inside\"}},\"colorscale\":{\"sequential\":[[0,\"rgb(20,44,66)\"],[1,\"rgb(90,179,244)\"]],\"sequentialminus\":[[0,\"rgb(20,44,66)\"],[1,\"rgb(90,179,244)\"]]},\"colorway\":[\"#F8766D\",\"#A3A500\",\"#00BF7D\",\"#00B0F6\",\"#E76BF3\"],\"font\":{\"color\":\"rgb(51,51,51)\"},\"geo\":{\"bgcolor\":\"white\",\"lakecolor\":\"white\",\"landcolor\":\"rgb(237,237,237)\",\"showlakes\":true,\"showland\":true,\"subunitcolor\":\"white\"},\"hoverlabel\":{\"align\":\"left\"},\"hovermode\":\"closest\",\"paper_bgcolor\":\"white\",\"plot_bgcolor\":\"rgb(237,237,237)\",\"polar\":{\"angularaxis\":{\"gridcolor\":\"white\",\"linecolor\":\"white\",\"showgrid\":true,\"tickcolor\":\"rgb(51,51,51)\",\"ticks\":\"outside\"},\"bgcolor\":\"rgb(237,237,237)\",\"radialaxis\":{\"gridcolor\":\"white\",\"linecolor\":\"white\",\"showgrid\":true,\"tickcolor\":\"rgb(51,51,51)\",\"ticks\":\"outside\"}},\"scene\":{\"xaxis\":{\"backgroundcolor\":\"rgb(237,237,237)\",\"gridcolor\":\"white\",\"gridwidth\":2,\"linecolor\":\"white\",\"showbackground\":true,\"showgrid\":true,\"tickcolor\":\"rgb(51,51,51)\",\"ticks\":\"outside\",\"zerolinecolor\":\"white\"},\"yaxis\":{\"backgroundcolor\":\"rgb(237,237,237)\",\"gridcolor\":\"white\",\"gridwidth\":2,\"linecolor\":\"white\",\"showbackground\":true,\"showgrid\":true,\"tickcolor\":\"rgb(51,51,51)\",\"ticks\":\"outside\",\"zerolinecolor\":\"white\"},\"zaxis\":{\"backgroundcolor\":\"rgb(237,237,237)\",\"gridcolor\":\"white\",\"gridwidth\":2,\"linecolor\":\"white\",\"showbackground\":true,\"showgrid\":true,\"tickcolor\":\"rgb(51,51,51)\",\"ticks\":\"outside\",\"zerolinecolor\":\"white\"}},\"shapedefaults\":{\"fillcolor\":\"black\",\"line\":{\"width\":0},\"opacity\":0.3},\"ternary\":{\"aaxis\":{\"gridcolor\":\"white\",\"linecolor\":\"white\",\"showgrid\":true,\"tickcolor\":\"rgb(51,51,51)\",\"ticks\":\"outside\"},\"baxis\":{\"gridcolor\":\"white\",\"linecolor\":\"white\",\"showgrid\":true,\"tickcolor\":\"rgb(51,51,51)\",\"ticks\":\"outside\"},\"bgcolor\":\"rgb(237,237,237)\",\"caxis\":{\"gridcolor\":\"white\",\"linecolor\":\"white\",\"showgrid\":true,\"tickcolor\":\"rgb(51,51,51)\",\"ticks\":\"outside\"}},\"xaxis\":{\"automargin\":true,\"gridcolor\":\"white\",\"linecolor\":\"white\",\"showgrid\":true,\"tickcolor\":\"rgb(51,51,51)\",\"ticks\":\"outside\",\"title\":{\"standoff\":15},\"zerolinecolor\":\"white\"},\"yaxis\":{\"automargin\":true,\"gridcolor\":\"white\",\"linecolor\":\"white\",\"showgrid\":true,\"tickcolor\":\"rgb(51,51,51)\",\"ticks\":\"outside\",\"title\":{\"standoff\":15},\"zerolinecolor\":\"white\"}}},\"xaxis\":{\"anchor\":\"y\",\"domain\":[0.0,1.0],\"title\":{\"text\":\"\"},\"tickangle\":45},\"yaxis\":{\"anchor\":\"x\",\"domain\":[0.0,1.0],\"title\":{\"text\":\"%\"},\"range\":[0,100]},\"legend\":{\"title\":{\"text\":\"variable\"},\"tracegroupgap\":0},\"title\":{\"text\":\"Pourcentage de valeurs manquantes par variable\"},\"barmode\":\"relative\",\"width\":800},                        {\"responsive\": true}                    ).then(function(){\n",
              "                            \n",
              "var gd = document.getElementById('dfcf223d-b6d5-427b-b51e-e2cf9b42932e');\n",
              "var x = new MutationObserver(function (mutations, observer) {{\n",
              "        var display = window.getComputedStyle(gd).display;\n",
              "        if (!display || display === 'none') {{\n",
              "            console.log([gd, 'removed!']);\n",
              "            Plotly.purge(gd);\n",
              "            observer.disconnect();\n",
              "        }}\n",
              "}});\n",
              "\n",
              "// Listen for the removal of the full notebook cells\n",
              "var notebookContainer = gd.closest('#notebook-container');\n",
              "if (notebookContainer) {{\n",
              "    x.observe(notebookContainer, {childList: true});\n",
              "}}\n",
              "\n",
              "// Listen for the clearing of the current output cell\n",
              "var outputEl = gd.closest('.output');\n",
              "if (outputEl) {{\n",
              "    x.observe(outputEl, {childList: true});\n",
              "}}\n",
              "\n",
              "                        })                };                            </script>        </div>\n",
              "</body>\n",
              "</html>"
            ]
          },
          "metadata": {}
        }
      ]
    },
    {
      "cell_type": "code",
      "source": [
        "# valeurs manquantes par ligne\n",
        "trains_data.isna().sum(axis=1).value_counts()\n",
        "\n",
        "px.bar(trains_data.isna().sum(axis=1).value_counts(),\n",
        "            title = \"Nombre de valeurs manquantes par ligne\",\n",
        "            color_discrete_sequence = [\"#377eb8\"],\n",
        "            template='ggplot2',\n",
        "            range_y = [0,100],\n",
        "            width=800,\n",
        "            labels={'value':'%', 'index':''},\n",
        "            color=None\n",
        "            ).update_traces(showlegend=False).update_xaxes(tickangle=45)"
      ],
      "metadata": {
        "colab": {
          "base_uri": "https://localhost:8080/",
          "height": 542
        },
        "id": "0hcv_CDMZ_If",
        "outputId": "7654a6c2-435c-415b-b0b0-bf7f335a564c"
      },
      "execution_count": null,
      "outputs": [
        {
          "output_type": "display_data",
          "data": {
            "text/html": [
              "<html>\n",
              "<head><meta charset=\"utf-8\" /></head>\n",
              "<body>\n",
              "    <div>            <script src=\"https://cdnjs.cloudflare.com/ajax/libs/mathjax/2.7.5/MathJax.js?config=TeX-AMS-MML_SVG\"></script><script type=\"text/javascript\">if (window.MathJax && window.MathJax.Hub && window.MathJax.Hub.Config) {window.MathJax.Hub.Config({SVG: {font: \"STIX-Web\"}});}</script>                <script type=\"text/javascript\">window.PlotlyConfig = {MathJaxConfig: 'local'};</script>\n",
              "        <script charset=\"utf-8\" src=\"https://cdn.plot.ly/plotly-2.35.2.min.js\"></script>                <div id=\"bd16929a-c452-48e1-9de1-3ea832149a12\" class=\"plotly-graph-div\" style=\"height:525px; width:800px;\"></div>            <script type=\"text/javascript\">                                    window.PLOTLYENV=window.PLOTLYENV || {};                                    if (document.getElementById(\"bd16929a-c452-48e1-9de1-3ea832149a12\")) {                    Plotly.newPlot(                        \"bd16929a-c452-48e1-9de1-3ea832149a12\",                        [{\"alignmentgroup\":\"True\",\"hovertemplate\":\"variable=count\\u003cbr\\u003e=%{x}\\u003cbr\\u003e%=%{y}\\u003cextra\\u003e\\u003c\\u002fextra\\u003e\",\"legendgroup\":\"count\",\"marker\":{\"color\":\"#377eb8\",\"pattern\":{\"shape\":\"\"}},\"name\":\"count\",\"offsetgroup\":\"count\",\"orientation\":\"v\",\"showlegend\":false,\"textposition\":\"auto\",\"x\":[2,1,3,0,4,5,6,7,8],\"xaxis\":\"x\",\"y\":[24983,24650,14901,10923,5738,1525,286,34,7],\"yaxis\":\"y\",\"type\":\"bar\"}],                        {\"template\":{\"data\":{\"barpolar\":[{\"marker\":{\"line\":{\"color\":\"rgb(237,237,237)\",\"width\":0.5},\"pattern\":{\"fillmode\":\"overlay\",\"size\":10,\"solidity\":0.2}},\"type\":\"barpolar\"}],\"bar\":[{\"error_x\":{\"color\":\"rgb(51,51,51)\"},\"error_y\":{\"color\":\"rgb(51,51,51)\"},\"marker\":{\"line\":{\"color\":\"rgb(237,237,237)\",\"width\":0.5},\"pattern\":{\"fillmode\":\"overlay\",\"size\":10,\"solidity\":0.2}},\"type\":\"bar\"}],\"carpet\":[{\"aaxis\":{\"endlinecolor\":\"rgb(51,51,51)\",\"gridcolor\":\"white\",\"linecolor\":\"white\",\"minorgridcolor\":\"white\",\"startlinecolor\":\"rgb(51,51,51)\"},\"baxis\":{\"endlinecolor\":\"rgb(51,51,51)\",\"gridcolor\":\"white\",\"linecolor\":\"white\",\"minorgridcolor\":\"white\",\"startlinecolor\":\"rgb(51,51,51)\"},\"type\":\"carpet\"}],\"choropleth\":[{\"colorbar\":{\"outlinewidth\":0,\"tickcolor\":\"rgb(237,237,237)\",\"ticklen\":6,\"ticks\":\"inside\"},\"type\":\"choropleth\"}],\"contourcarpet\":[{\"colorbar\":{\"outlinewidth\":0,\"tickcolor\":\"rgb(237,237,237)\",\"ticklen\":6,\"ticks\":\"inside\"},\"type\":\"contourcarpet\"}],\"contour\":[{\"colorbar\":{\"outlinewidth\":0,\"tickcolor\":\"rgb(237,237,237)\",\"ticklen\":6,\"ticks\":\"inside\"},\"colorscale\":[[0,\"rgb(20,44,66)\"],[1,\"rgb(90,179,244)\"]],\"type\":\"contour\"}],\"heatmapgl\":[{\"colorbar\":{\"outlinewidth\":0,\"tickcolor\":\"rgb(237,237,237)\",\"ticklen\":6,\"ticks\":\"inside\"},\"colorscale\":[[0,\"rgb(20,44,66)\"],[1,\"rgb(90,179,244)\"]],\"type\":\"heatmapgl\"}],\"heatmap\":[{\"colorbar\":{\"outlinewidth\":0,\"tickcolor\":\"rgb(237,237,237)\",\"ticklen\":6,\"ticks\":\"inside\"},\"colorscale\":[[0,\"rgb(20,44,66)\"],[1,\"rgb(90,179,244)\"]],\"type\":\"heatmap\"}],\"histogram2dcontour\":[{\"colorbar\":{\"outlinewidth\":0,\"tickcolor\":\"rgb(237,237,237)\",\"ticklen\":6,\"ticks\":\"inside\"},\"colorscale\":[[0,\"rgb(20,44,66)\"],[1,\"rgb(90,179,244)\"]],\"type\":\"histogram2dcontour\"}],\"histogram2d\":[{\"colorbar\":{\"outlinewidth\":0,\"tickcolor\":\"rgb(237,237,237)\",\"ticklen\":6,\"ticks\":\"inside\"},\"colorscale\":[[0,\"rgb(20,44,66)\"],[1,\"rgb(90,179,244)\"]],\"type\":\"histogram2d\"}],\"histogram\":[{\"marker\":{\"pattern\":{\"fillmode\":\"overlay\",\"size\":10,\"solidity\":0.2}},\"type\":\"histogram\"}],\"mesh3d\":[{\"colorbar\":{\"outlinewidth\":0,\"tickcolor\":\"rgb(237,237,237)\",\"ticklen\":6,\"ticks\":\"inside\"},\"type\":\"mesh3d\"}],\"parcoords\":[{\"line\":{\"colorbar\":{\"outlinewidth\":0,\"tickcolor\":\"rgb(237,237,237)\",\"ticklen\":6,\"ticks\":\"inside\"}},\"type\":\"parcoords\"}],\"pie\":[{\"automargin\":true,\"type\":\"pie\"}],\"scatter3d\":[{\"line\":{\"colorbar\":{\"outlinewidth\":0,\"tickcolor\":\"rgb(237,237,237)\",\"ticklen\":6,\"ticks\":\"inside\"}},\"marker\":{\"colorbar\":{\"outlinewidth\":0,\"tickcolor\":\"rgb(237,237,237)\",\"ticklen\":6,\"ticks\":\"inside\"}},\"type\":\"scatter3d\"}],\"scattercarpet\":[{\"marker\":{\"colorbar\":{\"outlinewidth\":0,\"tickcolor\":\"rgb(237,237,237)\",\"ticklen\":6,\"ticks\":\"inside\"}},\"type\":\"scattercarpet\"}],\"scattergeo\":[{\"marker\":{\"colorbar\":{\"outlinewidth\":0,\"tickcolor\":\"rgb(237,237,237)\",\"ticklen\":6,\"ticks\":\"inside\"}},\"type\":\"scattergeo\"}],\"scattergl\":[{\"marker\":{\"colorbar\":{\"outlinewidth\":0,\"tickcolor\":\"rgb(237,237,237)\",\"ticklen\":6,\"ticks\":\"inside\"}},\"type\":\"scattergl\"}],\"scattermapbox\":[{\"marker\":{\"colorbar\":{\"outlinewidth\":0,\"tickcolor\":\"rgb(237,237,237)\",\"ticklen\":6,\"ticks\":\"inside\"}},\"type\":\"scattermapbox\"}],\"scatterpolargl\":[{\"marker\":{\"colorbar\":{\"outlinewidth\":0,\"tickcolor\":\"rgb(237,237,237)\",\"ticklen\":6,\"ticks\":\"inside\"}},\"type\":\"scatterpolargl\"}],\"scatterpolar\":[{\"marker\":{\"colorbar\":{\"outlinewidth\":0,\"tickcolor\":\"rgb(237,237,237)\",\"ticklen\":6,\"ticks\":\"inside\"}},\"type\":\"scatterpolar\"}],\"scatter\":[{\"fillpattern\":{\"fillmode\":\"overlay\",\"size\":10,\"solidity\":0.2},\"type\":\"scatter\"}],\"scatterternary\":[{\"marker\":{\"colorbar\":{\"outlinewidth\":0,\"tickcolor\":\"rgb(237,237,237)\",\"ticklen\":6,\"ticks\":\"inside\"}},\"type\":\"scatterternary\"}],\"surface\":[{\"colorbar\":{\"outlinewidth\":0,\"tickcolor\":\"rgb(237,237,237)\",\"ticklen\":6,\"ticks\":\"inside\"},\"colorscale\":[[0,\"rgb(20,44,66)\"],[1,\"rgb(90,179,244)\"]],\"type\":\"surface\"}],\"table\":[{\"cells\":{\"fill\":{\"color\":\"rgb(237,237,237)\"},\"line\":{\"color\":\"white\"}},\"header\":{\"fill\":{\"color\":\"rgb(217,217,217)\"},\"line\":{\"color\":\"white\"}},\"type\":\"table\"}]},\"layout\":{\"annotationdefaults\":{\"arrowhead\":0,\"arrowwidth\":1},\"autotypenumbers\":\"strict\",\"coloraxis\":{\"colorbar\":{\"outlinewidth\":0,\"tickcolor\":\"rgb(237,237,237)\",\"ticklen\":6,\"ticks\":\"inside\"}},\"colorscale\":{\"sequential\":[[0,\"rgb(20,44,66)\"],[1,\"rgb(90,179,244)\"]],\"sequentialminus\":[[0,\"rgb(20,44,66)\"],[1,\"rgb(90,179,244)\"]]},\"colorway\":[\"#F8766D\",\"#A3A500\",\"#00BF7D\",\"#00B0F6\",\"#E76BF3\"],\"font\":{\"color\":\"rgb(51,51,51)\"},\"geo\":{\"bgcolor\":\"white\",\"lakecolor\":\"white\",\"landcolor\":\"rgb(237,237,237)\",\"showlakes\":true,\"showland\":true,\"subunitcolor\":\"white\"},\"hoverlabel\":{\"align\":\"left\"},\"hovermode\":\"closest\",\"paper_bgcolor\":\"white\",\"plot_bgcolor\":\"rgb(237,237,237)\",\"polar\":{\"angularaxis\":{\"gridcolor\":\"white\",\"linecolor\":\"white\",\"showgrid\":true,\"tickcolor\":\"rgb(51,51,51)\",\"ticks\":\"outside\"},\"bgcolor\":\"rgb(237,237,237)\",\"radialaxis\":{\"gridcolor\":\"white\",\"linecolor\":\"white\",\"showgrid\":true,\"tickcolor\":\"rgb(51,51,51)\",\"ticks\":\"outside\"}},\"scene\":{\"xaxis\":{\"backgroundcolor\":\"rgb(237,237,237)\",\"gridcolor\":\"white\",\"gridwidth\":2,\"linecolor\":\"white\",\"showbackground\":true,\"showgrid\":true,\"tickcolor\":\"rgb(51,51,51)\",\"ticks\":\"outside\",\"zerolinecolor\":\"white\"},\"yaxis\":{\"backgroundcolor\":\"rgb(237,237,237)\",\"gridcolor\":\"white\",\"gridwidth\":2,\"linecolor\":\"white\",\"showbackground\":true,\"showgrid\":true,\"tickcolor\":\"rgb(51,51,51)\",\"ticks\":\"outside\",\"zerolinecolor\":\"white\"},\"zaxis\":{\"backgroundcolor\":\"rgb(237,237,237)\",\"gridcolor\":\"white\",\"gridwidth\":2,\"linecolor\":\"white\",\"showbackground\":true,\"showgrid\":true,\"tickcolor\":\"rgb(51,51,51)\",\"ticks\":\"outside\",\"zerolinecolor\":\"white\"}},\"shapedefaults\":{\"fillcolor\":\"black\",\"line\":{\"width\":0},\"opacity\":0.3},\"ternary\":{\"aaxis\":{\"gridcolor\":\"white\",\"linecolor\":\"white\",\"showgrid\":true,\"tickcolor\":\"rgb(51,51,51)\",\"ticks\":\"outside\"},\"baxis\":{\"gridcolor\":\"white\",\"linecolor\":\"white\",\"showgrid\":true,\"tickcolor\":\"rgb(51,51,51)\",\"ticks\":\"outside\"},\"bgcolor\":\"rgb(237,237,237)\",\"caxis\":{\"gridcolor\":\"white\",\"linecolor\":\"white\",\"showgrid\":true,\"tickcolor\":\"rgb(51,51,51)\",\"ticks\":\"outside\"}},\"xaxis\":{\"automargin\":true,\"gridcolor\":\"white\",\"linecolor\":\"white\",\"showgrid\":true,\"tickcolor\":\"rgb(51,51,51)\",\"ticks\":\"outside\",\"title\":{\"standoff\":15},\"zerolinecolor\":\"white\"},\"yaxis\":{\"automargin\":true,\"gridcolor\":\"white\",\"linecolor\":\"white\",\"showgrid\":true,\"tickcolor\":\"rgb(51,51,51)\",\"ticks\":\"outside\",\"title\":{\"standoff\":15},\"zerolinecolor\":\"white\"}}},\"xaxis\":{\"anchor\":\"y\",\"domain\":[0.0,1.0],\"title\":{\"text\":\"\"},\"tickangle\":45},\"yaxis\":{\"anchor\":\"x\",\"domain\":[0.0,1.0],\"title\":{\"text\":\"%\"},\"range\":[0,100]},\"legend\":{\"title\":{\"text\":\"variable\"},\"tracegroupgap\":0},\"title\":{\"text\":\"Nombre de valeurs manquantes par ligne\"},\"barmode\":\"relative\",\"width\":800},                        {\"responsive\": true}                    ).then(function(){\n",
              "                            \n",
              "var gd = document.getElementById('bd16929a-c452-48e1-9de1-3ea832149a12');\n",
              "var x = new MutationObserver(function (mutations, observer) {{\n",
              "        var display = window.getComputedStyle(gd).display;\n",
              "        if (!display || display === 'none') {{\n",
              "            console.log([gd, 'removed!']);\n",
              "            Plotly.purge(gd);\n",
              "            observer.disconnect();\n",
              "        }}\n",
              "}});\n",
              "\n",
              "// Listen for the removal of the full notebook cells\n",
              "var notebookContainer = gd.closest('#notebook-container');\n",
              "if (notebookContainer) {{\n",
              "    x.observe(notebookContainer, {childList: true});\n",
              "}}\n",
              "\n",
              "// Listen for the clearing of the current output cell\n",
              "var outputEl = gd.closest('.output');\n",
              "if (outputEl) {{\n",
              "    x.observe(outputEl, {childList: true});\n",
              "}}\n",
              "\n",
              "                        })                };                            </script>        </div>\n",
              "</body>\n",
              "</html>"
            ]
          },
          "metadata": {}
        }
      ]
    },
    {
      "cell_type": "code",
      "source": [
        "#affichier les lignes avec des valeurs manquantes\n",
        "threshold = round(trains_data.shape[1]*0.7)\n",
        "\n",
        "trains_data[trains_data.isna().sum(axis=1) > threshold]"
      ],
      "metadata": {
        "colab": {
          "base_uri": "https://localhost:8080/",
          "height": 73
        },
        "id": "8y90YYNPaVIw",
        "outputId": "2d96b5be-13f8-40ff-8dc8-5c79ab207cc1"
      },
      "execution_count": null,
      "outputs": [
        {
          "output_type": "execute_result",
          "data": {
            "text/plain": [
              "Empty DataFrame\n",
              "Columns: [id_produit, date, categorie, marque, prix_unitaire, promotion, jour_ferie, weekend, stock_disponible, condition_meteo, region, moment_journee, quantite_vendue]\n",
              "Index: []"
            ],
            "text/html": [
              "\n",
              "  <div id=\"df-7ae5a351-0e55-49ea-8f6b-468463b28fb4\" class=\"colab-df-container\">\n",
              "    <div>\n",
              "<style scoped>\n",
              "    .dataframe tbody tr th:only-of-type {\n",
              "        vertical-align: middle;\n",
              "    }\n",
              "\n",
              "    .dataframe tbody tr th {\n",
              "        vertical-align: top;\n",
              "    }\n",
              "\n",
              "    .dataframe thead th {\n",
              "        text-align: right;\n",
              "    }\n",
              "</style>\n",
              "<table border=\"1\" class=\"dataframe\">\n",
              "  <thead>\n",
              "    <tr style=\"text-align: right;\">\n",
              "      <th></th>\n",
              "      <th>id_produit</th>\n",
              "      <th>date</th>\n",
              "      <th>categorie</th>\n",
              "      <th>marque</th>\n",
              "      <th>prix_unitaire</th>\n",
              "      <th>promotion</th>\n",
              "      <th>jour_ferie</th>\n",
              "      <th>weekend</th>\n",
              "      <th>stock_disponible</th>\n",
              "      <th>condition_meteo</th>\n",
              "      <th>region</th>\n",
              "      <th>moment_journee</th>\n",
              "      <th>quantite_vendue</th>\n",
              "    </tr>\n",
              "  </thead>\n",
              "  <tbody>\n",
              "  </tbody>\n",
              "</table>\n",
              "</div>\n",
              "    <div class=\"colab-df-buttons\">\n",
              "\n",
              "  <div class=\"colab-df-container\">\n",
              "    <button class=\"colab-df-convert\" onclick=\"convertToInteractive('df-7ae5a351-0e55-49ea-8f6b-468463b28fb4')\"\n",
              "            title=\"Convert this dataframe to an interactive table.\"\n",
              "            style=\"display:none;\">\n",
              "\n",
              "  <svg xmlns=\"http://www.w3.org/2000/svg\" height=\"24px\" viewBox=\"0 -960 960 960\">\n",
              "    <path d=\"M120-120v-720h720v720H120Zm60-500h600v-160H180v160Zm220 220h160v-160H400v160Zm0 220h160v-160H400v160ZM180-400h160v-160H180v160Zm440 0h160v-160H620v160ZM180-180h160v-160H180v160Zm440 0h160v-160H620v160Z\"/>\n",
              "  </svg>\n",
              "    </button>\n",
              "\n",
              "  <style>\n",
              "    .colab-df-container {\n",
              "      display:flex;\n",
              "      gap: 12px;\n",
              "    }\n",
              "\n",
              "    .colab-df-convert {\n",
              "      background-color: #E8F0FE;\n",
              "      border: none;\n",
              "      border-radius: 50%;\n",
              "      cursor: pointer;\n",
              "      display: none;\n",
              "      fill: #1967D2;\n",
              "      height: 32px;\n",
              "      padding: 0 0 0 0;\n",
              "      width: 32px;\n",
              "    }\n",
              "\n",
              "    .colab-df-convert:hover {\n",
              "      background-color: #E2EBFA;\n",
              "      box-shadow: 0px 1px 2px rgba(60, 64, 67, 0.3), 0px 1px 3px 1px rgba(60, 64, 67, 0.15);\n",
              "      fill: #174EA6;\n",
              "    }\n",
              "\n",
              "    .colab-df-buttons div {\n",
              "      margin-bottom: 4px;\n",
              "    }\n",
              "\n",
              "    [theme=dark] .colab-df-convert {\n",
              "      background-color: #3B4455;\n",
              "      fill: #D2E3FC;\n",
              "    }\n",
              "\n",
              "    [theme=dark] .colab-df-convert:hover {\n",
              "      background-color: #434B5C;\n",
              "      box-shadow: 0px 1px 3px 1px rgba(0, 0, 0, 0.15);\n",
              "      filter: drop-shadow(0px 1px 2px rgba(0, 0, 0, 0.3));\n",
              "      fill: #FFFFFF;\n",
              "    }\n",
              "  </style>\n",
              "\n",
              "    <script>\n",
              "      const buttonEl =\n",
              "        document.querySelector('#df-7ae5a351-0e55-49ea-8f6b-468463b28fb4 button.colab-df-convert');\n",
              "      buttonEl.style.display =\n",
              "        google.colab.kernel.accessAllowed ? 'block' : 'none';\n",
              "\n",
              "      async function convertToInteractive(key) {\n",
              "        const element = document.querySelector('#df-7ae5a351-0e55-49ea-8f6b-468463b28fb4');\n",
              "        const dataTable =\n",
              "          await google.colab.kernel.invokeFunction('convertToInteractive',\n",
              "                                                    [key], {});\n",
              "        if (!dataTable) return;\n",
              "\n",
              "        const docLinkHtml = 'Like what you see? Visit the ' +\n",
              "          '<a target=\"_blank\" href=https://colab.research.google.com/notebooks/data_table.ipynb>data table notebook</a>'\n",
              "          + ' to learn more about interactive tables.';\n",
              "        element.innerHTML = '';\n",
              "        dataTable['output_type'] = 'display_data';\n",
              "        await google.colab.output.renderOutput(dataTable, element);\n",
              "        const docLink = document.createElement('div');\n",
              "        docLink.innerHTML = docLinkHtml;\n",
              "        element.appendChild(docLink);\n",
              "      }\n",
              "    </script>\n",
              "  </div>\n",
              "\n",
              "\n",
              "    </div>\n",
              "  </div>\n"
            ],
            "application/vnd.google.colaboratory.intrinsic+json": {
              "type": "dataframe",
              "summary": "{\n  \"name\": \"trains_data[trains_data\",\n  \"rows\": 0,\n  \"fields\": [\n    {\n      \"column\": \"id_produit\",\n      \"properties\": {\n        \"dtype\": \"category\",\n        \"num_unique_values\": 0,\n        \"samples\": [],\n        \"semantic_type\": \"\",\n        \"description\": \"\"\n      }\n    },\n    {\n      \"column\": \"date\",\n      \"properties\": {\n        \"dtype\": \"date\",\n        \"min\": \"NaT\",\n        \"max\": \"NaT\",\n        \"num_unique_values\": 0,\n        \"samples\": [],\n        \"semantic_type\": \"\",\n        \"description\": \"\"\n      }\n    },\n    {\n      \"column\": \"categorie\",\n      \"properties\": {\n        \"dtype\": \"category\",\n        \"num_unique_values\": 0,\n        \"samples\": [],\n        \"semantic_type\": \"\",\n        \"description\": \"\"\n      }\n    },\n    {\n      \"column\": \"marque\",\n      \"properties\": {\n        \"dtype\": \"category\",\n        \"num_unique_values\": 0,\n        \"samples\": [],\n        \"semantic_type\": \"\",\n        \"description\": \"\"\n      }\n    },\n    {\n      \"column\": \"prix_unitaire\",\n      \"properties\": {\n        \"dtype\": \"number\",\n        \"std\": null,\n        \"min\": null,\n        \"max\": null,\n        \"num_unique_values\": 0,\n        \"samples\": [],\n        \"semantic_type\": \"\",\n        \"description\": \"\"\n      }\n    },\n    {\n      \"column\": \"promotion\",\n      \"properties\": {\n        \"dtype\": \"number\",\n        \"std\": null,\n        \"min\": null,\n        \"max\": null,\n        \"num_unique_values\": 0,\n        \"samples\": [],\n        \"semantic_type\": \"\",\n        \"description\": \"\"\n      }\n    },\n    {\n      \"column\": \"jour_ferie\",\n      \"properties\": {\n        \"dtype\": \"number\",\n        \"std\": null,\n        \"min\": null,\n        \"max\": null,\n        \"num_unique_values\": 0,\n        \"samples\": [],\n        \"semantic_type\": \"\",\n        \"description\": \"\"\n      }\n    },\n    {\n      \"column\": \"weekend\",\n      \"properties\": {\n        \"dtype\": \"number\",\n        \"std\": null,\n        \"min\": null,\n        \"max\": null,\n        \"num_unique_values\": 0,\n        \"samples\": [],\n        \"semantic_type\": \"\",\n        \"description\": \"\"\n      }\n    },\n    {\n      \"column\": \"stock_disponible\",\n      \"properties\": {\n        \"dtype\": \"number\",\n        \"std\": null,\n        \"min\": null,\n        \"max\": null,\n        \"num_unique_values\": 0,\n        \"samples\": [],\n        \"semantic_type\": \"\",\n        \"description\": \"\"\n      }\n    },\n    {\n      \"column\": \"condition_meteo\",\n      \"properties\": {\n        \"dtype\": \"category\",\n        \"num_unique_values\": 0,\n        \"samples\": [],\n        \"semantic_type\": \"\",\n        \"description\": \"\"\n      }\n    },\n    {\n      \"column\": \"region\",\n      \"properties\": {\n        \"dtype\": \"category\",\n        \"num_unique_values\": 0,\n        \"samples\": [],\n        \"semantic_type\": \"\",\n        \"description\": \"\"\n      }\n    },\n    {\n      \"column\": \"moment_journee\",\n      \"properties\": {\n        \"dtype\": \"category\",\n        \"num_unique_values\": 0,\n        \"samples\": [],\n        \"semantic_type\": \"\",\n        \"description\": \"\"\n      }\n    },\n    {\n      \"column\": \"quantite_vendue\",\n      \"properties\": {\n        \"dtype\": \"number\",\n        \"std\": null,\n        \"min\": null,\n        \"max\": null,\n        \"num_unique_values\": 0,\n        \"samples\": [],\n        \"semantic_type\": \"\",\n        \"description\": \"\"\n      }\n    }\n  ]\n}"
            }
          },
          "metadata": {},
          "execution_count": 14
        }
      ]
    },
    {
      "cell_type": "code",
      "source": [
        "# imputer perso compatible avec sklearn\n",
        "# necéssite d'implémenter les méthodes fit, transform et fit_transform\n",
        "# pour plus d'infos: https://scikit-learn.org/stable/developers/develop.html\n",
        "\n",
        "class inputer_perso():\n",
        "    def __init__(self) -> None:\n",
        "        pass\n",
        "\n",
        "    def fit(self, X, y=None):\n",
        "        self.X = X\n",
        "        return self\n",
        "\n",
        "    def transform(self, X, y=None):\n",
        "        X = X.copy()\n",
        "        for col in X.columns:\n",
        "            if X[col].dtype != 'float64':\n",
        "                X[col] = X.loc[:,col].fillna(X[col].mode()[0])\n",
        "            else:\n",
        "                X[col] = X.loc[:,col].fillna(X[col].mean())\n",
        "        return X\n",
        "\n",
        "    def fit_transform(self, X, y=None):\n",
        "        self.fit(X)\n",
        "        return self.transform(X)"
      ],
      "metadata": {
        "id": "eZgSQHZMbcAx"
      },
      "execution_count": null,
      "outputs": []
    },
    {
      "cell_type": "code",
      "source": [
        "# Regles de imputation des données\n",
        "# 1. Si la variable a plus de 40% de valeurs manquantes, on la supprime\n",
        "# 2. Si la variable est qualitative, on remplace les valeurs manquantes par le mode\n",
        "# 3. Si la variable est quantitative, on remplace les valeurs manquantes par la médiane\n",
        "# 4. Autre règle que je veux ajouter à tester après :\n",
        "# 4.1 Au lieu de remplacer par le mode de la colonne je veux plutôt remplacer par le mode du produit( pour variable catégorielles)\n",
        "# 4.2 Au lieu de remplacer par la médiane de la colonne je veux plutôt remplacer par la médianne du produit( pour variable quantitative)\n",
        "\n",
        "def imputation_par_categorie_marque_date(df):\n",
        "    print(\"Nombre de lignes et de colonnes : \", df.shape,\n",
        "          \"\\nNombre de valeurs manquantes : \", df.isnull().sum().sum())\n",
        "\n",
        "    default_categories = {\n",
        "    \"marque\": \"Nestlé\",\n",
        "    \"condition_meteo\": \"Ensoleillé\",\n",
        "    \"moment_journee\": \"Après-midi\",\n",
        "    \"region\": \"Urbain\"\n",
        "        }\n",
        "\n",
        "    df = df.copy()\n",
        "\n",
        "    # Trier les données pour maintenir un ordre logique\n",
        "    # df = df.sort_values(by=['categorie', 'marque', 'date', 'id_produit'], ascending=True)\n",
        "\n",
        "    # Supprimer les colonnes avec plus de 40% de valeurs manquantes\n",
        "    df = df.dropna(thresh=len(df) * 0.6, axis=1)\n",
        "\n",
        "    # Imputation des valeurs manquantes\n",
        "    for col in df.columns:\n",
        "        if col not in ['categorie','date']:  # Exclure les colonnes qui n'ont pas de na\n",
        "            if df[col].dtype == 'object' or df[col].dtype.name == 'category':  # Variables catégorielles\n",
        "                # Remplir les NaN avec le mode par catégorie, marque, date et id_produit\n",
        "                df[col] = df[col].transform(\n",
        "                    lambda x: x.fillna(x.mode()[0] if not x.mode().empty else default_categories.get(col, \"Unknown\")\n",
        "                ))\n",
        "                print(f\"{col} : Mode appliqué\")\n",
        "            else:  # Variables quantitatives\n",
        "                # Remplir les NaN avec la médiane par catégorie, marque et date\n",
        "                df[col] = df[col].transform(\n",
        "                    lambda x: x.fillna(x.median())\n",
        "                )\n",
        "                print(f\"{col} : Médiane appliquée\")\n",
        "\n",
        "    print(\"Données nettoyées !\",\n",
        "          \"\\nNombre de lignes et de colonnes : \", df.shape,\n",
        "          \"\\nNombre de valeurs manquantes : \", df.isnull().sum().sum())\n",
        "\n",
        "    return df\n",
        "clean_data_trains= imputation_par_categorie_marque_date(trains_data)\n",
        "clean_data_subs= imputation_par_categorie_marque_date(subs_data)"
      ],
      "metadata": {
        "id": "o5z-NrK4d37g",
        "colab": {
          "base_uri": "https://localhost:8080/"
        },
        "outputId": "d5005da5-9930-40aa-b106-e159b253cfca"
      },
      "execution_count": null,
      "outputs": [
        {
          "output_type": "stream",
          "name": "stdout",
          "text": [
            "Nombre de lignes et de colonnes :  (83047, 13) \n",
            "Nombre de valeurs manquantes :  151906\n",
            "id_produit : Mode appliqué\n",
            "marque : Mode appliqué\n",
            "prix_unitaire : Médiane appliquée\n",
            "promotion : Médiane appliquée\n",
            "jour_ferie : Médiane appliquée\n",
            "weekend : Médiane appliquée\n",
            "stock_disponible : Médiane appliquée\n",
            "condition_meteo : Mode appliqué\n",
            "region : Mode appliqué\n",
            "moment_journee : Mode appliqué\n",
            "quantite_vendue : Médiane appliquée\n",
            "Données nettoyées ! \n",
            "Nombre de lignes et de colonnes :  (83047, 13) \n",
            "Nombre de valeurs manquantes :  0\n",
            "Nombre de lignes et de colonnes :  (2576, 12) \n",
            "Nombre de valeurs manquantes :  0\n",
            "id_produit : Mode appliqué\n",
            "marque : Mode appliqué\n",
            "prix_unitaire : Médiane appliquée\n",
            "promotion : Médiane appliquée\n",
            "jour_ferie : Médiane appliquée\n",
            "weekend : Médiane appliquée\n",
            "stock_disponible : Médiane appliquée\n",
            "condition_meteo : Mode appliqué\n",
            "region : Mode appliqué\n",
            "moment_journee : Mode appliqué\n",
            "Données nettoyées ! \n",
            "Nombre de lignes et de colonnes :  (2576, 12) \n",
            "Nombre de valeurs manquantes :  0\n"
          ]
        }
      ]
    },
    {
      "cell_type": "code",
      "source": [
        "def indicator_to_int(df):\n",
        "  \"\"\"Transforms indicator variables in a DataFrame to integers.\n",
        "\n",
        "  Args:\n",
        "    df: The input DataFrame.\n",
        "\n",
        "  Returns:\n",
        "    A new DataFrame with indicator variables converted to integers.\n",
        "  \"\"\"\n",
        "  ##Convertir ces variables dans le bon format après le nettoyages\n",
        "  dfs=[]\n",
        "  variables_indicatrice=['weekend','promotion','jour_ferie']\n",
        "  df_copy = df.copy()  # Create a copy to avoid modifying the original DataFrame\n",
        "\n",
        "  for df in df_copy:\n",
        "      for col in variables_indicatrice:\n",
        "          try:\n",
        "              # Attempt to convert to integer, handling potential errors gracefully\n",
        "              df[col] = df[col].astype(int)\n",
        "\n",
        "          except Exception as e:\n",
        "              print(f\"Column '{col}' could not be converted to integers. Check for non-numeric categories due to {e}\")\n",
        "              # You can choose to handle the error in another way (e.g., replace values)\n",
        "              # if necessary.\n",
        "      dfs.append(df)\n",
        "\n",
        "  return dfs\n",
        "\n",
        "\n",
        "# Example usage (assuming 'analyst_data' is your DataFrame)\n",
        "final_clean_data_trains, final_clean_data_subs= indicator_to_int([clean_data_trains,clean_data_subs])"
      ],
      "metadata": {
        "id": "GxtQIQ3l7bkM"
      },
      "execution_count": null,
      "outputs": []
    },
    {
      "cell_type": "code",
      "source": [
        "final_clean_data_subs.shape"
      ],
      "metadata": {
        "colab": {
          "base_uri": "https://localhost:8080/"
        },
        "id": "g67goSIYVLTu",
        "outputId": "35810d8a-4669-473e-aa4b-ec764cb02e19"
      },
      "execution_count": null,
      "outputs": [
        {
          "output_type": "execute_result",
          "data": {
            "text/plain": [
              "(2576, 12)"
            ]
          },
          "metadata": {},
          "execution_count": 18
        }
      ]
    },
    {
      "cell_type": "markdown",
      "source": [
        "# Modélisation"
      ],
      "metadata": {
        "id": "-Lhu-HCaL-EX"
      }
    },
    {
      "cell_type": "code",
      "source": [
        "final_clean_data_trains.head()"
      ],
      "metadata": {
        "colab": {
          "base_uri": "https://localhost:8080/",
          "height": 313
        },
        "id": "Wn_ZgJjCutTy",
        "outputId": "cdacb81e-f8e0-4c76-d6f8-e8773ea80ea9"
      },
      "execution_count": null,
      "outputs": [
        {
          "output_type": "execute_result",
          "data": {
            "text/plain": [
              "       id_produit       date     categorie  marque  prix_unitaire  promotion  \\\n",
              "0  HAB-102024-024 2022-01-01   Habillement    Nike       31247.38          0   \n",
              "1  ÉLE-062022-019 2022-01-01  Électronique    Sony       13627.42          1   \n",
              "2  ALI-072022-019 2022-01-01   Alimentaire  Nestlé       14606.88          1   \n",
              "3  HAB-042023-029 2022-01-01   Habillement  Levi's       30778.05          0   \n",
              "4  HAB-122023-027 2022-01-01   Habillement  Levi's        5627.53          0   \n",
              "\n",
              "   jour_ferie  weekend  stock_disponible condition_meteo      region  \\\n",
              "0           0        1              37.0         Neigeux      Urbain   \n",
              "1           0        1             250.0      Ensoleillé      Urbain   \n",
              "2           0        1             426.0         Neigeux       Rural   \n",
              "3           0        0             341.0         Neigeux  Périurbain   \n",
              "4           0        1             135.0      Ensoleillé      Urbain   \n",
              "\n",
              "  moment_journee  quantite_vendue  \n",
              "0         Soirée             15.0  \n",
              "1     Après-midi             23.0  \n",
              "2     Après-midi              7.0  \n",
              "3         Soirée             17.0  \n",
              "4         Soirée             16.0  "
            ],
            "text/html": [
              "\n",
              "  <div id=\"df-3affe3c1-188a-419f-9960-adec4b70626e\" class=\"colab-df-container\">\n",
              "    <div>\n",
              "<style scoped>\n",
              "    .dataframe tbody tr th:only-of-type {\n",
              "        vertical-align: middle;\n",
              "    }\n",
              "\n",
              "    .dataframe tbody tr th {\n",
              "        vertical-align: top;\n",
              "    }\n",
              "\n",
              "    .dataframe thead th {\n",
              "        text-align: right;\n",
              "    }\n",
              "</style>\n",
              "<table border=\"1\" class=\"dataframe\">\n",
              "  <thead>\n",
              "    <tr style=\"text-align: right;\">\n",
              "      <th></th>\n",
              "      <th>id_produit</th>\n",
              "      <th>date</th>\n",
              "      <th>categorie</th>\n",
              "      <th>marque</th>\n",
              "      <th>prix_unitaire</th>\n",
              "      <th>promotion</th>\n",
              "      <th>jour_ferie</th>\n",
              "      <th>weekend</th>\n",
              "      <th>stock_disponible</th>\n",
              "      <th>condition_meteo</th>\n",
              "      <th>region</th>\n",
              "      <th>moment_journee</th>\n",
              "      <th>quantite_vendue</th>\n",
              "    </tr>\n",
              "  </thead>\n",
              "  <tbody>\n",
              "    <tr>\n",
              "      <th>0</th>\n",
              "      <td>HAB-102024-024</td>\n",
              "      <td>2022-01-01</td>\n",
              "      <td>Habillement</td>\n",
              "      <td>Nike</td>\n",
              "      <td>31247.38</td>\n",
              "      <td>0</td>\n",
              "      <td>0</td>\n",
              "      <td>1</td>\n",
              "      <td>37.0</td>\n",
              "      <td>Neigeux</td>\n",
              "      <td>Urbain</td>\n",
              "      <td>Soirée</td>\n",
              "      <td>15.0</td>\n",
              "    </tr>\n",
              "    <tr>\n",
              "      <th>1</th>\n",
              "      <td>ÉLE-062022-019</td>\n",
              "      <td>2022-01-01</td>\n",
              "      <td>Électronique</td>\n",
              "      <td>Sony</td>\n",
              "      <td>13627.42</td>\n",
              "      <td>1</td>\n",
              "      <td>0</td>\n",
              "      <td>1</td>\n",
              "      <td>250.0</td>\n",
              "      <td>Ensoleillé</td>\n",
              "      <td>Urbain</td>\n",
              "      <td>Après-midi</td>\n",
              "      <td>23.0</td>\n",
              "    </tr>\n",
              "    <tr>\n",
              "      <th>2</th>\n",
              "      <td>ALI-072022-019</td>\n",
              "      <td>2022-01-01</td>\n",
              "      <td>Alimentaire</td>\n",
              "      <td>Nestlé</td>\n",
              "      <td>14606.88</td>\n",
              "      <td>1</td>\n",
              "      <td>0</td>\n",
              "      <td>1</td>\n",
              "      <td>426.0</td>\n",
              "      <td>Neigeux</td>\n",
              "      <td>Rural</td>\n",
              "      <td>Après-midi</td>\n",
              "      <td>7.0</td>\n",
              "    </tr>\n",
              "    <tr>\n",
              "      <th>3</th>\n",
              "      <td>HAB-042023-029</td>\n",
              "      <td>2022-01-01</td>\n",
              "      <td>Habillement</td>\n",
              "      <td>Levi's</td>\n",
              "      <td>30778.05</td>\n",
              "      <td>0</td>\n",
              "      <td>0</td>\n",
              "      <td>0</td>\n",
              "      <td>341.0</td>\n",
              "      <td>Neigeux</td>\n",
              "      <td>Périurbain</td>\n",
              "      <td>Soirée</td>\n",
              "      <td>17.0</td>\n",
              "    </tr>\n",
              "    <tr>\n",
              "      <th>4</th>\n",
              "      <td>HAB-122023-027</td>\n",
              "      <td>2022-01-01</td>\n",
              "      <td>Habillement</td>\n",
              "      <td>Levi's</td>\n",
              "      <td>5627.53</td>\n",
              "      <td>0</td>\n",
              "      <td>0</td>\n",
              "      <td>1</td>\n",
              "      <td>135.0</td>\n",
              "      <td>Ensoleillé</td>\n",
              "      <td>Urbain</td>\n",
              "      <td>Soirée</td>\n",
              "      <td>16.0</td>\n",
              "    </tr>\n",
              "  </tbody>\n",
              "</table>\n",
              "</div>\n",
              "    <div class=\"colab-df-buttons\">\n",
              "\n",
              "  <div class=\"colab-df-container\">\n",
              "    <button class=\"colab-df-convert\" onclick=\"convertToInteractive('df-3affe3c1-188a-419f-9960-adec4b70626e')\"\n",
              "            title=\"Convert this dataframe to an interactive table.\"\n",
              "            style=\"display:none;\">\n",
              "\n",
              "  <svg xmlns=\"http://www.w3.org/2000/svg\" height=\"24px\" viewBox=\"0 -960 960 960\">\n",
              "    <path d=\"M120-120v-720h720v720H120Zm60-500h600v-160H180v160Zm220 220h160v-160H400v160Zm0 220h160v-160H400v160ZM180-400h160v-160H180v160Zm440 0h160v-160H620v160ZM180-180h160v-160H180v160Zm440 0h160v-160H620v160Z\"/>\n",
              "  </svg>\n",
              "    </button>\n",
              "\n",
              "  <style>\n",
              "    .colab-df-container {\n",
              "      display:flex;\n",
              "      gap: 12px;\n",
              "    }\n",
              "\n",
              "    .colab-df-convert {\n",
              "      background-color: #E8F0FE;\n",
              "      border: none;\n",
              "      border-radius: 50%;\n",
              "      cursor: pointer;\n",
              "      display: none;\n",
              "      fill: #1967D2;\n",
              "      height: 32px;\n",
              "      padding: 0 0 0 0;\n",
              "      width: 32px;\n",
              "    }\n",
              "\n",
              "    .colab-df-convert:hover {\n",
              "      background-color: #E2EBFA;\n",
              "      box-shadow: 0px 1px 2px rgba(60, 64, 67, 0.3), 0px 1px 3px 1px rgba(60, 64, 67, 0.15);\n",
              "      fill: #174EA6;\n",
              "    }\n",
              "\n",
              "    .colab-df-buttons div {\n",
              "      margin-bottom: 4px;\n",
              "    }\n",
              "\n",
              "    [theme=dark] .colab-df-convert {\n",
              "      background-color: #3B4455;\n",
              "      fill: #D2E3FC;\n",
              "    }\n",
              "\n",
              "    [theme=dark] .colab-df-convert:hover {\n",
              "      background-color: #434B5C;\n",
              "      box-shadow: 0px 1px 3px 1px rgba(0, 0, 0, 0.15);\n",
              "      filter: drop-shadow(0px 1px 2px rgba(0, 0, 0, 0.3));\n",
              "      fill: #FFFFFF;\n",
              "    }\n",
              "  </style>\n",
              "\n",
              "    <script>\n",
              "      const buttonEl =\n",
              "        document.querySelector('#df-3affe3c1-188a-419f-9960-adec4b70626e button.colab-df-convert');\n",
              "      buttonEl.style.display =\n",
              "        google.colab.kernel.accessAllowed ? 'block' : 'none';\n",
              "\n",
              "      async function convertToInteractive(key) {\n",
              "        const element = document.querySelector('#df-3affe3c1-188a-419f-9960-adec4b70626e');\n",
              "        const dataTable =\n",
              "          await google.colab.kernel.invokeFunction('convertToInteractive',\n",
              "                                                    [key], {});\n",
              "        if (!dataTable) return;\n",
              "\n",
              "        const docLinkHtml = 'Like what you see? Visit the ' +\n",
              "          '<a target=\"_blank\" href=https://colab.research.google.com/notebooks/data_table.ipynb>data table notebook</a>'\n",
              "          + ' to learn more about interactive tables.';\n",
              "        element.innerHTML = '';\n",
              "        dataTable['output_type'] = 'display_data';\n",
              "        await google.colab.output.renderOutput(dataTable, element);\n",
              "        const docLink = document.createElement('div');\n",
              "        docLink.innerHTML = docLinkHtml;\n",
              "        element.appendChild(docLink);\n",
              "      }\n",
              "    </script>\n",
              "  </div>\n",
              "\n",
              "\n",
              "<div id=\"df-4d0f2411-738f-4703-80fd-fb9dbaf4b814\">\n",
              "  <button class=\"colab-df-quickchart\" onclick=\"quickchart('df-4d0f2411-738f-4703-80fd-fb9dbaf4b814')\"\n",
              "            title=\"Suggest charts\"\n",
              "            style=\"display:none;\">\n",
              "\n",
              "<svg xmlns=\"http://www.w3.org/2000/svg\" height=\"24px\"viewBox=\"0 0 24 24\"\n",
              "     width=\"24px\">\n",
              "    <g>\n",
              "        <path d=\"M19 3H5c-1.1 0-2 .9-2 2v14c0 1.1.9 2 2 2h14c1.1 0 2-.9 2-2V5c0-1.1-.9-2-2-2zM9 17H7v-7h2v7zm4 0h-2V7h2v10zm4 0h-2v-4h2v4z\"/>\n",
              "    </g>\n",
              "</svg>\n",
              "  </button>\n",
              "\n",
              "<style>\n",
              "  .colab-df-quickchart {\n",
              "      --bg-color: #E8F0FE;\n",
              "      --fill-color: #1967D2;\n",
              "      --hover-bg-color: #E2EBFA;\n",
              "      --hover-fill-color: #174EA6;\n",
              "      --disabled-fill-color: #AAA;\n",
              "      --disabled-bg-color: #DDD;\n",
              "  }\n",
              "\n",
              "  [theme=dark] .colab-df-quickchart {\n",
              "      --bg-color: #3B4455;\n",
              "      --fill-color: #D2E3FC;\n",
              "      --hover-bg-color: #434B5C;\n",
              "      --hover-fill-color: #FFFFFF;\n",
              "      --disabled-bg-color: #3B4455;\n",
              "      --disabled-fill-color: #666;\n",
              "  }\n",
              "\n",
              "  .colab-df-quickchart {\n",
              "    background-color: var(--bg-color);\n",
              "    border: none;\n",
              "    border-radius: 50%;\n",
              "    cursor: pointer;\n",
              "    display: none;\n",
              "    fill: var(--fill-color);\n",
              "    height: 32px;\n",
              "    padding: 0;\n",
              "    width: 32px;\n",
              "  }\n",
              "\n",
              "  .colab-df-quickchart:hover {\n",
              "    background-color: var(--hover-bg-color);\n",
              "    box-shadow: 0 1px 2px rgba(60, 64, 67, 0.3), 0 1px 3px 1px rgba(60, 64, 67, 0.15);\n",
              "    fill: var(--button-hover-fill-color);\n",
              "  }\n",
              "\n",
              "  .colab-df-quickchart-complete:disabled,\n",
              "  .colab-df-quickchart-complete:disabled:hover {\n",
              "    background-color: var(--disabled-bg-color);\n",
              "    fill: var(--disabled-fill-color);\n",
              "    box-shadow: none;\n",
              "  }\n",
              "\n",
              "  .colab-df-spinner {\n",
              "    border: 2px solid var(--fill-color);\n",
              "    border-color: transparent;\n",
              "    border-bottom-color: var(--fill-color);\n",
              "    animation:\n",
              "      spin 1s steps(1) infinite;\n",
              "  }\n",
              "\n",
              "  @keyframes spin {\n",
              "    0% {\n",
              "      border-color: transparent;\n",
              "      border-bottom-color: var(--fill-color);\n",
              "      border-left-color: var(--fill-color);\n",
              "    }\n",
              "    20% {\n",
              "      border-color: transparent;\n",
              "      border-left-color: var(--fill-color);\n",
              "      border-top-color: var(--fill-color);\n",
              "    }\n",
              "    30% {\n",
              "      border-color: transparent;\n",
              "      border-left-color: var(--fill-color);\n",
              "      border-top-color: var(--fill-color);\n",
              "      border-right-color: var(--fill-color);\n",
              "    }\n",
              "    40% {\n",
              "      border-color: transparent;\n",
              "      border-right-color: var(--fill-color);\n",
              "      border-top-color: var(--fill-color);\n",
              "    }\n",
              "    60% {\n",
              "      border-color: transparent;\n",
              "      border-right-color: var(--fill-color);\n",
              "    }\n",
              "    80% {\n",
              "      border-color: transparent;\n",
              "      border-right-color: var(--fill-color);\n",
              "      border-bottom-color: var(--fill-color);\n",
              "    }\n",
              "    90% {\n",
              "      border-color: transparent;\n",
              "      border-bottom-color: var(--fill-color);\n",
              "    }\n",
              "  }\n",
              "</style>\n",
              "\n",
              "  <script>\n",
              "    async function quickchart(key) {\n",
              "      const quickchartButtonEl =\n",
              "        document.querySelector('#' + key + ' button');\n",
              "      quickchartButtonEl.disabled = true;  // To prevent multiple clicks.\n",
              "      quickchartButtonEl.classList.add('colab-df-spinner');\n",
              "      try {\n",
              "        const charts = await google.colab.kernel.invokeFunction(\n",
              "            'suggestCharts', [key], {});\n",
              "      } catch (error) {\n",
              "        console.error('Error during call to suggestCharts:', error);\n",
              "      }\n",
              "      quickchartButtonEl.classList.remove('colab-df-spinner');\n",
              "      quickchartButtonEl.classList.add('colab-df-quickchart-complete');\n",
              "    }\n",
              "    (() => {\n",
              "      let quickchartButtonEl =\n",
              "        document.querySelector('#df-4d0f2411-738f-4703-80fd-fb9dbaf4b814 button');\n",
              "      quickchartButtonEl.style.display =\n",
              "        google.colab.kernel.accessAllowed ? 'block' : 'none';\n",
              "    })();\n",
              "  </script>\n",
              "</div>\n",
              "\n",
              "    </div>\n",
              "  </div>\n"
            ],
            "application/vnd.google.colaboratory.intrinsic+json": {
              "type": "dataframe",
              "variable_name": "final_clean_data_trains",
              "summary": "{\n  \"name\": \"final_clean_data_trains\",\n  \"rows\": 83047,\n  \"fields\": [\n    {\n      \"column\": \"id_produit\",\n      \"properties\": {\n        \"dtype\": \"category\",\n        \"num_unique_values\": 150,\n        \"samples\": [\n          \"HAB-042023-028\",\n          \"HAB-062022-006\",\n          \"HAB-102024-035\"\n        ],\n        \"semantic_type\": \"\",\n        \"description\": \"\"\n      }\n    },\n    {\n      \"column\": \"date\",\n      \"properties\": {\n        \"dtype\": \"date\",\n        \"min\": \"2022-01-01 00:00:00\",\n        \"max\": \"2024-10-31 00:00:00\",\n        \"num_unique_values\": 1035,\n        \"samples\": [\n          \"2022-10-22 00:00:00\",\n          \"2023-03-30 00:00:00\",\n          \"2023-10-01 00:00:00\"\n        ],\n        \"semantic_type\": \"\",\n        \"description\": \"\"\n      }\n    },\n    {\n      \"column\": \"categorie\",\n      \"properties\": {\n        \"dtype\": \"category\",\n        \"num_unique_values\": 3,\n        \"samples\": [\n          \"Habillement\",\n          \"\\u00c9lectronique\",\n          \"Alimentaire\"\n        ],\n        \"semantic_type\": \"\",\n        \"description\": \"\"\n      }\n    },\n    {\n      \"column\": \"marque\",\n      \"properties\": {\n        \"dtype\": \"category\",\n        \"num_unique_values\": 15,\n        \"samples\": [\n          \"Samsung\",\n          \"Coca-Cola\",\n          \"Nike\"\n        ],\n        \"semantic_type\": \"\",\n        \"description\": \"\"\n      }\n    },\n    {\n      \"column\": \"prix_unitaire\",\n      \"properties\": {\n        \"dtype\": \"number\",\n        \"std\": 13901.481995156943,\n        \"min\": 501.46,\n        \"max\": 49999.74,\n        \"num_unique_values\": 77957,\n        \"samples\": [\n          20931.47,\n          10781.23,\n          46551.18\n        ],\n        \"semantic_type\": \"\",\n        \"description\": \"\"\n      }\n    },\n    {\n      \"column\": \"promotion\",\n      \"properties\": {\n        \"dtype\": \"number\",\n        \"std\": 0,\n        \"min\": 0,\n        \"max\": 1,\n        \"num_unique_values\": 2,\n        \"samples\": [\n          1,\n          0\n        ],\n        \"semantic_type\": \"\",\n        \"description\": \"\"\n      }\n    },\n    {\n      \"column\": \"jour_ferie\",\n      \"properties\": {\n        \"dtype\": \"number\",\n        \"std\": 0,\n        \"min\": 0,\n        \"max\": 1,\n        \"num_unique_values\": 2,\n        \"samples\": [\n          1,\n          0\n        ],\n        \"semantic_type\": \"\",\n        \"description\": \"\"\n      }\n    },\n    {\n      \"column\": \"weekend\",\n      \"properties\": {\n        \"dtype\": \"number\",\n        \"std\": 0,\n        \"min\": 0,\n        \"max\": 1,\n        \"num_unique_values\": 2,\n        \"samples\": [\n          0,\n          1\n        ],\n        \"semantic_type\": \"\",\n        \"description\": \"\"\n      }\n    },\n    {\n      \"column\": \"stock_disponible\",\n      \"properties\": {\n        \"dtype\": \"number\",\n        \"std\": 132.19391845816213,\n        \"min\": 0.0,\n        \"max\": 500.0,\n        \"num_unique_values\": 501,\n        \"samples\": [\n          1.0,\n          423.0\n        ],\n        \"semantic_type\": \"\",\n        \"description\": \"\"\n      }\n    },\n    {\n      \"column\": \"condition_meteo\",\n      \"properties\": {\n        \"dtype\": \"category\",\n        \"num_unique_values\": 5,\n        \"samples\": [\n          \"Ensoleill\\u00e9\",\n          \"Pluie\"\n        ],\n        \"semantic_type\": \"\",\n        \"description\": \"\"\n      }\n    },\n    {\n      \"column\": \"region\",\n      \"properties\": {\n        \"dtype\": \"category\",\n        \"num_unique_values\": 3,\n        \"samples\": [\n          \"Urbain\",\n          \"Rural\"\n        ],\n        \"semantic_type\": \"\",\n        \"description\": \"\"\n      }\n    },\n    {\n      \"column\": \"moment_journee\",\n      \"properties\": {\n        \"dtype\": \"category\",\n        \"num_unique_values\": 3,\n        \"samples\": [\n          \"Soir\\u00e9e\",\n          \"Apr\\u00e8s-midi\"\n        ],\n        \"semantic_type\": \"\",\n        \"description\": \"\"\n      }\n    },\n    {\n      \"column\": \"quantite_vendue\",\n      \"properties\": {\n        \"dtype\": \"number\",\n        \"std\": 4.322819789373018,\n        \"min\": 1.0,\n        \"max\": 39.0,\n        \"num_unique_values\": 39,\n        \"samples\": [\n          36.0,\n          1.0\n        ],\n        \"semantic_type\": \"\",\n        \"description\": \"\"\n      }\n    }\n  ]\n}"
            }
          },
          "metadata": {},
          "execution_count": 19
        }
      ]
    },
    {
      "cell_type": "code",
      "source": [
        "plt.scatter(final_clean_data_trains['quantite_vendue'][:200],final_clean_data_trains['stock_disponible'][:200])\n",
        "plt.show()"
      ],
      "metadata": {
        "colab": {
          "base_uri": "https://localhost:8080/",
          "height": 430
        },
        "id": "v3QBrRWHtTsZ",
        "outputId": "b0929af2-55bc-4cea-97f3-66208a50fb40"
      },
      "execution_count": null,
      "outputs": [
        {
          "output_type": "display_data",
          "data": {
            "text/plain": [
              "<Figure size 640x480 with 1 Axes>"
            ],
            "image/png": "[encoded data removed]"
          },
          "metadata": {}
        }
      ]
    },
    {
      "cell_type": "code",
      "source": [
        "import pandas as pd\n",
        "from sklearn.preprocessing import OneHotEncoder\n",
        "\n",
        "# Chargement de la base de données\n",
        "df = final_clean_data_trains\n",
        "sub_data_s=final_clean_data_subs\n",
        "# Encodage des variables catégorielles pour l'entrainement\n",
        "encoder = OneHotEncoder(sparse_output=False)\n",
        "encoded_categories = encoder.fit_transform(df[['categorie', 'marque', 'region', 'moment_journee','condition_meteo']])\n",
        "encoded_df = pd.DataFrame(encoded_categories, columns=encoder.get_feature_names_out(['categorie', 'marque', 'region', 'moment_journee','condition_meteo']))\n",
        "\n",
        "#encodage pour les données de submission\n",
        "encoded_categories_s = encoder.transform(sub_data_s[['categorie', 'marque', 'region', 'moment_journee','condition_meteo']])\n",
        "encoded_df_s = pd.DataFrame(encoded_categories_s, columns=encoder.get_feature_names_out(['categorie', 'marque', 'region', 'moment_journee','condition_meteo']))\n",
        "\n",
        "# Ajout au DataFrame principal de train\n",
        "df = pd.concat([df, encoded_df], axis=1)\n",
        "df.drop(['categorie', 'marque', 'region', 'moment_journee','condition_meteo'], axis=1, inplace=True)\n",
        "\n",
        "#Ajout au dataframe principal de sub\n",
        "sub_data_s = pd.concat([sub_data_s, encoded_df_s], axis=1)\n",
        "sub_data_s.drop(['categorie', 'marque', 'region', 'moment_journee','condition_meteo'], axis=1, inplace=True)"
      ],
      "metadata": {
        "id": "_tWK_5w0r-B0"
      },
      "execution_count": null,
      "outputs": []
    },
    {
      "cell_type": "code",
      "source": [
        "from operator import sub\n",
        "#feature engenering\n",
        "# Extraire les informations temporelles\n",
        "df['date'] = pd.to_datetime(df['date'])\n",
        "df['jour_semaine'] = df['date'].dt.weekday  # 0=Lundi, 6=Dimanche\n",
        "df['mois'] = df['date'].dt.month\n",
        "# df['saison'] = df['mois'].apply(lambda x: 'Hiver' if x in [12, 1, 2] else ('Printemps' if x in [3, 4, 5] else ('Été' if x in [6, 7, 8] else 'Automne')))\n",
        "\n",
        "# Tri des données par produit et date\n",
        "df = df.sort_values(by=['id_produit', 'date'])\n",
        "\n",
        "# Transformer les ventes des 30 jours précédents en listes\n",
        "# Appliquer cette fonction à chaque produit\n",
        "# Appliquer le décalage de 30 jours par produit\n",
        "df['quantite_vendue_lag_30'] = df.groupby('id_produit')['quantite_vendue'].shift(30)\n",
        "df = df[df['quantite_vendue_lag_30'].notna()]\n",
        "\n",
        "# df=imputation_par_categorie_marque_date(df)\n",
        "\n",
        "##Pour la base sub\n",
        "#feature engenering\n",
        "# Extraire les informations temporelles\n",
        "sub_data_s['date'] = pd.to_datetime(sub_data_s['date'])\n",
        "sub_data_s['jour_semaine'] = sub_data_s['date'].dt.weekday  # 0=Lundi, 6=Dimanche\n",
        "sub_data_s['mois']=sub_data_s['date'].dt.month\n",
        "# # Extraire les 30 dernières valeurs de 'quantite_vendue' par produit\n",
        "grouped_data30 = final_clean_data_trains.groupby('id_produit').apply(\n",
        "     lambda x: x.sort_values('date', ascending=False).head(30)\n",
        " )\n",
        "\n",
        "# # Reset index and select the desired columns\n",
        "last_30_sales = grouped_data30.reset_index(drop=True)[['id_produit', 'date', 'quantite_vendue']]\n",
        "last_30_sales = last_30_sales.rename(columns={'quantite_vendue': 'quantite_vendue_lag_30'})\n",
        "# Associer les dates de sub_data_s à last_30_sales pour aligner les données\n",
        "last_30_sales= last_30_sales.drop('date', axis=1).merge(\n",
        "    sub_data_s[['id_produit', 'date']], on='id_produit', how='inner'\n",
        ")\n",
        "# Dédupliquer last_30_sales pour s'assurer qu'une seule ligne par (id_produit, date)\n",
        "last_30_sales = last_30_sales.drop_duplicates(subset=['id_produit', 'date'])\n",
        "\n",
        "# Réaliser la jointure en garantissant la taille finale de sub_data_s\n",
        "sub_data_s= sub_data_s.merge(\n",
        "    last_30_sales[['id_produit', 'date', 'quantite_vendue_lag_30']],\n",
        "    on=['id_produit', 'date'],\n",
        "    how='left'\n",
        ")\n",
        "\n",
        "# Vérifier la taille finale\n",
        "assert len(sub_data_s) == 2576, \"La taille finale de sub_data_s n'est pas correcte !\"\n",
        "sub_data_s.shape\n",
        "# # Faire la jointure entre sub_data_s et last_30_sales sur la clé\n",
        "# sub_data_s = sub_data_s.merge(last_30_sales[['id_produit', 'quantite_vendue_lag_30']], on='id_produit', how='left')\n",
        "# # sub_data_s=imputation_par_categorie_marque_date(sub_data_s)\n"
      ],
      "metadata": {
        "colab": {
          "base_uri": "https://localhost:8080/"
        },
        "id": "BclPOzAHr_Jn",
        "outputId": "f3fe3192-8cb4-45ba-f2f5-b44b12f85068"
      },
      "execution_count": null,
      "outputs": [
        {
          "output_type": "execute_result",
          "data": {
            "text/plain": [
              "(2576, 39)"
            ]
          },
          "metadata": {},
          "execution_count": 22
        }
      ]
    },
    {
      "cell_type": "code",
      "source": [
        "##Calculer l'impact du stock sur la quantité vendue.\n",
        "# Si le stock est faible, cela peut limiter les ventes.\n",
        "# Créer une nouvelle variable stock_ratio pour indiquer le ratio de stock par rapport à la demande passée."
      ],
      "metadata": {
        "id": "eWDqDwKQvP2t"
      },
      "execution_count": null,
      "outputs": []
    },
    {
      "cell_type": "code",
      "source": [
        "#modélisation\n",
        "from sklearn.ensemble import RandomForestRegressor\n",
        "from sklearn.model_selection import train_test_split\n",
        "from sklearn.metrics import mean_squared_error\n",
        "\n",
        "# Séparation des variables indépendantes et dépendantes\n",
        "X = df.drop(['quantite_vendue', 'date','id_produit'], axis=1)\n",
        "y = df['quantite_vendue']\n",
        "\n",
        "# Division en train et test\n",
        "X_train, X_test, y_train, y_test = train_test_split(X, y, test_size=0.2, random_state=42)\n"
      ],
      "metadata": {
        "id": "amkKS6RPsJIk"
      },
      "execution_count": null,
      "outputs": []
    },
    {
      "cell_type": "code",
      "source": [
        "plt.plot(y[:200])\n",
        "\n",
        "plt.axhline(y=np.mean(y),color=\"r\")\n",
        "\n",
        "plt.show()"
      ],
      "metadata": {
        "colab": {
          "base_uri": "https://localhost:8080/",
          "height": 430
        },
        "id": "lqLccxV5dcq5",
        "outputId": "6fd9cb9c-46e8-4052-b28c-2cd7264e0b3f"
      },
      "execution_count": null,
      "outputs": [
        {
          "output_type": "display_data",
          "data": {
            "text/plain": [
              "<Figure size 640x480 with 1 Axes>"
            ],
            "image/png": "[encoded data removed]"
          },
          "metadata": {}
        }
      ]
    },
    {
      "cell_type": "markdown",
      "source": [
        "RMSE: 0.23482446347423627"
      ],
      "metadata": {
        "id": "ePwCl6TGdtDX"
      }
    },
    {
      "cell_type": "markdown",
      "source": [
        "Meilleurs hyperparamètres pour random_forest: {'max_depth': 5, 'n_estimators': 200}\n",
        "Meilleur score (MSE négatif): -0.2340036180873569\n",
        "RMSE sur les données de test (échelle originale): 0.2335042472317143\n"
      ],
      "metadata": {
        "id": "CZ7CXVZsgUyu"
      }
    },
    {
      "cell_type": "markdown",
      "source": [
        "Meilleurs hyperparamètres pour random_forest: {'max_depth': 5, 'n_estimators': 300}\n",
        "Meilleur score (MSE négatif): -0.23492476298757098\n",
        "RMSE sur les données de test (échelle originale): 0.22796032138612404\n",
        "Modèle sauvegardé sous : random_forest_model.joblib"
      ],
      "metadata": {
        "id": "HYhcCr-vjQdU"
      }
    },
    {
      "cell_type": "code",
      "source": [
        "import pandas as pd\n",
        "from sklearn.ensemble import RandomForestRegressor,GradientBoostingRegressor\n",
        "from sklearn.metrics import mean_absolute_percentage_error, root_mean_squared_error\n",
        "\n",
        "def random_forest(X_train, y_train, X_test, y_test):\n",
        "    \"\"\"\n",
        "    Combine RandomForest et GARCH pour la prévision avec évaluation.\n",
        "\n",
        "    Args:\n",
        "        X_train: Données d'entraînement (features).\n",
        "        y_train: Valeurs cibles pour l'entraînement.\n",
        "        X_test: Données de test (features).\n",
        "        y_test: Valeurs cibles pour le test.\n",
        "\n",
        "    Returns:\n",
        "        Un dictionnaire contenant :\n",
        "            - Les prédictions du modèle combiné sur les données de test.\n",
        "            - Le MAPE et le RMSE.\n",
        "    \"\"\"\n",
        "\n",
        "    # 1. Entraîner RandomForest\n",
        "    rf_model = RandomForestRegressor(n_estimators=300, max_depth=5,random_state=42)\n",
        "    rf_model.fit(X_train, y_train)\n",
        "\n",
        "    # 2. Prédictions de RandomForest et calcul des résidus\n",
        "    rf_predictions = rf_model.predict(X_test)\n",
        "    return rf_predictions,rf_model"
      ],
      "metadata": {
        "id": "HqA3-7cLhDor"
      },
      "execution_count": null,
      "outputs": []
    },
    {
      "cell_type": "code",
      "source": [
        "model2 = GradientBoostingRegressor(n_estimators = 300, learning_rate = 0.01 , random_state=42)\n",
        "model2.fit(X_train, y_train)\n",
        "\n",
        "results={\n",
        "    'MAPE': mean_absolute_percentage_error(y_test, model2.predict(X_test)),\n",
        "    'RMSE': root_mean_squared_error(y_test, model2.predict(X_test))\n",
        "}\n",
        "\n",
        "print(results)"
      ],
      "metadata": {
        "colab": {
          "base_uri": "https://localhost:8080/"
        },
        "id": "xekWLK4EQ7Hb",
        "outputId": "8d84463d-bcac-4697-a4f5-7bf0a132ea1b"
      },
      "execution_count": null,
      "outputs": [
        {
          "output_type": "stream",
          "name": "stdout",
          "text": [
            "{'MAPE': 0.23314747583775675, 'RMSE': 4.025159004132451}\n"
          ]
        }
      ]
    },
    {
      "cell_type": "code",
      "source": [
        "def evaluate_model(model, X_test, y_test):\n",
        "\n",
        "    predictions = model.predict(X_test)\n",
        "    mape = mean_absolute_percentage_error(y_test, predictions)\n",
        "    rmse = root_mean_squared_error(y_test, predictions)\n",
        "\n",
        "    results = {\n",
        "        'MAPE': mape,\n",
        "        'RMSE': rmse\n",
        "    }\n",
        "\n",
        "    print(results)\n",
        "    return"
      ],
      "metadata": {
        "id": "By2gTAFXhflJ"
      },
      "execution_count": null,
      "outputs": []
    },
    {
      "cell_type": "markdown",
      "source": [
        "# Je m'intéresse à l'erreur sur les données d'entrainnement et après l'étude des erreurs j'élimise les lignes menant à une grande erreur en dehors de l'intervalle de confiance"
      ],
      "metadata": {
        "id": "JQmeVJGGpifs"
      }
    },
    {
      "cell_type": "code",
      "source": [
        "_, model_rf = random_forest(X_train, y_train, X_test, y_test)\n",
        "\n",
        "#residuals = y_test - rf_predictions\n",
        "residuals = y_train - model_rf.predict(X_train)\n",
        "moy = np.mean(residuals)\n",
        "std = np.std(residuals)\n",
        "plt.scatter(range(len(residuals[:400])), residuals[:400])  # x = index, y = résidus\n",
        "plt.axhline(y=moy, color='y', linestyle='--')\n",
        "plt.axhline(y=moy + 1.96*std, color='r', linestyle='-')\n",
        "plt.axhline(y=moy - 1.96*std, color='r', linestyle='-')\n",
        "plt.xlabel('Index')\n",
        "plt.ylabel('Résidus')\n",
        "plt.title('Nuage de points des résidus')"
      ],
      "metadata": {
        "colab": {
          "base_uri": "https://localhost:8080/",
          "height": 489
        },
        "id": "_zz7VBC0hgo1",
        "outputId": "049d8854-0fe4-4d24-eba9-401200e2820f"
      },
      "execution_count": null,
      "outputs": [
        {
          "output_type": "execute_result",
          "data": {
            "text/plain": [
              "Text(0.5, 1.0, 'Nuage de points des résidus')"
            ]
          },
          "metadata": {},
          "execution_count": 29
        },
        {
          "output_type": "display_data",
          "data": {
            "text/plain": [
              "<Figure size 640x480 with 1 Axes>"
            ],
            "image/png": "[encoded data removed]"
          },
          "metadata": {}
        }
      ]
    },
    {
      "cell_type": "markdown",
      "source": [
        "# Filtrage des données d'entrainnement"
      ],
      "metadata": {
        "id": "FE5gBEJVqIEO"
      }
    },
    {
      "cell_type": "code",
      "source": [
        "# Calculate residuals\n",
        "\n",
        "def filtrage_data(model, X_train, y_train):\n",
        "\n",
        "    predictions_train = model.predict(X_train)\n",
        "    residuals_train = y_train - predictions_train\n",
        "\n",
        "    # Identify outliers\n",
        "    lower_bound = moy - 1.96*std\n",
        "    upper_bound = moy + 1.96*std\n",
        "    outliers = np.where((residuals < lower_bound) | (residuals > upper_bound))[0]\n",
        "\n",
        "    # Filter out outliers from the test data\n",
        "    X_train_filtered = X_train.drop(index=X_train.index[outliers])\n",
        "    y_train_filtered = y_train.drop(index=y_train.index[outliers])\n",
        "\n",
        "    return X_train_filtered, y_train_filtered\n",
        "\n",
        "X_train_filtered, y_train_filtered = filtrage_data(model_rf, X_train, y_train)"
      ],
      "metadata": {
        "id": "i67CyD5GWYmX"
      },
      "execution_count": null,
      "outputs": []
    },
    {
      "cell_type": "code",
      "source": [
        "from sklearn.ensemble import GradientBoostingRegressor  # Ou GradientBoostingClassifier si vous avez un problème de classification\n",
        "from sklearn.model_selection import GridSearchCV\n",
        "param_grid = {\n",
        "    'n_estimators': [100, 200, 300],\n",
        "    'learning_rate': [0.001, 0.05,0.01, 0.02, 0.03],\n",
        "    'max_depth': [3, 5, 7]\n",
        "}\n",
        "\n",
        "grid_search = GridSearchCV(\n",
        "    estimator=GradientBoostingRegressor(),  # Ou GradientBoostingClassifier\n",
        "    param_grid=param_grid,\n",
        "    scoring='neg_mean_squared_error',  # Ou une autre métrique appropriée\n",
        "    cv=5,  # Nombre de plis pour la validation croisée\n",
        "    verbose=2  # Pour afficher les informations de progression\n",
        ")\n",
        "\n",
        "grid_search.fit(X_train_filtered, y_train_filtered)"
      ],
      "metadata": {
        "colab": {
          "base_uri": "https://localhost:8080/",
          "height": 1000
        },
        "collapsed": true,
        "id": "cJjnAaEr3Oq5",
        "outputId": "6f8ce7c4-7e65-40ff-8734-fb19368c2457"
      },
      "execution_count": null,
      "outputs": [
        {
          "output_type": "stream",
          "name": "stdout",
          "text": [
            "Fitting 5 folds for each of 45 candidates, totalling 225 fits\n",
            "[CV] END .learning_rate=0.001, max_depth=3, n_estimators=100; total time=   9.9s\n",
            "[CV] END .learning_rate=0.001, max_depth=3, n_estimators=100; total time=   9.4s\n",
            "[CV] END .learning_rate=0.001, max_depth=3, n_estimators=100; total time=  10.4s\n",
            "[CV] END .learning_rate=0.001, max_depth=3, n_estimators=100; total time=   9.9s\n",
            "[CV] END .learning_rate=0.001, max_depth=3, n_estimators=100; total time=   9.3s\n",
            "[CV] END .learning_rate=0.001, max_depth=3, n_estimators=200; total time=  21.1s\n",
            "[CV] END .learning_rate=0.001, max_depth=3, n_estimators=200; total time=  20.4s\n",
            "[CV] END .learning_rate=0.001, max_depth=3, n_estimators=200; total time=  19.3s\n",
            "[CV] END .learning_rate=0.001, max_depth=3, n_estimators=200; total time=  26.6s\n",
            "[CV] END .learning_rate=0.001, max_depth=3, n_estimators=200; total time=  30.0s\n",
            "[CV] END .learning_rate=0.001, max_depth=3, n_estimators=300; total time=  29.6s\n",
            "[CV] END .learning_rate=0.001, max_depth=3, n_estimators=300; total time=  29.8s\n",
            "[CV] END .learning_rate=0.001, max_depth=3, n_estimators=300; total time=  30.1s\n",
            "[CV] END .learning_rate=0.001, max_depth=3, n_estimators=300; total time=  29.7s\n",
            "[CV] END .learning_rate=0.001, max_depth=3, n_estimators=300; total time=  29.8s\n",
            "[CV] END .learning_rate=0.001, max_depth=5, n_estimators=100; total time=  16.5s\n",
            "[CV] END .learning_rate=0.001, max_depth=5, n_estimators=100; total time=  17.0s\n",
            "[CV] END .learning_rate=0.001, max_depth=5, n_estimators=100; total time=  17.2s\n",
            "[CV] END .learning_rate=0.001, max_depth=5, n_estimators=100; total time=  16.4s\n",
            "[CV] END .learning_rate=0.001, max_depth=5, n_estimators=100; total time=  18.7s\n",
            "[CV] END .learning_rate=0.001, max_depth=5, n_estimators=200; total time=  41.4s\n",
            "[CV] END .learning_rate=0.001, max_depth=5, n_estimators=200; total time=  33.4s\n",
            "[CV] END .learning_rate=0.001, max_depth=5, n_estimators=200; total time=  33.5s\n",
            "[CV] END .learning_rate=0.001, max_depth=5, n_estimators=200; total time=  36.2s\n",
            "[CV] END .learning_rate=0.001, max_depth=5, n_estimators=200; total time=  33.2s\n",
            "[CV] END .learning_rate=0.001, max_depth=5, n_estimators=300; total time=  50.5s\n",
            "[CV] END .learning_rate=0.001, max_depth=5, n_estimators=300; total time=  50.2s\n",
            "[CV] END .learning_rate=0.001, max_depth=5, n_estimators=300; total time=  49.5s\n",
            "[CV] END .learning_rate=0.001, max_depth=5, n_estimators=300; total time=  51.0s\n",
            "[CV] END .learning_rate=0.001, max_depth=5, n_estimators=300; total time=  49.9s\n",
            "[CV] END .learning_rate=0.001, max_depth=7, n_estimators=100; total time=  23.8s\n",
            "[CV] END .learning_rate=0.001, max_depth=7, n_estimators=100; total time=  22.4s\n",
            "[CV] END .learning_rate=0.001, max_depth=7, n_estimators=100; total time=  23.8s\n",
            "[CV] END .learning_rate=0.001, max_depth=7, n_estimators=100; total time=  22.6s\n",
            "[CV] END .learning_rate=0.001, max_depth=7, n_estimators=100; total time=  23.4s\n",
            "[CV] END .learning_rate=0.001, max_depth=7, n_estimators=200; total time=  45.8s\n",
            "[CV] END .learning_rate=0.001, max_depth=7, n_estimators=200; total time=  46.0s\n",
            "[CV] END .learning_rate=0.001, max_depth=7, n_estimators=200; total time=  46.6s\n",
            "[CV] END .learning_rate=0.001, max_depth=7, n_estimators=200; total time=  46.6s\n",
            "[CV] END .learning_rate=0.001, max_depth=7, n_estimators=200; total time=  46.1s\n",
            "[CV] END .learning_rate=0.001, max_depth=7, n_estimators=300; total time= 1.1min\n",
            "[CV] END .learning_rate=0.001, max_depth=7, n_estimators=300; total time= 1.1min\n",
            "[CV] END .learning_rate=0.001, max_depth=7, n_estimators=300; total time= 1.1min\n",
            "[CV] END .learning_rate=0.001, max_depth=7, n_estimators=300; total time= 1.1min\n",
            "[CV] END .learning_rate=0.001, max_depth=7, n_estimators=300; total time= 1.1min\n",
            "[CV] END ..learning_rate=0.05, max_depth=3, n_estimators=100; total time=  10.2s\n",
            "[CV] END ..learning_rate=0.05, max_depth=3, n_estimators=100; total time=   8.9s\n",
            "[CV] END ..learning_rate=0.05, max_depth=3, n_estimators=100; total time=  10.3s\n",
            "[CV] END ..learning_rate=0.05, max_depth=3, n_estimators=100; total time=  10.2s\n",
            "[CV] END ..learning_rate=0.05, max_depth=3, n_estimators=100; total time=   8.8s\n",
            "[CV] END ..learning_rate=0.05, max_depth=3, n_estimators=200; total time=  20.2s\n",
            "[CV] END ..learning_rate=0.05, max_depth=3, n_estimators=200; total time=  19.0s\n",
            "[CV] END ..learning_rate=0.05, max_depth=3, n_estimators=200; total time=  18.9s\n",
            "[CV] END ..learning_rate=0.05, max_depth=3, n_estimators=200; total time=  19.9s\n",
            "[CV] END ..learning_rate=0.05, max_depth=3, n_estimators=200; total time=  19.3s\n",
            "[CV] END ..learning_rate=0.05, max_depth=3, n_estimators=300; total time=  28.9s\n",
            "[CV] END ..learning_rate=0.05, max_depth=3, n_estimators=300; total time=  28.9s\n",
            "[CV] END ..learning_rate=0.05, max_depth=3, n_estimators=300; total time=  28.9s\n",
            "[CV] END ..learning_rate=0.05, max_depth=3, n_estimators=300; total time=  28.9s\n",
            "[CV] END ..learning_rate=0.05, max_depth=3, n_estimators=300; total time=  28.9s\n",
            "[CV] END ..learning_rate=0.05, max_depth=5, n_estimators=100; total time=  16.0s\n",
            "[CV] END ..learning_rate=0.05, max_depth=5, n_estimators=100; total time=  16.2s\n",
            "[CV] END ..learning_rate=0.05, max_depth=5, n_estimators=100; total time=  16.1s\n",
            "[CV] END ..learning_rate=0.05, max_depth=5, n_estimators=100; total time=  16.2s\n",
            "[CV] END ..learning_rate=0.05, max_depth=5, n_estimators=100; total time=  16.2s\n",
            "[CV] END ..learning_rate=0.05, max_depth=5, n_estimators=200; total time=  32.3s\n",
            "[CV] END ..learning_rate=0.05, max_depth=5, n_estimators=200; total time=  32.9s\n",
            "[CV] END ..learning_rate=0.05, max_depth=5, n_estimators=200; total time=  32.0s\n",
            "[CV] END ..learning_rate=0.05, max_depth=5, n_estimators=200; total time=  32.1s\n",
            "[CV] END ..learning_rate=0.05, max_depth=5, n_estimators=200; total time=  32.0s\n",
            "[CV] END ..learning_rate=0.05, max_depth=5, n_estimators=300; total time=  48.5s\n",
            "[CV] END ..learning_rate=0.05, max_depth=5, n_estimators=300; total time=  48.5s\n",
            "[CV] END ..learning_rate=0.05, max_depth=5, n_estimators=300; total time=  47.9s\n",
            "[CV] END ..learning_rate=0.05, max_depth=5, n_estimators=300; total time=  47.7s\n",
            "[CV] END ..learning_rate=0.05, max_depth=5, n_estimators=300; total time=  49.6s\n",
            "[CV] END ..learning_rate=0.05, max_depth=7, n_estimators=100; total time=  22.1s\n",
            "[CV] END ..learning_rate=0.05, max_depth=7, n_estimators=100; total time=  23.5s\n",
            "[CV] END ..learning_rate=0.05, max_depth=7, n_estimators=100; total time=  22.1s\n",
            "[CV] END ..learning_rate=0.05, max_depth=7, n_estimators=100; total time=  23.6s\n",
            "[CV] END ..learning_rate=0.05, max_depth=7, n_estimators=100; total time=  22.6s\n",
            "[CV] END ..learning_rate=0.05, max_depth=7, n_estimators=200; total time=  45.5s\n",
            "[CV] END ..learning_rate=0.05, max_depth=7, n_estimators=200; total time=  45.5s\n",
            "[CV] END ..learning_rate=0.05, max_depth=7, n_estimators=200; total time=  44.7s\n",
            "[CV] END ..learning_rate=0.05, max_depth=7, n_estimators=200; total time=  45.1s\n",
            "[CV] END ..learning_rate=0.05, max_depth=7, n_estimators=200; total time=  44.9s\n",
            "[CV] END ..learning_rate=0.05, max_depth=7, n_estimators=300; total time= 1.1min\n",
            "[CV] END ..learning_rate=0.05, max_depth=7, n_estimators=300; total time= 1.1min\n",
            "[CV] END ..learning_rate=0.05, max_depth=7, n_estimators=300; total time= 1.1min\n",
            "[CV] END ..learning_rate=0.05, max_depth=7, n_estimators=300; total time= 1.1min\n",
            "[CV] END ..learning_rate=0.05, max_depth=7, n_estimators=300; total time= 1.1min\n",
            "[CV] END ..learning_rate=0.01, max_depth=3, n_estimators=100; total time=   9.5s\n",
            "[CV] END ..learning_rate=0.01, max_depth=3, n_estimators=100; total time=   9.9s\n",
            "[CV] END ..learning_rate=0.01, max_depth=3, n_estimators=100; total time=  10.4s\n",
            "[CV] END ..learning_rate=0.01, max_depth=3, n_estimators=100; total time=   9.6s\n",
            "[CV] END ..learning_rate=0.01, max_depth=3, n_estimators=100; total time=   9.7s\n",
            "[CV] END ..learning_rate=0.01, max_depth=3, n_estimators=200; total time=  20.0s\n",
            "[CV] END ..learning_rate=0.01, max_depth=3, n_estimators=200; total time=  20.1s\n",
            "[CV] END ..learning_rate=0.01, max_depth=3, n_estimators=200; total time=  19.5s\n",
            "[CV] END ..learning_rate=0.01, max_depth=3, n_estimators=200; total time=  20.5s\n",
            "[CV] END ..learning_rate=0.01, max_depth=3, n_estimators=200; total time=  19.8s\n",
            "[CV] END ..learning_rate=0.01, max_depth=3, n_estimators=300; total time=  29.7s\n",
            "[CV] END ..learning_rate=0.01, max_depth=3, n_estimators=300; total time=  29.6s\n",
            "[CV] END ..learning_rate=0.01, max_depth=3, n_estimators=300; total time=  29.5s\n",
            "[CV] END ..learning_rate=0.01, max_depth=3, n_estimators=300; total time=  29.4s\n",
            "[CV] END ..learning_rate=0.01, max_depth=3, n_estimators=300; total time=  29.4s\n",
            "[CV] END ..learning_rate=0.01, max_depth=5, n_estimators=100; total time=  16.4s\n",
            "[CV] END ..learning_rate=0.01, max_depth=5, n_estimators=100; total time=  16.2s\n",
            "[CV] END ..learning_rate=0.01, max_depth=5, n_estimators=100; total time=  16.3s\n",
            "[CV] END ..learning_rate=0.01, max_depth=5, n_estimators=100; total time=  16.9s\n",
            "[CV] END ..learning_rate=0.01, max_depth=5, n_estimators=100; total time=  17.0s\n",
            "[CV] END ..learning_rate=0.01, max_depth=5, n_estimators=200; total time=  32.4s\n",
            "[CV] END ..learning_rate=0.01, max_depth=5, n_estimators=200; total time=  32.5s\n",
            "[CV] END ..learning_rate=0.01, max_depth=5, n_estimators=200; total time=  32.5s\n",
            "[CV] END ..learning_rate=0.01, max_depth=5, n_estimators=200; total time=  34.4s\n",
            "[CV] END ..learning_rate=0.01, max_depth=5, n_estimators=200; total time=  32.6s\n",
            "[CV] END ..learning_rate=0.01, max_depth=5, n_estimators=300; total time=  48.8s\n",
            "[CV] END ..learning_rate=0.01, max_depth=5, n_estimators=300; total time=  50.5s\n",
            "[CV] END ..learning_rate=0.01, max_depth=5, n_estimators=300; total time=  48.9s\n",
            "[CV] END ..learning_rate=0.01, max_depth=5, n_estimators=300; total time=  48.7s\n",
            "[CV] END ..learning_rate=0.01, max_depth=5, n_estimators=300; total time=  50.4s\n",
            "[CV] END ..learning_rate=0.01, max_depth=7, n_estimators=100; total time=  21.8s\n",
            "[CV] END ..learning_rate=0.01, max_depth=7, n_estimators=100; total time=  23.4s\n",
            "[CV] END ..learning_rate=0.01, max_depth=7, n_estimators=100; total time=  22.3s\n",
            "[CV] END ..learning_rate=0.01, max_depth=7, n_estimators=100; total time=  23.0s\n",
            "[CV] END ..learning_rate=0.01, max_depth=7, n_estimators=100; total time=  23.2s\n",
            "[CV] END ..learning_rate=0.01, max_depth=7, n_estimators=200; total time=  45.9s\n",
            "[CV] END ..learning_rate=0.01, max_depth=7, n_estimators=200; total time=  45.5s\n",
            "[CV] END ..learning_rate=0.01, max_depth=7, n_estimators=200; total time=  45.2s\n",
            "[CV] END ..learning_rate=0.01, max_depth=7, n_estimators=200; total time=  45.5s\n",
            "[CV] END ..learning_rate=0.01, max_depth=7, n_estimators=200; total time=  45.7s\n",
            "[CV] END ..learning_rate=0.01, max_depth=7, n_estimators=300; total time= 1.2min\n",
            "[CV] END ..learning_rate=0.01, max_depth=7, n_estimators=300; total time= 1.1min\n",
            "[CV] END ..learning_rate=0.01, max_depth=7, n_estimators=300; total time= 1.1min\n",
            "[CV] END ..learning_rate=0.01, max_depth=7, n_estimators=300; total time= 1.1min\n",
            "[CV] END ..learning_rate=0.01, max_depth=7, n_estimators=300; total time= 1.1min\n",
            "[CV] END ..learning_rate=0.02, max_depth=3, n_estimators=100; total time=   9.1s\n",
            "[CV] END ..learning_rate=0.02, max_depth=3, n_estimators=100; total time=  10.4s\n",
            "[CV] END ..learning_rate=0.02, max_depth=3, n_estimators=100; total time=  10.3s\n",
            "[CV] END ..learning_rate=0.02, max_depth=3, n_estimators=100; total time=   9.0s\n",
            "[CV] END ..learning_rate=0.02, max_depth=3, n_estimators=100; total time=  10.4s\n",
            "[CV] END ..learning_rate=0.02, max_depth=3, n_estimators=200; total time=  19.2s\n",
            "[CV] END ..learning_rate=0.02, max_depth=3, n_estimators=200; total time=  20.7s\n",
            "[CV] END ..learning_rate=0.02, max_depth=3, n_estimators=200; total time=  19.1s\n",
            "[CV] END ..learning_rate=0.02, max_depth=3, n_estimators=200; total time=  19.1s\n",
            "[CV] END ..learning_rate=0.02, max_depth=3, n_estimators=200; total time=  20.5s\n",
            "[CV] END ..learning_rate=0.02, max_depth=3, n_estimators=300; total time=  29.2s\n",
            "[CV] END ..learning_rate=0.02, max_depth=3, n_estimators=300; total time=  29.4s\n",
            "[CV] END ..learning_rate=0.02, max_depth=3, n_estimators=300; total time=  29.4s\n",
            "[CV] END ..learning_rate=0.02, max_depth=3, n_estimators=300; total time=  29.2s\n",
            "[CV] END ..learning_rate=0.02, max_depth=3, n_estimators=300; total time=  29.3s\n",
            "[CV] END ..learning_rate=0.02, max_depth=5, n_estimators=100; total time=  16.6s\n",
            "[CV] END ..learning_rate=0.02, max_depth=5, n_estimators=100; total time=  16.4s\n",
            "[CV] END ..learning_rate=0.02, max_depth=5, n_estimators=100; total time=  16.3s\n",
            "[CV] END ..learning_rate=0.02, max_depth=5, n_estimators=100; total time=  16.3s\n",
            "[CV] END ..learning_rate=0.02, max_depth=5, n_estimators=100; total time=  16.3s\n",
            "[CV] END ..learning_rate=0.02, max_depth=5, n_estimators=200; total time=  33.2s\n",
            "[CV] END ..learning_rate=0.02, max_depth=5, n_estimators=200; total time=  33.1s\n",
            "[CV] END ..learning_rate=0.02, max_depth=5, n_estimators=200; total time=  32.4s\n",
            "[CV] END ..learning_rate=0.02, max_depth=5, n_estimators=200; total time=  32.3s\n",
            "[CV] END ..learning_rate=0.02, max_depth=5, n_estimators=200; total time=  32.8s\n",
            "[CV] END ..learning_rate=0.02, max_depth=5, n_estimators=300; total time=  49.0s\n",
            "[CV] END ..learning_rate=0.02, max_depth=5, n_estimators=300; total time=  48.2s\n",
            "[CV] END ..learning_rate=0.02, max_depth=5, n_estimators=300; total time=  55.5s\n",
            "[CV] END ..learning_rate=0.02, max_depth=5, n_estimators=300; total time=  48.2s\n",
            "[CV] END ..learning_rate=0.02, max_depth=5, n_estimators=300; total time=  48.7s\n",
            "[CV] END ..learning_rate=0.02, max_depth=7, n_estimators=100; total time=  23.0s\n",
            "[CV] END ..learning_rate=0.02, max_depth=7, n_estimators=100; total time=  23.5s\n",
            "[CV] END ..learning_rate=0.02, max_depth=7, n_estimators=100; total time=  21.9s\n",
            "[CV] END ..learning_rate=0.02, max_depth=7, n_estimators=100; total time=  23.3s\n",
            "[CV] END ..learning_rate=0.02, max_depth=7, n_estimators=100; total time=  22.0s\n",
            "[CV] END ..learning_rate=0.02, max_depth=7, n_estimators=200; total time=  45.3s\n",
            "[CV] END ..learning_rate=0.02, max_depth=7, n_estimators=200; total time=  45.9s\n",
            "[CV] END ..learning_rate=0.02, max_depth=7, n_estimators=200; total time=  45.6s\n",
            "[CV] END ..learning_rate=0.02, max_depth=7, n_estimators=200; total time=  45.1s\n",
            "[CV] END ..learning_rate=0.02, max_depth=7, n_estimators=200; total time=  45.1s\n",
            "[CV] END ..learning_rate=0.02, max_depth=7, n_estimators=300; total time= 1.1min\n",
            "[CV] END ..learning_rate=0.02, max_depth=7, n_estimators=300; total time= 1.1min\n",
            "[CV] END ..learning_rate=0.02, max_depth=7, n_estimators=300; total time= 1.1min\n",
            "[CV] END ..learning_rate=0.02, max_depth=7, n_estimators=300; total time= 1.1min\n",
            "[CV] END ..learning_rate=0.02, max_depth=7, n_estimators=300; total time= 1.1min\n",
            "[CV] END ..learning_rate=0.03, max_depth=3, n_estimators=100; total time=  10.3s\n",
            "[CV] END ..learning_rate=0.03, max_depth=3, n_estimators=100; total time=  10.0s\n",
            "[CV] END ..learning_rate=0.03, max_depth=3, n_estimators=100; total time=   9.4s\n",
            "[CV] END ..learning_rate=0.03, max_depth=3, n_estimators=100; total time=  10.4s\n",
            "[CV] END ..learning_rate=0.03, max_depth=3, n_estimators=100; total time=  10.2s\n",
            "[CV] END ..learning_rate=0.03, max_depth=3, n_estimators=200; total time=  19.4s\n",
            "[CV] END ..learning_rate=0.03, max_depth=3, n_estimators=200; total time=  19.1s\n",
            "[CV] END ..learning_rate=0.03, max_depth=3, n_estimators=200; total time=  20.6s\n",
            "[CV] END ..learning_rate=0.03, max_depth=3, n_estimators=200; total time=  19.2s\n",
            "[CV] END ..learning_rate=0.03, max_depth=3, n_estimators=200; total time=  19.1s\n",
            "[CV] END ..learning_rate=0.03, max_depth=3, n_estimators=300; total time=  29.2s\n",
            "[CV] END ..learning_rate=0.03, max_depth=3, n_estimators=300; total time=  29.2s\n",
            "[CV] END ..learning_rate=0.03, max_depth=3, n_estimators=300; total time=  29.1s\n",
            "[CV] END ..learning_rate=0.03, max_depth=3, n_estimators=300; total time=  29.2s\n",
            "[CV] END ..learning_rate=0.03, max_depth=3, n_estimators=300; total time=  30.2s\n",
            "[CV] END ..learning_rate=0.03, max_depth=5, n_estimators=100; total time=  17.8s\n",
            "[CV] END ..learning_rate=0.03, max_depth=5, n_estimators=100; total time=  17.7s\n",
            "[CV] END ..learning_rate=0.03, max_depth=5, n_estimators=100; total time=  16.9s\n",
            "[CV] END ..learning_rate=0.03, max_depth=5, n_estimators=100; total time=  16.7s\n",
            "[CV] END ..learning_rate=0.03, max_depth=5, n_estimators=100; total time=  16.5s\n",
            "[CV] END ..learning_rate=0.03, max_depth=5, n_estimators=200; total time=  32.6s\n",
            "[CV] END ..learning_rate=0.03, max_depth=5, n_estimators=200; total time=  34.0s\n",
            "[CV] END ..learning_rate=0.03, max_depth=5, n_estimators=200; total time=  32.8s\n",
            "[CV] END ..learning_rate=0.03, max_depth=5, n_estimators=200; total time=  32.5s\n",
            "[CV] END ..learning_rate=0.03, max_depth=5, n_estimators=200; total time=  32.5s\n",
            "[CV] END ..learning_rate=0.03, max_depth=5, n_estimators=300; total time=  49.6s\n",
            "[CV] END ..learning_rate=0.03, max_depth=5, n_estimators=300; total time=  48.4s\n",
            "[CV] END ..learning_rate=0.03, max_depth=5, n_estimators=300; total time=  48.2s\n",
            "[CV] END ..learning_rate=0.03, max_depth=5, n_estimators=300; total time=  49.3s\n",
            "[CV] END ..learning_rate=0.03, max_depth=5, n_estimators=300; total time=  47.8s\n",
            "[CV] END ..learning_rate=0.03, max_depth=7, n_estimators=100; total time=  22.7s\n",
            "[CV] END ..learning_rate=0.03, max_depth=7, n_estimators=100; total time=  22.8s\n",
            "[CV] END ..learning_rate=0.03, max_depth=7, n_estimators=100; total time=  23.7s\n",
            "[CV] END ..learning_rate=0.03, max_depth=7, n_estimators=100; total time=  22.0s\n",
            "[CV] END ..learning_rate=0.03, max_depth=7, n_estimators=100; total time=  23.5s\n",
            "[CV] END ..learning_rate=0.03, max_depth=7, n_estimators=200; total time=  45.1s\n",
            "[CV] END ..learning_rate=0.03, max_depth=7, n_estimators=200; total time=  44.9s\n",
            "[CV] END ..learning_rate=0.03, max_depth=7, n_estimators=200; total time=  45.1s\n",
            "[CV] END ..learning_rate=0.03, max_depth=7, n_estimators=200; total time=  45.3s\n",
            "[CV] END ..learning_rate=0.03, max_depth=7, n_estimators=200; total time=  45.1s\n",
            "[CV] END ..learning_rate=0.03, max_depth=7, n_estimators=300; total time= 1.1min\n",
            "[CV] END ..learning_rate=0.03, max_depth=7, n_estimators=300; total time= 1.1min\n",
            "[CV] END ..learning_rate=0.03, max_depth=7, n_estimators=300; total time= 1.1min\n",
            "[CV] END ..learning_rate=0.03, max_depth=7, n_estimators=300; total time= 1.1min\n",
            "[CV] END ..learning_rate=0.03, max_depth=7, n_estimators=300; total time= 1.1min\n"
          ]
        },
        {
          "output_type": "execute_result",
          "data": {
            "text/plain": [
              "GridSearchCV(cv=5, estimator=GradientBoostingRegressor(),\n",
              "             param_grid={'learning_rate': [0.001, 0.05, 0.01, 0.02, 0.03],\n",
              "                         'max_depth': [3, 5, 7],\n",
              "                         'n_estimators': [100, 200, 300]},\n",
              "             scoring='neg_mean_squared_error', verbose=2)"
            ],
            "text/html": [
              "<style>#sk-container-id-1 {\n",
              "  /* Definition of color scheme common for light and dark mode */\n",
              "  --sklearn-color-text: black;\n",
              "  --sklearn-color-line: gray;\n",
              "  /* Definition of color scheme for unfitted estimators */\n",
              "  --sklearn-color-unfitted-level-0: #fff5e6;\n",
              "  --sklearn-color-unfitted-level-1: #f6e4d2;\n",
              "  --sklearn-color-unfitted-level-2: #ffe0b3;\n",
              "  --sklearn-color-unfitted-level-3: chocolate;\n",
              "  /* Definition of color scheme for fitted estimators */\n",
              "  --sklearn-color-fitted-level-0: #f0f8ff;\n",
              "  --sklearn-color-fitted-level-1: #d4ebff;\n",
              "  --sklearn-color-fitted-level-2: #b3dbfd;\n",
              "  --sklearn-color-fitted-level-3: cornflowerblue;\n",
              "\n",
              "  /* Specific color for light theme */\n",
              "  --sklearn-color-text-on-default-background: var(--sg-text-color, var(--theme-code-foreground, var(--jp-content-font-color1, black)));\n",
              "  --sklearn-color-background: var(--sg-background-color, var(--theme-background, var(--jp-layout-color0, white)));\n",
              "  --sklearn-color-border-box: var(--sg-text-color, var(--theme-code-foreground, var(--jp-content-font-color1, black)));\n",
              "  --sklearn-color-icon: #696969;\n",
              "\n",
              "  @media (prefers-color-scheme: dark) {\n",
              "    /* Redefinition of color scheme for dark theme */\n",
              "    --sklearn-color-text-on-default-background: var(--sg-text-color, var(--theme-code-foreground, var(--jp-content-font-color1, white)));\n",
              "    --sklearn-color-background: var(--sg-background-color, var(--theme-background, var(--jp-layout-color0, #111)));\n",
              "    --sklearn-color-border-box: var(--sg-text-color, var(--theme-code-foreground, var(--jp-content-font-color1, white)));\n",
              "    --sklearn-color-icon: #878787;\n",
              "  }\n",
              "}\n",
              "\n",
              "#sk-container-id-1 {\n",
              "  color: var(--sklearn-color-text);\n",
              "}\n",
              "\n",
              "#sk-container-id-1 pre {\n",
              "  padding: 0;\n",
              "}\n",
              "\n",
              "#sk-container-id-1 input.sk-hidden--visually {\n",
              "  border: 0;\n",
              "  clip: rect(1px 1px 1px 1px);\n",
              "  clip: rect(1px, 1px, 1px, 1px);\n",
              "  height: 1px;\n",
              "  margin: -1px;\n",
              "  overflow: hidden;\n",
              "  padding: 0;\n",
              "  position: absolute;\n",
              "  width: 1px;\n",
              "}\n",
              "\n",
              "#sk-container-id-1 div.sk-dashed-wrapped {\n",
              "  border: 1px dashed var(--sklearn-color-line);\n",
              "  margin: 0 0.4em 0.5em 0.4em;\n",
              "  box-sizing: border-box;\n",
              "  padding-bottom: 0.4em;\n",
              "  background-color: var(--sklearn-color-background);\n",
              "}\n",
              "\n",
              "#sk-container-id-1 div.sk-container {\n",
              "  /* jupyter's `normalize.less` sets `[hidden] { display: none; }`\n",
              "     but bootstrap.min.css set `[hidden] { display: none !important; }`\n",
              "     so we also need the `!important` here to be able to override the\n",
              "     default hidden behavior on the sphinx rendered scikit-learn.org.\n",
              "     See: https://github.com/scikit-learn/scikit-learn/issues/21755 */\n",
              "  display: inline-block !important;\n",
              "  position: relative;\n",
              "}\n",
              "\n",
              "#sk-container-id-1 div.sk-text-repr-fallback {\n",
              "  display: none;\n",
              "}\n",
              "\n",
              "div.sk-parallel-item,\n",
              "div.sk-serial,\n",
              "div.sk-item {\n",
              "  /* draw centered vertical line to link estimators */\n",
              "  background-image: linear-gradient(var(--sklearn-color-text-on-default-background), var(--sklearn-color-text-on-default-background));\n",
              "  background-size: 2px 100%;\n",
              "  background-repeat: no-repeat;\n",
              "  background-position: center center;\n",
              "}\n",
              "\n",
              "/* Parallel-specific style estimator block */\n",
              "\n",
              "#sk-container-id-1 div.sk-parallel-item::after {\n",
              "  content: \"\";\n",
              "  width: 100%;\n",
              "  border-bottom: 2px solid var(--sklearn-color-text-on-default-background);\n",
              "  flex-grow: 1;\n",
              "}\n",
              "\n",
              "#sk-container-id-1 div.sk-parallel {\n",
              "  display: flex;\n",
              "  align-items: stretch;\n",
              "  justify-content: center;\n",
              "  background-color: var(--sklearn-color-background);\n",
              "  position: relative;\n",
              "}\n",
              "\n",
              "#sk-container-id-1 div.sk-parallel-item {\n",
              "  display: flex;\n",
              "  flex-direction: column;\n",
              "}\n",
              "\n",
              "#sk-container-id-1 div.sk-parallel-item:first-child::after {\n",
              "  align-self: flex-end;\n",
              "  width: 50%;\n",
              "}\n",
              "\n",
              "#sk-container-id-1 div.sk-parallel-item:last-child::after {\n",
              "  align-self: flex-start;\n",
              "  width: 50%;\n",
              "}\n",
              "\n",
              "#sk-container-id-1 div.sk-parallel-item:only-child::after {\n",
              "  width: 0;\n",
              "}\n",
              "\n",
              "/* Serial-specific style estimator block */\n",
              "\n",
              "#sk-container-id-1 div.sk-serial {\n",
              "  display: flex;\n",
              "  flex-direction: column;\n",
              "  align-items: center;\n",
              "  background-color: var(--sklearn-color-background);\n",
              "  padding-right: 1em;\n",
              "  padding-left: 1em;\n",
              "}\n",
              "\n",
              "\n",
              "/* Toggleable style: style used for estimator/Pipeline/ColumnTransformer box that is\n",
              "clickable and can be expanded/collapsed.\n",
              "- Pipeline and ColumnTransformer use this feature and define the default style\n",
              "- Estimators will overwrite some part of the style using the `sk-estimator` class\n",
              "*/\n",
              "\n",
              "/* Pipeline and ColumnTransformer style (default) */\n",
              "\n",
              "#sk-container-id-1 div.sk-toggleable {\n",
              "  /* Default theme specific background. It is overwritten whether we have a\n",
              "  specific estimator or a Pipeline/ColumnTransformer */\n",
              "  background-color: var(--sklearn-color-background);\n",
              "}\n",
              "\n",
              "/* Toggleable label */\n",
              "#sk-container-id-1 label.sk-toggleable__label {\n",
              "  cursor: pointer;\n",
              "  display: block;\n",
              "  width: 100%;\n",
              "  margin-bottom: 0;\n",
              "  padding: 0.5em;\n",
              "  box-sizing: border-box;\n",
              "  text-align: center;\n",
              "}\n",
              "\n",
              "#sk-container-id-1 label.sk-toggleable__label-arrow:before {\n",
              "  /* Arrow on the left of the label */\n",
              "  content: \"▸\";\n",
              "  float: left;\n",
              "  margin-right: 0.25em;\n",
              "  color: var(--sklearn-color-icon);\n",
              "}\n",
              "\n",
              "#sk-container-id-1 label.sk-toggleable__label-arrow:hover:before {\n",
              "  color: var(--sklearn-color-text);\n",
              "}\n",
              "\n",
              "/* Toggleable content - dropdown */\n",
              "\n",
              "#sk-container-id-1 div.sk-toggleable__content {\n",
              "  max-height: 0;\n",
              "  max-width: 0;\n",
              "  overflow: hidden;\n",
              "  text-align: left;\n",
              "  /* unfitted */\n",
              "  background-color: var(--sklearn-color-unfitted-level-0);\n",
              "}\n",
              "\n",
              "#sk-container-id-1 div.sk-toggleable__content.fitted {\n",
              "  /* fitted */\n",
              "  background-color: var(--sklearn-color-fitted-level-0);\n",
              "}\n",
              "\n",
              "#sk-container-id-1 div.sk-toggleable__content pre {\n",
              "  margin: 0.2em;\n",
              "  border-radius: 0.25em;\n",
              "  color: var(--sklearn-color-text);\n",
              "  /* unfitted */\n",
              "  background-color: var(--sklearn-color-unfitted-level-0);\n",
              "}\n",
              "\n",
              "#sk-container-id-1 div.sk-toggleable__content.fitted pre {\n",
              "  /* unfitted */\n",
              "  background-color: var(--sklearn-color-fitted-level-0);\n",
              "}\n",
              "\n",
              "#sk-container-id-1 input.sk-toggleable__control:checked~div.sk-toggleable__content {\n",
              "  /* Expand drop-down */\n",
              "  max-height: 200px;\n",
              "  max-width: 100%;\n",
              "  overflow: auto;\n",
              "}\n",
              "\n",
              "#sk-container-id-1 input.sk-toggleable__control:checked~label.sk-toggleable__label-arrow:before {\n",
              "  content: \"▾\";\n",
              "}\n",
              "\n",
              "/* Pipeline/ColumnTransformer-specific style */\n",
              "\n",
              "#sk-container-id-1 div.sk-label input.sk-toggleable__control:checked~label.sk-toggleable__label {\n",
              "  color: var(--sklearn-color-text);\n",
              "  background-color: var(--sklearn-color-unfitted-level-2);\n",
              "}\n",
              "\n",
              "#sk-container-id-1 div.sk-label.fitted input.sk-toggleable__control:checked~label.sk-toggleable__label {\n",
              "  background-color: var(--sklearn-color-fitted-level-2);\n",
              "}\n",
              "\n",
              "/* Estimator-specific style */\n",
              "\n",
              "/* Colorize estimator box */\n",
              "#sk-container-id-1 div.sk-estimator input.sk-toggleable__control:checked~label.sk-toggleable__label {\n",
              "  /* unfitted */\n",
              "  background-color: var(--sklearn-color-unfitted-level-2);\n",
              "}\n",
              "\n",
              "#sk-container-id-1 div.sk-estimator.fitted input.sk-toggleable__control:checked~label.sk-toggleable__label {\n",
              "  /* fitted */\n",
              "  background-color: var(--sklearn-color-fitted-level-2);\n",
              "}\n",
              "\n",
              "#sk-container-id-1 div.sk-label label.sk-toggleable__label,\n",
              "#sk-container-id-1 div.sk-label label {\n",
              "  /* The background is the default theme color */\n",
              "  color: var(--sklearn-color-text-on-default-background);\n",
              "}\n",
              "\n",
              "/* On hover, darken the color of the background */\n",
              "#sk-container-id-1 div.sk-label:hover label.sk-toggleable__label {\n",
              "  color: var(--sklearn-color-text);\n",
              "  background-color: var(--sklearn-color-unfitted-level-2);\n",
              "}\n",
              "\n",
              "/* Label box, darken color on hover, fitted */\n",
              "#sk-container-id-1 div.sk-label.fitted:hover label.sk-toggleable__label.fitted {\n",
              "  color: var(--sklearn-color-text);\n",
              "  background-color: var(--sklearn-color-fitted-level-2);\n",
              "}\n",
              "\n",
              "/* Estimator label */\n",
              "\n",
              "#sk-container-id-1 div.sk-label label {\n",
              "  font-family: monospace;\n",
              "  font-weight: bold;\n",
              "  display: inline-block;\n",
              "  line-height: 1.2em;\n",
              "}\n",
              "\n",
              "#sk-container-id-1 div.sk-label-container {\n",
              "  text-align: center;\n",
              "}\n",
              "\n",
              "/* Estimator-specific */\n",
              "#sk-container-id-1 div.sk-estimator {\n",
              "  font-family: monospace;\n",
              "  border: 1px dotted var(--sklearn-color-border-box);\n",
              "  border-radius: 0.25em;\n",
              "  box-sizing: border-box;\n",
              "  margin-bottom: 0.5em;\n",
              "  /* unfitted */\n",
              "  background-color: var(--sklearn-color-unfitted-level-0);\n",
              "}\n",
              "\n",
              "#sk-container-id-1 div.sk-estimator.fitted {\n",
              "  /* fitted */\n",
              "  background-color: var(--sklearn-color-fitted-level-0);\n",
              "}\n",
              "\n",
              "/* on hover */\n",
              "#sk-container-id-1 div.sk-estimator:hover {\n",
              "  /* unfitted */\n",
              "  background-color: var(--sklearn-color-unfitted-level-2);\n",
              "}\n",
              "\n",
              "#sk-container-id-1 div.sk-estimator.fitted:hover {\n",
              "  /* fitted */\n",
              "  background-color: var(--sklearn-color-fitted-level-2);\n",
              "}\n",
              "\n",
              "/* Specification for estimator info (e.g. \"i\" and \"?\") */\n",
              "\n",
              "/* Common style for \"i\" and \"?\" */\n",
              "\n",
              ".sk-estimator-doc-link,\n",
              "a:link.sk-estimator-doc-link,\n",
              "a:visited.sk-estimator-doc-link {\n",
              "  float: right;\n",
              "  font-size: smaller;\n",
              "  line-height: 1em;\n",
              "  font-family: monospace;\n",
              "  background-color: var(--sklearn-color-background);\n",
              "  border-radius: 1em;\n",
              "  height: 1em;\n",
              "  width: 1em;\n",
              "  text-decoration: none !important;\n",
              "  margin-left: 1ex;\n",
              "  /* unfitted */\n",
              "  border: var(--sklearn-color-unfitted-level-1) 1pt solid;\n",
              "  color: var(--sklearn-color-unfitted-level-1);\n",
              "}\n",
              "\n",
              ".sk-estimator-doc-link.fitted,\n",
              "a:link.sk-estimator-doc-link.fitted,\n",
              "a:visited.sk-estimator-doc-link.fitted {\n",
              "  /* fitted */\n",
              "  border: var(--sklearn-color-fitted-level-1) 1pt solid;\n",
              "  color: var(--sklearn-color-fitted-level-1);\n",
              "}\n",
              "\n",
              "/* On hover */\n",
              "div.sk-estimator:hover .sk-estimator-doc-link:hover,\n",
              ".sk-estimator-doc-link:hover,\n",
              "div.sk-label-container:hover .sk-estimator-doc-link:hover,\n",
              ".sk-estimator-doc-link:hover {\n",
              "  /* unfitted */\n",
              "  background-color: var(--sklearn-color-unfitted-level-3);\n",
              "  color: var(--sklearn-color-background);\n",
              "  text-decoration: none;\n",
              "}\n",
              "\n",
              "div.sk-estimator.fitted:hover .sk-estimator-doc-link.fitted:hover,\n",
              ".sk-estimator-doc-link.fitted:hover,\n",
              "div.sk-label-container:hover .sk-estimator-doc-link.fitted:hover,\n",
              ".sk-estimator-doc-link.fitted:hover {\n",
              "  /* fitted */\n",
              "  background-color: var(--sklearn-color-fitted-level-3);\n",
              "  color: var(--sklearn-color-background);\n",
              "  text-decoration: none;\n",
              "}\n",
              "\n",
              "/* Span, style for the box shown on hovering the info icon */\n",
              ".sk-estimator-doc-link span {\n",
              "  display: none;\n",
              "  z-index: 9999;\n",
              "  position: relative;\n",
              "  font-weight: normal;\n",
              "  right: .2ex;\n",
              "  padding: .5ex;\n",
              "  margin: .5ex;\n",
              "  width: min-content;\n",
              "  min-width: 20ex;\n",
              "  max-width: 50ex;\n",
              "  color: var(--sklearn-color-text);\n",
              "  box-shadow: 2pt 2pt 4pt #999;\n",
              "  /* unfitted */\n",
              "  background: var(--sklearn-color-unfitted-level-0);\n",
              "  border: .5pt solid var(--sklearn-color-unfitted-level-3);\n",
              "}\n",
              "\n",
              ".sk-estimator-doc-link.fitted span {\n",
              "  /* fitted */\n",
              "  background: var(--sklearn-color-fitted-level-0);\n",
              "  border: var(--sklearn-color-fitted-level-3);\n",
              "}\n",
              "\n",
              ".sk-estimator-doc-link:hover span {\n",
              "  display: block;\n",
              "}\n",
              "\n",
              "/* \"?\"-specific style due to the `<a>` HTML tag */\n",
              "\n",
              "#sk-container-id-1 a.estimator_doc_link {\n",
              "  float: right;\n",
              "  font-size: 1rem;\n",
              "  line-height: 1em;\n",
              "  font-family: monospace;\n",
              "  background-color: var(--sklearn-color-background);\n",
              "  border-radius: 1rem;\n",
              "  height: 1rem;\n",
              "  width: 1rem;\n",
              "  text-decoration: none;\n",
              "  /* unfitted */\n",
              "  color: var(--sklearn-color-unfitted-level-1);\n",
              "  border: var(--sklearn-color-unfitted-level-1) 1pt solid;\n",
              "}\n",
              "\n",
              "#sk-container-id-1 a.estimator_doc_link.fitted {\n",
              "  /* fitted */\n",
              "  border: var(--sklearn-color-fitted-level-1) 1pt solid;\n",
              "  color: var(--sklearn-color-fitted-level-1);\n",
              "}\n",
              "\n",
              "/* On hover */\n",
              "#sk-container-id-1 a.estimator_doc_link:hover {\n",
              "  /* unfitted */\n",
              "  background-color: var(--sklearn-color-unfitted-level-3);\n",
              "  color: var(--sklearn-color-background);\n",
              "  text-decoration: none;\n",
              "}\n",
              "\n",
              "#sk-container-id-1 a.estimator_doc_link.fitted:hover {\n",
              "  /* fitted */\n",
              "  background-color: var(--sklearn-color-fitted-level-3);\n",
              "}\n",
              "</style><div id=\"sk-container-id-1\" class=\"sk-top-container\"><div class=\"sk-text-repr-fallback\"><pre>GridSearchCV(cv=5, estimator=GradientBoostingRegressor(),\n",
              "             param_grid={&#x27;learning_rate&#x27;: [0.001, 0.05, 0.01, 0.02, 0.03],\n",
              "                         &#x27;max_depth&#x27;: [3, 5, 7],\n",
              "                         &#x27;n_estimators&#x27;: [100, 200, 300]},\n",
              "             scoring=&#x27;neg_mean_squared_error&#x27;, verbose=2)</pre><b>In a Jupyter environment, please rerun this cell to show the HTML representation or trust the notebook. <br />On GitHub, the HTML representation is unable to render, please try loading this page with nbviewer.org.</b></div><div class=\"sk-container\" hidden><div class=\"sk-item sk-dashed-wrapped\"><div class=\"sk-label-container\"><div class=\"sk-label fitted sk-toggleable\"><input class=\"sk-toggleable__control sk-hidden--visually\" id=\"sk-estimator-id-1\" type=\"checkbox\" ><label for=\"sk-estimator-id-1\" class=\"sk-toggleable__label fitted sk-toggleable__label-arrow fitted\">&nbsp;&nbsp;GridSearchCV<a class=\"sk-estimator-doc-link fitted\" rel=\"noreferrer\" target=\"_blank\" href=\"https://scikit-learn.org/1.5/modules/generated/sklearn.model_selection.GridSearchCV.html\">?<span>Documentation for GridSearchCV</span></a><span class=\"sk-estimator-doc-link fitted\">i<span>Fitted</span></span></label><div class=\"sk-toggleable__content fitted\"><pre>GridSearchCV(cv=5, estimator=GradientBoostingRegressor(),\n",
              "             param_grid={&#x27;learning_rate&#x27;: [0.001, 0.05, 0.01, 0.02, 0.03],\n",
              "                         &#x27;max_depth&#x27;: [3, 5, 7],\n",
              "                         &#x27;n_estimators&#x27;: [100, 200, 300]},\n",
              "             scoring=&#x27;neg_mean_squared_error&#x27;, verbose=2)</pre></div> </div></div><div class=\"sk-parallel\"><div class=\"sk-parallel-item\"><div class=\"sk-item\"><div class=\"sk-label-container\"><div class=\"sk-label fitted sk-toggleable\"><input class=\"sk-toggleable__control sk-hidden--visually\" id=\"sk-estimator-id-2\" type=\"checkbox\" ><label for=\"sk-estimator-id-2\" class=\"sk-toggleable__label fitted sk-toggleable__label-arrow fitted\">best_estimator_: GradientBoostingRegressor</label><div class=\"sk-toggleable__content fitted\"><pre>GradientBoostingRegressor(learning_rate=0.02, n_estimators=300)</pre></div> </div></div><div class=\"sk-serial\"><div class=\"sk-item\"><div class=\"sk-estimator fitted sk-toggleable\"><input class=\"sk-toggleable__control sk-hidden--visually\" id=\"sk-estimator-id-3\" type=\"checkbox\" ><label for=\"sk-estimator-id-3\" class=\"sk-toggleable__label fitted sk-toggleable__label-arrow fitted\">&nbsp;GradientBoostingRegressor<a class=\"sk-estimator-doc-link fitted\" rel=\"noreferrer\" target=\"_blank\" href=\"https://scikit-learn.org/1.5/modules/generated/sklearn.ensemble.GradientBoostingRegressor.html\">?<span>Documentation for GradientBoostingRegressor</span></a></label><div class=\"sk-toggleable__content fitted\"><pre>GradientBoostingRegressor(learning_rate=0.02, n_estimators=300)</pre></div> </div></div></div></div></div></div></div></div></div>"
            ]
          },
          "metadata": {},
          "execution_count": 32
        }
      ]
    },
    {
      "cell_type": "code",
      "source": [
        "print(grid_search.best_params_)\n",
        "print(grid_search.best_score_)"
      ],
      "metadata": {
        "colab": {
          "base_uri": "https://localhost:8080/"
        },
        "id": "pU9aVVps4yAm",
        "outputId": "a7150c06-1a4c-4d78-f50a-518f9741aaa9"
      },
      "execution_count": null,
      "outputs": [
        {
          "output_type": "stream",
          "name": "stdout",
          "text": [
            "{'learning_rate': 0.02, 'max_depth': 3, 'n_estimators': 300}\n",
            "-11.533632544136253\n"
          ]
        }
      ]
    },
    {
      "cell_type": "code",
      "source": [
        "evaluate_model(grid_search.best_estimator_, X_test, y_test)"
      ],
      "metadata": {
        "colab": {
          "base_uri": "https://localhost:8080/"
        },
        "id": "2RBz3BeL42ya",
        "outputId": "583cfd29-f716-4048-a143-6486b4d733f0"
      },
      "execution_count": null,
      "outputs": [
        {
          "output_type": "stream",
          "name": "stdout",
          "text": [
            "{'MAPE': 0.22936174631497316, 'RMSE': 4.026178524791535}\n"
          ]
        }
      ]
    },
    {
      "cell_type": "code",
      "source": [
        "#residuals = y_test - rf_predictions\n",
        "residuals = y_train_filtered - grid_search.predict(X_train_filtered)\n",
        "moy = np.mean(residuals)\n",
        "std = np.std(residuals)\n",
        "plt.scatter(range(len(residuals[:400])), residuals[:400])  # x = index, y = résidus\n",
        "plt.axhline(y=moy, color='y', linestyle='--')\n",
        "plt.axhline(y=moy + 1.96*std, color='r', linestyle='-')\n",
        "plt.axhline(y=moy - 1.96*std, color='r', linestyle='-')\n",
        "plt.xlabel('Index')\n",
        "plt.ylabel('Résidus')\n",
        "plt.title('Nuage de points des résidus')"
      ],
      "metadata": {
        "colab": {
          "base_uri": "https://localhost:8080/",
          "height": 489
        },
        "id": "YJCQG4rkW5uY",
        "outputId": "fa1d5be8-eeaf-440f-cdb2-11935420ca31"
      },
      "execution_count": null,
      "outputs": [
        {
          "output_type": "execute_result",
          "data": {
            "text/plain": [
              "Text(0.5, 1.0, 'Nuage de points des résidus')"
            ]
          },
          "metadata": {},
          "execution_count": 37
        },
        {
          "output_type": "display_data",
          "data": {
            "text/plain": [
              "<Figure size 640x480 with 1 Axes>"
            ],
            "image/png": "[encoded data removed]"
          },
          "metadata": {}
        }
      ]
    },
    {
      "cell_type": "code",
      "source": [],
      "metadata": {
        "id": "_0n_R5YoW5Yd"
      },
      "execution_count": null,
      "outputs": []
    },
    {
      "cell_type": "code",
      "source": [],
      "metadata": {
        "id": "Ka0L4-EMW5Gx"
      },
      "execution_count": null,
      "outputs": []
    },
    {
      "cell_type": "code",
      "source": [
        "# 2. Entraîner RandomForest avec les paramètres spécifiés\n",
        "rf_model = RandomForestRegressor(n_estimators=300, max_depth=5, random_state=42)\n",
        "rf_model.fit(X_train_filtered, y_train_filtered)\n",
        "\n",
        "# 3. Prédictions de RandomForest et calcul des résidus\n",
        "rf_predictions = rf_model.predict(X_test)\n",
        "\n",
        "evaluate_model(rf_model, X_test, y_test)"
      ],
      "metadata": {
        "id": "hC2XKiwqjGG3",
        "colab": {
          "base_uri": "https://localhost:8080/"
        },
        "outputId": "de809fe6-abfe-471b-bd46-ed9f8a59fa38"
      },
      "execution_count": null,
      "outputs": [
        {
          "output_type": "stream",
          "name": "stdout",
          "text": [
            "{'MAPE': 0.22958096237940318, 'RMSE': 4.027170247775274}\n"
          ]
        }
      ]
    },
    {
      "cell_type": "code",
      "source": [
        "model1 = RandomForestRegressor(n_estimators=300, max_depth=5, random_state=42)\n",
        "model2 = GradientBoostingRegressor(n_estimators = 300, learning_rate = 0.01 , random_state=42)\n",
        "\n",
        "# Entraîner les modèles\n",
        "model1.fit(X_train_filtered, y_train_filtered)\n",
        "model2.fit(X_train_filtered, y_train_filtered)\n",
        "\n",
        "# Prédictions\n",
        "predictions1 = model1.predict(X_test)\n",
        "predictions2 = model2.predict(X_test)\n",
        "\n",
        "print(\"la performane du modèle 1\")\n",
        "evaluate_model(model1, X_test, y_test)\n",
        "\n",
        "print(\"la performane du modèle 2\")\n",
        "result2 = evaluate_model(model2, X_test, y_test)"
      ],
      "metadata": {
        "colab": {
          "base_uri": "https://localhost:8080/"
        },
        "id": "BAW3dd5Lvfcq",
        "outputId": "1cae2960-0c7a-45d3-c4d4-184520134615"
      },
      "execution_count": null,
      "outputs": [
        {
          "output_type": "stream",
          "name": "stdout",
          "text": [
            "la performane du modèle 1\n",
            "{'MAPE': 0.22958096237940318, 'RMSE': 4.027170247775274}\n",
            "la performane du modèle 2\n",
            "{'MAPE': 0.22919802286894456, 'RMSE': 4.034475933295552}\n"
          ]
        }
      ]
    },
    {
      "cell_type": "code",
      "source": [
        "import pandas as pd\n",
        "from sklearn.preprocessing import StandardScaler\n",
        "\n",
        "def predict_on_sub_data(sub_data, model1,model_name = \"rf\"):\n",
        "    \"\"\"\n",
        "    Makes predictions on sub_data using the combined models from combine_models.\n",
        "\n",
        "    Args:\n",
        "        sub_data: The DataFrame containing the data to make predictions on.\n",
        "        model1: The first trained model.\n",
        "        model2: The second trained model.\n",
        "        features_to_drop: A list of features to drop from sub_data.\n",
        "        scaler: The StandardScaler object used to scale the training data.\n",
        "\n",
        "    Returns:\n",
        "        A pandas Series containing the predictions for sub_data.\n",
        "    \"\"\"\n",
        "    sub_d=sub_data.copy()\n",
        "    # 3. Make predictions using both models\n",
        "    predictions1 = model1.predict(sub_d.drop(['date','id_produit'], axis=1))\n",
        "    sub_d['quantite_vendue'] = predictions1\n",
        "    sub_d[\"id\"] = sub_d.index\n",
        "    # ... (Save your predictions to a CSV file for submission)\n",
        "    sub_d[['id', 'quantite_vendue']].to_csv(model_name+'_predictions.csv', index=False)\n",
        "    # 5. Return the combined predictions as a pandas Series\n",
        "    return"
      ],
      "metadata": {
        "id": "KlvibhPwdFHf"
      },
      "execution_count": null,
      "outputs": []
    },
    {
      "cell_type": "code",
      "source": [
        "predict_on_sub_data(sub_data_s, model1,model_name = \"rf\")"
      ],
      "metadata": {
        "id": "4_MBAChNfV9D"
      },
      "execution_count": null,
      "outputs": []
    },
    {
      "cell_type": "code",
      "source": [
        "predict_on_sub_data(sub_data_s, model2,model_name = \"gb\")"
      ],
      "metadata": {
        "id": "h51_qdJAm6we"
      },
      "execution_count": null,
      "outputs": []
    },
    {
      "cell_type": "code",
      "source": [],
      "metadata": {
        "id": "dDBG5CSwvbJ7"
      },
      "execution_count": null,
      "outputs": []
    }
  ]
}