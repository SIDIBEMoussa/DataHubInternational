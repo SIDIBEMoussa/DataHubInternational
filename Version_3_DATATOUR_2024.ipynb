{
  "nbformat": 4,
  "nbformat_minor": 0,
  "metadata": {
    "colab": {
      "provenance": [],
      "include_colab_link": true
    },
    "kernelspec": {
      "name": "python3",
      "display_name": "Python 3"
    },
    "language_info": {
      "name": "python"
    }
  },
  "cells": [
    {
      "cell_type": "markdown",
      "metadata": {
        "id": "view-in-github",
        "colab_type": "text"
      },
      "source": [
        "<a href=\"https://colab.research.google.com/github/SIDIBEMoussa/DataHubInternational/blob/main/Version_3_DATATOUR_2024.ipynb\" target=\"_parent\"><img src=\"https://colab.research.google.com/assets/colab-badge.svg\" alt=\"Open In Colab\"/></a>"
      ]
    },
    {
      "cell_type": "markdown",
      "source": [
        "---\n",
        "\n",
        "# **Challenge Finale DataTour 2024 :** Prédiction des ventes futures pour une entreprise basée sur les ventes passées et des facteurs contextuels\n",
        "\n",
        "---\n",
        "\n",
        "### **Contexte :**\n",
        "\n",
        "L’Afrique connaît une dynamique économique croissante avec une diversité d'entreprises opérant dans des secteurs variés (commerce de détail, e-commerce, agroalimentaire, etc.). Cependant, l'un des défis majeurs pour les entreprises africaines reste la gestion des stocks et la prédiction des ventes futures. Une prédiction précise des ventes peut aider les entreprises à mieux gérer leur inventaire, optimiser leurs promotions, ajuster leur stratégie de prix et maximiser leurs profits. En raison de la nature volatile de la demande, des promotions fréquentes, de la variation des conditions météorologiques et des événements spéciaux (tels que les fêtes et jours fériés), une méthode basée sur l'analyse des données passées est essentielle pour établir des prévisions fiables.\n",
        "\n",
        "Ce projet vise à **prédire les ventes futures d'une entreprise** en se basant sur les ventes passées et plusieurs facteurs contextuels influençant la demande, notamment les promotions, les jours fériés, les conditions météorologiques et la disponibilité des stocks.\n",
        "\n",
        "---\n",
        "\n",
        "### **Objectifs :**\n",
        "\n",
        "À partir des données historiques de ventes d'une entreprise entre **2022-01-01 et 2024-10-31**, prédire le nombre d'unités qui seront vendues entre le **2024-11-01 et le 2024-11-30**. Cette prédiction permettra à l'entreprise de mieux gérer ses stocks, planifier ses campagnes promotionnelles et ajuster ses stratégies de marketing.\n",
        "\n",
        "---\n",
        "\n",
        "### **Structure des données**\n",
        "\n",
        "Les données sont divisées en deux fichiers distincts :\n",
        "\n",
        "1. **Fichier d’entraînement** (`train.csv`) :\n",
        "   - **Taille** : 83 047 lignes.\n",
        "   - **Colonnes** : Comprend toutes les colonnes, y compris la cible `quantite_vendue`.\n",
        "   - **Utilisation** : Ces données servent à entraîner et tester votre modèles.\n",
        "   - **Source** : https://raw.githubusercontent.com/dataafriquehub/donnee_vente/refs/heads/main/train.csv\n",
        "\n",
        "\n",
        "2. **Fichier de soumission** (`submission.csv`) :\n",
        "   - **Taille** : 2 576 lignes.\n",
        "   - **Colonnes** : Contient toutes les caractéristiques sauf la colonne cible `quantite_vendue`.\n",
        "   - **Utilisation** : Ce fichier doit être utilisé pour générer les prédictions finales, sans accès à la colonne cible.\n",
        "   - **Source** : https://raw.githubusercontent.com/dataafriquehub/donnee_vente/refs/heads/main/submission.csv\n",
        "\n",
        "---\n",
        "\n",
        "### **Description des colonnes**\n",
        "\n",
        "Le dataset contient des informations relatives aux transactions de ventes passées, couvrant la période du **2022-01-01 au 2024-10-31**. Les variables disponibles sont :\n",
        "Voici les informations sous forme de tableau :\n",
        "\n",
        "| **Variable**                | **Description**                                                                                   |\n",
        "|-----------------------------|---------------------------------------------------------------------------------------------------|\n",
        "| **ID Produit (id_produit)**  | Identifiant unique pour chaque produit vendu.                                                     |\n",
        "| **Date (date)**              | La date de la vente, allant du 1er janvier 2022 au 31 octobre 2024.                               |\n",
        "| **Catégorie (categorie)**    | La catégorie du produit (ex. Électronique, Habillement, Alimentaire).                             |\n",
        "| **Marque (marque)**          | La marque du produit (ex. Samsung, Nike, Nestlé, etc.).                                           |\n",
        "| **Prix Unitaire (prix_unitaire)** | Le prix de vente par unité du produit.                                                            |\n",
        "| **Promotion (promotion)**    | Indicateur binaire (0 ou 1) indiquant si le produit était en promotion au moment de la vente.     |\n",
        "| **Jour Férié (jour_ferie)**  | Indicateur binaire (0 ou 1) indiquant si la vente a eu lieu un jour férié.                        |\n",
        "| **Week-end (weekend)**       | Indicateur binaire (0 ou 1) indiquant si la vente a eu lieu un week-end.                          |\n",
        "| **Stock Disponible (stock_disponible)** | Nombre d’unités disponibles pour la vente ce jour-là.                                            |\n",
        "| **Condition Météo (condition_meteo)** | Type de condition météo le jour de la vente (ex. Ensoleillé, Pluie, Orageux, Neigeux).              |\n",
        "| **Région (region)**          | Région géographique de la vente (ex. Urbain, Périurbain, Rural).                                 |\n",
        "| **Moment de la Journée (moment_journee)** | Le moment de la journée où la vente a eu lieu (ex. Matinée, Après-midi, Soirée).                |\n",
        "| **Quantité Vendue (quantite_vendue)** | Le nombre d'unités réellement vendues de chaque produit (pour l'entraînement seulement).         |\n",
        "\n",
        "\n",
        "*Note :* La **Quantité Vendue** est la variable cible à prédire pour la période de novembre 2024.\n",
        "\n",
        "Ces données serviront à entraîner le modèle de prédiction pour estimer les ventes du mois de **novembre 2024** (du **2024-11-01 au 2024-11-30**).\n",
        "\n",
        "---\n",
        "\n",
        "### **Critères d'évaluation**\n",
        "Les prédictions des équipes seront évaluées à l'aide de la **Mean Absolute Percentage Error (MAPE)**. Cette métrique mesure l'erreur moyenne entre les valeurs réelles et prédites en pourcentage.\n",
        "\n",
        "- Les équipes seront classées selon leur **score MAPE**.\n",
        "- **Les équipes ayant les MAPE les plus faibles** (indiquant une meilleure précision) seront classées en tête.\n",
        "- Trois soumissions au plus par équipe quotidiennement\n",
        "\n",
        "---\n",
        "\n",
        "### **Format de la soumission**\n",
        "Les participants doivent soumettre un fichier CSV avec exactement les colonnes suivantes :\n",
        "\n",
        "- **`id`** : L'identifiant de chaque ligne dans `submission.csv`.\n",
        "- **`quantite_vendue`** : La prédiction de la quantite_vendue pour chaque ligne.\n",
        "- **Lien vers le formulaire soumission :** https://docs.google.com/forms/d/e/1FAIpQLSeZcaBaYLSa8ZJ3xcqFEIuTThA4GcaBBIwI32RzEzNaYh-kAg/viewform\n",
        "\n",
        "Exemple de format attendu :\n",
        "```csv\n",
        "id,quantite_vendue\n",
        "1,320\n",
        "2,7500\n",
        "3,1000\n",
        "...\n",
        "```\n",
        "\n",
        "---\n",
        "\n",
        "\n",
        "\n",
        "\n",
        "Ainsi, ce projet de prédiction des ventes est non seulement crucial pour l'entreprise dans sa gestion quotidienne, mais il permet également de mieux anticiper les besoins du marché à l'échelle locale, avec une approche basée sur les données réelles de l'entreprise.\n",
        "\n",
        "**Prêts à relever? Faites donc partir des meilleurs de DataTour2024 et faites briller les couleurs des drapeaux de votre pays**"
      ],
      "metadata": {
        "id": "9DS4tw2fGBsF"
      }
    },
    {
      "cell_type": "markdown",
      "source": [
        "##Analyse Exploiratoire des Données"
      ],
      "metadata": {
        "id": "iNVpLd4Q3Kae"
      }
    },
    {
      "cell_type": "code",
      "source": [
        "import warnings\n",
        "warnings.filterwarnings('ignore')"
      ],
      "metadata": {
        "id": "AfUhYyE6DDY3"
      },
      "execution_count": 125,
      "outputs": []
    },
    {
      "cell_type": "code",
      "source": [
        "import pandas as pd                 # for data manipulation and analysis\n",
        "import numpy as np                  # for mathematical operations\n",
        "import plotly.express as px         # for data visualization\n",
        "import seaborn as sns               # for data visualization\n",
        "import matplotlib.pyplot as plt     # for data visualization\n",
        "import holidays\n",
        "from datetime import date"
      ],
      "metadata": {
        "id": "_K7OhjP_KsGX"
      },
      "execution_count": 126,
      "outputs": []
    },
    {
      "cell_type": "code",
      "source": [
        "from google.colab import drive\n",
        "drive.mount('/content/drive')"
      ],
      "metadata": {
        "id": "n4mefpqwUnXw",
        "colab": {
          "base_uri": "https://localhost:8080/"
        },
        "outputId": "733d01bf-36a4-4c70-8d32-f98a657e09ae"
      },
      "execution_count": 127,
      "outputs": [
        {
          "output_type": "stream",
          "name": "stdout",
          "text": [
            "Drive already mounted at /content/drive; to attempt to forcibly remount, call drive.mount(\"/content/drive\", force_remount=True).\n"
          ]
        }
      ]
    },
    {
      "cell_type": "code",
      "source": [
        "train_data = pd.read_csv(\"https://raw.githubusercontent.com/dataafriquehub/donnee_vente/refs/heads/main/train.csv\")\n",
        "sub_data = pd.read_csv(\"https://raw.githubusercontent.com/dataafriquehub/donnee_vente/refs/heads/main/submission.csv\")"
      ],
      "metadata": {
        "id": "_jSZSrpQ3dFg"
      },
      "execution_count": 247,
      "outputs": []
    },
    {
      "cell_type": "code",
      "source": [
        "train_data.shape,sub_data.shape"
      ],
      "metadata": {
        "colab": {
          "base_uri": "https://localhost:8080/"
        },
        "id": "DzMGR_5u3z5Y",
        "outputId": "cee602f0-0e2c-47dd-a679-393f824982ce"
      },
      "execution_count": 248,
      "outputs": [
        {
          "output_type": "execute_result",
          "data": {
            "text/plain": [
              "((83047, 14), (2576, 13))"
            ]
          },
          "metadata": {},
          "execution_count": 248
        }
      ]
    },
    {
      "cell_type": "code",
      "source": [
        "fr_holidays = holidays.country_holidays('FR')"
      ],
      "metadata": {
        "id": "IPukVnN4Yo1j"
      },
      "execution_count": 249,
      "outputs": []
    },
    {
      "cell_type": "code",
      "source": [
        "from datetime import date\n",
        "\n",
        "jours_feries_ci = {\n",
        "    # 2022\n",
        "    \"Jour de l'An\": date(2022, 1, 1),\n",
        "    \"Lundi de Pâques\": date(2022, 4, 18),\n",
        "    \"Fête du Travail\": date(2022, 5, 1),\n",
        "    \"Ascension\": date(2022, 5, 26),\n",
        "    \"Lundi de Pentecôte\": date(2022, 6, 6),\n",
        "    \"Fête Nationale\": date(2022, 8, 7),\n",
        "    \"Assomption\": date(2022, 8, 15),\n",
        "    \"Toussaint\": date(2022, 11, 1),\n",
        "    \"Journée de la Paix\": date(2022, 11, 15),\n",
        "    \"Fête Felix\": date(2022,12,7),\n",
        "    \"Noël\": date(2022, 12, 25),\n",
        "\n",
        "    # 2023\n",
        "    \"Jour de l'An\": date(2023, 1, 1),\n",
        "    \"Lundi de Pâques\": date(2023, 4, 10),\n",
        "    \"Fête du Travail\": date(2023, 5, 1),\n",
        "    \"Ascension\": date(2023, 5, 18),\n",
        "    \"Lundi de Pentecôte\": date(2023, 5, 29),\n",
        "    \"Fête Nationale\": date(2023, 8, 7),\n",
        "    \"Assomption\": date(2023, 8, 15),\n",
        "    \"Toussaint\": date(2023, 11, 1),\n",
        "    \"Journée de la Paix\": date(2023, 11, 15),\n",
        "    \"Noël\": date(2023, 12, 25),\n",
        "\n",
        "    # 2024\n",
        "    \"Jour de l'An\": date(2024, 1, 1),\n",
        "    \"Lundi de Pâques\": date(2024, 4, 1),\n",
        "    \"Fête du Travail\": date(2024, 5, 1),\n",
        "    \"Ascension\": date(2024, 5, 9),\n",
        "    \"Lundi de Pentecôte\": date(2024, 5, 20),\n",
        "    \"Fête Nationale\": date(2024, 8, 7),\n",
        "    \"Assomption\": date(2024, 8, 15),\n",
        "    \"Toussaint\": date(2024, 11, 1),\n",
        "    \"Journée de la Paix\": date(2024, 11, 15),\n",
        "    \"Noël\": date(2024, 12, 25),\n",
        "}\n"
      ],
      "metadata": {
        "id": "OHcp1HtJYodq"
      },
      "execution_count": 250,
      "outputs": []
    },
    {
      "cell_type": "code",
      "source": [
        "def change_jour_ferie_value(data, jours_feries_ci):\n",
        "    dfs = []\n",
        "    for df in data:\n",
        "        df['date'] = pd.to_datetime(df['date']).dt.normalize()\n",
        "        jours_feries_timestamps = [pd.Timestamp(d).normalize() for d in jours_feries_ci.values()]\n",
        "        df['jour_ferie'] = df.apply(lambda row: (1 if row['date'] in jours_feries_timestamps else 0) if pd.isnull(row['jour_ferie']) else row['jour_ferie'], axis=1)\n",
        "        dfs.append(df)\n",
        "    return dfs\n",
        "\n",
        "def change_jour_ferie_value_s(data, jours_feries_ci):\n",
        "    dfs = []\n",
        "    for df in data:\n",
        "        df['date'] = pd.to_datetime(df['date']).dt.date # Convertir en objets date\n",
        "        jours_feries_dates = [d for d in jours_feries_ci.values()]  # Extraire les objets date\n",
        "        df['jour_ferie'] = df['date'].apply(lambda x: 1 if x in jours_feries_dates else 0)\n",
        "        dfs.append(df)\n",
        "    return dfs\n",
        "\n",
        "train_data= change_jour_ferie_value([train_data],jours_feries_ci)[0]\n",
        "sub_data= change_jour_ferie_value_s([sub_data],jours_feries_ci)[0]"
      ],
      "metadata": {
        "id": "GMzlprRCfH_n"
      },
      "execution_count": 257,
      "outputs": []
    },
    {
      "cell_type": "code",
      "source": [
        "train_data[\"jour_ferie\"].value_counts()"
      ],
      "metadata": {
        "colab": {
          "base_uri": "https://localhost:8080/",
          "height": 178
        },
        "id": "SO-YdBicgBe3",
        "outputId": "5e89a549-db3a-4c59-84eb-6cef231db874"
      },
      "execution_count": 258,
      "outputs": [
        {
          "output_type": "execute_result",
          "data": {
            "text/plain": [
              "jour_ferie\n",
              "0.0    81781\n",
              "1.0     1266\n",
              "Name: count, dtype: int64"
            ],
            "text/html": [
              "<div>\n",
              "<style scoped>\n",
              "    .dataframe tbody tr th:only-of-type {\n",
              "        vertical-align: middle;\n",
              "    }\n",
              "\n",
              "    .dataframe tbody tr th {\n",
              "        vertical-align: top;\n",
              "    }\n",
              "\n",
              "    .dataframe thead th {\n",
              "        text-align: right;\n",
              "    }\n",
              "</style>\n",
              "<table border=\"1\" class=\"dataframe\">\n",
              "  <thead>\n",
              "    <tr style=\"text-align: right;\">\n",
              "      <th></th>\n",
              "      <th>count</th>\n",
              "    </tr>\n",
              "    <tr>\n",
              "      <th>jour_ferie</th>\n",
              "      <th></th>\n",
              "    </tr>\n",
              "  </thead>\n",
              "  <tbody>\n",
              "    <tr>\n",
              "      <th>0.0</th>\n",
              "      <td>81781</td>\n",
              "    </tr>\n",
              "    <tr>\n",
              "      <th>1.0</th>\n",
              "      <td>1266</td>\n",
              "    </tr>\n",
              "  </tbody>\n",
              "</table>\n",
              "</div><br><label><b>dtype:</b> int64</label>"
            ]
          },
          "metadata": {},
          "execution_count": 258
        }
      ]
    },
    {
      "cell_type": "code",
      "source": [
        "sub_data[\"jour_ferie\"].value_counts()"
      ],
      "metadata": {
        "colab": {
          "base_uri": "https://localhost:8080/",
          "height": 178
        },
        "id": "nIotyBnitZF5",
        "outputId": "fa502116-a15c-43ca-cd03-9a6c0cacc892"
      },
      "execution_count": 259,
      "outputs": [
        {
          "output_type": "execute_result",
          "data": {
            "text/plain": [
              "jour_ferie\n",
              "0    2507\n",
              "1      69\n",
              "Name: count, dtype: int64"
            ],
            "text/html": [
              "<div>\n",
              "<style scoped>\n",
              "    .dataframe tbody tr th:only-of-type {\n",
              "        vertical-align: middle;\n",
              "    }\n",
              "\n",
              "    .dataframe tbody tr th {\n",
              "        vertical-align: top;\n",
              "    }\n",
              "\n",
              "    .dataframe thead th {\n",
              "        text-align: right;\n",
              "    }\n",
              "</style>\n",
              "<table border=\"1\" class=\"dataframe\">\n",
              "  <thead>\n",
              "    <tr style=\"text-align: right;\">\n",
              "      <th></th>\n",
              "      <th>count</th>\n",
              "    </tr>\n",
              "    <tr>\n",
              "      <th>jour_ferie</th>\n",
              "      <th></th>\n",
              "    </tr>\n",
              "  </thead>\n",
              "  <tbody>\n",
              "    <tr>\n",
              "      <th>0</th>\n",
              "      <td>2507</td>\n",
              "    </tr>\n",
              "    <tr>\n",
              "      <th>1</th>\n",
              "      <td>69</td>\n",
              "    </tr>\n",
              "  </tbody>\n",
              "</table>\n",
              "</div><br><label><b>dtype:</b> int64</label>"
            ]
          },
          "metadata": {},
          "execution_count": 259
        }
      ]
    },
    {
      "cell_type": "code",
      "source": [
        "from datetime import datetime, timedelta\n",
        "\n",
        "def detect_weekend(start_date, end_date):\n",
        "    # Convertir les dates en objets datetime\n",
        "    start = datetime.strptime(start_date, \"%Y-%m-%d\")  # Remove .date()\n",
        "    end = datetime.strptime(end_date, \"%Y-%m-%d\")    # Remove .date()\n",
        "\n",
        "    # Initialiser le dictionnaire des résultats (using timestamps as keys)\n",
        "    weekend_dict = {}\n",
        "\n",
        "    # Parcourir toutes les dates de l'intervalle\n",
        "    current_date = start\n",
        "    while current_date <= end:\n",
        "        # Vérifier si c'est un week-end (samedi = 5, dimanche = 6)\n",
        "        if current_date.weekday() in [5, 6]:\n",
        "            weekend_dict[current_date] = 1  # Store timestamp as key\n",
        "        else:\n",
        "            weekend_dict[current_date] = 0  # Store timestamp as key\n",
        "        current_date += timedelta(days=1)\n",
        "\n",
        "    return weekend_dict\n",
        "\n",
        "# Appel de la fonction (using timestamps for start and end dates)\n",
        "weekends_train = detect_weekend('2022-01-01', '2024-10-31')\n",
        "weekends_sub = detect_weekend('2024-11-01', '2024-11-30')"
      ],
      "metadata": {
        "id": "24a3BjBXmEvZ"
      },
      "execution_count": 261,
      "outputs": []
    },
    {
      "cell_type": "code",
      "source": [
        "def is_weekend(date, weekends):\n",
        "    return weekends.get(date, 0)"
      ],
      "metadata": {
        "id": "8rFYQs7TozO0"
      },
      "execution_count": 262,
      "outputs": []
    },
    {
      "cell_type": "code",
      "source": [
        "def solve_weekend(df, weekends):\n",
        "    df['weekend'] = df.apply(lambda row: is_weekend(row['date'], weekends) if pd.isnull(row['weekend']) else row['weekend'], axis=1)\n",
        "    return df\n",
        "\n",
        "train_data = solve_weekend(train_data, weekends_train)\n",
        "sub_data = solve_weekend(sub_data, weekends_sub)"
      ],
      "metadata": {
        "id": "b4Id2_LSn9uM"
      },
      "execution_count": 263,
      "outputs": []
    },
    {
      "cell_type": "code",
      "source": [
        "train_data.weekend.value_counts()"
      ],
      "metadata": {
        "colab": {
          "base_uri": "https://localhost:8080/",
          "height": 178
        },
        "id": "yBH4M4tErldF",
        "outputId": "3c4e5100-29d8-483f-c77b-fdc0cb3da6c7"
      },
      "execution_count": 264,
      "outputs": [
        {
          "output_type": "execute_result",
          "data": {
            "text/plain": [
              "weekend\n",
              "0.0    58852\n",
              "1.0    24195\n",
              "Name: count, dtype: int64"
            ],
            "text/html": [
              "<div>\n",
              "<style scoped>\n",
              "    .dataframe tbody tr th:only-of-type {\n",
              "        vertical-align: middle;\n",
              "    }\n",
              "\n",
              "    .dataframe tbody tr th {\n",
              "        vertical-align: top;\n",
              "    }\n",
              "\n",
              "    .dataframe thead th {\n",
              "        text-align: right;\n",
              "    }\n",
              "</style>\n",
              "<table border=\"1\" class=\"dataframe\">\n",
              "  <thead>\n",
              "    <tr style=\"text-align: right;\">\n",
              "      <th></th>\n",
              "      <th>count</th>\n",
              "    </tr>\n",
              "    <tr>\n",
              "      <th>weekend</th>\n",
              "      <th></th>\n",
              "    </tr>\n",
              "  </thead>\n",
              "  <tbody>\n",
              "    <tr>\n",
              "      <th>0.0</th>\n",
              "      <td>58852</td>\n",
              "    </tr>\n",
              "    <tr>\n",
              "      <th>1.0</th>\n",
              "      <td>24195</td>\n",
              "    </tr>\n",
              "  </tbody>\n",
              "</table>\n",
              "</div><br><label><b>dtype:</b> int64</label>"
            ]
          },
          "metadata": {},
          "execution_count": 264
        }
      ]
    },
    {
      "cell_type": "code",
      "source": [
        "sub_data.weekend.value_counts()"
      ],
      "metadata": {
        "colab": {
          "base_uri": "https://localhost:8080/",
          "height": 178
        },
        "id": "7rrwWrVFuILc",
        "outputId": "3e639ed9-e96f-4e3b-ff4f-a477b5564ac8"
      },
      "execution_count": 265,
      "outputs": [
        {
          "output_type": "execute_result",
          "data": {
            "text/plain": [
              "weekend\n",
              "0    1905\n",
              "1     671\n",
              "Name: count, dtype: int64"
            ],
            "text/html": [
              "<div>\n",
              "<style scoped>\n",
              "    .dataframe tbody tr th:only-of-type {\n",
              "        vertical-align: middle;\n",
              "    }\n",
              "\n",
              "    .dataframe tbody tr th {\n",
              "        vertical-align: top;\n",
              "    }\n",
              "\n",
              "    .dataframe thead th {\n",
              "        text-align: right;\n",
              "    }\n",
              "</style>\n",
              "<table border=\"1\" class=\"dataframe\">\n",
              "  <thead>\n",
              "    <tr style=\"text-align: right;\">\n",
              "      <th></th>\n",
              "      <th>count</th>\n",
              "    </tr>\n",
              "    <tr>\n",
              "      <th>weekend</th>\n",
              "      <th></th>\n",
              "    </tr>\n",
              "  </thead>\n",
              "  <tbody>\n",
              "    <tr>\n",
              "      <th>0</th>\n",
              "      <td>1905</td>\n",
              "    </tr>\n",
              "    <tr>\n",
              "      <th>1</th>\n",
              "      <td>671</td>\n",
              "    </tr>\n",
              "  </tbody>\n",
              "</table>\n",
              "</div><br><label><b>dtype:</b> int64</label>"
            ]
          },
          "metadata": {},
          "execution_count": 265
        }
      ]
    },
    {
      "cell_type": "code",
      "source": [
        "min(sub_data.date),max(sub_data.date)"
      ],
      "metadata": {
        "colab": {
          "base_uri": "https://localhost:8080/"
        },
        "id": "xXLvca1muQfu",
        "outputId": "e470b2bf-d756-43a3-9945-e892cb6d85e6"
      },
      "execution_count": 266,
      "outputs": [
        {
          "output_type": "execute_result",
          "data": {
            "text/plain": [
              "(datetime.date(2024, 11, 1), datetime.date(2024, 11, 30))"
            ]
          },
          "metadata": {},
          "execution_count": 266
        }
      ]
    },
    {
      "cell_type": "markdown",
      "source": [
        "Nettoyage de la base des données"
      ],
      "metadata": {
        "id": "espMHgNHgyu2"
      }
    },
    {
      "cell_type": "code",
      "source": [
        "##Suppression des colonnes inutile\n",
        "def drop_unuseful_col(data, cols):\n",
        "  dfs = []\n",
        "  for df in data:\n",
        "\n",
        "      df = df.drop(columns = cols)\n",
        "\n",
        "      dfs.append(df)\n",
        "\n",
        "  return dfs\n",
        "\n",
        "cols = ['Unnamed: 0']\n",
        "train_data, sub_data = drop_unuseful_col([train_data, sub_data],cols[0])"
      ],
      "metadata": {
        "id": "xWr6mlC5-XRS"
      },
      "execution_count": 267,
      "outputs": []
    },
    {
      "cell_type": "code",
      "source": [
        "sub_data.isna().sum()"
      ],
      "metadata": {
        "colab": {
          "base_uri": "https://localhost:8080/",
          "height": 460
        },
        "id": "3gZX4KHrmquS",
        "outputId": "5f076250-6669-4a69-c71a-c92943b569c6"
      },
      "execution_count": 268,
      "outputs": [
        {
          "output_type": "execute_result",
          "data": {
            "text/plain": [
              "id_produit          0\n",
              "date                0\n",
              "categorie           0\n",
              "marque              0\n",
              "prix_unitaire       0\n",
              "promotion           0\n",
              "jour_ferie          0\n",
              "weekend             0\n",
              "stock_disponible    0\n",
              "condition_meteo     0\n",
              "region              0\n",
              "moment_journee      0\n",
              "dtype: int64"
            ],
            "text/html": [
              "<div>\n",
              "<style scoped>\n",
              "    .dataframe tbody tr th:only-of-type {\n",
              "        vertical-align: middle;\n",
              "    }\n",
              "\n",
              "    .dataframe tbody tr th {\n",
              "        vertical-align: top;\n",
              "    }\n",
              "\n",
              "    .dataframe thead th {\n",
              "        text-align: right;\n",
              "    }\n",
              "</style>\n",
              "<table border=\"1\" class=\"dataframe\">\n",
              "  <thead>\n",
              "    <tr style=\"text-align: right;\">\n",
              "      <th></th>\n",
              "      <th>0</th>\n",
              "    </tr>\n",
              "  </thead>\n",
              "  <tbody>\n",
              "    <tr>\n",
              "      <th>id_produit</th>\n",
              "      <td>0</td>\n",
              "    </tr>\n",
              "    <tr>\n",
              "      <th>date</th>\n",
              "      <td>0</td>\n",
              "    </tr>\n",
              "    <tr>\n",
              "      <th>categorie</th>\n",
              "      <td>0</td>\n",
              "    </tr>\n",
              "    <tr>\n",
              "      <th>marque</th>\n",
              "      <td>0</td>\n",
              "    </tr>\n",
              "    <tr>\n",
              "      <th>prix_unitaire</th>\n",
              "      <td>0</td>\n",
              "    </tr>\n",
              "    <tr>\n",
              "      <th>promotion</th>\n",
              "      <td>0</td>\n",
              "    </tr>\n",
              "    <tr>\n",
              "      <th>jour_ferie</th>\n",
              "      <td>0</td>\n",
              "    </tr>\n",
              "    <tr>\n",
              "      <th>weekend</th>\n",
              "      <td>0</td>\n",
              "    </tr>\n",
              "    <tr>\n",
              "      <th>stock_disponible</th>\n",
              "      <td>0</td>\n",
              "    </tr>\n",
              "    <tr>\n",
              "      <th>condition_meteo</th>\n",
              "      <td>0</td>\n",
              "    </tr>\n",
              "    <tr>\n",
              "      <th>region</th>\n",
              "      <td>0</td>\n",
              "    </tr>\n",
              "    <tr>\n",
              "      <th>moment_journee</th>\n",
              "      <td>0</td>\n",
              "    </tr>\n",
              "  </tbody>\n",
              "</table>\n",
              "</div><br><label><b>dtype:</b> int64</label>"
            ]
          },
          "metadata": {},
          "execution_count": 268
        }
      ]
    },
    {
      "cell_type": "code",
      "source": [
        "train_data.isna().sum()"
      ],
      "metadata": {
        "colab": {
          "base_uri": "https://localhost:8080/",
          "height": 492
        },
        "id": "LxYfxLG5paZV",
        "outputId": "88850a44-a314-436c-b3ce-b77cfa2f52c6"
      },
      "execution_count": 269,
      "outputs": [
        {
          "output_type": "execute_result",
          "data": {
            "text/plain": [
              "id_produit          11377\n",
              "date                    0\n",
              "categorie               0\n",
              "marque               8343\n",
              "prix_unitaire        4465\n",
              "promotion           24124\n",
              "jour_ferie              0\n",
              "weekend                 0\n",
              "stock_disponible    14048\n",
              "condition_meteo     11016\n",
              "region              10665\n",
              "moment_journee      16936\n",
              "quantite_vendue     11407\n",
              "dtype: int64"
            ],
            "text/html": [
              "<div>\n",
              "<style scoped>\n",
              "    .dataframe tbody tr th:only-of-type {\n",
              "        vertical-align: middle;\n",
              "    }\n",
              "\n",
              "    .dataframe tbody tr th {\n",
              "        vertical-align: top;\n",
              "    }\n",
              "\n",
              "    .dataframe thead th {\n",
              "        text-align: right;\n",
              "    }\n",
              "</style>\n",
              "<table border=\"1\" class=\"dataframe\">\n",
              "  <thead>\n",
              "    <tr style=\"text-align: right;\">\n",
              "      <th></th>\n",
              "      <th>0</th>\n",
              "    </tr>\n",
              "  </thead>\n",
              "  <tbody>\n",
              "    <tr>\n",
              "      <th>id_produit</th>\n",
              "      <td>11377</td>\n",
              "    </tr>\n",
              "    <tr>\n",
              "      <th>date</th>\n",
              "      <td>0</td>\n",
              "    </tr>\n",
              "    <tr>\n",
              "      <th>categorie</th>\n",
              "      <td>0</td>\n",
              "    </tr>\n",
              "    <tr>\n",
              "      <th>marque</th>\n",
              "      <td>8343</td>\n",
              "    </tr>\n",
              "    <tr>\n",
              "      <th>prix_unitaire</th>\n",
              "      <td>4465</td>\n",
              "    </tr>\n",
              "    <tr>\n",
              "      <th>promotion</th>\n",
              "      <td>24124</td>\n",
              "    </tr>\n",
              "    <tr>\n",
              "      <th>jour_ferie</th>\n",
              "      <td>0</td>\n",
              "    </tr>\n",
              "    <tr>\n",
              "      <th>weekend</th>\n",
              "      <td>0</td>\n",
              "    </tr>\n",
              "    <tr>\n",
              "      <th>stock_disponible</th>\n",
              "      <td>14048</td>\n",
              "    </tr>\n",
              "    <tr>\n",
              "      <th>condition_meteo</th>\n",
              "      <td>11016</td>\n",
              "    </tr>\n",
              "    <tr>\n",
              "      <th>region</th>\n",
              "      <td>10665</td>\n",
              "    </tr>\n",
              "    <tr>\n",
              "      <th>moment_journee</th>\n",
              "      <td>16936</td>\n",
              "    </tr>\n",
              "    <tr>\n",
              "      <th>quantite_vendue</th>\n",
              "      <td>11407</td>\n",
              "    </tr>\n",
              "  </tbody>\n",
              "</table>\n",
              "</div><br><label><b>dtype:</b> int64</label>"
            ]
          },
          "metadata": {},
          "execution_count": 269
        }
      ]
    },
    {
      "cell_type": "code",
      "source": [
        "def traitement_nan_encode(data):\n",
        "\n",
        "    dfs=[]\n",
        "    for df in data:\n",
        "        df[\"promotion\"] = (df[\"promotion\"].astype(float)).astype(\"category\")\n",
        "        df[\"condition_meteo\"] = df[\"condition_meteo\"].astype(\"category\")\n",
        "        df[\"region\"] = df[\"region\"].astype(\"category\")\n",
        "        df[\"moment_journee\"] = df[\"moment_journee\"].astype(\"category\")\n",
        "        df[\"marque\"] = df[\"marque\"].astype(\"category\")\n",
        "        cols=[\"categorie\",\"marque\",\"promotion\", \"condition_meteo\", \"region\", \"moment_journee\"]\n",
        "        df = pd.get_dummies(df, columns=cols, dtype=int)\n",
        "        dfs.append(df)\n",
        "    return dfs\n",
        "\n",
        "train_data,sub_data= traitement_nan_encode([train_data,sub_data])"
      ],
      "metadata": {
        "id": "izczvtiPATRo"
      },
      "execution_count": 270,
      "outputs": []
    },
    {
      "cell_type": "code",
      "source": [
        "train_data.shape,sub_data.shape"
      ],
      "metadata": {
        "colab": {
          "base_uri": "https://localhost:8080/"
        },
        "id": "_kEJN1_Pnya8",
        "outputId": "18fdf54a-20ac-4fb7-e07b-1f03bb005014"
      },
      "execution_count": 271,
      "outputs": [
        {
          "output_type": "execute_result",
          "data": {
            "text/plain": [
              "((83047, 38), (2576, 37))"
            ]
          },
          "metadata": {},
          "execution_count": 271
        }
      ]
    },
    {
      "cell_type": "code",
      "source": [
        "train_data.columns.difference(sub_data.columns)"
      ],
      "metadata": {
        "colab": {
          "base_uri": "https://localhost:8080/"
        },
        "id": "G3udwYoxoJBg",
        "outputId": "0d670bbb-31ac-4bfb-e989-a223eeb976f8"
      },
      "execution_count": 272,
      "outputs": [
        {
          "output_type": "execute_result",
          "data": {
            "text/plain": [
              "Index(['quantite_vendue'], dtype='object')"
            ]
          },
          "metadata": {},
          "execution_count": 272
        }
      ]
    },
    {
      "cell_type": "code",
      "source": [
        "sub_data.head(1)"
      ],
      "metadata": {
        "colab": {
          "base_uri": "https://localhost:8080/",
          "height": 165
        },
        "id": "3kZl-dNqkiNi",
        "outputId": "bdd86c94-07bb-4376-a9b9-b7b963ce5f37"
      },
      "execution_count": 273,
      "outputs": [
        {
          "output_type": "execute_result",
          "data": {
            "text/plain": [
              "       id_produit        date  prix_unitaire  jour_ferie  weekend  \\\n",
              "0  ALI-072024-023  2024-11-01       10692.72           1        0   \n",
              "\n",
              "   stock_disponible  categorie_Alimentaire  categorie_Habillement  \\\n",
              "0               168                      1                      0   \n",
              "\n",
              "   categorie_Électronique  marque_Adidas  ...  condition_meteo_Neigeux  \\\n",
              "0                       0              0  ...                        0   \n",
              "\n",
              "   condition_meteo_Nuageux  condition_meteo_Orageux  condition_meteo_Pluie  \\\n",
              "0                        0                        1                      0   \n",
              "\n",
              "   region_Périurbain  region_Rural  region_Urbain  moment_journee_Après-midi  \\\n",
              "0                  0             0              1                          0   \n",
              "\n",
              "   moment_journee_Matinée  moment_journee_Soirée  \n",
              "0                       1                      0  \n",
              "\n",
              "[1 rows x 37 columns]"
            ],
            "text/html": [
              "\n",
              "  <div id=\"df-1284615a-770d-4269-b7b2-20aad858e4b0\" class=\"colab-df-container\">\n",
              "    <div>\n",
              "<style scoped>\n",
              "    .dataframe tbody tr th:only-of-type {\n",
              "        vertical-align: middle;\n",
              "    }\n",
              "\n",
              "    .dataframe tbody tr th {\n",
              "        vertical-align: top;\n",
              "    }\n",
              "\n",
              "    .dataframe thead th {\n",
              "        text-align: right;\n",
              "    }\n",
              "</style>\n",
              "<table border=\"1\" class=\"dataframe\">\n",
              "  <thead>\n",
              "    <tr style=\"text-align: right;\">\n",
              "      <th></th>\n",
              "      <th>id_produit</th>\n",
              "      <th>date</th>\n",
              "      <th>prix_unitaire</th>\n",
              "      <th>jour_ferie</th>\n",
              "      <th>weekend</th>\n",
              "      <th>stock_disponible</th>\n",
              "      <th>categorie_Alimentaire</th>\n",
              "      <th>categorie_Habillement</th>\n",
              "      <th>categorie_Électronique</th>\n",
              "      <th>marque_Adidas</th>\n",
              "      <th>...</th>\n",
              "      <th>condition_meteo_Neigeux</th>\n",
              "      <th>condition_meteo_Nuageux</th>\n",
              "      <th>condition_meteo_Orageux</th>\n",
              "      <th>condition_meteo_Pluie</th>\n",
              "      <th>region_Périurbain</th>\n",
              "      <th>region_Rural</th>\n",
              "      <th>region_Urbain</th>\n",
              "      <th>moment_journee_Après-midi</th>\n",
              "      <th>moment_journee_Matinée</th>\n",
              "      <th>moment_journee_Soirée</th>\n",
              "    </tr>\n",
              "  </thead>\n",
              "  <tbody>\n",
              "    <tr>\n",
              "      <th>0</th>\n",
              "      <td>ALI-072024-023</td>\n",
              "      <td>2024-11-01</td>\n",
              "      <td>10692.72</td>\n",
              "      <td>1</td>\n",
              "      <td>0</td>\n",
              "      <td>168</td>\n",
              "      <td>1</td>\n",
              "      <td>0</td>\n",
              "      <td>0</td>\n",
              "      <td>0</td>\n",
              "      <td>...</td>\n",
              "      <td>0</td>\n",
              "      <td>0</td>\n",
              "      <td>1</td>\n",
              "      <td>0</td>\n",
              "      <td>0</td>\n",
              "      <td>0</td>\n",
              "      <td>1</td>\n",
              "      <td>0</td>\n",
              "      <td>1</td>\n",
              "      <td>0</td>\n",
              "    </tr>\n",
              "  </tbody>\n",
              "</table>\n",
              "<p>1 rows × 37 columns</p>\n",
              "</div>\n",
              "    <div class=\"colab-df-buttons\">\n",
              "\n",
              "  <div class=\"colab-df-container\">\n",
              "    <button class=\"colab-df-convert\" onclick=\"convertToInteractive('df-1284615a-770d-4269-b7b2-20aad858e4b0')\"\n",
              "            title=\"Convert this dataframe to an interactive table.\"\n",
              "            style=\"display:none;\">\n",
              "\n",
              "  <svg xmlns=\"http://www.w3.org/2000/svg\" height=\"24px\" viewBox=\"0 -960 960 960\">\n",
              "    <path d=\"M120-120v-720h720v720H120Zm60-500h600v-160H180v160Zm220 220h160v-160H400v160Zm0 220h160v-160H400v160ZM180-400h160v-160H180v160Zm440 0h160v-160H620v160ZM180-180h160v-160H180v160Zm440 0h160v-160H620v160Z\"/>\n",
              "  </svg>\n",
              "    </button>\n",
              "\n",
              "  <style>\n",
              "    .colab-df-container {\n",
              "      display:flex;\n",
              "      gap: 12px;\n",
              "    }\n",
              "\n",
              "    .colab-df-convert {\n",
              "      background-color: #E8F0FE;\n",
              "      border: none;\n",
              "      border-radius: 50%;\n",
              "      cursor: pointer;\n",
              "      display: none;\n",
              "      fill: #1967D2;\n",
              "      height: 32px;\n",
              "      padding: 0 0 0 0;\n",
              "      width: 32px;\n",
              "    }\n",
              "\n",
              "    .colab-df-convert:hover {\n",
              "      background-color: #E2EBFA;\n",
              "      box-shadow: 0px 1px 2px rgba(60, 64, 67, 0.3), 0px 1px 3px 1px rgba(60, 64, 67, 0.15);\n",
              "      fill: #174EA6;\n",
              "    }\n",
              "\n",
              "    .colab-df-buttons div {\n",
              "      margin-bottom: 4px;\n",
              "    }\n",
              "\n",
              "    [theme=dark] .colab-df-convert {\n",
              "      background-color: #3B4455;\n",
              "      fill: #D2E3FC;\n",
              "    }\n",
              "\n",
              "    [theme=dark] .colab-df-convert:hover {\n",
              "      background-color: #434B5C;\n",
              "      box-shadow: 0px 1px 3px 1px rgba(0, 0, 0, 0.15);\n",
              "      filter: drop-shadow(0px 1px 2px rgba(0, 0, 0, 0.3));\n",
              "      fill: #FFFFFF;\n",
              "    }\n",
              "  </style>\n",
              "\n",
              "    <script>\n",
              "      const buttonEl =\n",
              "        document.querySelector('#df-1284615a-770d-4269-b7b2-20aad858e4b0 button.colab-df-convert');\n",
              "      buttonEl.style.display =\n",
              "        google.colab.kernel.accessAllowed ? 'block' : 'none';\n",
              "\n",
              "      async function convertToInteractive(key) {\n",
              "        const element = document.querySelector('#df-1284615a-770d-4269-b7b2-20aad858e4b0');\n",
              "        const dataTable =\n",
              "          await google.colab.kernel.invokeFunction('convertToInteractive',\n",
              "                                                    [key], {});\n",
              "        if (!dataTable) return;\n",
              "\n",
              "        const docLinkHtml = 'Like what you see? Visit the ' +\n",
              "          '<a target=\"_blank\" href=https://colab.research.google.com/notebooks/data_table.ipynb>data table notebook</a>'\n",
              "          + ' to learn more about interactive tables.';\n",
              "        element.innerHTML = '';\n",
              "        dataTable['output_type'] = 'display_data';\n",
              "        await google.colab.output.renderOutput(dataTable, element);\n",
              "        const docLink = document.createElement('div');\n",
              "        docLink.innerHTML = docLinkHtml;\n",
              "        element.appendChild(docLink);\n",
              "      }\n",
              "    </script>\n",
              "  </div>\n",
              "\n",
              "\n",
              "    </div>\n",
              "  </div>\n"
            ],
            "application/vnd.google.colaboratory.intrinsic+json": {
              "type": "dataframe",
              "variable_name": "sub_data"
            }
          },
          "metadata": {},
          "execution_count": 273
        }
      ]
    },
    {
      "cell_type": "code",
      "source": [
        "train_data.head(1)"
      ],
      "metadata": {
        "colab": {
          "base_uri": "https://localhost:8080/",
          "height": 165
        },
        "id": "F0N6r9SbEd84",
        "outputId": "6a5bfd94-0018-4d60-bd93-4bd196c89c82"
      },
      "execution_count": 274,
      "outputs": [
        {
          "output_type": "execute_result",
          "data": {
            "text/plain": [
              "       id_produit       date  prix_unitaire  jour_ferie  weekend  \\\n",
              "0  HAB-102024-024 2022-01-01       31247.38         0.0      1.0   \n",
              "\n",
              "   stock_disponible  quantite_vendue  categorie_Alimentaire  \\\n",
              "0              37.0              NaN                      0   \n",
              "\n",
              "   categorie_Habillement  categorie_Électronique  ...  \\\n",
              "0                      1                       0  ...   \n",
              "\n",
              "   condition_meteo_Neigeux  condition_meteo_Nuageux  condition_meteo_Orageux  \\\n",
              "0                        1                        0                        0   \n",
              "\n",
              "   condition_meteo_Pluie  region_Périurbain  region_Rural  region_Urbain  \\\n",
              "0                      0                  0             0              1   \n",
              "\n",
              "   moment_journee_Après-midi  moment_journee_Matinée  moment_journee_Soirée  \n",
              "0                          0                       0                      1  \n",
              "\n",
              "[1 rows x 38 columns]"
            ],
            "text/html": [
              "\n",
              "  <div id=\"df-1e83abdc-f41c-44ab-bbe3-24925686781c\" class=\"colab-df-container\">\n",
              "    <div>\n",
              "<style scoped>\n",
              "    .dataframe tbody tr th:only-of-type {\n",
              "        vertical-align: middle;\n",
              "    }\n",
              "\n",
              "    .dataframe tbody tr th {\n",
              "        vertical-align: top;\n",
              "    }\n",
              "\n",
              "    .dataframe thead th {\n",
              "        text-align: right;\n",
              "    }\n",
              "</style>\n",
              "<table border=\"1\" class=\"dataframe\">\n",
              "  <thead>\n",
              "    <tr style=\"text-align: right;\">\n",
              "      <th></th>\n",
              "      <th>id_produit</th>\n",
              "      <th>date</th>\n",
              "      <th>prix_unitaire</th>\n",
              "      <th>jour_ferie</th>\n",
              "      <th>weekend</th>\n",
              "      <th>stock_disponible</th>\n",
              "      <th>quantite_vendue</th>\n",
              "      <th>categorie_Alimentaire</th>\n",
              "      <th>categorie_Habillement</th>\n",
              "      <th>categorie_Électronique</th>\n",
              "      <th>...</th>\n",
              "      <th>condition_meteo_Neigeux</th>\n",
              "      <th>condition_meteo_Nuageux</th>\n",
              "      <th>condition_meteo_Orageux</th>\n",
              "      <th>condition_meteo_Pluie</th>\n",
              "      <th>region_Périurbain</th>\n",
              "      <th>region_Rural</th>\n",
              "      <th>region_Urbain</th>\n",
              "      <th>moment_journee_Après-midi</th>\n",
              "      <th>moment_journee_Matinée</th>\n",
              "      <th>moment_journee_Soirée</th>\n",
              "    </tr>\n",
              "  </thead>\n",
              "  <tbody>\n",
              "    <tr>\n",
              "      <th>0</th>\n",
              "      <td>HAB-102024-024</td>\n",
              "      <td>2022-01-01</td>\n",
              "      <td>31247.38</td>\n",
              "      <td>0.0</td>\n",
              "      <td>1.0</td>\n",
              "      <td>37.0</td>\n",
              "      <td>NaN</td>\n",
              "      <td>0</td>\n",
              "      <td>1</td>\n",
              "      <td>0</td>\n",
              "      <td>...</td>\n",
              "      <td>1</td>\n",
              "      <td>0</td>\n",
              "      <td>0</td>\n",
              "      <td>0</td>\n",
              "      <td>0</td>\n",
              "      <td>0</td>\n",
              "      <td>1</td>\n",
              "      <td>0</td>\n",
              "      <td>0</td>\n",
              "      <td>1</td>\n",
              "    </tr>\n",
              "  </tbody>\n",
              "</table>\n",
              "<p>1 rows × 38 columns</p>\n",
              "</div>\n",
              "    <div class=\"colab-df-buttons\">\n",
              "\n",
              "  <div class=\"colab-df-container\">\n",
              "    <button class=\"colab-df-convert\" onclick=\"convertToInteractive('df-1e83abdc-f41c-44ab-bbe3-24925686781c')\"\n",
              "            title=\"Convert this dataframe to an interactive table.\"\n",
              "            style=\"display:none;\">\n",
              "\n",
              "  <svg xmlns=\"http://www.w3.org/2000/svg\" height=\"24px\" viewBox=\"0 -960 960 960\">\n",
              "    <path d=\"M120-120v-720h720v720H120Zm60-500h600v-160H180v160Zm220 220h160v-160H400v160Zm0 220h160v-160H400v160ZM180-400h160v-160H180v160Zm440 0h160v-160H620v160ZM180-180h160v-160H180v160Zm440 0h160v-160H620v160Z\"/>\n",
              "  </svg>\n",
              "    </button>\n",
              "\n",
              "  <style>\n",
              "    .colab-df-container {\n",
              "      display:flex;\n",
              "      gap: 12px;\n",
              "    }\n",
              "\n",
              "    .colab-df-convert {\n",
              "      background-color: #E8F0FE;\n",
              "      border: none;\n",
              "      border-radius: 50%;\n",
              "      cursor: pointer;\n",
              "      display: none;\n",
              "      fill: #1967D2;\n",
              "      height: 32px;\n",
              "      padding: 0 0 0 0;\n",
              "      width: 32px;\n",
              "    }\n",
              "\n",
              "    .colab-df-convert:hover {\n",
              "      background-color: #E2EBFA;\n",
              "      box-shadow: 0px 1px 2px rgba(60, 64, 67, 0.3), 0px 1px 3px 1px rgba(60, 64, 67, 0.15);\n",
              "      fill: #174EA6;\n",
              "    }\n",
              "\n",
              "    .colab-df-buttons div {\n",
              "      margin-bottom: 4px;\n",
              "    }\n",
              "\n",
              "    [theme=dark] .colab-df-convert {\n",
              "      background-color: #3B4455;\n",
              "      fill: #D2E3FC;\n",
              "    }\n",
              "\n",
              "    [theme=dark] .colab-df-convert:hover {\n",
              "      background-color: #434B5C;\n",
              "      box-shadow: 0px 1px 3px 1px rgba(0, 0, 0, 0.15);\n",
              "      filter: drop-shadow(0px 1px 2px rgba(0, 0, 0, 0.3));\n",
              "      fill: #FFFFFF;\n",
              "    }\n",
              "  </style>\n",
              "\n",
              "    <script>\n",
              "      const buttonEl =\n",
              "        document.querySelector('#df-1e83abdc-f41c-44ab-bbe3-24925686781c button.colab-df-convert');\n",
              "      buttonEl.style.display =\n",
              "        google.colab.kernel.accessAllowed ? 'block' : 'none';\n",
              "\n",
              "      async function convertToInteractive(key) {\n",
              "        const element = document.querySelector('#df-1e83abdc-f41c-44ab-bbe3-24925686781c');\n",
              "        const dataTable =\n",
              "          await google.colab.kernel.invokeFunction('convertToInteractive',\n",
              "                                                    [key], {});\n",
              "        if (!dataTable) return;\n",
              "\n",
              "        const docLinkHtml = 'Like what you see? Visit the ' +\n",
              "          '<a target=\"_blank\" href=https://colab.research.google.com/notebooks/data_table.ipynb>data table notebook</a>'\n",
              "          + ' to learn more about interactive tables.';\n",
              "        element.innerHTML = '';\n",
              "        dataTable['output_type'] = 'display_data';\n",
              "        await google.colab.output.renderOutput(dataTable, element);\n",
              "        const docLink = document.createElement('div');\n",
              "        docLink.innerHTML = docLinkHtml;\n",
              "        element.appendChild(docLink);\n",
              "      }\n",
              "    </script>\n",
              "  </div>\n",
              "\n",
              "\n",
              "    </div>\n",
              "  </div>\n"
            ],
            "application/vnd.google.colaboratory.intrinsic+json": {
              "type": "dataframe",
              "variable_name": "train_data"
            }
          },
          "metadata": {},
          "execution_count": 274
        }
      ]
    },
    {
      "cell_type": "code",
      "source": [
        "train_data.shape,sub_data.shape"
      ],
      "metadata": {
        "colab": {
          "base_uri": "https://localhost:8080/"
        },
        "id": "nQ_N_QAiJBAo",
        "outputId": "0ee7cab0-fcaf-41a3-ca3f-0b519ae403ff"
      },
      "execution_count": 275,
      "outputs": [
        {
          "output_type": "execute_result",
          "data": {
            "text/plain": [
              "((83047, 38), (2576, 37))"
            ]
          },
          "metadata": {},
          "execution_count": 275
        }
      ]
    },
    {
      "cell_type": "code",
      "source": [
        "100*train_data.isnull().sum()/train_data.isnull().sum().sum()"
      ],
      "metadata": {
        "colab": {
          "base_uri": "https://localhost:8080/",
          "height": 1000
        },
        "id": "1gS6deHiHRle",
        "outputId": "3d64254d-d77d-4b06-efbe-3ec1f3ac2467"
      },
      "execution_count": 276,
      "outputs": [
        {
          "output_type": "execute_result",
          "data": {
            "text/plain": [
              "id_produit                    27.549217\n",
              "date                           0.000000\n",
              "prix_unitaire                 10.811923\n",
              "jour_ferie                     0.000000\n",
              "weekend                        0.000000\n",
              "stock_disponible              34.016999\n",
              "quantite_vendue               27.621861\n",
              "categorie_Alimentaire          0.000000\n",
              "categorie_Habillement          0.000000\n",
              "categorie_Électronique         0.000000\n",
              "marque_Adidas                  0.000000\n",
              "marque_Apple                   0.000000\n",
              "marque_Coca-Cola               0.000000\n",
              "marque_Danone                  0.000000\n",
              "marque_H&M                     0.000000\n",
              "marque_Huawei                  0.000000\n",
              "marque_Kellogg's               0.000000\n",
              "marque_LG                      0.000000\n",
              "marque_Levi's                  0.000000\n",
              "marque_Nestlé                  0.000000\n",
              "marque_Nike                    0.000000\n",
              "marque_Samsung                 0.000000\n",
              "marque_Sony                    0.000000\n",
              "marque_Unilever                0.000000\n",
              "marque_Zara                    0.000000\n",
              "promotion_0.0                  0.000000\n",
              "promotion_1.0                  0.000000\n",
              "condition_meteo_Ensoleillé     0.000000\n",
              "condition_meteo_Neigeux        0.000000\n",
              "condition_meteo_Nuageux        0.000000\n",
              "condition_meteo_Orageux        0.000000\n",
              "condition_meteo_Pluie          0.000000\n",
              "region_Périurbain              0.000000\n",
              "region_Rural                   0.000000\n",
              "region_Urbain                  0.000000\n",
              "moment_journee_Après-midi      0.000000\n",
              "moment_journee_Matinée         0.000000\n",
              "moment_journee_Soirée          0.000000\n",
              "dtype: float64"
            ],
            "text/html": [
              "<div>\n",
              "<style scoped>\n",
              "    .dataframe tbody tr th:only-of-type {\n",
              "        vertical-align: middle;\n",
              "    }\n",
              "\n",
              "    .dataframe tbody tr th {\n",
              "        vertical-align: top;\n",
              "    }\n",
              "\n",
              "    .dataframe thead th {\n",
              "        text-align: right;\n",
              "    }\n",
              "</style>\n",
              "<table border=\"1\" class=\"dataframe\">\n",
              "  <thead>\n",
              "    <tr style=\"text-align: right;\">\n",
              "      <th></th>\n",
              "      <th>0</th>\n",
              "    </tr>\n",
              "  </thead>\n",
              "  <tbody>\n",
              "    <tr>\n",
              "      <th>id_produit</th>\n",
              "      <td>27.549217</td>\n",
              "    </tr>\n",
              "    <tr>\n",
              "      <th>date</th>\n",
              "      <td>0.000000</td>\n",
              "    </tr>\n",
              "    <tr>\n",
              "      <th>prix_unitaire</th>\n",
              "      <td>10.811923</td>\n",
              "    </tr>\n",
              "    <tr>\n",
              "      <th>jour_ferie</th>\n",
              "      <td>0.000000</td>\n",
              "    </tr>\n",
              "    <tr>\n",
              "      <th>weekend</th>\n",
              "      <td>0.000000</td>\n",
              "    </tr>\n",
              "    <tr>\n",
              "      <th>stock_disponible</th>\n",
              "      <td>34.016999</td>\n",
              "    </tr>\n",
              "    <tr>\n",
              "      <th>quantite_vendue</th>\n",
              "      <td>27.621861</td>\n",
              "    </tr>\n",
              "    <tr>\n",
              "      <th>categorie_Alimentaire</th>\n",
              "      <td>0.000000</td>\n",
              "    </tr>\n",
              "    <tr>\n",
              "      <th>categorie_Habillement</th>\n",
              "      <td>0.000000</td>\n",
              "    </tr>\n",
              "    <tr>\n",
              "      <th>categorie_Électronique</th>\n",
              "      <td>0.000000</td>\n",
              "    </tr>\n",
              "    <tr>\n",
              "      <th>marque_Adidas</th>\n",
              "      <td>0.000000</td>\n",
              "    </tr>\n",
              "    <tr>\n",
              "      <th>marque_Apple</th>\n",
              "      <td>0.000000</td>\n",
              "    </tr>\n",
              "    <tr>\n",
              "      <th>marque_Coca-Cola</th>\n",
              "      <td>0.000000</td>\n",
              "    </tr>\n",
              "    <tr>\n",
              "      <th>marque_Danone</th>\n",
              "      <td>0.000000</td>\n",
              "    </tr>\n",
              "    <tr>\n",
              "      <th>marque_H&amp;M</th>\n",
              "      <td>0.000000</td>\n",
              "    </tr>\n",
              "    <tr>\n",
              "      <th>marque_Huawei</th>\n",
              "      <td>0.000000</td>\n",
              "    </tr>\n",
              "    <tr>\n",
              "      <th>marque_Kellogg's</th>\n",
              "      <td>0.000000</td>\n",
              "    </tr>\n",
              "    <tr>\n",
              "      <th>marque_LG</th>\n",
              "      <td>0.000000</td>\n",
              "    </tr>\n",
              "    <tr>\n",
              "      <th>marque_Levi's</th>\n",
              "      <td>0.000000</td>\n",
              "    </tr>\n",
              "    <tr>\n",
              "      <th>marque_Nestlé</th>\n",
              "      <td>0.000000</td>\n",
              "    </tr>\n",
              "    <tr>\n",
              "      <th>marque_Nike</th>\n",
              "      <td>0.000000</td>\n",
              "    </tr>\n",
              "    <tr>\n",
              "      <th>marque_Samsung</th>\n",
              "      <td>0.000000</td>\n",
              "    </tr>\n",
              "    <tr>\n",
              "      <th>marque_Sony</th>\n",
              "      <td>0.000000</td>\n",
              "    </tr>\n",
              "    <tr>\n",
              "      <th>marque_Unilever</th>\n",
              "      <td>0.000000</td>\n",
              "    </tr>\n",
              "    <tr>\n",
              "      <th>marque_Zara</th>\n",
              "      <td>0.000000</td>\n",
              "    </tr>\n",
              "    <tr>\n",
              "      <th>promotion_0.0</th>\n",
              "      <td>0.000000</td>\n",
              "    </tr>\n",
              "    <tr>\n",
              "      <th>promotion_1.0</th>\n",
              "      <td>0.000000</td>\n",
              "    </tr>\n",
              "    <tr>\n",
              "      <th>condition_meteo_Ensoleillé</th>\n",
              "      <td>0.000000</td>\n",
              "    </tr>\n",
              "    <tr>\n",
              "      <th>condition_meteo_Neigeux</th>\n",
              "      <td>0.000000</td>\n",
              "    </tr>\n",
              "    <tr>\n",
              "      <th>condition_meteo_Nuageux</th>\n",
              "      <td>0.000000</td>\n",
              "    </tr>\n",
              "    <tr>\n",
              "      <th>condition_meteo_Orageux</th>\n",
              "      <td>0.000000</td>\n",
              "    </tr>\n",
              "    <tr>\n",
              "      <th>condition_meteo_Pluie</th>\n",
              "      <td>0.000000</td>\n",
              "    </tr>\n",
              "    <tr>\n",
              "      <th>region_Périurbain</th>\n",
              "      <td>0.000000</td>\n",
              "    </tr>\n",
              "    <tr>\n",
              "      <th>region_Rural</th>\n",
              "      <td>0.000000</td>\n",
              "    </tr>\n",
              "    <tr>\n",
              "      <th>region_Urbain</th>\n",
              "      <td>0.000000</td>\n",
              "    </tr>\n",
              "    <tr>\n",
              "      <th>moment_journee_Après-midi</th>\n",
              "      <td>0.000000</td>\n",
              "    </tr>\n",
              "    <tr>\n",
              "      <th>moment_journee_Matinée</th>\n",
              "      <td>0.000000</td>\n",
              "    </tr>\n",
              "    <tr>\n",
              "      <th>moment_journee_Soirée</th>\n",
              "      <td>0.000000</td>\n",
              "    </tr>\n",
              "  </tbody>\n",
              "</table>\n",
              "</div><br><label><b>dtype:</b> float64</label>"
            ]
          },
          "metadata": {},
          "execution_count": 276
        }
      ]
    },
    {
      "cell_type": "markdown",
      "source": [
        "Etude des valeurs manquantes et aberantes"
      ],
      "metadata": {
        "id": "Wqergk9oP1c4"
      }
    },
    {
      "cell_type": "code",
      "source": [
        "train_data.boxplot(column=['prix_unitaire','quantite_vendue','stock_disponible'])\n",
        "plt.title(\"Distribution des variables quantitatives\")\n",
        "plt.show()"
      ],
      "metadata": {
        "colab": {
          "base_uri": "https://localhost:8080/",
          "height": 452
        },
        "id": "qWPwNqnePpJM",
        "outputId": "d00e9e3d-3306-4962-d23b-7140ac6420c0"
      },
      "execution_count": 277,
      "outputs": [
        {
          "output_type": "display_data",
          "data": {
            "text/plain": [
              "<Figure size 640x480 with 1 Axes>"
            ],
            "image/png": "[encoded data removed]"
          },
          "metadata": {}
        }
      ]
    },
    {
      "cell_type": "markdown",
      "source": [
        "Valeur manquante"
      ],
      "metadata": {
        "id": "9gMt76mBSKjX"
      }
    },
    {
      "cell_type": "code",
      "source": [
        "na = train_data.isna().sum()/train_data.shape[0]*100 #calcul du pourcentage de valeurs manquantes par variable\n",
        "\n",
        "px.bar(na.sort_values(),\n",
        "         title = \"Pourcentage de valeurs manquantes par variable\",\n",
        "         color_discrete_sequence = [\"#377eb8\"],\n",
        "         template='ggplot2',\n",
        "         range_y = [0,100],\n",
        "         width=800,\n",
        "         labels={'value':'%', 'index':''},\n",
        "         color=None\n",
        "        ).update_traces(showlegend=False).update_xaxes(tickangle=45)"
      ],
      "metadata": {
        "colab": {
          "base_uri": "https://localhost:8080/",
          "height": 562
        },
        "id": "pxWobK5gSNKn",
        "outputId": "d7916aee-5416-4526-e2cd-c826236e7014"
      },
      "execution_count": 278,
      "outputs": [
        {
          "output_type": "display_data",
          "data": {
            "text/html": [
              "<html>\n",
              "<head><meta charset=\"utf-8\" /></head>\n",
              "<body>\n",
              "    <div>            <script src=\"https://cdnjs.cloudflare.com/ajax/libs/mathjax/2.7.5/MathJax.js?config=TeX-AMS-MML_SVG\"></script><script type=\"text/javascript\">if (window.MathJax && window.MathJax.Hub && window.MathJax.Hub.Config) {window.MathJax.Hub.Config({SVG: {font: \"STIX-Web\"}});}</script>                <script type=\"text/javascript\">window.PlotlyConfig = {MathJaxConfig: 'local'};</script>\n",
              "        <script charset=\"utf-8\" src=\"https://cdn.plot.ly/plotly-2.35.2.min.js\"></script>                <div id=\"ccaac6c1-4d9e-4d9b-b020-8806ef780286\" class=\"plotly-graph-div\" style=\"height:525px; width:800px;\"></div>            <script type=\"text/javascript\">                                    window.PLOTLYENV=window.PLOTLYENV || {};                                    if (document.getElementById(\"ccaac6c1-4d9e-4d9b-b020-8806ef780286\")) {                    Plotly.newPlot(                        \"ccaac6c1-4d9e-4d9b-b020-8806ef780286\",                        [{\"alignmentgroup\":\"True\",\"hovertemplate\":\"variable=0\\u003cbr\\u003e=%{x}\\u003cbr\\u003e%=%{y}\\u003cextra\\u003e\\u003c\\u002fextra\\u003e\",\"legendgroup\":\"0\",\"marker\":{\"color\":\"#377eb8\",\"pattern\":{\"shape\":\"\"}},\"name\":\"0\",\"offsetgroup\":\"0\",\"orientation\":\"v\",\"showlegend\":false,\"textposition\":\"auto\",\"x\":[\"marque_Levi's\",\"marque_Samsung\",\"marque_Sony\",\"marque_Unilever\",\"marque_Zara\",\"promotion_0.0\",\"promotion_1.0\",\"condition_meteo_Ensoleillé\",\"condition_meteo_Neigeux\",\"condition_meteo_Nuageux\",\"condition_meteo_Orageux\",\"condition_meteo_Pluie\",\"region_Périurbain\",\"region_Rural\",\"region_Urbain\",\"moment_journee_Après-midi\",\"marque_Nike\",\"marque_Nestlé\",\"moment_journee_Soirée\",\"marque_LG\",\"date\",\"jour_ferie\",\"weekend\",\"categorie_Alimentaire\",\"moment_journee_Matinée\",\"categorie_Électronique\",\"categorie_Habillement\",\"marque_Apple\",\"marque_Coca-Cola\",\"marque_Danone\",\"marque_H&M\",\"marque_Huawei\",\"marque_Kellogg's\",\"marque_Adidas\",\"prix_unitaire\",\"id_produit\",\"quantite_vendue\",\"stock_disponible\"],\"xaxis\":\"x\",\"y\":[0.0,0.0,0.0,0.0,0.0,0.0,0.0,0.0,0.0,0.0,0.0,0.0,0.0,0.0,0.0,0.0,0.0,0.0,0.0,0.0,0.0,0.0,0.0,0.0,0.0,0.0,0.0,0.0,0.0,0.0,0.0,0.0,0.0,0.0,5.376473563163028,13.699471383674306,13.735595506159163,16.915722422242826],\"yaxis\":\"y\",\"type\":\"bar\"}],                        {\"template\":{\"data\":{\"barpolar\":[{\"marker\":{\"line\":{\"color\":\"rgb(237,237,237)\",\"width\":0.5},\"pattern\":{\"fillmode\":\"overlay\",\"size\":10,\"solidity\":0.2}},\"type\":\"barpolar\"}],\"bar\":[{\"error_x\":{\"color\":\"rgb(51,51,51)\"},\"error_y\":{\"color\":\"rgb(51,51,51)\"},\"marker\":{\"line\":{\"color\":\"rgb(237,237,237)\",\"width\":0.5},\"pattern\":{\"fillmode\":\"overlay\",\"size\":10,\"solidity\":0.2}},\"type\":\"bar\"}],\"carpet\":[{\"aaxis\":{\"endlinecolor\":\"rgb(51,51,51)\",\"gridcolor\":\"white\",\"linecolor\":\"white\",\"minorgridcolor\":\"white\",\"startlinecolor\":\"rgb(51,51,51)\"},\"baxis\":{\"endlinecolor\":\"rgb(51,51,51)\",\"gridcolor\":\"white\",\"linecolor\":\"white\",\"minorgridcolor\":\"white\",\"startlinecolor\":\"rgb(51,51,51)\"},\"type\":\"carpet\"}],\"choropleth\":[{\"colorbar\":{\"outlinewidth\":0,\"tickcolor\":\"rgb(237,237,237)\",\"ticklen\":6,\"ticks\":\"inside\"},\"type\":\"choropleth\"}],\"contourcarpet\":[{\"colorbar\":{\"outlinewidth\":0,\"tickcolor\":\"rgb(237,237,237)\",\"ticklen\":6,\"ticks\":\"inside\"},\"type\":\"contourcarpet\"}],\"contour\":[{\"colorbar\":{\"outlinewidth\":0,\"tickcolor\":\"rgb(237,237,237)\",\"ticklen\":6,\"ticks\":\"inside\"},\"colorscale\":[[0,\"rgb(20,44,66)\"],[1,\"rgb(90,179,244)\"]],\"type\":\"contour\"}],\"heatmapgl\":[{\"colorbar\":{\"outlinewidth\":0,\"tickcolor\":\"rgb(237,237,237)\",\"ticklen\":6,\"ticks\":\"inside\"},\"colorscale\":[[0,\"rgb(20,44,66)\"],[1,\"rgb(90,179,244)\"]],\"type\":\"heatmapgl\"}],\"heatmap\":[{\"colorbar\":{\"outlinewidth\":0,\"tickcolor\":\"rgb(237,237,237)\",\"ticklen\":6,\"ticks\":\"inside\"},\"colorscale\":[[0,\"rgb(20,44,66)\"],[1,\"rgb(90,179,244)\"]],\"type\":\"heatmap\"}],\"histogram2dcontour\":[{\"colorbar\":{\"outlinewidth\":0,\"tickcolor\":\"rgb(237,237,237)\",\"ticklen\":6,\"ticks\":\"inside\"},\"colorscale\":[[0,\"rgb(20,44,66)\"],[1,\"rgb(90,179,244)\"]],\"type\":\"histogram2dcontour\"}],\"histogram2d\":[{\"colorbar\":{\"outlinewidth\":0,\"tickcolor\":\"rgb(237,237,237)\",\"ticklen\":6,\"ticks\":\"inside\"},\"colorscale\":[[0,\"rgb(20,44,66)\"],[1,\"rgb(90,179,244)\"]],\"type\":\"histogram2d\"}],\"histogram\":[{\"marker\":{\"pattern\":{\"fillmode\":\"overlay\",\"size\":10,\"solidity\":0.2}},\"type\":\"histogram\"}],\"mesh3d\":[{\"colorbar\":{\"outlinewidth\":0,\"tickcolor\":\"rgb(237,237,237)\",\"ticklen\":6,\"ticks\":\"inside\"},\"type\":\"mesh3d\"}],\"parcoords\":[{\"line\":{\"colorbar\":{\"outlinewidth\":0,\"tickcolor\":\"rgb(237,237,237)\",\"ticklen\":6,\"ticks\":\"inside\"}},\"type\":\"parcoords\"}],\"pie\":[{\"automargin\":true,\"type\":\"pie\"}],\"scatter3d\":[{\"line\":{\"colorbar\":{\"outlinewidth\":0,\"tickcolor\":\"rgb(237,237,237)\",\"ticklen\":6,\"ticks\":\"inside\"}},\"marker\":{\"colorbar\":{\"outlinewidth\":0,\"tickcolor\":\"rgb(237,237,237)\",\"ticklen\":6,\"ticks\":\"inside\"}},\"type\":\"scatter3d\"}],\"scattercarpet\":[{\"marker\":{\"colorbar\":{\"outlinewidth\":0,\"tickcolor\":\"rgb(237,237,237)\",\"ticklen\":6,\"ticks\":\"inside\"}},\"type\":\"scattercarpet\"}],\"scattergeo\":[{\"marker\":{\"colorbar\":{\"outlinewidth\":0,\"tickcolor\":\"rgb(237,237,237)\",\"ticklen\":6,\"ticks\":\"inside\"}},\"type\":\"scattergeo\"}],\"scattergl\":[{\"marker\":{\"colorbar\":{\"outlinewidth\":0,\"tickcolor\":\"rgb(237,237,237)\",\"ticklen\":6,\"ticks\":\"inside\"}},\"type\":\"scattergl\"}],\"scattermapbox\":[{\"marker\":{\"colorbar\":{\"outlinewidth\":0,\"tickcolor\":\"rgb(237,237,237)\",\"ticklen\":6,\"ticks\":\"inside\"}},\"type\":\"scattermapbox\"}],\"scatterpolargl\":[{\"marker\":{\"colorbar\":{\"outlinewidth\":0,\"tickcolor\":\"rgb(237,237,237)\",\"ticklen\":6,\"ticks\":\"inside\"}},\"type\":\"scatterpolargl\"}],\"scatterpolar\":[{\"marker\":{\"colorbar\":{\"outlinewidth\":0,\"tickcolor\":\"rgb(237,237,237)\",\"ticklen\":6,\"ticks\":\"inside\"}},\"type\":\"scatterpolar\"}],\"scatter\":[{\"fillpattern\":{\"fillmode\":\"overlay\",\"size\":10,\"solidity\":0.2},\"type\":\"scatter\"}],\"scatterternary\":[{\"marker\":{\"colorbar\":{\"outlinewidth\":0,\"tickcolor\":\"rgb(237,237,237)\",\"ticklen\":6,\"ticks\":\"inside\"}},\"type\":\"scatterternary\"}],\"surface\":[{\"colorbar\":{\"outlinewidth\":0,\"tickcolor\":\"rgb(237,237,237)\",\"ticklen\":6,\"ticks\":\"inside\"},\"colorscale\":[[0,\"rgb(20,44,66)\"],[1,\"rgb(90,179,244)\"]],\"type\":\"surface\"}],\"table\":[{\"cells\":{\"fill\":{\"color\":\"rgb(237,237,237)\"},\"line\":{\"color\":\"white\"}},\"header\":{\"fill\":{\"color\":\"rgb(217,217,217)\"},\"line\":{\"color\":\"white\"}},\"type\":\"table\"}]},\"layout\":{\"annotationdefaults\":{\"arrowhead\":0,\"arrowwidth\":1},\"autotypenumbers\":\"strict\",\"coloraxis\":{\"colorbar\":{\"outlinewidth\":0,\"tickcolor\":\"rgb(237,237,237)\",\"ticklen\":6,\"ticks\":\"inside\"}},\"colorscale\":{\"sequential\":[[0,\"rgb(20,44,66)\"],[1,\"rgb(90,179,244)\"]],\"sequentialminus\":[[0,\"rgb(20,44,66)\"],[1,\"rgb(90,179,244)\"]]},\"colorway\":[\"#F8766D\",\"#A3A500\",\"#00BF7D\",\"#00B0F6\",\"#E76BF3\"],\"font\":{\"color\":\"rgb(51,51,51)\"},\"geo\":{\"bgcolor\":\"white\",\"lakecolor\":\"white\",\"landcolor\":\"rgb(237,237,237)\",\"showlakes\":true,\"showland\":true,\"subunitcolor\":\"white\"},\"hoverlabel\":{\"align\":\"left\"},\"hovermode\":\"closest\",\"paper_bgcolor\":\"white\",\"plot_bgcolor\":\"rgb(237,237,237)\",\"polar\":{\"angularaxis\":{\"gridcolor\":\"white\",\"linecolor\":\"white\",\"showgrid\":true,\"tickcolor\":\"rgb(51,51,51)\",\"ticks\":\"outside\"},\"bgcolor\":\"rgb(237,237,237)\",\"radialaxis\":{\"gridcolor\":\"white\",\"linecolor\":\"white\",\"showgrid\":true,\"tickcolor\":\"rgb(51,51,51)\",\"ticks\":\"outside\"}},\"scene\":{\"xaxis\":{\"backgroundcolor\":\"rgb(237,237,237)\",\"gridcolor\":\"white\",\"gridwidth\":2,\"linecolor\":\"white\",\"showbackground\":true,\"showgrid\":true,\"tickcolor\":\"rgb(51,51,51)\",\"ticks\":\"outside\",\"zerolinecolor\":\"white\"},\"yaxis\":{\"backgroundcolor\":\"rgb(237,237,237)\",\"gridcolor\":\"white\",\"gridwidth\":2,\"linecolor\":\"white\",\"showbackground\":true,\"showgrid\":true,\"tickcolor\":\"rgb(51,51,51)\",\"ticks\":\"outside\",\"zerolinecolor\":\"white\"},\"zaxis\":{\"backgroundcolor\":\"rgb(237,237,237)\",\"gridcolor\":\"white\",\"gridwidth\":2,\"linecolor\":\"white\",\"showbackground\":true,\"showgrid\":true,\"tickcolor\":\"rgb(51,51,51)\",\"ticks\":\"outside\",\"zerolinecolor\":\"white\"}},\"shapedefaults\":{\"fillcolor\":\"black\",\"line\":{\"width\":0},\"opacity\":0.3},\"ternary\":{\"aaxis\":{\"gridcolor\":\"white\",\"linecolor\":\"white\",\"showgrid\":true,\"tickcolor\":\"rgb(51,51,51)\",\"ticks\":\"outside\"},\"baxis\":{\"gridcolor\":\"white\",\"linecolor\":\"white\",\"showgrid\":true,\"tickcolor\":\"rgb(51,51,51)\",\"ticks\":\"outside\"},\"bgcolor\":\"rgb(237,237,237)\",\"caxis\":{\"gridcolor\":\"white\",\"linecolor\":\"white\",\"showgrid\":true,\"tickcolor\":\"rgb(51,51,51)\",\"ticks\":\"outside\"}},\"xaxis\":{\"automargin\":true,\"gridcolor\":\"white\",\"linecolor\":\"white\",\"showgrid\":true,\"tickcolor\":\"rgb(51,51,51)\",\"ticks\":\"outside\",\"title\":{\"standoff\":15},\"zerolinecolor\":\"white\"},\"yaxis\":{\"automargin\":true,\"gridcolor\":\"white\",\"linecolor\":\"white\",\"showgrid\":true,\"tickcolor\":\"rgb(51,51,51)\",\"ticks\":\"outside\",\"title\":{\"standoff\":15},\"zerolinecolor\":\"white\"}}},\"xaxis\":{\"anchor\":\"y\",\"domain\":[0.0,1.0],\"title\":{\"text\":\"\"},\"tickangle\":45},\"yaxis\":{\"anchor\":\"x\",\"domain\":[0.0,1.0],\"title\":{\"text\":\"%\"},\"range\":[0,100]},\"legend\":{\"title\":{\"text\":\"variable\"},\"tracegroupgap\":0},\"title\":{\"text\":\"Pourcentage de valeurs manquantes par variable\"},\"barmode\":\"relative\",\"width\":800},                        {\"responsive\": true}                    ).then(function(){\n",
              "                            \n",
              "var gd = document.getElementById('ccaac6c1-4d9e-4d9b-b020-8806ef780286');\n",
              "var x = new MutationObserver(function (mutations, observer) {{\n",
              "        var display = window.getComputedStyle(gd).display;\n",
              "        if (!display || display === 'none') {{\n",
              "            console.log([gd, 'removed!']);\n",
              "            Plotly.purge(gd);\n",
              "            observer.disconnect();\n",
              "        }}\n",
              "}});\n",
              "\n",
              "// Listen for the removal of the full notebook cells\n",
              "var notebookContainer = gd.closest('#notebook-container');\n",
              "if (notebookContainer) {{\n",
              "    x.observe(notebookContainer, {childList: true});\n",
              "}}\n",
              "\n",
              "// Listen for the clearing of the current output cell\n",
              "var outputEl = gd.closest('.output');\n",
              "if (outputEl) {{\n",
              "    x.observe(outputEl, {childList: true});\n",
              "}}\n",
              "\n",
              "                        })                };                            </script>        </div>\n",
              "</body>\n",
              "</html>"
            ]
          },
          "metadata": {}
        }
      ]
    },
    {
      "cell_type": "code",
      "source": [
        "# valeurs manquantes par ligne\n",
        "train_data.isna().sum(axis=1).value_counts()\n",
        "\n",
        "px.bar(train_data.isna().sum(axis=1).value_counts(),\n",
        "            title = \"Nombre de valeurs manquantes par ligne\",\n",
        "            color_discrete_sequence = [\"#377eb8\"],\n",
        "            template='ggplot2',\n",
        "            range_y = [0,100],\n",
        "            width=800,\n",
        "            labels={'value':'%', 'index':''},\n",
        "            color=None\n",
        "            ).update_traces(showlegend=False).update_xaxes(tickangle=45)\n",
        "plt.show()"
      ],
      "metadata": {
        "id": "0hcv_CDMZ_If"
      },
      "execution_count": 279,
      "outputs": []
    },
    {
      "cell_type": "code",
      "source": [
        "# imputer perso compatible avec sklearn\n",
        "# necéssite d'implémenter les méthodes fit, transform et fit_transform\n",
        "# pour plus d'infos: https://scikit-learn.org/stable/developers/develop.html\n",
        "\n",
        "class inputer_perso():\n",
        "    def __init__(self) -> None:\n",
        "        pass\n",
        "\n",
        "    def fit(self, X, y=None):\n",
        "        self.X = X\n",
        "        return self\n",
        "\n",
        "    def transform(self, X, y=None):\n",
        "        X = X.copy()\n",
        "        for col in X.columns:\n",
        "            if X[col].dtype != 'float64':\n",
        "                X[col] = X.loc[:,col].fillna(X[col].mode()[0])\n",
        "            else:\n",
        "                X[col] = X.loc[:,col].fillna(X[col].mean())\n",
        "        return X\n",
        "\n",
        "    def fit_transform(self, X, y=None):\n",
        "        self.fit(X)\n",
        "        return self.transform(X)"
      ],
      "metadata": {
        "id": "eZgSQHZMbcAx"
      },
      "execution_count": 280,
      "outputs": []
    },
    {
      "cell_type": "code",
      "source": [
        "import pandas as pd\n",
        "import numpy as np\n",
        "\n",
        "def impute_by_product(df):\n",
        "    \"\"\"\n",
        "    Imputes missing values in a DataFrame based on product-specific mode and median.\n",
        "\n",
        "    Args:\n",
        "        df (pd.DataFrame): The input DataFrame.\n",
        "\n",
        "    Returns:\n",
        "        pd.DataFrame: The DataFrame with imputed values.\n",
        "    \"\"\"\n",
        "    df_copy = df.copy()\n",
        "\n",
        "    # Drop columns with >40% missing values\n",
        "    df_copy = df_copy.dropna(thresh=len(df_copy) * 0.6, axis=1)\n",
        "\n",
        "    for col in df_copy.columns:\n",
        "        if col not in [\"categorie\", \"date\", \"id_produit\"]:\n",
        "            if pd.api.types.is_categorical_dtype(df_copy[col]) or df_copy[col].dtype == 'object':\n",
        "                df_copy[col] = df_copy.groupby(\"id_produit\")[col].transform(lambda x: x.fillna(x.mode()[0] if not x.mode().empty else \"Unknown\"))\n",
        "            elif pd.api.types.is_numeric_dtype(df_copy[col]):\n",
        "                df_copy[col] = df_copy.groupby(\"id_produit\")[col].transform(lambda x: x.fillna(x.median()))\n",
        "        elif col not in ['id_produit']:\n",
        "            df_copy[col] = df_copy[col].fillna(df_copy[col].mode()[0] if not df_copy[col].mode().empty else \"Unknown\")\n",
        "    return df_copy\n",
        "\n",
        "def imputation_par_categorie_marque_date(df):\n",
        "    print(\"Nombre de lignes et de colonnes : \", df.shape,\n",
        "          \"\\nNombre de valeurs manquantes : \", df.isnull().sum().sum())\n",
        "\n",
        "    default_categories = {\n",
        "    \"marque\": \"Nestlé\",\n",
        "    \"condition_meteo\": \"Ensoleillé\",\n",
        "    \"moment_journee\": \"Après-midi\",\n",
        "    \"region\": \"Urbain\"\n",
        "        }\n",
        "\n",
        "    df = df.copy()\n",
        "\n",
        "    # Trier les données pour maintenir un ordre logique\n",
        "    # df = df.sort_values(by=['categorie', 'marque', 'date', 'id_produit'], ascending=True)\n",
        "\n",
        "    # Supprimer les colonnes avec plus de 40% de valeurs manquantes\n",
        "    df = df.dropna(thresh=len(df) * 0.6, axis=1)\n",
        "\n",
        "    # Imputation des valeurs manquantes\n",
        "    for col in df.columns:\n",
        "        if col not in ['categorie','date']:  # Exclure les colonnes qui n'ont pas de na\n",
        "            if df[col].dtype == 'object' or df[col].dtype.name == 'category':  # Variables catégorielles\n",
        "                # Remplir les NaN avec le mode par catégorie, marque, date et id_produit\n",
        "                df[col] = df[col].transform(\n",
        "                    lambda x: x.fillna(x.mode()[0] if not x.mode().empty else default_categories.get(col, \"Unknown\")\n",
        "                ))\n",
        "                print(f\"{col} : Mode appliqué\")\n",
        "            else:  # Variables quantitatives\n",
        "                # Remplir les NaN avec la médiane par catégorie, marque et date\n",
        "                df[col] = df[col].transform(\n",
        "                    lambda x: x.fillna(x.median())\n",
        "                )\n",
        "                print(f\"{col} : Médiane appliquée\")\n",
        "\n",
        "    print(\"Données nettoyées !\",\n",
        "          \"\\nNombre de lignes et de colonnes : \", df.shape,\n",
        "          \"\\nNombre de valeurs manquantes : \", df.isnull().sum().sum())\n",
        "\n",
        "    return df\n",
        "\n",
        "clean_data_trains= imputation_par_categorie_marque_date(train_data)\n",
        "clean_data_subs= imputation_par_categorie_marque_date(sub_data)"
      ],
      "metadata": {
        "id": "o5z-NrK4d37g",
        "colab": {
          "base_uri": "https://localhost:8080/"
        },
        "outputId": "3c045824-bb47-4ac1-d400-785e99442c8d"
      },
      "execution_count": 281,
      "outputs": [
        {
          "output_type": "stream",
          "name": "stdout",
          "text": [
            "Nombre de lignes et de colonnes :  (83047, 38) \n",
            "Nombre de valeurs manquantes :  41297\n",
            "id_produit : Mode appliqué\n",
            "prix_unitaire : Médiane appliquée\n",
            "jour_ferie : Médiane appliquée\n",
            "weekend : Médiane appliquée\n",
            "stock_disponible : Médiane appliquée\n",
            "quantite_vendue : Médiane appliquée\n",
            "categorie_Alimentaire : Médiane appliquée\n",
            "categorie_Habillement : Médiane appliquée\n",
            "categorie_Électronique : Médiane appliquée\n",
            "marque_Adidas : Médiane appliquée\n",
            "marque_Apple : Médiane appliquée\n",
            "marque_Coca-Cola : Médiane appliquée\n",
            "marque_Danone : Médiane appliquée\n",
            "marque_H&M : Médiane appliquée\n",
            "marque_Huawei : Médiane appliquée\n",
            "marque_Kellogg's : Médiane appliquée\n",
            "marque_LG : Médiane appliquée\n",
            "marque_Levi's : Médiane appliquée\n",
            "marque_Nestlé : Médiane appliquée\n",
            "marque_Nike : Médiane appliquée\n",
            "marque_Samsung : Médiane appliquée\n",
            "marque_Sony : Médiane appliquée\n",
            "marque_Unilever : Médiane appliquée\n",
            "marque_Zara : Médiane appliquée\n",
            "promotion_0.0 : Médiane appliquée\n",
            "promotion_1.0 : Médiane appliquée\n",
            "condition_meteo_Ensoleillé : Médiane appliquée\n",
            "condition_meteo_Neigeux : Médiane appliquée\n",
            "condition_meteo_Nuageux : Médiane appliquée\n",
            "condition_meteo_Orageux : Médiane appliquée\n",
            "condition_meteo_Pluie : Médiane appliquée\n",
            "region_Périurbain : Médiane appliquée\n",
            "region_Rural : Médiane appliquée\n",
            "region_Urbain : Médiane appliquée\n",
            "moment_journee_Après-midi : Médiane appliquée\n",
            "moment_journee_Matinée : Médiane appliquée\n",
            "moment_journee_Soirée : Médiane appliquée\n",
            "Données nettoyées ! \n",
            "Nombre de lignes et de colonnes :  (83047, 38) \n",
            "Nombre de valeurs manquantes :  0\n",
            "Nombre de lignes et de colonnes :  (2576, 37) \n",
            "Nombre de valeurs manquantes :  0\n",
            "id_produit : Mode appliqué\n",
            "prix_unitaire : Médiane appliquée\n",
            "jour_ferie : Médiane appliquée\n",
            "weekend : Médiane appliquée\n",
            "stock_disponible : Médiane appliquée\n",
            "categorie_Alimentaire : Médiane appliquée\n",
            "categorie_Habillement : Médiane appliquée\n",
            "categorie_Électronique : Médiane appliquée\n",
            "marque_Adidas : Médiane appliquée\n",
            "marque_Apple : Médiane appliquée\n",
            "marque_Coca-Cola : Médiane appliquée\n",
            "marque_Danone : Médiane appliquée\n",
            "marque_H&M : Médiane appliquée\n",
            "marque_Huawei : Médiane appliquée\n",
            "marque_Kellogg's : Médiane appliquée\n",
            "marque_LG : Médiane appliquée\n",
            "marque_Levi's : Médiane appliquée\n",
            "marque_Nestlé : Médiane appliquée\n",
            "marque_Nike : Médiane appliquée\n",
            "marque_Samsung : Médiane appliquée\n",
            "marque_Sony : Médiane appliquée\n",
            "marque_Unilever : Médiane appliquée\n",
            "marque_Zara : Médiane appliquée\n",
            "promotion_0.0 : Médiane appliquée\n",
            "promotion_1.0 : Médiane appliquée\n",
            "condition_meteo_Ensoleillé : Médiane appliquée\n",
            "condition_meteo_Neigeux : Médiane appliquée\n",
            "condition_meteo_Nuageux : Médiane appliquée\n",
            "condition_meteo_Orageux : Médiane appliquée\n",
            "condition_meteo_Pluie : Médiane appliquée\n",
            "region_Périurbain : Médiane appliquée\n",
            "region_Rural : Médiane appliquée\n",
            "region_Urbain : Médiane appliquée\n",
            "moment_journee_Après-midi : Médiane appliquée\n",
            "moment_journee_Matinée : Médiane appliquée\n",
            "moment_journee_Soirée : Médiane appliquée\n",
            "Données nettoyées ! \n",
            "Nombre de lignes et de colonnes :  (2576, 37) \n",
            "Nombre de valeurs manquantes :  0\n"
          ]
        }
      ]
    },
    {
      "cell_type": "code",
      "source": [
        "def indicator_to_int(df):\n",
        "  \"\"\"Transforms indicator variables in a DataFrame to integers.\n",
        "\n",
        "  Args:\n",
        "    df: The input DataFrame.\n",
        "\n",
        "  Returns:\n",
        "    A new DataFrame with indicator variables converted to integers.\n",
        "  \"\"\"\n",
        "  ##Convertir ces variables dans le bon format après le nettoyages\n",
        "  dfs=[]\n",
        "  variables_indicatrice=['weekend','promotion','jour_ferie']\n",
        "  df_copy = df.copy()  # Create a copy to avoid modifying the original DataFrame\n",
        "\n",
        "  for df in df_copy:\n",
        "      for col in variables_indicatrice:\n",
        "          try:\n",
        "              # Attempt to convert to integer, handling potential errors gracefully\n",
        "              df[col] = df[col].astype(int)\n",
        "\n",
        "          except Exception as e:\n",
        "              print(f\"Column '{col}' could not be converted to integers. Check for non-numeric categories due to {e}\")\n",
        "              # You can choose to handle the error in another way (e.g., replace values)\n",
        "              # if necessary.\n",
        "      dfs.append(df)\n",
        "\n",
        "  return dfs\n",
        "\n",
        "\n",
        "# Example usage (assuming 'analyst_data' is your DataFrame)\n",
        "final_clean_data_trains, final_clean_data_subs= indicator_to_int([clean_data_trains,clean_data_subs])"
      ],
      "metadata": {
        "id": "GxtQIQ3l7bkM",
        "colab": {
          "base_uri": "https://localhost:8080/"
        },
        "outputId": "1360b655-fc50-45f6-a625-c2dd7a808171"
      },
      "execution_count": 282,
      "outputs": [
        {
          "output_type": "stream",
          "name": "stdout",
          "text": [
            "Column 'promotion' could not be converted to integers. Check for non-numeric categories due to 'promotion'\n",
            "Column 'promotion' could not be converted to integers. Check for non-numeric categories due to 'promotion'\n"
          ]
        }
      ]
    },
    {
      "cell_type": "code",
      "source": [
        "final_clean_data_subs.shape,final_clean_data_trains.shape"
      ],
      "metadata": {
        "colab": {
          "base_uri": "https://localhost:8080/"
        },
        "id": "g67goSIYVLTu",
        "outputId": "b090e059-faee-4ef5-83b4-2d1dcb323aac"
      },
      "execution_count": 283,
      "outputs": [
        {
          "output_type": "execute_result",
          "data": {
            "text/plain": [
              "((2576, 37), (83047, 38))"
            ]
          },
          "metadata": {},
          "execution_count": 283
        }
      ]
    },
    {
      "cell_type": "markdown",
      "source": [
        "# Modélisation"
      ],
      "metadata": {
        "id": "-Lhu-HCaL-EX"
      }
    },
    {
      "cell_type": "code",
      "source": [
        "final_clean_data_subs.head(1)"
      ],
      "metadata": {
        "colab": {
          "base_uri": "https://localhost:8080/",
          "height": 165
        },
        "id": "o5WgxAjvhSAT",
        "outputId": "093cc719-3601-48d7-d6f6-904e104937d2"
      },
      "execution_count": 284,
      "outputs": [
        {
          "output_type": "execute_result",
          "data": {
            "text/plain": [
              "       id_produit        date  prix_unitaire  jour_ferie  weekend  \\\n",
              "0  ALI-072024-023  2024-11-01       10692.72           1        0   \n",
              "\n",
              "   stock_disponible  categorie_Alimentaire  categorie_Habillement  \\\n",
              "0               168                      1                      0   \n",
              "\n",
              "   categorie_Électronique  marque_Adidas  ...  condition_meteo_Neigeux  \\\n",
              "0                       0              0  ...                        0   \n",
              "\n",
              "   condition_meteo_Nuageux  condition_meteo_Orageux  condition_meteo_Pluie  \\\n",
              "0                        0                        1                      0   \n",
              "\n",
              "   region_Périurbain  region_Rural  region_Urbain  moment_journee_Après-midi  \\\n",
              "0                  0             0              1                          0   \n",
              "\n",
              "   moment_journee_Matinée  moment_journee_Soirée  \n",
              "0                       1                      0  \n",
              "\n",
              "[1 rows x 37 columns]"
            ],
            "text/html": [
              "\n",
              "  <div id=\"df-10e58b78-65dd-4ad2-940b-1ea40a1bdb13\" class=\"colab-df-container\">\n",
              "    <div>\n",
              "<style scoped>\n",
              "    .dataframe tbody tr th:only-of-type {\n",
              "        vertical-align: middle;\n",
              "    }\n",
              "\n",
              "    .dataframe tbody tr th {\n",
              "        vertical-align: top;\n",
              "    }\n",
              "\n",
              "    .dataframe thead th {\n",
              "        text-align: right;\n",
              "    }\n",
              "</style>\n",
              "<table border=\"1\" class=\"dataframe\">\n",
              "  <thead>\n",
              "    <tr style=\"text-align: right;\">\n",
              "      <th></th>\n",
              "      <th>id_produit</th>\n",
              "      <th>date</th>\n",
              "      <th>prix_unitaire</th>\n",
              "      <th>jour_ferie</th>\n",
              "      <th>weekend</th>\n",
              "      <th>stock_disponible</th>\n",
              "      <th>categorie_Alimentaire</th>\n",
              "      <th>categorie_Habillement</th>\n",
              "      <th>categorie_Électronique</th>\n",
              "      <th>marque_Adidas</th>\n",
              "      <th>...</th>\n",
              "      <th>condition_meteo_Neigeux</th>\n",
              "      <th>condition_meteo_Nuageux</th>\n",
              "      <th>condition_meteo_Orageux</th>\n",
              "      <th>condition_meteo_Pluie</th>\n",
              "      <th>region_Périurbain</th>\n",
              "      <th>region_Rural</th>\n",
              "      <th>region_Urbain</th>\n",
              "      <th>moment_journee_Après-midi</th>\n",
              "      <th>moment_journee_Matinée</th>\n",
              "      <th>moment_journee_Soirée</th>\n",
              "    </tr>\n",
              "  </thead>\n",
              "  <tbody>\n",
              "    <tr>\n",
              "      <th>0</th>\n",
              "      <td>ALI-072024-023</td>\n",
              "      <td>2024-11-01</td>\n",
              "      <td>10692.72</td>\n",
              "      <td>1</td>\n",
              "      <td>0</td>\n",
              "      <td>168</td>\n",
              "      <td>1</td>\n",
              "      <td>0</td>\n",
              "      <td>0</td>\n",
              "      <td>0</td>\n",
              "      <td>...</td>\n",
              "      <td>0</td>\n",
              "      <td>0</td>\n",
              "      <td>1</td>\n",
              "      <td>0</td>\n",
              "      <td>0</td>\n",
              "      <td>0</td>\n",
              "      <td>1</td>\n",
              "      <td>0</td>\n",
              "      <td>1</td>\n",
              "      <td>0</td>\n",
              "    </tr>\n",
              "  </tbody>\n",
              "</table>\n",
              "<p>1 rows × 37 columns</p>\n",
              "</div>\n",
              "    <div class=\"colab-df-buttons\">\n",
              "\n",
              "  <div class=\"colab-df-container\">\n",
              "    <button class=\"colab-df-convert\" onclick=\"convertToInteractive('df-10e58b78-65dd-4ad2-940b-1ea40a1bdb13')\"\n",
              "            title=\"Convert this dataframe to an interactive table.\"\n",
              "            style=\"display:none;\">\n",
              "\n",
              "  <svg xmlns=\"http://www.w3.org/2000/svg\" height=\"24px\" viewBox=\"0 -960 960 960\">\n",
              "    <path d=\"M120-120v-720h720v720H120Zm60-500h600v-160H180v160Zm220 220h160v-160H400v160Zm0 220h160v-160H400v160ZM180-400h160v-160H180v160Zm440 0h160v-160H620v160ZM180-180h160v-160H180v160Zm440 0h160v-160H620v160Z\"/>\n",
              "  </svg>\n",
              "    </button>\n",
              "\n",
              "  <style>\n",
              "    .colab-df-container {\n",
              "      display:flex;\n",
              "      gap: 12px;\n",
              "    }\n",
              "\n",
              "    .colab-df-convert {\n",
              "      background-color: #E8F0FE;\n",
              "      border: none;\n",
              "      border-radius: 50%;\n",
              "      cursor: pointer;\n",
              "      display: none;\n",
              "      fill: #1967D2;\n",
              "      height: 32px;\n",
              "      padding: 0 0 0 0;\n",
              "      width: 32px;\n",
              "    }\n",
              "\n",
              "    .colab-df-convert:hover {\n",
              "      background-color: #E2EBFA;\n",
              "      box-shadow: 0px 1px 2px rgba(60, 64, 67, 0.3), 0px 1px 3px 1px rgba(60, 64, 67, 0.15);\n",
              "      fill: #174EA6;\n",
              "    }\n",
              "\n",
              "    .colab-df-buttons div {\n",
              "      margin-bottom: 4px;\n",
              "    }\n",
              "\n",
              "    [theme=dark] .colab-df-convert {\n",
              "      background-color: #3B4455;\n",
              "      fill: #D2E3FC;\n",
              "    }\n",
              "\n",
              "    [theme=dark] .colab-df-convert:hover {\n",
              "      background-color: #434B5C;\n",
              "      box-shadow: 0px 1px 3px 1px rgba(0, 0, 0, 0.15);\n",
              "      filter: drop-shadow(0px 1px 2px rgba(0, 0, 0, 0.3));\n",
              "      fill: #FFFFFF;\n",
              "    }\n",
              "  </style>\n",
              "\n",
              "    <script>\n",
              "      const buttonEl =\n",
              "        document.querySelector('#df-10e58b78-65dd-4ad2-940b-1ea40a1bdb13 button.colab-df-convert');\n",
              "      buttonEl.style.display =\n",
              "        google.colab.kernel.accessAllowed ? 'block' : 'none';\n",
              "\n",
              "      async function convertToInteractive(key) {\n",
              "        const element = document.querySelector('#df-10e58b78-65dd-4ad2-940b-1ea40a1bdb13');\n",
              "        const dataTable =\n",
              "          await google.colab.kernel.invokeFunction('convertToInteractive',\n",
              "                                                    [key], {});\n",
              "        if (!dataTable) return;\n",
              "\n",
              "        const docLinkHtml = 'Like what you see? Visit the ' +\n",
              "          '<a target=\"_blank\" href=https://colab.research.google.com/notebooks/data_table.ipynb>data table notebook</a>'\n",
              "          + ' to learn more about interactive tables.';\n",
              "        element.innerHTML = '';\n",
              "        dataTable['output_type'] = 'display_data';\n",
              "        await google.colab.output.renderOutput(dataTable, element);\n",
              "        const docLink = document.createElement('div');\n",
              "        docLink.innerHTML = docLinkHtml;\n",
              "        element.appendChild(docLink);\n",
              "      }\n",
              "    </script>\n",
              "  </div>\n",
              "\n",
              "\n",
              "    </div>\n",
              "  </div>\n"
            ],
            "application/vnd.google.colaboratory.intrinsic+json": {
              "type": "dataframe",
              "variable_name": "final_clean_data_subs"
            }
          },
          "metadata": {},
          "execution_count": 284
        }
      ]
    },
    {
      "cell_type": "code",
      "source": [
        "final_clean_data_trains.columns.difference(final_clean_data_subs.columns)"
      ],
      "metadata": {
        "colab": {
          "base_uri": "https://localhost:8080/"
        },
        "id": "2WjDxfZshdTv",
        "outputId": "cf93839c-b341-4591-d599-8bbc8ebfdad0"
      },
      "execution_count": 285,
      "outputs": [
        {
          "output_type": "execute_result",
          "data": {
            "text/plain": [
              "Index(['quantite_vendue'], dtype='object')"
            ]
          },
          "metadata": {},
          "execution_count": 285
        }
      ]
    },
    {
      "cell_type": "code",
      "source": [
        "final_clean_data_trains.head(1)"
      ],
      "metadata": {
        "colab": {
          "base_uri": "https://localhost:8080/",
          "height": 165
        },
        "id": "Wn_ZgJjCutTy",
        "outputId": "7863f8e7-de47-44a2-e775-0ded8c2f5b18"
      },
      "execution_count": 286,
      "outputs": [
        {
          "output_type": "execute_result",
          "data": {
            "text/plain": [
              "       id_produit       date  prix_unitaire  jour_ferie  weekend  \\\n",
              "0  HAB-102024-024 2022-01-01       31247.38           0        1   \n",
              "\n",
              "   stock_disponible  quantite_vendue  categorie_Alimentaire  \\\n",
              "0              37.0             15.0                      0   \n",
              "\n",
              "   categorie_Habillement  categorie_Électronique  ...  \\\n",
              "0                      1                       0  ...   \n",
              "\n",
              "   condition_meteo_Neigeux  condition_meteo_Nuageux  condition_meteo_Orageux  \\\n",
              "0                        1                        0                        0   \n",
              "\n",
              "   condition_meteo_Pluie  region_Périurbain  region_Rural  region_Urbain  \\\n",
              "0                      0                  0             0              1   \n",
              "\n",
              "   moment_journee_Après-midi  moment_journee_Matinée  moment_journee_Soirée  \n",
              "0                          0                       0                      1  \n",
              "\n",
              "[1 rows x 38 columns]"
            ],
            "text/html": [
              "\n",
              "  <div id=\"df-5928fbde-5d28-49fe-bb35-f90aae7c6a57\" class=\"colab-df-container\">\n",
              "    <div>\n",
              "<style scoped>\n",
              "    .dataframe tbody tr th:only-of-type {\n",
              "        vertical-align: middle;\n",
              "    }\n",
              "\n",
              "    .dataframe tbody tr th {\n",
              "        vertical-align: top;\n",
              "    }\n",
              "\n",
              "    .dataframe thead th {\n",
              "        text-align: right;\n",
              "    }\n",
              "</style>\n",
              "<table border=\"1\" class=\"dataframe\">\n",
              "  <thead>\n",
              "    <tr style=\"text-align: right;\">\n",
              "      <th></th>\n",
              "      <th>id_produit</th>\n",
              "      <th>date</th>\n",
              "      <th>prix_unitaire</th>\n",
              "      <th>jour_ferie</th>\n",
              "      <th>weekend</th>\n",
              "      <th>stock_disponible</th>\n",
              "      <th>quantite_vendue</th>\n",
              "      <th>categorie_Alimentaire</th>\n",
              "      <th>categorie_Habillement</th>\n",
              "      <th>categorie_Électronique</th>\n",
              "      <th>...</th>\n",
              "      <th>condition_meteo_Neigeux</th>\n",
              "      <th>condition_meteo_Nuageux</th>\n",
              "      <th>condition_meteo_Orageux</th>\n",
              "      <th>condition_meteo_Pluie</th>\n",
              "      <th>region_Périurbain</th>\n",
              "      <th>region_Rural</th>\n",
              "      <th>region_Urbain</th>\n",
              "      <th>moment_journee_Après-midi</th>\n",
              "      <th>moment_journee_Matinée</th>\n",
              "      <th>moment_journee_Soirée</th>\n",
              "    </tr>\n",
              "  </thead>\n",
              "  <tbody>\n",
              "    <tr>\n",
              "      <th>0</th>\n",
              "      <td>HAB-102024-024</td>\n",
              "      <td>2022-01-01</td>\n",
              "      <td>31247.38</td>\n",
              "      <td>0</td>\n",
              "      <td>1</td>\n",
              "      <td>37.0</td>\n",
              "      <td>15.0</td>\n",
              "      <td>0</td>\n",
              "      <td>1</td>\n",
              "      <td>0</td>\n",
              "      <td>...</td>\n",
              "      <td>1</td>\n",
              "      <td>0</td>\n",
              "      <td>0</td>\n",
              "      <td>0</td>\n",
              "      <td>0</td>\n",
              "      <td>0</td>\n",
              "      <td>1</td>\n",
              "      <td>0</td>\n",
              "      <td>0</td>\n",
              "      <td>1</td>\n",
              "    </tr>\n",
              "  </tbody>\n",
              "</table>\n",
              "<p>1 rows × 38 columns</p>\n",
              "</div>\n",
              "    <div class=\"colab-df-buttons\">\n",
              "\n",
              "  <div class=\"colab-df-container\">\n",
              "    <button class=\"colab-df-convert\" onclick=\"convertToInteractive('df-5928fbde-5d28-49fe-bb35-f90aae7c6a57')\"\n",
              "            title=\"Convert this dataframe to an interactive table.\"\n",
              "            style=\"display:none;\">\n",
              "\n",
              "  <svg xmlns=\"http://www.w3.org/2000/svg\" height=\"24px\" viewBox=\"0 -960 960 960\">\n",
              "    <path d=\"M120-120v-720h720v720H120Zm60-500h600v-160H180v160Zm220 220h160v-160H400v160Zm0 220h160v-160H400v160ZM180-400h160v-160H180v160Zm440 0h160v-160H620v160ZM180-180h160v-160H180v160Zm440 0h160v-160H620v160Z\"/>\n",
              "  </svg>\n",
              "    </button>\n",
              "\n",
              "  <style>\n",
              "    .colab-df-container {\n",
              "      display:flex;\n",
              "      gap: 12px;\n",
              "    }\n",
              "\n",
              "    .colab-df-convert {\n",
              "      background-color: #E8F0FE;\n",
              "      border: none;\n",
              "      border-radius: 50%;\n",
              "      cursor: pointer;\n",
              "      display: none;\n",
              "      fill: #1967D2;\n",
              "      height: 32px;\n",
              "      padding: 0 0 0 0;\n",
              "      width: 32px;\n",
              "    }\n",
              "\n",
              "    .colab-df-convert:hover {\n",
              "      background-color: #E2EBFA;\n",
              "      box-shadow: 0px 1px 2px rgba(60, 64, 67, 0.3), 0px 1px 3px 1px rgba(60, 64, 67, 0.15);\n",
              "      fill: #174EA6;\n",
              "    }\n",
              "\n",
              "    .colab-df-buttons div {\n",
              "      margin-bottom: 4px;\n",
              "    }\n",
              "\n",
              "    [theme=dark] .colab-df-convert {\n",
              "      background-color: #3B4455;\n",
              "      fill: #D2E3FC;\n",
              "    }\n",
              "\n",
              "    [theme=dark] .colab-df-convert:hover {\n",
              "      background-color: #434B5C;\n",
              "      box-shadow: 0px 1px 3px 1px rgba(0, 0, 0, 0.15);\n",
              "      filter: drop-shadow(0px 1px 2px rgba(0, 0, 0, 0.3));\n",
              "      fill: #FFFFFF;\n",
              "    }\n",
              "  </style>\n",
              "\n",
              "    <script>\n",
              "      const buttonEl =\n",
              "        document.querySelector('#df-5928fbde-5d28-49fe-bb35-f90aae7c6a57 button.colab-df-convert');\n",
              "      buttonEl.style.display =\n",
              "        google.colab.kernel.accessAllowed ? 'block' : 'none';\n",
              "\n",
              "      async function convertToInteractive(key) {\n",
              "        const element = document.querySelector('#df-5928fbde-5d28-49fe-bb35-f90aae7c6a57');\n",
              "        const dataTable =\n",
              "          await google.colab.kernel.invokeFunction('convertToInteractive',\n",
              "                                                    [key], {});\n",
              "        if (!dataTable) return;\n",
              "\n",
              "        const docLinkHtml = 'Like what you see? Visit the ' +\n",
              "          '<a target=\"_blank\" href=https://colab.research.google.com/notebooks/data_table.ipynb>data table notebook</a>'\n",
              "          + ' to learn more about interactive tables.';\n",
              "        element.innerHTML = '';\n",
              "        dataTable['output_type'] = 'display_data';\n",
              "        await google.colab.output.renderOutput(dataTable, element);\n",
              "        const docLink = document.createElement('div');\n",
              "        docLink.innerHTML = docLinkHtml;\n",
              "        element.appendChild(docLink);\n",
              "      }\n",
              "    </script>\n",
              "  </div>\n",
              "\n",
              "\n",
              "    </div>\n",
              "  </div>\n"
            ],
            "application/vnd.google.colaboratory.intrinsic+json": {
              "type": "dataframe",
              "variable_name": "final_clean_data_trains"
            }
          },
          "metadata": {},
          "execution_count": 286
        }
      ]
    },
    {
      "cell_type": "code",
      "source": [
        "def enrichir_data(df):\n",
        "  df['prix_unitaire_stock'] = df['prix_unitaire'] * df['stock_disponible']\n",
        "  df[\"prix_unitaire_power_2\"] = df[\"prix_unitaire\"] ** 2\n",
        "  df[\"prix_unitaire_power_3\"] = df[\"prix_unitaire\"] ** 3\n",
        "  df[\"log_prix_unitaire\"] = np.log(df[\"prix_unitaire\"]+1)\n",
        "  df[\"log_stock_disponible\"] = np.log(df[\"stock_disponible\"]+1)\n",
        "  df[\"inverse_prix_unitaire\"] = 1 / (df[\"prix_unitaire\"]+1)\n",
        "  df[\"inverse_stock_disponible\"] = 1 / (df[\"stock_disponible\"]+1)\n",
        "  df[\"sqrt_prix_unitaire\"] = np.sqrt(df[\"prix_unitaire\"])\n",
        "  df[\"sqrt_stock_disponible\"] = np.sqrt(df[\"stock_disponible\"])\n",
        "\n",
        "  return df\n",
        "\n",
        "# Appliquer la fonction aux DataFrames\n",
        "final_clean_data_trains = enrichir_data(final_clean_data_trains)\n",
        "final_clean_data_subs = enrichir_data(final_clean_data_subs)"
      ],
      "metadata": {
        "id": "v3QBrRWHtTsZ"
      },
      "execution_count": 287,
      "outputs": []
    },
    {
      "cell_type": "code",
      "source": [
        "quantitative_vars = ['prix_unitaire', 'stock_disponible', 'quantite_vendue',\n",
        "                         'prix_unitaire_stock', 'prix_unitaire_power_2', 'prix_unitaire_power_3',\n",
        "                         'log_prix_unitaire', 'log_stock_disponible', 'inverse_prix_unitaire',\n",
        "                         'inverse_stock_disponible', 'sqrt_prix_unitaire', 'sqrt_stock_disponible']"
      ],
      "metadata": {
        "id": "sMqSrAddPEBw"
      },
      "execution_count": 288,
      "outputs": []
    },
    {
      "cell_type": "code",
      "source": [
        "correlation_matrix = final_clean_data_trains[quantitative_vars].corr()\n",
        "\n",
        "# Ou, pour un affichage en heatmap :\n",
        "import seaborn as sns\n",
        "import matplotlib.pyplot as plt\n",
        "\n",
        "plt.figure(figsize=(12, 10))\n",
        "s= sns.heatmap(correlation_matrix, annot=True, cmap='coolwarm')\n",
        "plt.title('Matrice de corrélation des variables quantitatives')\n",
        "plt.show()"
      ],
      "metadata": {
        "colab": {
          "base_uri": "https://localhost:8080/",
          "height": 594
        },
        "id": "3DabKpEIQhvG",
        "outputId": "3c85f714-74e3-47a4-d0bb-b6d6e807eaff"
      },
      "execution_count": 289,
      "outputs": [
        {
          "output_type": "display_data",
          "data": {
            "text/plain": [
              "<Figure size 1200x1000 with 2 Axes>"
            ],
            "image/png": "[encoded data removed]"
          },
          "metadata": {}
        }
      ]
    },
    {
      "cell_type": "markdown",
      "source": [
        "import pandas as pd\n",
        "from sklearn.preprocessing import OneHotEncoder\n",
        "\n",
        "# Chargement de la base de données\n",
        "df = final_clean_data_trains\n",
        "sub_data_s=final_clean_data_subs\n",
        "# Encodage des variables catégorielles pour l'entrainement\n",
        "encoder = OneHotEncoder(sparse_output=False)\n",
        "encoded_categories = encoder.fit_transform(df[['categorie', 'marque', 'region', 'moment_journee','condition_meteo']])\n",
        "encoded_df = pd.DataFrame(encoded_categories, columns=encoder.get_feature_names_out(['categorie', 'marque', 'region', 'moment_journee','condition_meteo']))\n",
        "\n",
        "#encodage pour les données de submission\n",
        "encoded_categories_s = encoder.transform(sub_data_s[['categorie', 'marque', 'region', 'moment_journee','condition_meteo']])\n",
        "encoded_df_s = pd.DataFrame(encoded_categories_s, columns=encoder.get_feature_names_out(['categorie', 'marque', 'region', 'moment_journee','condition_meteo']))\n",
        "\n",
        "# Ajout au DataFrame principal de train\n",
        "df = pd.concat([df, encoded_df], axis=1)\n",
        "df.drop(['categorie', 'marque', 'region', 'moment_journee','condition_meteo'], axis=1, inplace=True)\n",
        "\n",
        "#Ajout au dataframe principal de sub\n",
        "sub_data_s = pd.concat([sub_data_s, encoded_df_s], axis=1)\n",
        "sub_data_s.drop(['categorie', 'marque', 'region', 'moment_journee','condition_meteo'], axis=1, inplace=True)"
      ],
      "metadata": {
        "id": "UJe2lZ6eKZrL"
      }
    },
    {
      "cell_type": "code",
      "source": [
        "#modélisation\n",
        "from sklearn.ensemble import RandomForestRegressor\n",
        "from sklearn.model_selection import train_test_split\n",
        "from sklearn.metrics import mean_squared_error\n",
        "\n",
        "# Séparation des variables indépendantes et dépendantes\n",
        "X = final_clean_data_trains.drop(['quantite_vendue', 'date','id_produit'], axis=1)\n",
        "y = final_clean_data_trains['quantite_vendue']\n",
        "\n",
        "# Division en train et test\n",
        "X_train, X_test, y_train, y_test = train_test_split(X, y, test_size=0.03101, random_state=42)"
      ],
      "metadata": {
        "id": "amkKS6RPsJIk"
      },
      "execution_count": 290,
      "outputs": []
    },
    {
      "cell_type": "code",
      "source": [
        "X_test.shape"
      ],
      "metadata": {
        "colab": {
          "base_uri": "https://localhost:8080/"
        },
        "id": "KDhnw7FmJBMV",
        "outputId": "f4813c34-fb10-40db-9e58-9c26651a6345"
      },
      "execution_count": 291,
      "outputs": [
        {
          "output_type": "execute_result",
          "data": {
            "text/plain": [
              "(2576, 44)"
            ]
          },
          "metadata": {},
          "execution_count": 291
        }
      ]
    },
    {
      "cell_type": "code",
      "source": [
        "plt.plot(y[:200])\n",
        "\n",
        "plt.axhline(y=np.mean(y),color=\"r\")\n",
        "\n",
        "plt.show()"
      ],
      "metadata": {
        "colab": {
          "base_uri": "https://localhost:8080/",
          "height": 430
        },
        "id": "lqLccxV5dcq5",
        "outputId": "26b34dbd-2dd3-48ba-f11b-6ebe6f9da70a"
      },
      "execution_count": 292,
      "outputs": [
        {
          "output_type": "display_data",
          "data": {
            "text/plain": [
              "<Figure size 640x480 with 1 Axes>"
            ],
            "image/png": "[encoded data removed]"
          },
          "metadata": {}
        }
      ]
    },
    {
      "cell_type": "markdown",
      "source": [
        "RMSE: 0.23482446347423627"
      ],
      "metadata": {
        "id": "ePwCl6TGdtDX"
      }
    },
    {
      "cell_type": "markdown",
      "source": [
        "Meilleurs hyperparamètres pour random_forest: {'max_depth': 5, 'n_estimators': 200}\n",
        "Meilleur score (MSE négatif): -0.2340036180873569\n",
        "RMSE sur les données de test (échelle originale): 0.2335042472317143\n"
      ],
      "metadata": {
        "id": "CZ7CXVZsgUyu"
      }
    },
    {
      "cell_type": "markdown",
      "source": [
        "Meilleurs hyperparamètres pour random_forest: {'max_depth': 5, 'n_estimators': 300}\n",
        "Meilleur score (MSE négatif): -0.23492476298757098\n",
        "RMSE sur les données de test (échelle originale): 0.22796032138612404\n",
        "Modèle sauvegardé sous : random_forest_model.joblib"
      ],
      "metadata": {
        "id": "HYhcCr-vjQdU"
      }
    },
    {
      "cell_type": "code",
      "source": [
        "import pandas as pd\n",
        "from sklearn.ensemble import RandomForestRegressor,GradientBoostingRegressor\n",
        "from sklearn.metrics import mean_absolute_percentage_error, root_mean_squared_error\n",
        "\n",
        "def random_forest(X_train, y_train, X_test, y_test):\n",
        "    \"\"\"\n",
        "    Combine RandomForest et GARCH pour la prévision avec évaluation.\n",
        "\n",
        "    Args:\n",
        "        X_train: Données d'entraînement (features).\n",
        "        y_train: Valeurs cibles pour l'entraînement.\n",
        "        X_test: Données de test (features).\n",
        "        y_test: Valeurs cibles pour le test.\n",
        "\n",
        "    Returns:\n",
        "        Un dictionnaire contenant :\n",
        "            - Les prédictions du modèle combiné sur les données de test.\n",
        "            - Le MAPE et le RMSE.\n",
        "    \"\"\"\n",
        "\n",
        "    # 1. Entraîner RandomForest\n",
        "    rf_model = RandomForestRegressor(n_estimators=300, max_depth=5,random_state=42)\n",
        "    rf_model.fit(X_train, y_train)\n",
        "\n",
        "    # 2. Prédictions de RandomForest et calcul des résidus\n",
        "    rf_predictions = rf_model.predict(X_test)\n",
        "    return rf_predictions,rf_model"
      ],
      "metadata": {
        "id": "HqA3-7cLhDor"
      },
      "execution_count": 293,
      "outputs": []
    },
    {
      "cell_type": "code",
      "source": [
        "def evaluate_model(model, X_test, y_test):\n",
        "\n",
        "    predictions = model.predict(X_test)\n",
        "    mape = mean_absolute_percentage_error(y_test, predictions)\n",
        "    rmse = root_mean_squared_error(y_test, predictions)\n",
        "\n",
        "    results = {\n",
        "        'MAPE': mape,\n",
        "        'RMSE': rmse\n",
        "    }\n",
        "\n",
        "    print(results)\n",
        "    return"
      ],
      "metadata": {
        "id": "By2gTAFXhflJ"
      },
      "execution_count": 294,
      "outputs": []
    },
    {
      "cell_type": "markdown",
      "source": [
        "# Je m'intéresse à l'erreur sur les données d'entrainnement et après l'étude des erreurs j'élimise les lignes menant à une grande erreur en dehors de l'intervalle de confiance"
      ],
      "metadata": {
        "id": "JQmeVJGGpifs"
      }
    },
    {
      "cell_type": "code",
      "source": [
        "X_train.head()"
      ],
      "metadata": {
        "colab": {
          "base_uri": "https://localhost:8080/",
          "height": 273
        },
        "id": "u5-mItAHKkdg",
        "outputId": "86eb2f5b-08fd-4707-8f8d-a5ca380eaca3"
      },
      "execution_count": 295,
      "outputs": [
        {
          "output_type": "execute_result",
          "data": {
            "text/plain": [
              "       prix_unitaire  jour_ferie  weekend  stock_disponible  \\\n",
              "59445       7771.410           0        0             229.0   \n",
              "56442      25271.125           1        0             430.0   \n",
              "9871       35471.860           0        0             436.0   \n",
              "81280       3706.170           0        1             248.0   \n",
              "38166       3879.360           0        0             190.0   \n",
              "\n",
              "       categorie_Alimentaire  categorie_Habillement  categorie_Électronique  \\\n",
              "59445                      0                      0                       1   \n",
              "56442                      0                      0                       1   \n",
              "9871                       0                      1                       0   \n",
              "81280                      1                      0                       0   \n",
              "38166                      0                      0                       1   \n",
              "\n",
              "       marque_Adidas  marque_Apple  marque_Coca-Cola  ...  \\\n",
              "59445              0             0                 0  ...   \n",
              "56442              0             0                 0  ...   \n",
              "9871               0             0                 0  ...   \n",
              "81280              0             0                 1  ...   \n",
              "38166              0             1                 0  ...   \n",
              "\n",
              "       moment_journee_Soirée  prix_unitaire_stock  prix_unitaire_power_2  \\\n",
              "59445                      0           1779652.89           6.039481e+07   \n",
              "56442                      0          10866583.75           6.386298e+08   \n",
              "9871                       0          15465730.96           1.258253e+09   \n",
              "81280                      0            919130.16           1.373570e+07   \n",
              "38166                      0            737078.40           1.504943e+07   \n",
              "\n",
              "       prix_unitaire_power_3  log_prix_unitaire  log_stock_disponible  \\\n",
              "59445           4.693529e+11           8.958336              5.438079   \n",
              "56442           1.613889e+13          10.137457              6.066108   \n",
              "9871            4.463257e+13          10.476523              6.079933   \n",
              "81280           5.090682e+10           8.218024              5.517453   \n",
              "38166           5.838217e+10           8.263683              5.252273   \n",
              "\n",
              "       inverse_prix_unitaire  inverse_stock_disponible  sqrt_prix_unitaire  \\\n",
              "59445               0.000129                  0.004348           88.155601   \n",
              "56442               0.000040                  0.002320          158.968944   \n",
              "9871                0.000028                  0.002288          188.339746   \n",
              "81280               0.000270                  0.004016           60.878321   \n",
              "38166               0.000258                  0.005236           62.284509   \n",
              "\n",
              "       sqrt_stock_disponible  \n",
              "59445              15.132746  \n",
              "56442              20.736441  \n",
              "9871               20.880613  \n",
              "81280              15.748016  \n",
              "38166              13.784049  \n",
              "\n",
              "[5 rows x 44 columns]"
            ],
            "text/html": [
              "\n",
              "  <div id=\"df-7af2b7c7-f40c-4a63-815a-96e2ebec14cb\" class=\"colab-df-container\">\n",
              "    <div>\n",
              "<style scoped>\n",
              "    .dataframe tbody tr th:only-of-type {\n",
              "        vertical-align: middle;\n",
              "    }\n",
              "\n",
              "    .dataframe tbody tr th {\n",
              "        vertical-align: top;\n",
              "    }\n",
              "\n",
              "    .dataframe thead th {\n",
              "        text-align: right;\n",
              "    }\n",
              "</style>\n",
              "<table border=\"1\" class=\"dataframe\">\n",
              "  <thead>\n",
              "    <tr style=\"text-align: right;\">\n",
              "      <th></th>\n",
              "      <th>prix_unitaire</th>\n",
              "      <th>jour_ferie</th>\n",
              "      <th>weekend</th>\n",
              "      <th>stock_disponible</th>\n",
              "      <th>categorie_Alimentaire</th>\n",
              "      <th>categorie_Habillement</th>\n",
              "      <th>categorie_Électronique</th>\n",
              "      <th>marque_Adidas</th>\n",
              "      <th>marque_Apple</th>\n",
              "      <th>marque_Coca-Cola</th>\n",
              "      <th>...</th>\n",
              "      <th>moment_journee_Soirée</th>\n",
              "      <th>prix_unitaire_stock</th>\n",
              "      <th>prix_unitaire_power_2</th>\n",
              "      <th>prix_unitaire_power_3</th>\n",
              "      <th>log_prix_unitaire</th>\n",
              "      <th>log_stock_disponible</th>\n",
              "      <th>inverse_prix_unitaire</th>\n",
              "      <th>inverse_stock_disponible</th>\n",
              "      <th>sqrt_prix_unitaire</th>\n",
              "      <th>sqrt_stock_disponible</th>\n",
              "    </tr>\n",
              "  </thead>\n",
              "  <tbody>\n",
              "    <tr>\n",
              "      <th>59445</th>\n",
              "      <td>7771.410</td>\n",
              "      <td>0</td>\n",
              "      <td>0</td>\n",
              "      <td>229.0</td>\n",
              "      <td>0</td>\n",
              "      <td>0</td>\n",
              "      <td>1</td>\n",
              "      <td>0</td>\n",
              "      <td>0</td>\n",
              "      <td>0</td>\n",
              "      <td>...</td>\n",
              "      <td>0</td>\n",
              "      <td>1779652.89</td>\n",
              "      <td>6.039481e+07</td>\n",
              "      <td>4.693529e+11</td>\n",
              "      <td>8.958336</td>\n",
              "      <td>5.438079</td>\n",
              "      <td>0.000129</td>\n",
              "      <td>0.004348</td>\n",
              "      <td>88.155601</td>\n",
              "      <td>15.132746</td>\n",
              "    </tr>\n",
              "    <tr>\n",
              "      <th>56442</th>\n",
              "      <td>25271.125</td>\n",
              "      <td>1</td>\n",
              "      <td>0</td>\n",
              "      <td>430.0</td>\n",
              "      <td>0</td>\n",
              "      <td>0</td>\n",
              "      <td>1</td>\n",
              "      <td>0</td>\n",
              "      <td>0</td>\n",
              "      <td>0</td>\n",
              "      <td>...</td>\n",
              "      <td>0</td>\n",
              "      <td>10866583.75</td>\n",
              "      <td>6.386298e+08</td>\n",
              "      <td>1.613889e+13</td>\n",
              "      <td>10.137457</td>\n",
              "      <td>6.066108</td>\n",
              "      <td>0.000040</td>\n",
              "      <td>0.002320</td>\n",
              "      <td>158.968944</td>\n",
              "      <td>20.736441</td>\n",
              "    </tr>\n",
              "    <tr>\n",
              "      <th>9871</th>\n",
              "      <td>35471.860</td>\n",
              "      <td>0</td>\n",
              "      <td>0</td>\n",
              "      <td>436.0</td>\n",
              "      <td>0</td>\n",
              "      <td>1</td>\n",
              "      <td>0</td>\n",
              "      <td>0</td>\n",
              "      <td>0</td>\n",
              "      <td>0</td>\n",
              "      <td>...</td>\n",
              "      <td>0</td>\n",
              "      <td>15465730.96</td>\n",
              "      <td>1.258253e+09</td>\n",
              "      <td>4.463257e+13</td>\n",
              "      <td>10.476523</td>\n",
              "      <td>6.079933</td>\n",
              "      <td>0.000028</td>\n",
              "      <td>0.002288</td>\n",
              "      <td>188.339746</td>\n",
              "      <td>20.880613</td>\n",
              "    </tr>\n",
              "    <tr>\n",
              "      <th>81280</th>\n",
              "      <td>3706.170</td>\n",
              "      <td>0</td>\n",
              "      <td>1</td>\n",
              "      <td>248.0</td>\n",
              "      <td>1</td>\n",
              "      <td>0</td>\n",
              "      <td>0</td>\n",
              "      <td>0</td>\n",
              "      <td>0</td>\n",
              "      <td>1</td>\n",
              "      <td>...</td>\n",
              "      <td>0</td>\n",
              "      <td>919130.16</td>\n",
              "      <td>1.373570e+07</td>\n",
              "      <td>5.090682e+10</td>\n",
              "      <td>8.218024</td>\n",
              "      <td>5.517453</td>\n",
              "      <td>0.000270</td>\n",
              "      <td>0.004016</td>\n",
              "      <td>60.878321</td>\n",
              "      <td>15.748016</td>\n",
              "    </tr>\n",
              "    <tr>\n",
              "      <th>38166</th>\n",
              "      <td>3879.360</td>\n",
              "      <td>0</td>\n",
              "      <td>0</td>\n",
              "      <td>190.0</td>\n",
              "      <td>0</td>\n",
              "      <td>0</td>\n",
              "      <td>1</td>\n",
              "      <td>0</td>\n",
              "      <td>1</td>\n",
              "      <td>0</td>\n",
              "      <td>...</td>\n",
              "      <td>0</td>\n",
              "      <td>737078.40</td>\n",
              "      <td>1.504943e+07</td>\n",
              "      <td>5.838217e+10</td>\n",
              "      <td>8.263683</td>\n",
              "      <td>5.252273</td>\n",
              "      <td>0.000258</td>\n",
              "      <td>0.005236</td>\n",
              "      <td>62.284509</td>\n",
              "      <td>13.784049</td>\n",
              "    </tr>\n",
              "  </tbody>\n",
              "</table>\n",
              "<p>5 rows × 44 columns</p>\n",
              "</div>\n",
              "    <div class=\"colab-df-buttons\">\n",
              "\n",
              "  <div class=\"colab-df-container\">\n",
              "    <button class=\"colab-df-convert\" onclick=\"convertToInteractive('df-7af2b7c7-f40c-4a63-815a-96e2ebec14cb')\"\n",
              "            title=\"Convert this dataframe to an interactive table.\"\n",
              "            style=\"display:none;\">\n",
              "\n",
              "  <svg xmlns=\"http://www.w3.org/2000/svg\" height=\"24px\" viewBox=\"0 -960 960 960\">\n",
              "    <path d=\"M120-120v-720h720v720H120Zm60-500h600v-160H180v160Zm220 220h160v-160H400v160Zm0 220h160v-160H400v160ZM180-400h160v-160H180v160Zm440 0h160v-160H620v160ZM180-180h160v-160H180v160Zm440 0h160v-160H620v160Z\"/>\n",
              "  </svg>\n",
              "    </button>\n",
              "\n",
              "  <style>\n",
              "    .colab-df-container {\n",
              "      display:flex;\n",
              "      gap: 12px;\n",
              "    }\n",
              "\n",
              "    .colab-df-convert {\n",
              "      background-color: #E8F0FE;\n",
              "      border: none;\n",
              "      border-radius: 50%;\n",
              "      cursor: pointer;\n",
              "      display: none;\n",
              "      fill: #1967D2;\n",
              "      height: 32px;\n",
              "      padding: 0 0 0 0;\n",
              "      width: 32px;\n",
              "    }\n",
              "\n",
              "    .colab-df-convert:hover {\n",
              "      background-color: #E2EBFA;\n",
              "      box-shadow: 0px 1px 2px rgba(60, 64, 67, 0.3), 0px 1px 3px 1px rgba(60, 64, 67, 0.15);\n",
              "      fill: #174EA6;\n",
              "    }\n",
              "\n",
              "    .colab-df-buttons div {\n",
              "      margin-bottom: 4px;\n",
              "    }\n",
              "\n",
              "    [theme=dark] .colab-df-convert {\n",
              "      background-color: #3B4455;\n",
              "      fill: #D2E3FC;\n",
              "    }\n",
              "\n",
              "    [theme=dark] .colab-df-convert:hover {\n",
              "      background-color: #434B5C;\n",
              "      box-shadow: 0px 1px 3px 1px rgba(0, 0, 0, 0.15);\n",
              "      filter: drop-shadow(0px 1px 2px rgba(0, 0, 0, 0.3));\n",
              "      fill: #FFFFFF;\n",
              "    }\n",
              "  </style>\n",
              "\n",
              "    <script>\n",
              "      const buttonEl =\n",
              "        document.querySelector('#df-7af2b7c7-f40c-4a63-815a-96e2ebec14cb button.colab-df-convert');\n",
              "      buttonEl.style.display =\n",
              "        google.colab.kernel.accessAllowed ? 'block' : 'none';\n",
              "\n",
              "      async function convertToInteractive(key) {\n",
              "        const element = document.querySelector('#df-7af2b7c7-f40c-4a63-815a-96e2ebec14cb');\n",
              "        const dataTable =\n",
              "          await google.colab.kernel.invokeFunction('convertToInteractive',\n",
              "                                                    [key], {});\n",
              "        if (!dataTable) return;\n",
              "\n",
              "        const docLinkHtml = 'Like what you see? Visit the ' +\n",
              "          '<a target=\"_blank\" href=https://colab.research.google.com/notebooks/data_table.ipynb>data table notebook</a>'\n",
              "          + ' to learn more about interactive tables.';\n",
              "        element.innerHTML = '';\n",
              "        dataTable['output_type'] = 'display_data';\n",
              "        await google.colab.output.renderOutput(dataTable, element);\n",
              "        const docLink = document.createElement('div');\n",
              "        docLink.innerHTML = docLinkHtml;\n",
              "        element.appendChild(docLink);\n",
              "      }\n",
              "    </script>\n",
              "  </div>\n",
              "\n",
              "\n",
              "<div id=\"df-b18fbde0-2987-492b-817a-05258f127102\">\n",
              "  <button class=\"colab-df-quickchart\" onclick=\"quickchart('df-b18fbde0-2987-492b-817a-05258f127102')\"\n",
              "            title=\"Suggest charts\"\n",
              "            style=\"display:none;\">\n",
              "\n",
              "<svg xmlns=\"http://www.w3.org/2000/svg\" height=\"24px\"viewBox=\"0 0 24 24\"\n",
              "     width=\"24px\">\n",
              "    <g>\n",
              "        <path d=\"M19 3H5c-1.1 0-2 .9-2 2v14c0 1.1.9 2 2 2h14c1.1 0 2-.9 2-2V5c0-1.1-.9-2-2-2zM9 17H7v-7h2v7zm4 0h-2V7h2v10zm4 0h-2v-4h2v4z\"/>\n",
              "    </g>\n",
              "</svg>\n",
              "  </button>\n",
              "\n",
              "<style>\n",
              "  .colab-df-quickchart {\n",
              "      --bg-color: #E8F0FE;\n",
              "      --fill-color: #1967D2;\n",
              "      --hover-bg-color: #E2EBFA;\n",
              "      --hover-fill-color: #174EA6;\n",
              "      --disabled-fill-color: #AAA;\n",
              "      --disabled-bg-color: #DDD;\n",
              "  }\n",
              "\n",
              "  [theme=dark] .colab-df-quickchart {\n",
              "      --bg-color: #3B4455;\n",
              "      --fill-color: #D2E3FC;\n",
              "      --hover-bg-color: #434B5C;\n",
              "      --hover-fill-color: #FFFFFF;\n",
              "      --disabled-bg-color: #3B4455;\n",
              "      --disabled-fill-color: #666;\n",
              "  }\n",
              "\n",
              "  .colab-df-quickchart {\n",
              "    background-color: var(--bg-color);\n",
              "    border: none;\n",
              "    border-radius: 50%;\n",
              "    cursor: pointer;\n",
              "    display: none;\n",
              "    fill: var(--fill-color);\n",
              "    height: 32px;\n",
              "    padding: 0;\n",
              "    width: 32px;\n",
              "  }\n",
              "\n",
              "  .colab-df-quickchart:hover {\n",
              "    background-color: var(--hover-bg-color);\n",
              "    box-shadow: 0 1px 2px rgba(60, 64, 67, 0.3), 0 1px 3px 1px rgba(60, 64, 67, 0.15);\n",
              "    fill: var(--button-hover-fill-color);\n",
              "  }\n",
              "\n",
              "  .colab-df-quickchart-complete:disabled,\n",
              "  .colab-df-quickchart-complete:disabled:hover {\n",
              "    background-color: var(--disabled-bg-color);\n",
              "    fill: var(--disabled-fill-color);\n",
              "    box-shadow: none;\n",
              "  }\n",
              "\n",
              "  .colab-df-spinner {\n",
              "    border: 2px solid var(--fill-color);\n",
              "    border-color: transparent;\n",
              "    border-bottom-color: var(--fill-color);\n",
              "    animation:\n",
              "      spin 1s steps(1) infinite;\n",
              "  }\n",
              "\n",
              "  @keyframes spin {\n",
              "    0% {\n",
              "      border-color: transparent;\n",
              "      border-bottom-color: var(--fill-color);\n",
              "      border-left-color: var(--fill-color);\n",
              "    }\n",
              "    20% {\n",
              "      border-color: transparent;\n",
              "      border-left-color: var(--fill-color);\n",
              "      border-top-color: var(--fill-color);\n",
              "    }\n",
              "    30% {\n",
              "      border-color: transparent;\n",
              "      border-left-color: var(--fill-color);\n",
              "      border-top-color: var(--fill-color);\n",
              "      border-right-color: var(--fill-color);\n",
              "    }\n",
              "    40% {\n",
              "      border-color: transparent;\n",
              "      border-right-color: var(--fill-color);\n",
              "      border-top-color: var(--fill-color);\n",
              "    }\n",
              "    60% {\n",
              "      border-color: transparent;\n",
              "      border-right-color: var(--fill-color);\n",
              "    }\n",
              "    80% {\n",
              "      border-color: transparent;\n",
              "      border-right-color: var(--fill-color);\n",
              "      border-bottom-color: var(--fill-color);\n",
              "    }\n",
              "    90% {\n",
              "      border-color: transparent;\n",
              "      border-bottom-color: var(--fill-color);\n",
              "    }\n",
              "  }\n",
              "</style>\n",
              "\n",
              "  <script>\n",
              "    async function quickchart(key) {\n",
              "      const quickchartButtonEl =\n",
              "        document.querySelector('#' + key + ' button');\n",
              "      quickchartButtonEl.disabled = true;  // To prevent multiple clicks.\n",
              "      quickchartButtonEl.classList.add('colab-df-spinner');\n",
              "      try {\n",
              "        const charts = await google.colab.kernel.invokeFunction(\n",
              "            'suggestCharts', [key], {});\n",
              "      } catch (error) {\n",
              "        console.error('Error during call to suggestCharts:', error);\n",
              "      }\n",
              "      quickchartButtonEl.classList.remove('colab-df-spinner');\n",
              "      quickchartButtonEl.classList.add('colab-df-quickchart-complete');\n",
              "    }\n",
              "    (() => {\n",
              "      let quickchartButtonEl =\n",
              "        document.querySelector('#df-b18fbde0-2987-492b-817a-05258f127102 button');\n",
              "      quickchartButtonEl.style.display =\n",
              "        google.colab.kernel.accessAllowed ? 'block' : 'none';\n",
              "    })();\n",
              "  </script>\n",
              "</div>\n",
              "\n",
              "    </div>\n",
              "  </div>\n"
            ],
            "application/vnd.google.colaboratory.intrinsic+json": {
              "type": "dataframe",
              "variable_name": "X_train"
            }
          },
          "metadata": {},
          "execution_count": 295
        }
      ]
    },
    {
      "cell_type": "code",
      "source": [
        "X_test.shape"
      ],
      "metadata": {
        "colab": {
          "base_uri": "https://localhost:8080/"
        },
        "id": "G577gq-MIzl3",
        "outputId": "9f0a0618-0641-4223-c005-bdf32d8629bd"
      },
      "execution_count": 296,
      "outputs": [
        {
          "output_type": "execute_result",
          "data": {
            "text/plain": [
              "(2576, 44)"
            ]
          },
          "metadata": {},
          "execution_count": 296
        }
      ]
    },
    {
      "cell_type": "code",
      "source": [
        "_, model_rf = random_forest(X_train, y_train, X_test, y_test)"
      ],
      "metadata": {
        "id": "N6k90zQgTxGA"
      },
      "execution_count": 297,
      "outputs": []
    },
    {
      "cell_type": "code",
      "source": [
        "#residuals = y_test - rf_predictions\n",
        "residuals = y_train - model_rf.predict(X_train)\n",
        "moy = np.mean(residuals)\n",
        "std = np.std(residuals)\n",
        "plt.scatter(range(len(residuals[:400])), residuals[:400])  # x = index, y = résidus\n",
        "plt.axhline(y=moy, color='y', linestyle='--')\n",
        "plt.axhline(y=moy + 1.7*std, color='r', linestyle='-')\n",
        "plt.axhline(y=moy - 2*std, color='r', linestyle='-')\n",
        "plt.xlabel('Index')\n",
        "plt.ylabel('Résidus')\n",
        "plt.title('Nuage de points des résidus')\n",
        "plt.show()"
      ],
      "metadata": {
        "colab": {
          "base_uri": "https://localhost:8080/",
          "height": 472
        },
        "id": "_zz7VBC0hgo1",
        "outputId": "c111ea7f-fda4-47c2-f70c-3b17b235a074"
      },
      "execution_count": 363,
      "outputs": [
        {
          "output_type": "display_data",
          "data": {
            "text/plain": [
              "<Figure size 640x480 with 1 Axes>"
            ],
            "image/png": "[encoded data removed]"
          },
          "metadata": {}
        }
      ]
    },
    {
      "cell_type": "code",
      "source": [
        "evaluate_model(model_rf, X_test, y_test)"
      ],
      "metadata": {
        "colab": {
          "base_uri": "https://localhost:8080/"
        },
        "id": "wgMIAlBbM0qt",
        "outputId": "000c2f84-83e7-4199-8990-ab2277a5a514"
      },
      "execution_count": 299,
      "outputs": [
        {
          "output_type": "stream",
          "name": "stdout",
          "text": [
            "{'MAPE': 0.22226891320351502, 'RMSE': 3.965000656596088}\n"
          ]
        }
      ]
    },
    {
      "cell_type": "code",
      "source": [
        "evaluate_model(model_rf, X_train, y_train)"
      ],
      "metadata": {
        "colab": {
          "base_uri": "https://localhost:8080/"
        },
        "id": "VVFX-f39hyyA",
        "outputId": "50bc9290-30b5-4a6a-9ccf-7864dbc08e43"
      },
      "execution_count": 300,
      "outputs": [
        {
          "output_type": "stream",
          "name": "stdout",
          "text": [
            "{'MAPE': 0.23174925652886452, 'RMSE': 4.023344321458376}\n"
          ]
        }
      ]
    },
    {
      "cell_type": "code",
      "source": [
        "impo = 100*model_rf.feature_importances_/np.sum(model_rf.feature_importances_)\n",
        "\n",
        "plt.plot(sorted(np.cumsum(impo),reverse=True))\n",
        "plt.axvline(x=12, color='r', linestyle='--')\n",
        "plt.axvline(x=22, color='r', linestyle='--')\n",
        "plt.xlabel('Nombre de variables')\n",
        "plt.ylabel('Importance cumulée')\n",
        "plt.title('Importance cumulée des variables')\n",
        "plt.show()"
      ],
      "metadata": {
        "colab": {
          "base_uri": "https://localhost:8080/",
          "height": 472
        },
        "id": "D8KASBiWSMrx",
        "outputId": "11794c17-e4e8-4594-99b0-4db218c0d0f9"
      },
      "execution_count": 301,
      "outputs": [
        {
          "output_type": "display_data",
          "data": {
            "text/plain": [
              "<Figure size 640x480 with 1 Axes>"
            ],
            "image/png": "[encoded data removed]"
          },
          "metadata": {}
        }
      ]
    },
    {
      "cell_type": "code",
      "source": [
        "impo = 100*model_rf.feature_importances_/np.sum(model_rf.feature_importances_)\n",
        "\n",
        "seuil = sorted(impo,reverse=True)[21]\n",
        "\n",
        "print(\"Feature importance keept : \", np.sum(impo[impo>seuil]))\n",
        "\n",
        "selected_features = X_train.columns[impo>seuil]"
      ],
      "metadata": {
        "colab": {
          "base_uri": "https://localhost:8080/"
        },
        "id": "WlBewW4jdZC5",
        "outputId": "931d8802-6f0a-42c4-f9fb-4a7bcb745743"
      },
      "execution_count": 302,
      "outputs": [
        {
          "output_type": "stream",
          "name": "stdout",
          "text": [
            "Feature importance keept :  99.821842611167\n"
          ]
        }
      ]
    },
    {
      "cell_type": "code",
      "source": [
        "# Calculate residuals\n",
        "\n",
        "def filtrage_data(model, X_train, y_train,z):\n",
        "\n",
        "    predictions_train = model.predict(X_train)\n",
        "    residuals_train = y_train - predictions_train\n",
        "\n",
        "    # Identify outliers\n",
        "    lower_bound = moy - z*std\n",
        "    upper_bound = moy + z*std\n",
        "    outliers = np.where((residuals < lower_bound) | (residuals > upper_bound))[0]\n",
        "\n",
        "    # Filter out outliers from the test data\n",
        "    X_train_filtered = X_train.drop(index=X_train.index[outliers])\n",
        "    y_train_filtered = y_train.drop(index=y_train.index[outliers])\n",
        "\n",
        "    return X_train_filtered, y_train_filtered\n",
        "\n",
        "X_train_filtered, y_train_filtered = filtrage_data(model_rf, X_train, y_train,z=1)"
      ],
      "metadata": {
        "id": "i67CyD5GWYmX"
      },
      "execution_count": 383,
      "outputs": []
    },
    {
      "cell_type": "markdown",
      "source": [
        "# Evaluation sur les données exempte de certains outliers"
      ],
      "metadata": {
        "id": "6IKLSNouVLOb"
      }
    },
    {
      "cell_type": "code",
      "source": [
        "model_rf_filtered = RandomForestRegressor(n_estimators=300, max_depth=5,random_state=42)\n",
        "model_rf_filtered.fit(X_train_filtered, y_train_filtered)"
      ],
      "metadata": {
        "colab": {
          "base_uri": "https://localhost:8080/",
          "height": 80
        },
        "id": "Bwms4GSTQ5mF",
        "outputId": "239c8c14-6036-43a2-e4df-1af215b6b3c8"
      },
      "execution_count": 384,
      "outputs": [
        {
          "output_type": "execute_result",
          "data": {
            "text/plain": [
              "RandomForestRegressor(max_depth=5, n_estimators=300, random_state=42)"
            ],
            "text/html": [
              "<style>#sk-container-id-14 {\n",
              "  /* Definition of color scheme common for light and dark mode */\n",
              "  --sklearn-color-text: #000;\n",
              "  --sklearn-color-text-muted: #666;\n",
              "  --sklearn-color-line: gray;\n",
              "  /* Definition of color scheme for unfitted estimators */\n",
              "  --sklearn-color-unfitted-level-0: #fff5e6;\n",
              "  --sklearn-color-unfitted-level-1: #f6e4d2;\n",
              "  --sklearn-color-unfitted-level-2: #ffe0b3;\n",
              "  --sklearn-color-unfitted-level-3: chocolate;\n",
              "  /* Definition of color scheme for fitted estimators */\n",
              "  --sklearn-color-fitted-level-0: #f0f8ff;\n",
              "  --sklearn-color-fitted-level-1: #d4ebff;\n",
              "  --sklearn-color-fitted-level-2: #b3dbfd;\n",
              "  --sklearn-color-fitted-level-3: cornflowerblue;\n",
              "\n",
              "  /* Specific color for light theme */\n",
              "  --sklearn-color-text-on-default-background: var(--sg-text-color, var(--theme-code-foreground, var(--jp-content-font-color1, black)));\n",
              "  --sklearn-color-background: var(--sg-background-color, var(--theme-background, var(--jp-layout-color0, white)));\n",
              "  --sklearn-color-border-box: var(--sg-text-color, var(--theme-code-foreground, var(--jp-content-font-color1, black)));\n",
              "  --sklearn-color-icon: #696969;\n",
              "\n",
              "  @media (prefers-color-scheme: dark) {\n",
              "    /* Redefinition of color scheme for dark theme */\n",
              "    --sklearn-color-text-on-default-background: var(--sg-text-color, var(--theme-code-foreground, var(--jp-content-font-color1, white)));\n",
              "    --sklearn-color-background: var(--sg-background-color, var(--theme-background, var(--jp-layout-color0, #111)));\n",
              "    --sklearn-color-border-box: var(--sg-text-color, var(--theme-code-foreground, var(--jp-content-font-color1, white)));\n",
              "    --sklearn-color-icon: #878787;\n",
              "  }\n",
              "}\n",
              "\n",
              "#sk-container-id-14 {\n",
              "  color: var(--sklearn-color-text);\n",
              "}\n",
              "\n",
              "#sk-container-id-14 pre {\n",
              "  padding: 0;\n",
              "}\n",
              "\n",
              "#sk-container-id-14 input.sk-hidden--visually {\n",
              "  border: 0;\n",
              "  clip: rect(1px 1px 1px 1px);\n",
              "  clip: rect(1px, 1px, 1px, 1px);\n",
              "  height: 1px;\n",
              "  margin: -1px;\n",
              "  overflow: hidden;\n",
              "  padding: 0;\n",
              "  position: absolute;\n",
              "  width: 1px;\n",
              "}\n",
              "\n",
              "#sk-container-id-14 div.sk-dashed-wrapped {\n",
              "  border: 1px dashed var(--sklearn-color-line);\n",
              "  margin: 0 0.4em 0.5em 0.4em;\n",
              "  box-sizing: border-box;\n",
              "  padding-bottom: 0.4em;\n",
              "  background-color: var(--sklearn-color-background);\n",
              "}\n",
              "\n",
              "#sk-container-id-14 div.sk-container {\n",
              "  /* jupyter's `normalize.less` sets `[hidden] { display: none; }`\n",
              "     but bootstrap.min.css set `[hidden] { display: none !important; }`\n",
              "     so we also need the `!important` here to be able to override the\n",
              "     default hidden behavior on the sphinx rendered scikit-learn.org.\n",
              "     See: https://github.com/scikit-learn/scikit-learn/issues/21755 */\n",
              "  display: inline-block !important;\n",
              "  position: relative;\n",
              "}\n",
              "\n",
              "#sk-container-id-14 div.sk-text-repr-fallback {\n",
              "  display: none;\n",
              "}\n",
              "\n",
              "div.sk-parallel-item,\n",
              "div.sk-serial,\n",
              "div.sk-item {\n",
              "  /* draw centered vertical line to link estimators */\n",
              "  background-image: linear-gradient(var(--sklearn-color-text-on-default-background), var(--sklearn-color-text-on-default-background));\n",
              "  background-size: 2px 100%;\n",
              "  background-repeat: no-repeat;\n",
              "  background-position: center center;\n",
              "}\n",
              "\n",
              "/* Parallel-specific style estimator block */\n",
              "\n",
              "#sk-container-id-14 div.sk-parallel-item::after {\n",
              "  content: \"\";\n",
              "  width: 100%;\n",
              "  border-bottom: 2px solid var(--sklearn-color-text-on-default-background);\n",
              "  flex-grow: 1;\n",
              "}\n",
              "\n",
              "#sk-container-id-14 div.sk-parallel {\n",
              "  display: flex;\n",
              "  align-items: stretch;\n",
              "  justify-content: center;\n",
              "  background-color: var(--sklearn-color-background);\n",
              "  position: relative;\n",
              "}\n",
              "\n",
              "#sk-container-id-14 div.sk-parallel-item {\n",
              "  display: flex;\n",
              "  flex-direction: column;\n",
              "}\n",
              "\n",
              "#sk-container-id-14 div.sk-parallel-item:first-child::after {\n",
              "  align-self: flex-end;\n",
              "  width: 50%;\n",
              "}\n",
              "\n",
              "#sk-container-id-14 div.sk-parallel-item:last-child::after {\n",
              "  align-self: flex-start;\n",
              "  width: 50%;\n",
              "}\n",
              "\n",
              "#sk-container-id-14 div.sk-parallel-item:only-child::after {\n",
              "  width: 0;\n",
              "}\n",
              "\n",
              "/* Serial-specific style estimator block */\n",
              "\n",
              "#sk-container-id-14 div.sk-serial {\n",
              "  display: flex;\n",
              "  flex-direction: column;\n",
              "  align-items: center;\n",
              "  background-color: var(--sklearn-color-background);\n",
              "  padding-right: 1em;\n",
              "  padding-left: 1em;\n",
              "}\n",
              "\n",
              "\n",
              "/* Toggleable style: style used for estimator/Pipeline/ColumnTransformer box that is\n",
              "clickable and can be expanded/collapsed.\n",
              "- Pipeline and ColumnTransformer use this feature and define the default style\n",
              "- Estimators will overwrite some part of the style using the `sk-estimator` class\n",
              "*/\n",
              "\n",
              "/* Pipeline and ColumnTransformer style (default) */\n",
              "\n",
              "#sk-container-id-14 div.sk-toggleable {\n",
              "  /* Default theme specific background. It is overwritten whether we have a\n",
              "  specific estimator or a Pipeline/ColumnTransformer */\n",
              "  background-color: var(--sklearn-color-background);\n",
              "}\n",
              "\n",
              "/* Toggleable label */\n",
              "#sk-container-id-14 label.sk-toggleable__label {\n",
              "  cursor: pointer;\n",
              "  display: flex;\n",
              "  width: 100%;\n",
              "  margin-bottom: 0;\n",
              "  padding: 0.5em;\n",
              "  box-sizing: border-box;\n",
              "  text-align: center;\n",
              "  align-items: start;\n",
              "  justify-content: space-between;\n",
              "  gap: 0.5em;\n",
              "}\n",
              "\n",
              "#sk-container-id-14 label.sk-toggleable__label .caption {\n",
              "  font-size: 0.6rem;\n",
              "  font-weight: lighter;\n",
              "  color: var(--sklearn-color-text-muted);\n",
              "}\n",
              "\n",
              "#sk-container-id-14 label.sk-toggleable__label-arrow:before {\n",
              "  /* Arrow on the left of the label */\n",
              "  content: \"▸\";\n",
              "  float: left;\n",
              "  margin-right: 0.25em;\n",
              "  color: var(--sklearn-color-icon);\n",
              "}\n",
              "\n",
              "#sk-container-id-14 label.sk-toggleable__label-arrow:hover:before {\n",
              "  color: var(--sklearn-color-text);\n",
              "}\n",
              "\n",
              "/* Toggleable content - dropdown */\n",
              "\n",
              "#sk-container-id-14 div.sk-toggleable__content {\n",
              "  max-height: 0;\n",
              "  max-width: 0;\n",
              "  overflow: hidden;\n",
              "  text-align: left;\n",
              "  /* unfitted */\n",
              "  background-color: var(--sklearn-color-unfitted-level-0);\n",
              "}\n",
              "\n",
              "#sk-container-id-14 div.sk-toggleable__content.fitted {\n",
              "  /* fitted */\n",
              "  background-color: var(--sklearn-color-fitted-level-0);\n",
              "}\n",
              "\n",
              "#sk-container-id-14 div.sk-toggleable__content pre {\n",
              "  margin: 0.2em;\n",
              "  border-radius: 0.25em;\n",
              "  color: var(--sklearn-color-text);\n",
              "  /* unfitted */\n",
              "  background-color: var(--sklearn-color-unfitted-level-0);\n",
              "}\n",
              "\n",
              "#sk-container-id-14 div.sk-toggleable__content.fitted pre {\n",
              "  /* unfitted */\n",
              "  background-color: var(--sklearn-color-fitted-level-0);\n",
              "}\n",
              "\n",
              "#sk-container-id-14 input.sk-toggleable__control:checked~div.sk-toggleable__content {\n",
              "  /* Expand drop-down */\n",
              "  max-height: 200px;\n",
              "  max-width: 100%;\n",
              "  overflow: auto;\n",
              "}\n",
              "\n",
              "#sk-container-id-14 input.sk-toggleable__control:checked~label.sk-toggleable__label-arrow:before {\n",
              "  content: \"▾\";\n",
              "}\n",
              "\n",
              "/* Pipeline/ColumnTransformer-specific style */\n",
              "\n",
              "#sk-container-id-14 div.sk-label input.sk-toggleable__control:checked~label.sk-toggleable__label {\n",
              "  color: var(--sklearn-color-text);\n",
              "  background-color: var(--sklearn-color-unfitted-level-2);\n",
              "}\n",
              "\n",
              "#sk-container-id-14 div.sk-label.fitted input.sk-toggleable__control:checked~label.sk-toggleable__label {\n",
              "  background-color: var(--sklearn-color-fitted-level-2);\n",
              "}\n",
              "\n",
              "/* Estimator-specific style */\n",
              "\n",
              "/* Colorize estimator box */\n",
              "#sk-container-id-14 div.sk-estimator input.sk-toggleable__control:checked~label.sk-toggleable__label {\n",
              "  /* unfitted */\n",
              "  background-color: var(--sklearn-color-unfitted-level-2);\n",
              "}\n",
              "\n",
              "#sk-container-id-14 div.sk-estimator.fitted input.sk-toggleable__control:checked~label.sk-toggleable__label {\n",
              "  /* fitted */\n",
              "  background-color: var(--sklearn-color-fitted-level-2);\n",
              "}\n",
              "\n",
              "#sk-container-id-14 div.sk-label label.sk-toggleable__label,\n",
              "#sk-container-id-14 div.sk-label label {\n",
              "  /* The background is the default theme color */\n",
              "  color: var(--sklearn-color-text-on-default-background);\n",
              "}\n",
              "\n",
              "/* On hover, darken the color of the background */\n",
              "#sk-container-id-14 div.sk-label:hover label.sk-toggleable__label {\n",
              "  color: var(--sklearn-color-text);\n",
              "  background-color: var(--sklearn-color-unfitted-level-2);\n",
              "}\n",
              "\n",
              "/* Label box, darken color on hover, fitted */\n",
              "#sk-container-id-14 div.sk-label.fitted:hover label.sk-toggleable__label.fitted {\n",
              "  color: var(--sklearn-color-text);\n",
              "  background-color: var(--sklearn-color-fitted-level-2);\n",
              "}\n",
              "\n",
              "/* Estimator label */\n",
              "\n",
              "#sk-container-id-14 div.sk-label label {\n",
              "  font-family: monospace;\n",
              "  font-weight: bold;\n",
              "  display: inline-block;\n",
              "  line-height: 1.2em;\n",
              "}\n",
              "\n",
              "#sk-container-id-14 div.sk-label-container {\n",
              "  text-align: center;\n",
              "}\n",
              "\n",
              "/* Estimator-specific */\n",
              "#sk-container-id-14 div.sk-estimator {\n",
              "  font-family: monospace;\n",
              "  border: 1px dotted var(--sklearn-color-border-box);\n",
              "  border-radius: 0.25em;\n",
              "  box-sizing: border-box;\n",
              "  margin-bottom: 0.5em;\n",
              "  /* unfitted */\n",
              "  background-color: var(--sklearn-color-unfitted-level-0);\n",
              "}\n",
              "\n",
              "#sk-container-id-14 div.sk-estimator.fitted {\n",
              "  /* fitted */\n",
              "  background-color: var(--sklearn-color-fitted-level-0);\n",
              "}\n",
              "\n",
              "/* on hover */\n",
              "#sk-container-id-14 div.sk-estimator:hover {\n",
              "  /* unfitted */\n",
              "  background-color: var(--sklearn-color-unfitted-level-2);\n",
              "}\n",
              "\n",
              "#sk-container-id-14 div.sk-estimator.fitted:hover {\n",
              "  /* fitted */\n",
              "  background-color: var(--sklearn-color-fitted-level-2);\n",
              "}\n",
              "\n",
              "/* Specification for estimator info (e.g. \"i\" and \"?\") */\n",
              "\n",
              "/* Common style for \"i\" and \"?\" */\n",
              "\n",
              ".sk-estimator-doc-link,\n",
              "a:link.sk-estimator-doc-link,\n",
              "a:visited.sk-estimator-doc-link {\n",
              "  float: right;\n",
              "  font-size: smaller;\n",
              "  line-height: 1em;\n",
              "  font-family: monospace;\n",
              "  background-color: var(--sklearn-color-background);\n",
              "  border-radius: 1em;\n",
              "  height: 1em;\n",
              "  width: 1em;\n",
              "  text-decoration: none !important;\n",
              "  margin-left: 0.5em;\n",
              "  text-align: center;\n",
              "  /* unfitted */\n",
              "  border: var(--sklearn-color-unfitted-level-1) 1pt solid;\n",
              "  color: var(--sklearn-color-unfitted-level-1);\n",
              "}\n",
              "\n",
              ".sk-estimator-doc-link.fitted,\n",
              "a:link.sk-estimator-doc-link.fitted,\n",
              "a:visited.sk-estimator-doc-link.fitted {\n",
              "  /* fitted */\n",
              "  border: var(--sklearn-color-fitted-level-1) 1pt solid;\n",
              "  color: var(--sklearn-color-fitted-level-1);\n",
              "}\n",
              "\n",
              "/* On hover */\n",
              "div.sk-estimator:hover .sk-estimator-doc-link:hover,\n",
              ".sk-estimator-doc-link:hover,\n",
              "div.sk-label-container:hover .sk-estimator-doc-link:hover,\n",
              ".sk-estimator-doc-link:hover {\n",
              "  /* unfitted */\n",
              "  background-color: var(--sklearn-color-unfitted-level-3);\n",
              "  color: var(--sklearn-color-background);\n",
              "  text-decoration: none;\n",
              "}\n",
              "\n",
              "div.sk-estimator.fitted:hover .sk-estimator-doc-link.fitted:hover,\n",
              ".sk-estimator-doc-link.fitted:hover,\n",
              "div.sk-label-container:hover .sk-estimator-doc-link.fitted:hover,\n",
              ".sk-estimator-doc-link.fitted:hover {\n",
              "  /* fitted */\n",
              "  background-color: var(--sklearn-color-fitted-level-3);\n",
              "  color: var(--sklearn-color-background);\n",
              "  text-decoration: none;\n",
              "}\n",
              "\n",
              "/* Span, style for the box shown on hovering the info icon */\n",
              ".sk-estimator-doc-link span {\n",
              "  display: none;\n",
              "  z-index: 9999;\n",
              "  position: relative;\n",
              "  font-weight: normal;\n",
              "  right: .2ex;\n",
              "  padding: .5ex;\n",
              "  margin: .5ex;\n",
              "  width: min-content;\n",
              "  min-width: 20ex;\n",
              "  max-width: 50ex;\n",
              "  color: var(--sklearn-color-text);\n",
              "  box-shadow: 2pt 2pt 4pt #999;\n",
              "  /* unfitted */\n",
              "  background: var(--sklearn-color-unfitted-level-0);\n",
              "  border: .5pt solid var(--sklearn-color-unfitted-level-3);\n",
              "}\n",
              "\n",
              ".sk-estimator-doc-link.fitted span {\n",
              "  /* fitted */\n",
              "  background: var(--sklearn-color-fitted-level-0);\n",
              "  border: var(--sklearn-color-fitted-level-3);\n",
              "}\n",
              "\n",
              ".sk-estimator-doc-link:hover span {\n",
              "  display: block;\n",
              "}\n",
              "\n",
              "/* \"?\"-specific style due to the `<a>` HTML tag */\n",
              "\n",
              "#sk-container-id-14 a.estimator_doc_link {\n",
              "  float: right;\n",
              "  font-size: 1rem;\n",
              "  line-height: 1em;\n",
              "  font-family: monospace;\n",
              "  background-color: var(--sklearn-color-background);\n",
              "  border-radius: 1rem;\n",
              "  height: 1rem;\n",
              "  width: 1rem;\n",
              "  text-decoration: none;\n",
              "  /* unfitted */\n",
              "  color: var(--sklearn-color-unfitted-level-1);\n",
              "  border: var(--sklearn-color-unfitted-level-1) 1pt solid;\n",
              "}\n",
              "\n",
              "#sk-container-id-14 a.estimator_doc_link.fitted {\n",
              "  /* fitted */\n",
              "  border: var(--sklearn-color-fitted-level-1) 1pt solid;\n",
              "  color: var(--sklearn-color-fitted-level-1);\n",
              "}\n",
              "\n",
              "/* On hover */\n",
              "#sk-container-id-14 a.estimator_doc_link:hover {\n",
              "  /* unfitted */\n",
              "  background-color: var(--sklearn-color-unfitted-level-3);\n",
              "  color: var(--sklearn-color-background);\n",
              "  text-decoration: none;\n",
              "}\n",
              "\n",
              "#sk-container-id-14 a.estimator_doc_link.fitted:hover {\n",
              "  /* fitted */\n",
              "  background-color: var(--sklearn-color-fitted-level-3);\n",
              "}\n",
              "</style><div id=\"sk-container-id-14\" class=\"sk-top-container\"><div class=\"sk-text-repr-fallback\"><pre>RandomForestRegressor(max_depth=5, n_estimators=300, random_state=42)</pre><b>In a Jupyter environment, please rerun this cell to show the HTML representation or trust the notebook. <br />On GitHub, the HTML representation is unable to render, please try loading this page with nbviewer.org.</b></div><div class=\"sk-container\" hidden><div class=\"sk-item\"><div class=\"sk-estimator fitted sk-toggleable\"><input class=\"sk-toggleable__control sk-hidden--visually\" id=\"sk-estimator-id-14\" type=\"checkbox\" checked><label for=\"sk-estimator-id-14\" class=\"sk-toggleable__label fitted sk-toggleable__label-arrow\"><div><div>RandomForestRegressor</div></div><div><a class=\"sk-estimator-doc-link fitted\" rel=\"noreferrer\" target=\"_blank\" href=\"https://scikit-learn.org/1.6/modules/generated/sklearn.ensemble.RandomForestRegressor.html\">?<span>Documentation for RandomForestRegressor</span></a><span class=\"sk-estimator-doc-link fitted\">i<span>Fitted</span></span></div></label><div class=\"sk-toggleable__content fitted\"><pre>RandomForestRegressor(max_depth=5, n_estimators=300, random_state=42)</pre></div> </div></div></div></div>"
            ]
          },
          "metadata": {},
          "execution_count": 384
        }
      ]
    },
    {
      "cell_type": "code",
      "source": [
        "evaluate_model(model_rf_filtered, X_test, y_test)"
      ],
      "metadata": {
        "colab": {
          "base_uri": "https://localhost:8080/"
        },
        "id": "vMincEHkRJ0d",
        "outputId": "1fb210ff-f646-481a-e002-b06a86954a70"
      },
      "execution_count": 385,
      "outputs": [
        {
          "output_type": "stream",
          "name": "stdout",
          "text": [
            "{'MAPE': 0.22082576445818894, 'RMSE': 4.001452207682626}\n"
          ]
        }
      ]
    },
    {
      "cell_type": "code",
      "source": [
        "evaluate_model(model_rf_filtered, X_train_filtered, y_train_filtered)"
      ],
      "metadata": {
        "colab": {
          "base_uri": "https://localhost:8080/"
        },
        "id": "Rn3UEii2RXjw",
        "outputId": "d9fd030c-fe4a-4cd4-e3f0-a473997aeea7"
      },
      "execution_count": 386,
      "outputs": [
        {
          "output_type": "stream",
          "name": "stdout",
          "text": [
            "{'MAPE': 0.11839479940740602, 'RMSE': 2.088438199715741}\n"
          ]
        }
      ]
    },
    {
      "cell_type": "code",
      "source": [
        "import pandas as pd\n",
        "from sklearn.preprocessing import StandardScaler\n",
        "\n",
        "def predict_on_sub_data(sub_data, model1,model_name = \"rf\"):\n",
        "    \"\"\"\n",
        "    Makes predictions on sub_data using the combined models from combine_models.\n",
        "\n",
        "    Args:\n",
        "        sub_data: The DataFrame containing the data to make predictions on.\n",
        "        model1: The first trained model.\n",
        "        model2: The second trained model.\n",
        "        features_to_drop: A list of features to drop from sub_data.\n",
        "        scaler: The StandardScaler object used to scale the training data.\n",
        "\n",
        "    Returns:\n",
        "        A pandas Series containing the predictions for sub_data.\n",
        "    \"\"\"\n",
        "    sub_d=sub_data#[X_train_filtered.columns].copy()\n",
        "    # 3. Make predictions using both models\n",
        "    predictions1 = model1.predict(sub_d)\n",
        "    sub_d['quantite_vendue'] = predictions1\n",
        "    sub_d[\"id\"] = sub_d.index\n",
        "    # ... (Save your predictions to a CSV file for submission)\n",
        "    sub_d[['id', 'quantite_vendue']].to_csv(model_name+'_predictions.csv', index=False)\n",
        "    # 5. Return the combined predictions as a pandas Series\n",
        "    return"
      ],
      "metadata": {
        "id": "KlvibhPwdFHf"
      },
      "execution_count": 368,
      "outputs": []
    },
    {
      "cell_type": "code",
      "source": [
        "sub_data_s = final_clean_data_subs.drop(columns=['id_produit','date'])"
      ],
      "metadata": {
        "id": "9aEv_OGkXnYT"
      },
      "execution_count": 369,
      "outputs": []
    },
    {
      "cell_type": "code",
      "source": [
        "predict_on_sub_data(sub_data_s, model_rf_filtered,model_name = \"rf_filtered\")"
      ],
      "metadata": {
        "id": "4_MBAChNfV9D"
      },
      "execution_count": 370,
      "outputs": []
    },
    {
      "cell_type": "code",
      "source": [
        "sub_data_s = final_clean_data_subs.drop(columns=['id_produit','date'])[selected_features]\n",
        "\n",
        "predict_on_sub_data(sub_data_s, model_rf_filtered_sele,model_name = \"rf_filtered_sele\")"
      ],
      "metadata": {
        "id": "qm2DomIYbwcD"
      },
      "execution_count": 353,
      "outputs": []
    },
    {
      "cell_type": "markdown",
      "source": [
        "# Test"
      ],
      "metadata": {
        "id": "afBoR8D6kyXo"
      }
    },
    {
      "cell_type": "code",
      "source": [
        "actual1 = pd.read_csv(\"/content/rf_filtered_predictions.csv\")\n",
        "actual2 = pd.read_csv(\"/content/rf_filtered_sele_predictions.csv\")\n",
        "pred = pd.read_csv(\"/content/rf_v2_0.247904.csv\")"
      ],
      "metadata": {
        "id": "AeQj_WLoiz4F"
      },
      "execution_count": 371,
      "outputs": []
    },
    {
      "cell_type": "code",
      "source": [
        "mean_absolute_percentage_error(actual1['quantite_vendue'], pred['quantite_vendue'])"
      ],
      "metadata": {
        "colab": {
          "base_uri": "https://localhost:8080/"
        },
        "id": "irQNFfDXlK-s",
        "outputId": "63bb5a29-977f-484b-b1ef-9f30a7b5e626"
      },
      "execution_count": 373,
      "outputs": [
        {
          "output_type": "execute_result",
          "data": {
            "text/plain": [
              "0.023418219364772383"
            ]
          },
          "metadata": {},
          "execution_count": 373
        }
      ]
    },
    {
      "cell_type": "code",
      "source": [
        "m = np.mean(actual1['quantite_vendue'])\n",
        "sd = np.std(actual1['quantite_vendue'])\n",
        "plt.figure(figsize=(10, 6))\n",
        "plt.plot(actual1['quantite_vendue'][:100],'-o')\n",
        "plt.plot(pred['quantite_vendue'][:100],'ro-')\n",
        "plt.axhline(y=m,color=\"r\")\n",
        "plt.axhline(y=m+1*sd,color=\"r\")\n",
        "plt.axhline(y=m-1*sd,color=\"r\")\n",
        "plt.show()"
      ],
      "metadata": {
        "colab": {
          "base_uri": "https://localhost:8080/",
          "height": 403
        },
        "id": "w4Yruq3FleLO",
        "outputId": "ffaf8212-075b-438f-9a2d-c66da814cb92"
      },
      "execution_count": 382,
      "outputs": [
        {
          "output_type": "display_data",
          "data": {
            "text/plain": [
              "<Figure size 1000x600 with 1 Axes>"
            ],
            "image/png": "[encoded data removed]"
          },
          "metadata": {}
        }
      ]
    },
    {
      "cell_type": "code",
      "source": [
        "best_z"
      ],
      "metadata": {
        "colab": {
          "base_uri": "https://localhost:8080/"
        },
        "id": "tczqMmpRyyko",
        "outputId": "f7cca089-3394-4eef-e442-0fe1402a2866"
      },
      "execution_count": 330,
      "outputs": [
        {
          "output_type": "execute_result",
          "data": {
            "text/plain": [
              "2.4000000000000012"
            ]
          },
          "metadata": {},
          "execution_count": 330
        }
      ]
    },
    {
      "cell_type": "code",
      "source": [],
      "metadata": {
        "id": "_doGHs-SZLVt"
      },
      "execution_count": null,
      "outputs": []
    }
  ]
}