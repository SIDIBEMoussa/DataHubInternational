{
  "nbformat": 4,
  "nbformat_minor": 0,
  "metadata": {
    "colab": {
      "provenance": [],
      "include_colab_link": true
    },
    "kernelspec": {
      "name": "python3",
      "display_name": "Python 3"
    },
    "language_info": {
      "name": "python"
    }
  },
  "cells": [
    {
      "cell_type": "markdown",
      "metadata": {
        "id": "view-in-github",
        "colab_type": "text"
      },
      "source": [
        "<a href=\"https://colab.research.google.com/github/SIDIBEMoussa/DataHubInternational/blob/main/DATATOUR_2024_rf_win_version.ipynb\" target=\"_parent\"><img src=\"https://colab.research.google.com/assets/colab-badge.svg\" alt=\"Open In Colab\"/></a>"
      ]
    },
    {
      "cell_type": "markdown",
      "source": [
        "---\n",
        "\n",
        "# **Challenge Finale DataTour 2024 :** Prédiction des ventes futures pour une entreprise basée sur les ventes passées et des facteurs contextuels\n",
        "\n",
        "---\n",
        "\n",
        "### **Contexte :**\n",
        "\n",
        "L’Afrique connaît une dynamique économique croissante avec une diversité d'entreprises opérant dans des secteurs variés (commerce de détail, e-commerce, agroalimentaire, etc.). Cependant, l'un des défis majeurs pour les entreprises africaines reste la gestion des stocks et la prédiction des ventes futures. Une prédiction précise des ventes peut aider les entreprises à mieux gérer leur inventaire, optimiser leurs promotions, ajuster leur stratégie de prix et maximiser leurs profits. En raison de la nature volatile de la demande, des promotions fréquentes, de la variation des conditions météorologiques et des événements spéciaux (tels que les fêtes et jours fériés), une méthode basée sur l'analyse des données passées est essentielle pour établir des prévisions fiables.\n",
        "\n",
        "Ce projet vise à **prédire les ventes futures d'une entreprise** en se basant sur les ventes passées et plusieurs facteurs contextuels influençant la demande, notamment les promotions, les jours fériés, les conditions météorologiques et la disponibilité des stocks.\n",
        "\n",
        "---\n",
        "\n",
        "### **Objectifs :**\n",
        "\n",
        "À partir des données historiques de ventes d'une entreprise entre **2022-01-01 et 2024-10-31**, prédire le nombre d'unités qui seront vendues entre le **2024-11-01 et le 2024-11-30**. Cette prédiction permettra à l'entreprise de mieux gérer ses stocks, planifier ses campagnes promotionnelles et ajuster ses stratégies de marketing.\n",
        "\n",
        "---\n",
        "\n",
        "### **Structure des données**\n",
        "\n",
        "Les données sont divisées en deux fichiers distincts :\n",
        "\n",
        "1. **Fichier d’entraînement** (`train.csv`) :\n",
        "   - **Taille** : 83 047 lignes.\n",
        "   - **Colonnes** : Comprend toutes les colonnes, y compris la cible `quantite_vendue`.\n",
        "   - **Utilisation** : Ces données servent à entraîner et tester votre modèles.\n",
        "   - **Source** : https://raw.githubusercontent.com/dataafriquehub/donnee_vente/refs/heads/main/train.csv\n",
        "\n",
        "\n",
        "2. **Fichier de soumission** (`submission.csv`) :\n",
        "   - **Taille** : 2 576 lignes.\n",
        "   - **Colonnes** : Contient toutes les caractéristiques sauf la colonne cible `quantite_vendue`.\n",
        "   - **Utilisation** : Ce fichier doit être utilisé pour générer les prédictions finales, sans accès à la colonne cible.\n",
        "   - **Source** : https://raw.githubusercontent.com/dataafriquehub/donnee_vente/refs/heads/main/submission.csv\n",
        "\n",
        "---\n",
        "\n",
        "### **Description des colonnes**\n",
        "\n",
        "Le dataset contient des informations relatives aux transactions de ventes passées, couvrant la période du **2022-01-01 au 2024-10-31**. Les variables disponibles sont :\n",
        "Voici les informations sous forme de tableau :\n",
        "\n",
        "| **Variable**                | **Description**                                                                                   |\n",
        "|-----------------------------|---------------------------------------------------------------------------------------------------|\n",
        "| **ID Produit (id_produit)**  | Identifiant unique pour chaque produit vendu.                                                     |\n",
        "| **Date (date)**              | La date de la vente, allant du 1er janvier 2022 au 31 octobre 2024.                               |\n",
        "| **Catégorie (categorie)**    | La catégorie du produit (ex. Électronique, Habillement, Alimentaire).                             |\n",
        "| **Marque (marque)**          | La marque du produit (ex. Samsung, Nike, Nestlé, etc.).                                           |\n",
        "| **Prix Unitaire (prix_unitaire)** | Le prix de vente par unité du produit.                                                            |\n",
        "| **Promotion (promotion)**    | Indicateur binaire (0 ou 1) indiquant si le produit était en promotion au moment de la vente.     |\n",
        "| **Jour Férié (jour_ferie)**  | Indicateur binaire (0 ou 1) indiquant si la vente a eu lieu un jour férié.                        |\n",
        "| **Week-end (weekend)**       | Indicateur binaire (0 ou 1) indiquant si la vente a eu lieu un week-end.                          |\n",
        "| **Stock Disponible (stock_disponible)** | Nombre d’unités disponibles pour la vente ce jour-là.                                            |\n",
        "| **Condition Météo (condition_meteo)** | Type de condition météo le jour de la vente (ex. Ensoleillé, Pluie, Orageux, Neigeux).              |\n",
        "| **Région (region)**          | Région géographique de la vente (ex. Urbain, Périurbain, Rural).                                 |\n",
        "| **Moment de la Journée (moment_journee)** | Le moment de la journée où la vente a eu lieu (ex. Matinée, Après-midi, Soirée).                |\n",
        "| **Quantité Vendue (quantite_vendue)** | Le nombre d'unités réellement vendues de chaque produit (pour l'entraînement seulement).         |\n",
        "\n",
        "\n",
        "*Note :* La **Quantité Vendue** est la variable cible à prédire pour la période de novembre 2024.\n",
        "\n",
        "Ces données serviront à entraîner le modèle de prédiction pour estimer les ventes du mois de **novembre 2024** (du **2024-11-01 au 2024-11-30**).\n",
        "\n",
        "---\n",
        "\n",
        "### **Critères d'évaluation**\n",
        "Les prédictions des équipes seront évaluées à l'aide de la **Mean Absolute Percentage Error (MAPE)**. Cette métrique mesure l'erreur moyenne entre les valeurs réelles et prédites en pourcentage.\n",
        "\n",
        "- Les équipes seront classées selon leur **score MAPE**.\n",
        "- **Les équipes ayant les MAPE les plus faibles** (indiquant une meilleure précision) seront classées en tête.\n",
        "- Trois soumissions au plus par équipe quotidiennement\n",
        "\n",
        "---\n",
        "\n",
        "### **Format de la soumission**\n",
        "Les participants doivent soumettre un fichier CSV avec exactement les colonnes suivantes :\n",
        "\n",
        "- **`id`** : L'identifiant de chaque ligne dans `submission.csv`.\n",
        "- **`quantite_vendue`** : La prédiction de la quantite_vendue pour chaque ligne.\n",
        "- **Lien vers le formulaire soumission :** https://docs.google.com/forms/d/e/1FAIpQLSeZcaBaYLSa8ZJ3xcqFEIuTThA4GcaBBIwI32RzEzNaYh-kAg/viewform\n",
        "\n",
        "Exemple de format attendu :\n",
        "```csv\n",
        "id,quantite_vendue\n",
        "1,320\n",
        "2,7500\n",
        "3,1000\n",
        "...\n",
        "```\n",
        "\n",
        "---\n",
        "\n",
        "\n",
        "\n",
        "\n",
        "Ainsi, ce projet de prédiction des ventes est non seulement crucial pour l'entreprise dans sa gestion quotidienne, mais il permet également de mieux anticiper les besoins du marché à l'échelle locale, avec une approche basée sur les données réelles de l'entreprise.\n",
        "\n",
        "**Prêts à relever? Faites donc partir des meilleurs de DataTour2024 et faites briller les couleurs des drapeaux de votre pays**"
      ],
      "metadata": {
        "id": "9DS4tw2fGBsF"
      }
    },
    {
      "cell_type": "markdown",
      "source": [
        "##Analyse Exploiratoire des Données"
      ],
      "metadata": {
        "id": "iNVpLd4Q3Kae"
      }
    },
    {
      "cell_type": "code",
      "source": [
        "import warnings\n",
        "warnings.filterwarnings('ignore')"
      ],
      "metadata": {
        "id": "AfUhYyE6DDY3"
      },
      "execution_count": 2,
      "outputs": []
    },
    {
      "cell_type": "code",
      "source": [
        "import pandas as pd                 # for data manipulation and analysis\n",
        "import numpy as np                  # for mathematical operations\n",
        "import plotly.express as px         # for data visualization\n",
        "import seaborn as sns               # for data visualization\n",
        "import matplotlib.pyplot as plt     # for data visualization"
      ],
      "metadata": {
        "id": "_K7OhjP_KsGX"
      },
      "execution_count": 3,
      "outputs": []
    },
    {
      "cell_type": "code",
      "source": [
        "#Connexion au drive pour sauvegarder les résultats\n",
        "\n",
        "from google.colab import drive\n",
        "drive.mount('/content/drive')"
      ],
      "metadata": {
        "id": "n4mefpqwUnXw",
        "colab": {
          "base_uri": "https://localhost:8080/"
        },
        "outputId": "f7fd578c-5ccb-492f-9246-c8c32312da0f"
      },
      "execution_count": 4,
      "outputs": [
        {
          "output_type": "stream",
          "name": "stdout",
          "text": [
            "Mounted at /content/drive\n"
          ]
        }
      ]
    },
    {
      "cell_type": "code",
      "source": [
        "# Chargement des données\n",
        "train_data = pd.read_csv(\"https://raw.githubusercontent.com/dataafriquehub/donnee_vente/refs/heads/main/train.csv\")\n",
        "sub_data = pd.read_csv(\"https://raw.githubusercontent.com/dataafriquehub/donnee_vente/refs/heads/main/submission.csv\")"
      ],
      "metadata": {
        "id": "_jSZSrpQ3dFg"
      },
      "execution_count": 5,
      "outputs": []
    },
    {
      "cell_type": "code",
      "source": [
        "train_data.head(2)"
      ],
      "metadata": {
        "colab": {
          "base_uri": "https://localhost:8080/",
          "height": 184
        },
        "id": "ZL6VBXLboOKT",
        "outputId": "3ecb065c-fb9b-480f-e662-ae42516f687c"
      },
      "execution_count": 6,
      "outputs": [
        {
          "output_type": "execute_result",
          "data": {
            "text/plain": [
              "   Unnamed: 0      id_produit        date     categorie marque  prix_unitaire  \\\n",
              "0           0  HAB-102024-024  2022-01-01   Habillement   Nike       31247.38   \n",
              "1           1  ÉLE-062022-019  2022-01-01  Électronique   Sony       13627.42   \n",
              "\n",
              "   promotion  jour_ferie  weekend  stock_disponible condition_meteo  region  \\\n",
              "0        0.0         0.0      1.0              37.0         Neigeux  Urbain   \n",
              "1        1.0         0.0      1.0               NaN      Ensoleillé  Urbain   \n",
              "\n",
              "  moment_journee  quantite_vendue  \n",
              "0         Soirée              NaN  \n",
              "1     Après-midi             23.0  "
            ],
            "text/html": [
              "\n",
              "  <div id=\"df-f5941198-fbb1-4ba7-934b-26cfea118b87\" class=\"colab-df-container\">\n",
              "    <div>\n",
              "<style scoped>\n",
              "    .dataframe tbody tr th:only-of-type {\n",
              "        vertical-align: middle;\n",
              "    }\n",
              "\n",
              "    .dataframe tbody tr th {\n",
              "        vertical-align: top;\n",
              "    }\n",
              "\n",
              "    .dataframe thead th {\n",
              "        text-align: right;\n",
              "    }\n",
              "</style>\n",
              "<table border=\"1\" class=\"dataframe\">\n",
              "  <thead>\n",
              "    <tr style=\"text-align: right;\">\n",
              "      <th></th>\n",
              "      <th>Unnamed: 0</th>\n",
              "      <th>id_produit</th>\n",
              "      <th>date</th>\n",
              "      <th>categorie</th>\n",
              "      <th>marque</th>\n",
              "      <th>prix_unitaire</th>\n",
              "      <th>promotion</th>\n",
              "      <th>jour_ferie</th>\n",
              "      <th>weekend</th>\n",
              "      <th>stock_disponible</th>\n",
              "      <th>condition_meteo</th>\n",
              "      <th>region</th>\n",
              "      <th>moment_journee</th>\n",
              "      <th>quantite_vendue</th>\n",
              "    </tr>\n",
              "  </thead>\n",
              "  <tbody>\n",
              "    <tr>\n",
              "      <th>0</th>\n",
              "      <td>0</td>\n",
              "      <td>HAB-102024-024</td>\n",
              "      <td>2022-01-01</td>\n",
              "      <td>Habillement</td>\n",
              "      <td>Nike</td>\n",
              "      <td>31247.38</td>\n",
              "      <td>0.0</td>\n",
              "      <td>0.0</td>\n",
              "      <td>1.0</td>\n",
              "      <td>37.0</td>\n",
              "      <td>Neigeux</td>\n",
              "      <td>Urbain</td>\n",
              "      <td>Soirée</td>\n",
              "      <td>NaN</td>\n",
              "    </tr>\n",
              "    <tr>\n",
              "      <th>1</th>\n",
              "      <td>1</td>\n",
              "      <td>ÉLE-062022-019</td>\n",
              "      <td>2022-01-01</td>\n",
              "      <td>Électronique</td>\n",
              "      <td>Sony</td>\n",
              "      <td>13627.42</td>\n",
              "      <td>1.0</td>\n",
              "      <td>0.0</td>\n",
              "      <td>1.0</td>\n",
              "      <td>NaN</td>\n",
              "      <td>Ensoleillé</td>\n",
              "      <td>Urbain</td>\n",
              "      <td>Après-midi</td>\n",
              "      <td>23.0</td>\n",
              "    </tr>\n",
              "  </tbody>\n",
              "</table>\n",
              "</div>\n",
              "    <div class=\"colab-df-buttons\">\n",
              "\n",
              "  <div class=\"colab-df-container\">\n",
              "    <button class=\"colab-df-convert\" onclick=\"convertToInteractive('df-f5941198-fbb1-4ba7-934b-26cfea118b87')\"\n",
              "            title=\"Convert this dataframe to an interactive table.\"\n",
              "            style=\"display:none;\">\n",
              "\n",
              "  <svg xmlns=\"http://www.w3.org/2000/svg\" height=\"24px\" viewBox=\"0 -960 960 960\">\n",
              "    <path d=\"M120-120v-720h720v720H120Zm60-500h600v-160H180v160Zm220 220h160v-160H400v160Zm0 220h160v-160H400v160ZM180-400h160v-160H180v160Zm440 0h160v-160H620v160ZM180-180h160v-160H180v160Zm440 0h160v-160H620v160Z\"/>\n",
              "  </svg>\n",
              "    </button>\n",
              "\n",
              "  <style>\n",
              "    .colab-df-container {\n",
              "      display:flex;\n",
              "      gap: 12px;\n",
              "    }\n",
              "\n",
              "    .colab-df-convert {\n",
              "      background-color: #E8F0FE;\n",
              "      border: none;\n",
              "      border-radius: 50%;\n",
              "      cursor: pointer;\n",
              "      display: none;\n",
              "      fill: #1967D2;\n",
              "      height: 32px;\n",
              "      padding: 0 0 0 0;\n",
              "      width: 32px;\n",
              "    }\n",
              "\n",
              "    .colab-df-convert:hover {\n",
              "      background-color: #E2EBFA;\n",
              "      box-shadow: 0px 1px 2px rgba(60, 64, 67, 0.3), 0px 1px 3px 1px rgba(60, 64, 67, 0.15);\n",
              "      fill: #174EA6;\n",
              "    }\n",
              "\n",
              "    .colab-df-buttons div {\n",
              "      margin-bottom: 4px;\n",
              "    }\n",
              "\n",
              "    [theme=dark] .colab-df-convert {\n",
              "      background-color: #3B4455;\n",
              "      fill: #D2E3FC;\n",
              "    }\n",
              "\n",
              "    [theme=dark] .colab-df-convert:hover {\n",
              "      background-color: #434B5C;\n",
              "      box-shadow: 0px 1px 3px 1px rgba(0, 0, 0, 0.15);\n",
              "      filter: drop-shadow(0px 1px 2px rgba(0, 0, 0, 0.3));\n",
              "      fill: #FFFFFF;\n",
              "    }\n",
              "  </style>\n",
              "\n",
              "    <script>\n",
              "      const buttonEl =\n",
              "        document.querySelector('#df-f5941198-fbb1-4ba7-934b-26cfea118b87 button.colab-df-convert');\n",
              "      buttonEl.style.display =\n",
              "        google.colab.kernel.accessAllowed ? 'block' : 'none';\n",
              "\n",
              "      async function convertToInteractive(key) {\n",
              "        const element = document.querySelector('#df-f5941198-fbb1-4ba7-934b-26cfea118b87');\n",
              "        const dataTable =\n",
              "          await google.colab.kernel.invokeFunction('convertToInteractive',\n",
              "                                                    [key], {});\n",
              "        if (!dataTable) return;\n",
              "\n",
              "        const docLinkHtml = 'Like what you see? Visit the ' +\n",
              "          '<a target=\"_blank\" href=https://colab.research.google.com/notebooks/data_table.ipynb>data table notebook</a>'\n",
              "          + ' to learn more about interactive tables.';\n",
              "        element.innerHTML = '';\n",
              "        dataTable['output_type'] = 'display_data';\n",
              "        await google.colab.output.renderOutput(dataTable, element);\n",
              "        const docLink = document.createElement('div');\n",
              "        docLink.innerHTML = docLinkHtml;\n",
              "        element.appendChild(docLink);\n",
              "      }\n",
              "    </script>\n",
              "  </div>\n",
              "\n",
              "\n",
              "<div id=\"df-7e18981a-056a-4f1b-bac8-e9feb7364b6f\">\n",
              "  <button class=\"colab-df-quickchart\" onclick=\"quickchart('df-7e18981a-056a-4f1b-bac8-e9feb7364b6f')\"\n",
              "            title=\"Suggest charts\"\n",
              "            style=\"display:none;\">\n",
              "\n",
              "<svg xmlns=\"http://www.w3.org/2000/svg\" height=\"24px\"viewBox=\"0 0 24 24\"\n",
              "     width=\"24px\">\n",
              "    <g>\n",
              "        <path d=\"M19 3H5c-1.1 0-2 .9-2 2v14c0 1.1.9 2 2 2h14c1.1 0 2-.9 2-2V5c0-1.1-.9-2-2-2zM9 17H7v-7h2v7zm4 0h-2V7h2v10zm4 0h-2v-4h2v4z\"/>\n",
              "    </g>\n",
              "</svg>\n",
              "  </button>\n",
              "\n",
              "<style>\n",
              "  .colab-df-quickchart {\n",
              "      --bg-color: #E8F0FE;\n",
              "      --fill-color: #1967D2;\n",
              "      --hover-bg-color: #E2EBFA;\n",
              "      --hover-fill-color: #174EA6;\n",
              "      --disabled-fill-color: #AAA;\n",
              "      --disabled-bg-color: #DDD;\n",
              "  }\n",
              "\n",
              "  [theme=dark] .colab-df-quickchart {\n",
              "      --bg-color: #3B4455;\n",
              "      --fill-color: #D2E3FC;\n",
              "      --hover-bg-color: #434B5C;\n",
              "      --hover-fill-color: #FFFFFF;\n",
              "      --disabled-bg-color: #3B4455;\n",
              "      --disabled-fill-color: #666;\n",
              "  }\n",
              "\n",
              "  .colab-df-quickchart {\n",
              "    background-color: var(--bg-color);\n",
              "    border: none;\n",
              "    border-radius: 50%;\n",
              "    cursor: pointer;\n",
              "    display: none;\n",
              "    fill: var(--fill-color);\n",
              "    height: 32px;\n",
              "    padding: 0;\n",
              "    width: 32px;\n",
              "  }\n",
              "\n",
              "  .colab-df-quickchart:hover {\n",
              "    background-color: var(--hover-bg-color);\n",
              "    box-shadow: 0 1px 2px rgba(60, 64, 67, 0.3), 0 1px 3px 1px rgba(60, 64, 67, 0.15);\n",
              "    fill: var(--button-hover-fill-color);\n",
              "  }\n",
              "\n",
              "  .colab-df-quickchart-complete:disabled,\n",
              "  .colab-df-quickchart-complete:disabled:hover {\n",
              "    background-color: var(--disabled-bg-color);\n",
              "    fill: var(--disabled-fill-color);\n",
              "    box-shadow: none;\n",
              "  }\n",
              "\n",
              "  .colab-df-spinner {\n",
              "    border: 2px solid var(--fill-color);\n",
              "    border-color: transparent;\n",
              "    border-bottom-color: var(--fill-color);\n",
              "    animation:\n",
              "      spin 1s steps(1) infinite;\n",
              "  }\n",
              "\n",
              "  @keyframes spin {\n",
              "    0% {\n",
              "      border-color: transparent;\n",
              "      border-bottom-color: var(--fill-color);\n",
              "      border-left-color: var(--fill-color);\n",
              "    }\n",
              "    20% {\n",
              "      border-color: transparent;\n",
              "      border-left-color: var(--fill-color);\n",
              "      border-top-color: var(--fill-color);\n",
              "    }\n",
              "    30% {\n",
              "      border-color: transparent;\n",
              "      border-left-color: var(--fill-color);\n",
              "      border-top-color: var(--fill-color);\n",
              "      border-right-color: var(--fill-color);\n",
              "    }\n",
              "    40% {\n",
              "      border-color: transparent;\n",
              "      border-right-color: var(--fill-color);\n",
              "      border-top-color: var(--fill-color);\n",
              "    }\n",
              "    60% {\n",
              "      border-color: transparent;\n",
              "      border-right-color: var(--fill-color);\n",
              "    }\n",
              "    80% {\n",
              "      border-color: transparent;\n",
              "      border-right-color: var(--fill-color);\n",
              "      border-bottom-color: var(--fill-color);\n",
              "    }\n",
              "    90% {\n",
              "      border-color: transparent;\n",
              "      border-bottom-color: var(--fill-color);\n",
              "    }\n",
              "  }\n",
              "</style>\n",
              "\n",
              "  <script>\n",
              "    async function quickchart(key) {\n",
              "      const quickchartButtonEl =\n",
              "        document.querySelector('#' + key + ' button');\n",
              "      quickchartButtonEl.disabled = true;  // To prevent multiple clicks.\n",
              "      quickchartButtonEl.classList.add('colab-df-spinner');\n",
              "      try {\n",
              "        const charts = await google.colab.kernel.invokeFunction(\n",
              "            'suggestCharts', [key], {});\n",
              "      } catch (error) {\n",
              "        console.error('Error during call to suggestCharts:', error);\n",
              "      }\n",
              "      quickchartButtonEl.classList.remove('colab-df-spinner');\n",
              "      quickchartButtonEl.classList.add('colab-df-quickchart-complete');\n",
              "    }\n",
              "    (() => {\n",
              "      let quickchartButtonEl =\n",
              "        document.querySelector('#df-7e18981a-056a-4f1b-bac8-e9feb7364b6f button');\n",
              "      quickchartButtonEl.style.display =\n",
              "        google.colab.kernel.accessAllowed ? 'block' : 'none';\n",
              "    })();\n",
              "  </script>\n",
              "</div>\n",
              "\n",
              "    </div>\n",
              "  </div>\n"
            ],
            "application/vnd.google.colaboratory.intrinsic+json": {
              "type": "dataframe",
              "variable_name": "train_data",
              "summary": "{\n  \"name\": \"train_data\",\n  \"rows\": 83047,\n  \"fields\": [\n    {\n      \"column\": \"Unnamed: 0\",\n      \"properties\": {\n        \"dtype\": \"number\",\n        \"std\": 23973,\n        \"min\": 0,\n        \"max\": 83046,\n        \"num_unique_values\": 83047,\n        \"samples\": [\n          81701,\n          71946,\n          31597\n        ],\n        \"semantic_type\": \"\",\n        \"description\": \"\"\n      }\n    },\n    {\n      \"column\": \"id_produit\",\n      \"properties\": {\n        \"dtype\": \"category\",\n        \"num_unique_values\": 150,\n        \"samples\": [\n          \"\\u00c9LE-112023-035\",\n          \"ALI-042022-033\",\n          \"HAB-102024-035\"\n        ],\n        \"semantic_type\": \"\",\n        \"description\": \"\"\n      }\n    },\n    {\n      \"column\": \"date\",\n      \"properties\": {\n        \"dtype\": \"object\",\n        \"num_unique_values\": 1035,\n        \"samples\": [\n          \"2022-10-22\",\n          \"2023-03-30\",\n          \"2023-10-01\"\n        ],\n        \"semantic_type\": \"\",\n        \"description\": \"\"\n      }\n    },\n    {\n      \"column\": \"categorie\",\n      \"properties\": {\n        \"dtype\": \"category\",\n        \"num_unique_values\": 3,\n        \"samples\": [\n          \"Habillement\",\n          \"\\u00c9lectronique\",\n          \"Alimentaire\"\n        ],\n        \"semantic_type\": \"\",\n        \"description\": \"\"\n      }\n    },\n    {\n      \"column\": \"marque\",\n      \"properties\": {\n        \"dtype\": \"category\",\n        \"num_unique_values\": 15,\n        \"samples\": [\n          \"Samsung\",\n          \"Coca-Cola\",\n          \"Nike\"\n        ],\n        \"semantic_type\": \"\",\n        \"description\": \"\"\n      }\n    },\n    {\n      \"column\": \"prix_unitaire\",\n      \"properties\": {\n        \"dtype\": \"number\",\n        \"std\": 14290.966382617433,\n        \"min\": 501.46,\n        \"max\": 49999.74,\n        \"num_unique_values\": 77956,\n        \"samples\": [\n          33443.05,\n          634.78,\n          48936.57\n        ],\n        \"semantic_type\": \"\",\n        \"description\": \"\"\n      }\n    },\n    {\n      \"column\": \"promotion\",\n      \"properties\": {\n        \"dtype\": \"number\",\n        \"std\": 0.5000039386503817,\n        \"min\": 0.0,\n        \"max\": 1.0,\n        \"num_unique_values\": 2,\n        \"samples\": [\n          1.0,\n          0.0\n        ],\n        \"semantic_type\": \"\",\n        \"description\": \"\"\n      }\n    },\n    {\n      \"column\": \"jour_ferie\",\n      \"properties\": {\n        \"dtype\": \"number\",\n        \"std\": 0.133787200977881,\n        \"min\": 0.0,\n        \"max\": 1.0,\n        \"num_unique_values\": 2,\n        \"samples\": [\n          1.0,\n          0.0\n        ],\n        \"semantic_type\": \"\",\n        \"description\": \"\"\n      }\n    },\n    {\n      \"column\": \"weekend\",\n      \"properties\": {\n        \"dtype\": \"number\",\n        \"std\": 0.45514202734674103,\n        \"min\": 0.0,\n        \"max\": 1.0,\n        \"num_unique_values\": 2,\n        \"samples\": [\n          0.0,\n          1.0\n        ],\n        \"semantic_type\": \"\",\n        \"description\": \"\"\n      }\n    },\n    {\n      \"column\": \"stock_disponible\",\n      \"properties\": {\n        \"dtype\": \"number\",\n        \"std\": 145.02822177726495,\n        \"min\": 0.0,\n        \"max\": 500.0,\n        \"num_unique_values\": 501,\n        \"samples\": [\n          252.0,\n          304.0\n        ],\n        \"semantic_type\": \"\",\n        \"description\": \"\"\n      }\n    },\n    {\n      \"column\": \"condition_meteo\",\n      \"properties\": {\n        \"dtype\": \"category\",\n        \"num_unique_values\": 5,\n        \"samples\": [\n          \"Ensoleill\\u00e9\",\n          \"Pluie\"\n        ],\n        \"semantic_type\": \"\",\n        \"description\": \"\"\n      }\n    },\n    {\n      \"column\": \"region\",\n      \"properties\": {\n        \"dtype\": \"category\",\n        \"num_unique_values\": 3,\n        \"samples\": [\n          \"Urbain\",\n          \"Rural\"\n        ],\n        \"semantic_type\": \"\",\n        \"description\": \"\"\n      }\n    },\n    {\n      \"column\": \"moment_journee\",\n      \"properties\": {\n        \"dtype\": \"category\",\n        \"num_unique_values\": 3,\n        \"samples\": [\n          \"Soir\\u00e9e\",\n          \"Apr\\u00e8s-midi\"\n        ],\n        \"semantic_type\": \"\",\n        \"description\": \"\"\n      }\n    },\n    {\n      \"column\": \"quantite_vendue\",\n      \"properties\": {\n        \"dtype\": \"number\",\n        \"std\": 4.65167160147954,\n        \"min\": 1.0,\n        \"max\": 39.0,\n        \"num_unique_values\": 39,\n        \"samples\": [\n          36.0,\n          1.0\n        ],\n        \"semantic_type\": \"\",\n        \"description\": \"\"\n      }\n    }\n  ]\n}"
            }
          },
          "metadata": {},
          "execution_count": 6
        }
      ]
    },
    {
      "cell_type": "markdown",
      "source": [
        "# Un aperçu sur la distribution de quelques variables"
      ],
      "metadata": {
        "id": "va1Em5itK_Cy"
      }
    },
    {
      "cell_type": "code",
      "source": [
        "# Repartition des modalités des variables qualitatives\n",
        "\n",
        "fig, axes = plt.subplots(2, 2, figsize=(20, 10))\n",
        "fig.suptitle('Repartition des modalités des variables qualitatives')\n",
        "sns.countplot(ax=axes[0, 0], x=\"categorie\", data=train_data, palette=\"Set2\")\n",
        "sns.countplot(ax=axes[0, 1], x=\"marque\", data=train_data, palette=\"Set2\")\n",
        "sns.countplot(ax=axes[1, 0], x=\"condition_meteo\", data=train_data, palette=\"Set2\", orient='v')\n",
        "sns.countplot(ax=axes[1, 1], x=\"moment_journee\", data=train_data, palette=\"Set2\")\n",
        "plt.show()"
      ],
      "metadata": {
        "colab": {
          "base_uri": "https://localhost:8080/",
          "height": 722
        },
        "id": "2xDxqzYs312G",
        "outputId": "195b08c2-66ca-4668-e06d-27790069b82d"
      },
      "execution_count": 7,
      "outputs": [
        {
          "output_type": "display_data",
          "data": {
            "text/plain": [
              "<Figure size 2000x1000 with 4 Axes>"
            ],
            "image/png": "[encoded data removed]"
          },
          "metadata": {}
        }
      ]
    },
    {
      "cell_type": "markdown",
      "source": [
        "Histogramme"
      ],
      "metadata": {
        "id": "YejnyYfQfGRx"
      }
    },
    {
      "cell_type": "code",
      "source": [
        "#kde=True pour avoir la densité en plus de l'histogramme\n",
        "fig, ax = plt.subplots(1,3,figsize=(14, 6))\n",
        "sns.histplot(data=train_data, x=\"quantite_vendue\", color=\"#e41a1c\", kde=True, ax=ax[0])\n",
        "sns.histplot(data=train_data, x=\"prix_unitaire\", color=\"#377eb8\", kde=True, ax=ax[2])\n",
        "sns.histplot(data=train_data, x=\"stock_disponible\", color=\"#4daf4a\", kde=True, ax=ax[1])\n",
        "plt.show()"
      ],
      "metadata": {
        "colab": {
          "base_uri": "https://localhost:8080/",
          "height": 542
        },
        "id": "vcu9gWlx64W_",
        "outputId": "e37df2dd-0044-419f-9ea4-44c4be10c0e3"
      },
      "execution_count": 10,
      "outputs": [
        {
          "output_type": "display_data",
          "data": {
            "text/plain": [
              "<Figure size 1400x600 with 3 Axes>"
            ],
            "image/png": "[encoded data removed]"
          },
          "metadata": {}
        }
      ]
    },
    {
      "cell_type": "markdown",
      "source": [
        "La distribution de la quantité vendue suit quasiment une distribution normale mais il y'a quelques observations qui sont très loin de la moyenne vers la droite"
      ],
      "metadata": {
        "id": "2cu07Nbx2ob0"
      }
    },
    {
      "cell_type": "code",
      "source": [
        "train_data.iloc[:,1:].describe()"
      ],
      "metadata": {
        "colab": {
          "base_uri": "https://localhost:8080/",
          "height": 300
        },
        "id": "Yb3m6zUA1_YN",
        "outputId": "62b10ffa-fa43-4b48-d257-2e7d3c518b7f"
      },
      "execution_count": 11,
      "outputs": [
        {
          "output_type": "execute_result",
          "data": {
            "text/plain": [
              "       prix_unitaire     promotion    jour_ferie       weekend  \\\n",
              "count   78582.000000  58923.000000  61982.000000  64587.000000   \n",
              "mean    25231.925162      0.500552      0.018231      0.293000   \n",
              "std     14290.966383      0.500004      0.133787      0.455142   \n",
              "min       501.460000      0.000000      0.000000      0.000000   \n",
              "25%     12817.997500      0.000000      0.000000      0.000000   \n",
              "50%     25271.125000      1.000000      0.000000      0.000000   \n",
              "75%     37569.770000      1.000000      0.000000      1.000000   \n",
              "max     49999.740000      1.000000      1.000000      1.000000   \n",
              "\n",
              "       stock_disponible  quantite_vendue  \n",
              "count      68999.000000     71640.000000  \n",
              "mean         249.811041        15.419710  \n",
              "std          145.028222         4.651672  \n",
              "min            0.000000         1.000000  \n",
              "25%          123.000000        12.000000  \n",
              "50%          250.000000        15.000000  \n",
              "75%          376.000000        18.000000  \n",
              "max          500.000000        39.000000  "
            ],
            "text/html": [
              "\n",
              "  <div id=\"df-ad6b05a0-c30f-453e-9e2f-267284bea674\" class=\"colab-df-container\">\n",
              "    <div>\n",
              "<style scoped>\n",
              "    .dataframe tbody tr th:only-of-type {\n",
              "        vertical-align: middle;\n",
              "    }\n",
              "\n",
              "    .dataframe tbody tr th {\n",
              "        vertical-align: top;\n",
              "    }\n",
              "\n",
              "    .dataframe thead th {\n",
              "        text-align: right;\n",
              "    }\n",
              "</style>\n",
              "<table border=\"1\" class=\"dataframe\">\n",
              "  <thead>\n",
              "    <tr style=\"text-align: right;\">\n",
              "      <th></th>\n",
              "      <th>prix_unitaire</th>\n",
              "      <th>promotion</th>\n",
              "      <th>jour_ferie</th>\n",
              "      <th>weekend</th>\n",
              "      <th>stock_disponible</th>\n",
              "      <th>quantite_vendue</th>\n",
              "    </tr>\n",
              "  </thead>\n",
              "  <tbody>\n",
              "    <tr>\n",
              "      <th>count</th>\n",
              "      <td>78582.000000</td>\n",
              "      <td>58923.000000</td>\n",
              "      <td>61982.000000</td>\n",
              "      <td>64587.000000</td>\n",
              "      <td>68999.000000</td>\n",
              "      <td>71640.000000</td>\n",
              "    </tr>\n",
              "    <tr>\n",
              "      <th>mean</th>\n",
              "      <td>25231.925162</td>\n",
              "      <td>0.500552</td>\n",
              "      <td>0.018231</td>\n",
              "      <td>0.293000</td>\n",
              "      <td>249.811041</td>\n",
              "      <td>15.419710</td>\n",
              "    </tr>\n",
              "    <tr>\n",
              "      <th>std</th>\n",
              "      <td>14290.966383</td>\n",
              "      <td>0.500004</td>\n",
              "      <td>0.133787</td>\n",
              "      <td>0.455142</td>\n",
              "      <td>145.028222</td>\n",
              "      <td>4.651672</td>\n",
              "    </tr>\n",
              "    <tr>\n",
              "      <th>min</th>\n",
              "      <td>501.460000</td>\n",
              "      <td>0.000000</td>\n",
              "      <td>0.000000</td>\n",
              "      <td>0.000000</td>\n",
              "      <td>0.000000</td>\n",
              "      <td>1.000000</td>\n",
              "    </tr>\n",
              "    <tr>\n",
              "      <th>25%</th>\n",
              "      <td>12817.997500</td>\n",
              "      <td>0.000000</td>\n",
              "      <td>0.000000</td>\n",
              "      <td>0.000000</td>\n",
              "      <td>123.000000</td>\n",
              "      <td>12.000000</td>\n",
              "    </tr>\n",
              "    <tr>\n",
              "      <th>50%</th>\n",
              "      <td>25271.125000</td>\n",
              "      <td>1.000000</td>\n",
              "      <td>0.000000</td>\n",
              "      <td>0.000000</td>\n",
              "      <td>250.000000</td>\n",
              "      <td>15.000000</td>\n",
              "    </tr>\n",
              "    <tr>\n",
              "      <th>75%</th>\n",
              "      <td>37569.770000</td>\n",
              "      <td>1.000000</td>\n",
              "      <td>0.000000</td>\n",
              "      <td>1.000000</td>\n",
              "      <td>376.000000</td>\n",
              "      <td>18.000000</td>\n",
              "    </tr>\n",
              "    <tr>\n",
              "      <th>max</th>\n",
              "      <td>49999.740000</td>\n",
              "      <td>1.000000</td>\n",
              "      <td>1.000000</td>\n",
              "      <td>1.000000</td>\n",
              "      <td>500.000000</td>\n",
              "      <td>39.000000</td>\n",
              "    </tr>\n",
              "  </tbody>\n",
              "</table>\n",
              "</div>\n",
              "    <div class=\"colab-df-buttons\">\n",
              "\n",
              "  <div class=\"colab-df-container\">\n",
              "    <button class=\"colab-df-convert\" onclick=\"convertToInteractive('df-ad6b05a0-c30f-453e-9e2f-267284bea674')\"\n",
              "            title=\"Convert this dataframe to an interactive table.\"\n",
              "            style=\"display:none;\">\n",
              "\n",
              "  <svg xmlns=\"http://www.w3.org/2000/svg\" height=\"24px\" viewBox=\"0 -960 960 960\">\n",
              "    <path d=\"M120-120v-720h720v720H120Zm60-500h600v-160H180v160Zm220 220h160v-160H400v160Zm0 220h160v-160H400v160ZM180-400h160v-160H180v160Zm440 0h160v-160H620v160ZM180-180h160v-160H180v160Zm440 0h160v-160H620v160Z\"/>\n",
              "  </svg>\n",
              "    </button>\n",
              "\n",
              "  <style>\n",
              "    .colab-df-container {\n",
              "      display:flex;\n",
              "      gap: 12px;\n",
              "    }\n",
              "\n",
              "    .colab-df-convert {\n",
              "      background-color: #E8F0FE;\n",
              "      border: none;\n",
              "      border-radius: 50%;\n",
              "      cursor: pointer;\n",
              "      display: none;\n",
              "      fill: #1967D2;\n",
              "      height: 32px;\n",
              "      padding: 0 0 0 0;\n",
              "      width: 32px;\n",
              "    }\n",
              "\n",
              "    .colab-df-convert:hover {\n",
              "      background-color: #E2EBFA;\n",
              "      box-shadow: 0px 1px 2px rgba(60, 64, 67, 0.3), 0px 1px 3px 1px rgba(60, 64, 67, 0.15);\n",
              "      fill: #174EA6;\n",
              "    }\n",
              "\n",
              "    .colab-df-buttons div {\n",
              "      margin-bottom: 4px;\n",
              "    }\n",
              "\n",
              "    [theme=dark] .colab-df-convert {\n",
              "      background-color: #3B4455;\n",
              "      fill: #D2E3FC;\n",
              "    }\n",
              "\n",
              "    [theme=dark] .colab-df-convert:hover {\n",
              "      background-color: #434B5C;\n",
              "      box-shadow: 0px 1px 3px 1px rgba(0, 0, 0, 0.15);\n",
              "      filter: drop-shadow(0px 1px 2px rgba(0, 0, 0, 0.3));\n",
              "      fill: #FFFFFF;\n",
              "    }\n",
              "  </style>\n",
              "\n",
              "    <script>\n",
              "      const buttonEl =\n",
              "        document.querySelector('#df-ad6b05a0-c30f-453e-9e2f-267284bea674 button.colab-df-convert');\n",
              "      buttonEl.style.display =\n",
              "        google.colab.kernel.accessAllowed ? 'block' : 'none';\n",
              "\n",
              "      async function convertToInteractive(key) {\n",
              "        const element = document.querySelector('#df-ad6b05a0-c30f-453e-9e2f-267284bea674');\n",
              "        const dataTable =\n",
              "          await google.colab.kernel.invokeFunction('convertToInteractive',\n",
              "                                                    [key], {});\n",
              "        if (!dataTable) return;\n",
              "\n",
              "        const docLinkHtml = 'Like what you see? Visit the ' +\n",
              "          '<a target=\"_blank\" href=https://colab.research.google.com/notebooks/data_table.ipynb>data table notebook</a>'\n",
              "          + ' to learn more about interactive tables.';\n",
              "        element.innerHTML = '';\n",
              "        dataTable['output_type'] = 'display_data';\n",
              "        await google.colab.output.renderOutput(dataTable, element);\n",
              "        const docLink = document.createElement('div');\n",
              "        docLink.innerHTML = docLinkHtml;\n",
              "        element.appendChild(docLink);\n",
              "      }\n",
              "    </script>\n",
              "  </div>\n",
              "\n",
              "\n",
              "<div id=\"df-d5459eb2-a1b8-483d-8025-41bcda1600c7\">\n",
              "  <button class=\"colab-df-quickchart\" onclick=\"quickchart('df-d5459eb2-a1b8-483d-8025-41bcda1600c7')\"\n",
              "            title=\"Suggest charts\"\n",
              "            style=\"display:none;\">\n",
              "\n",
              "<svg xmlns=\"http://www.w3.org/2000/svg\" height=\"24px\"viewBox=\"0 0 24 24\"\n",
              "     width=\"24px\">\n",
              "    <g>\n",
              "        <path d=\"M19 3H5c-1.1 0-2 .9-2 2v14c0 1.1.9 2 2 2h14c1.1 0 2-.9 2-2V5c0-1.1-.9-2-2-2zM9 17H7v-7h2v7zm4 0h-2V7h2v10zm4 0h-2v-4h2v4z\"/>\n",
              "    </g>\n",
              "</svg>\n",
              "  </button>\n",
              "\n",
              "<style>\n",
              "  .colab-df-quickchart {\n",
              "      --bg-color: #E8F0FE;\n",
              "      --fill-color: #1967D2;\n",
              "      --hover-bg-color: #E2EBFA;\n",
              "      --hover-fill-color: #174EA6;\n",
              "      --disabled-fill-color: #AAA;\n",
              "      --disabled-bg-color: #DDD;\n",
              "  }\n",
              "\n",
              "  [theme=dark] .colab-df-quickchart {\n",
              "      --bg-color: #3B4455;\n",
              "      --fill-color: #D2E3FC;\n",
              "      --hover-bg-color: #434B5C;\n",
              "      --hover-fill-color: #FFFFFF;\n",
              "      --disabled-bg-color: #3B4455;\n",
              "      --disabled-fill-color: #666;\n",
              "  }\n",
              "\n",
              "  .colab-df-quickchart {\n",
              "    background-color: var(--bg-color);\n",
              "    border: none;\n",
              "    border-radius: 50%;\n",
              "    cursor: pointer;\n",
              "    display: none;\n",
              "    fill: var(--fill-color);\n",
              "    height: 32px;\n",
              "    padding: 0;\n",
              "    width: 32px;\n",
              "  }\n",
              "\n",
              "  .colab-df-quickchart:hover {\n",
              "    background-color: var(--hover-bg-color);\n",
              "    box-shadow: 0 1px 2px rgba(60, 64, 67, 0.3), 0 1px 3px 1px rgba(60, 64, 67, 0.15);\n",
              "    fill: var(--button-hover-fill-color);\n",
              "  }\n",
              "\n",
              "  .colab-df-quickchart-complete:disabled,\n",
              "  .colab-df-quickchart-complete:disabled:hover {\n",
              "    background-color: var(--disabled-bg-color);\n",
              "    fill: var(--disabled-fill-color);\n",
              "    box-shadow: none;\n",
              "  }\n",
              "\n",
              "  .colab-df-spinner {\n",
              "    border: 2px solid var(--fill-color);\n",
              "    border-color: transparent;\n",
              "    border-bottom-color: var(--fill-color);\n",
              "    animation:\n",
              "      spin 1s steps(1) infinite;\n",
              "  }\n",
              "\n",
              "  @keyframes spin {\n",
              "    0% {\n",
              "      border-color: transparent;\n",
              "      border-bottom-color: var(--fill-color);\n",
              "      border-left-color: var(--fill-color);\n",
              "    }\n",
              "    20% {\n",
              "      border-color: transparent;\n",
              "      border-left-color: var(--fill-color);\n",
              "      border-top-color: var(--fill-color);\n",
              "    }\n",
              "    30% {\n",
              "      border-color: transparent;\n",
              "      border-left-color: var(--fill-color);\n",
              "      border-top-color: var(--fill-color);\n",
              "      border-right-color: var(--fill-color);\n",
              "    }\n",
              "    40% {\n",
              "      border-color: transparent;\n",
              "      border-right-color: var(--fill-color);\n",
              "      border-top-color: var(--fill-color);\n",
              "    }\n",
              "    60% {\n",
              "      border-color: transparent;\n",
              "      border-right-color: var(--fill-color);\n",
              "    }\n",
              "    80% {\n",
              "      border-color: transparent;\n",
              "      border-right-color: var(--fill-color);\n",
              "      border-bottom-color: var(--fill-color);\n",
              "    }\n",
              "    90% {\n",
              "      border-color: transparent;\n",
              "      border-bottom-color: var(--fill-color);\n",
              "    }\n",
              "  }\n",
              "</style>\n",
              "\n",
              "  <script>\n",
              "    async function quickchart(key) {\n",
              "      const quickchartButtonEl =\n",
              "        document.querySelector('#' + key + ' button');\n",
              "      quickchartButtonEl.disabled = true;  // To prevent multiple clicks.\n",
              "      quickchartButtonEl.classList.add('colab-df-spinner');\n",
              "      try {\n",
              "        const charts = await google.colab.kernel.invokeFunction(\n",
              "            'suggestCharts', [key], {});\n",
              "      } catch (error) {\n",
              "        console.error('Error during call to suggestCharts:', error);\n",
              "      }\n",
              "      quickchartButtonEl.classList.remove('colab-df-spinner');\n",
              "      quickchartButtonEl.classList.add('colab-df-quickchart-complete');\n",
              "    }\n",
              "    (() => {\n",
              "      let quickchartButtonEl =\n",
              "        document.querySelector('#df-d5459eb2-a1b8-483d-8025-41bcda1600c7 button');\n",
              "      quickchartButtonEl.style.display =\n",
              "        google.colab.kernel.accessAllowed ? 'block' : 'none';\n",
              "    })();\n",
              "  </script>\n",
              "</div>\n",
              "\n",
              "    </div>\n",
              "  </div>\n"
            ],
            "application/vnd.google.colaboratory.intrinsic+json": {
              "type": "dataframe",
              "summary": "{\n  \"name\": \"train_data\",\n  \"rows\": 8,\n  \"fields\": [\n    {\n      \"column\": \"prix_unitaire\",\n      \"properties\": {\n        \"dtype\": \"number\",\n        \"std\": 24705.359703251608,\n        \"min\": 501.46,\n        \"max\": 78582.0,\n        \"num_unique_values\": 8,\n        \"samples\": [\n          25231.925161869134,\n          25271.125,\n          78582.0\n        ],\n        \"semantic_type\": \"\",\n        \"description\": \"\"\n      }\n    },\n    {\n      \"column\": \"promotion\",\n      \"properties\": {\n        \"dtype\": \"number\",\n        \"std\": 20832.224379524487,\n        \"min\": 0.0,\n        \"max\": 58923.0,\n        \"num_unique_values\": 5,\n        \"samples\": [\n          0.5005515672996962,\n          1.0,\n          0.5000039386503817\n        ],\n        \"semantic_type\": \"\",\n        \"description\": \"\"\n      }\n    },\n    {\n      \"column\": \"jour_ferie\",\n      \"properties\": {\n        \"dtype\": \"number\",\n        \"std\": 21913.88807274238,\n        \"min\": 0.0,\n        \"max\": 61982.0,\n        \"num_unique_values\": 5,\n        \"samples\": [\n          0.01823109935142461,\n          1.0,\n          0.133787200977881\n        ],\n        \"semantic_type\": \"\",\n        \"description\": \"\"\n      }\n    },\n    {\n      \"column\": \"weekend\",\n      \"properties\": {\n        \"dtype\": \"number\",\n        \"std\": 22834.814039905435,\n        \"min\": 0.0,\n        \"max\": 64587.0,\n        \"num_unique_values\": 5,\n        \"samples\": [\n          0.2930001393469274,\n          1.0,\n          0.45514202734674103\n        ],\n        \"semantic_type\": \"\",\n        \"description\": \"\"\n      }\n    },\n    {\n      \"column\": \"stock_disponible\",\n      \"properties\": {\n        \"dtype\": \"number\",\n        \"std\": 24312.292899911063,\n        \"min\": 0.0,\n        \"max\": 68999.0,\n        \"num_unique_values\": 8,\n        \"samples\": [\n          249.81104073972085,\n          250.0,\n          68999.0\n        ],\n        \"semantic_type\": \"\",\n        \"description\": \"\"\n      }\n    },\n    {\n      \"column\": \"quantite_vendue\",\n      \"properties\": {\n        \"dtype\": \"number\",\n        \"std\": 25323.26052682936,\n        \"min\": 1.0,\n        \"max\": 71640.0,\n        \"num_unique_values\": 8,\n        \"samples\": [\n          15.419709659408152,\n          15.0,\n          71640.0\n        ],\n        \"semantic_type\": \"\",\n        \"description\": \"\"\n      }\n    }\n  ]\n}"
            }
          },
          "metadata": {},
          "execution_count": 11
        }
      ]
    },
    {
      "cell_type": "markdown",
      "source": [
        "# Nettoyage de la base des données"
      ],
      "metadata": {
        "id": "espMHgNHgyu2"
      }
    },
    {
      "cell_type": "code",
      "source": [
        "##Suppression des colonnes inutile\n",
        "\n",
        "def drop_unuseful_col(data, cols):\n",
        "  dfs = []\n",
        "  for df in data:\n",
        "\n",
        "      df = df.drop(columns = cols)\n",
        "\n",
        "      dfs.append(df)\n",
        "\n",
        "  return dfs\n",
        "\n",
        "cols = ['Unnamed: 0']\n",
        "trains_data, subs_data = drop_unuseful_col([train_data, sub_data],cols[0])"
      ],
      "metadata": {
        "id": "xWr6mlC5-XRS"
      },
      "execution_count": 12,
      "outputs": []
    },
    {
      "cell_type": "code",
      "source": [
        "## Mise au bon format les données\n",
        "def format(data):\n",
        "      dfs=[]\n",
        "      for df in data:\n",
        "         df['date'] = pd.to_datetime(df['date'])\n",
        "         for col in df.columns:\n",
        "            if df[col].dtype == 'object':\n",
        "                df[col] = df[col].astype('category')\n",
        "         dfs.append(df)\n",
        "\n",
        "      return data\n",
        "\n",
        "trains_data,subs_data= format([trains_data,subs_data])"
      ],
      "metadata": {
        "id": "9qbPQcAxh4wR"
      },
      "execution_count": 13,
      "outputs": []
    },
    {
      "cell_type": "markdown",
      "source": [
        "Etude des valeurs manquantes et aberantes"
      ],
      "metadata": {
        "id": "Wqergk9oP1c4"
      }
    },
    {
      "cell_type": "code",
      "source": [
        "trains_data.boxplot(column=['quantite_vendue'])\n",
        "plt.title(\"Distribution des variables quantitatives\")\n",
        "plt.show()"
      ],
      "metadata": {
        "colab": {
          "base_uri": "https://localhost:8080/",
          "height": 452
        },
        "id": "qWPwNqnePpJM",
        "outputId": "cca9ff7c-38e9-4f15-8502-cd5d66405a26"
      },
      "execution_count": 14,
      "outputs": [
        {
          "output_type": "display_data",
          "data": {
            "text/plain": [
              "<Figure size 640x480 with 1 Axes>"
            ],
            "image/png": "[encoded data removed]"
          },
          "metadata": {}
        }
      ]
    },
    {
      "cell_type": "markdown",
      "source": [
        "D'après le boxplot il existe des valeurs abérrantes que nous traiterons par la suite."
      ],
      "metadata": {
        "id": "N76DJhG-cNWW"
      }
    },
    {
      "cell_type": "code",
      "source": [
        "na = trains_data.isna().sum()/trains_data.shape[0]*100 #calcul du pourcentage de valeurs manquantes par variable\n",
        "\n",
        "px.bar(na.sort_values(),\n",
        "         title = \"Pourcentage de valeurs manquantes par variable\",\n",
        "         color_discrete_sequence = [\"#377eb8\"],\n",
        "         template='ggplot2',\n",
        "         range_y = [0,100],\n",
        "         width=800,\n",
        "         labels={'value':'%', 'index':''},\n",
        "         color=None\n",
        "        ).update_traces(showlegend=False).update_xaxes(tickangle=45)"
      ],
      "metadata": {
        "colab": {
          "base_uri": "https://localhost:8080/",
          "height": 542
        },
        "id": "pxWobK5gSNKn",
        "outputId": "5d1ecb4f-db78-4426-e067-314df80f63c2"
      },
      "execution_count": 15,
      "outputs": [
        {
          "output_type": "display_data",
          "data": {
            "text/html": [
              "<html>\n",
              "<head><meta charset=\"utf-8\" /></head>\n",
              "<body>\n",
              "    <div>            <script src=\"https://cdnjs.cloudflare.com/ajax/libs/mathjax/2.7.5/MathJax.js?config=TeX-AMS-MML_SVG\"></script><script type=\"text/javascript\">if (window.MathJax && window.MathJax.Hub && window.MathJax.Hub.Config) {window.MathJax.Hub.Config({SVG: {font: \"STIX-Web\"}});}</script>                <script type=\"text/javascript\">window.PlotlyConfig = {MathJaxConfig: 'local'};</script>\n",
              "        <script charset=\"utf-8\" src=\"https://cdn.plot.ly/plotly-2.35.2.min.js\"></script>                <div id=\"9253db52-b0c9-4cec-be37-197b33d4b923\" class=\"plotly-graph-div\" style=\"height:525px; width:800px;\"></div>            <script type=\"text/javascript\">                                    window.PLOTLYENV=window.PLOTLYENV || {};                                    if (document.getElementById(\"9253db52-b0c9-4cec-be37-197b33d4b923\")) {                    Plotly.newPlot(                        \"9253db52-b0c9-4cec-be37-197b33d4b923\",                        [{\"alignmentgroup\":\"True\",\"hovertemplate\":\"variable=0\\u003cbr\\u003e=%{x}\\u003cbr\\u003e%=%{y}\\u003cextra\\u003e\\u003c\\u002fextra\\u003e\",\"legendgroup\":\"0\",\"marker\":{\"color\":\"#377eb8\",\"pattern\":{\"shape\":\"\"}},\"name\":\"0\",\"offsetgroup\":\"0\",\"orientation\":\"v\",\"showlegend\":false,\"textposition\":\"auto\",\"x\":[\"date\",\"categorie\",\"prix_unitaire\",\"marque\",\"region\",\"condition_meteo\",\"id_produit\",\"quantite_vendue\",\"stock_disponible\",\"moment_journee\",\"weekend\",\"jour_ferie\",\"promotion\"],\"xaxis\":\"x\",\"y\":[0.0,0.0,5.376473563163028,10.046118463039003,12.842125543367008,13.264777776439848,13.699471383674306,13.735595506159163,16.915722422242826,20.393271280118487,22.228376702349273,25.36515467145111,29.048611027490455],\"yaxis\":\"y\",\"type\":\"bar\"}],                        {\"template\":{\"data\":{\"barpolar\":[{\"marker\":{\"line\":{\"color\":\"rgb(237,237,237)\",\"width\":0.5},\"pattern\":{\"fillmode\":\"overlay\",\"size\":10,\"solidity\":0.2}},\"type\":\"barpolar\"}],\"bar\":[{\"error_x\":{\"color\":\"rgb(51,51,51)\"},\"error_y\":{\"color\":\"rgb(51,51,51)\"},\"marker\":{\"line\":{\"color\":\"rgb(237,237,237)\",\"width\":0.5},\"pattern\":{\"fillmode\":\"overlay\",\"size\":10,\"solidity\":0.2}},\"type\":\"bar\"}],\"carpet\":[{\"aaxis\":{\"endlinecolor\":\"rgb(51,51,51)\",\"gridcolor\":\"white\",\"linecolor\":\"white\",\"minorgridcolor\":\"white\",\"startlinecolor\":\"rgb(51,51,51)\"},\"baxis\":{\"endlinecolor\":\"rgb(51,51,51)\",\"gridcolor\":\"white\",\"linecolor\":\"white\",\"minorgridcolor\":\"white\",\"startlinecolor\":\"rgb(51,51,51)\"},\"type\":\"carpet\"}],\"choropleth\":[{\"colorbar\":{\"outlinewidth\":0,\"tickcolor\":\"rgb(237,237,237)\",\"ticklen\":6,\"ticks\":\"inside\"},\"type\":\"choropleth\"}],\"contourcarpet\":[{\"colorbar\":{\"outlinewidth\":0,\"tickcolor\":\"rgb(237,237,237)\",\"ticklen\":6,\"ticks\":\"inside\"},\"type\":\"contourcarpet\"}],\"contour\":[{\"colorbar\":{\"outlinewidth\":0,\"tickcolor\":\"rgb(237,237,237)\",\"ticklen\":6,\"ticks\":\"inside\"},\"colorscale\":[[0,\"rgb(20,44,66)\"],[1,\"rgb(90,179,244)\"]],\"type\":\"contour\"}],\"heatmapgl\":[{\"colorbar\":{\"outlinewidth\":0,\"tickcolor\":\"rgb(237,237,237)\",\"ticklen\":6,\"ticks\":\"inside\"},\"colorscale\":[[0,\"rgb(20,44,66)\"],[1,\"rgb(90,179,244)\"]],\"type\":\"heatmapgl\"}],\"heatmap\":[{\"colorbar\":{\"outlinewidth\":0,\"tickcolor\":\"rgb(237,237,237)\",\"ticklen\":6,\"ticks\":\"inside\"},\"colorscale\":[[0,\"rgb(20,44,66)\"],[1,\"rgb(90,179,244)\"]],\"type\":\"heatmap\"}],\"histogram2dcontour\":[{\"colorbar\":{\"outlinewidth\":0,\"tickcolor\":\"rgb(237,237,237)\",\"ticklen\":6,\"ticks\":\"inside\"},\"colorscale\":[[0,\"rgb(20,44,66)\"],[1,\"rgb(90,179,244)\"]],\"type\":\"histogram2dcontour\"}],\"histogram2d\":[{\"colorbar\":{\"outlinewidth\":0,\"tickcolor\":\"rgb(237,237,237)\",\"ticklen\":6,\"ticks\":\"inside\"},\"colorscale\":[[0,\"rgb(20,44,66)\"],[1,\"rgb(90,179,244)\"]],\"type\":\"histogram2d\"}],\"histogram\":[{\"marker\":{\"pattern\":{\"fillmode\":\"overlay\",\"size\":10,\"solidity\":0.2}},\"type\":\"histogram\"}],\"mesh3d\":[{\"colorbar\":{\"outlinewidth\":0,\"tickcolor\":\"rgb(237,237,237)\",\"ticklen\":6,\"ticks\":\"inside\"},\"type\":\"mesh3d\"}],\"parcoords\":[{\"line\":{\"colorbar\":{\"outlinewidth\":0,\"tickcolor\":\"rgb(237,237,237)\",\"ticklen\":6,\"ticks\":\"inside\"}},\"type\":\"parcoords\"}],\"pie\":[{\"automargin\":true,\"type\":\"pie\"}],\"scatter3d\":[{\"line\":{\"colorbar\":{\"outlinewidth\":0,\"tickcolor\":\"rgb(237,237,237)\",\"ticklen\":6,\"ticks\":\"inside\"}},\"marker\":{\"colorbar\":{\"outlinewidth\":0,\"tickcolor\":\"rgb(237,237,237)\",\"ticklen\":6,\"ticks\":\"inside\"}},\"type\":\"scatter3d\"}],\"scattercarpet\":[{\"marker\":{\"colorbar\":{\"outlinewidth\":0,\"tickcolor\":\"rgb(237,237,237)\",\"ticklen\":6,\"ticks\":\"inside\"}},\"type\":\"scattercarpet\"}],\"scattergeo\":[{\"marker\":{\"colorbar\":{\"outlinewidth\":0,\"tickcolor\":\"rgb(237,237,237)\",\"ticklen\":6,\"ticks\":\"inside\"}},\"type\":\"scattergeo\"}],\"scattergl\":[{\"marker\":{\"colorbar\":{\"outlinewidth\":0,\"tickcolor\":\"rgb(237,237,237)\",\"ticklen\":6,\"ticks\":\"inside\"}},\"type\":\"scattergl\"}],\"scattermapbox\":[{\"marker\":{\"colorbar\":{\"outlinewidth\":0,\"tickcolor\":\"rgb(237,237,237)\",\"ticklen\":6,\"ticks\":\"inside\"}},\"type\":\"scattermapbox\"}],\"scatterpolargl\":[{\"marker\":{\"colorbar\":{\"outlinewidth\":0,\"tickcolor\":\"rgb(237,237,237)\",\"ticklen\":6,\"ticks\":\"inside\"}},\"type\":\"scatterpolargl\"}],\"scatterpolar\":[{\"marker\":{\"colorbar\":{\"outlinewidth\":0,\"tickcolor\":\"rgb(237,237,237)\",\"ticklen\":6,\"ticks\":\"inside\"}},\"type\":\"scatterpolar\"}],\"scatter\":[{\"fillpattern\":{\"fillmode\":\"overlay\",\"size\":10,\"solidity\":0.2},\"type\":\"scatter\"}],\"scatterternary\":[{\"marker\":{\"colorbar\":{\"outlinewidth\":0,\"tickcolor\":\"rgb(237,237,237)\",\"ticklen\":6,\"ticks\":\"inside\"}},\"type\":\"scatterternary\"}],\"surface\":[{\"colorbar\":{\"outlinewidth\":0,\"tickcolor\":\"rgb(237,237,237)\",\"ticklen\":6,\"ticks\":\"inside\"},\"colorscale\":[[0,\"rgb(20,44,66)\"],[1,\"rgb(90,179,244)\"]],\"type\":\"surface\"}],\"table\":[{\"cells\":{\"fill\":{\"color\":\"rgb(237,237,237)\"},\"line\":{\"color\":\"white\"}},\"header\":{\"fill\":{\"color\":\"rgb(217,217,217)\"},\"line\":{\"color\":\"white\"}},\"type\":\"table\"}]},\"layout\":{\"annotationdefaults\":{\"arrowhead\":0,\"arrowwidth\":1},\"autotypenumbers\":\"strict\",\"coloraxis\":{\"colorbar\":{\"outlinewidth\":0,\"tickcolor\":\"rgb(237,237,237)\",\"ticklen\":6,\"ticks\":\"inside\"}},\"colorscale\":{\"sequential\":[[0,\"rgb(20,44,66)\"],[1,\"rgb(90,179,244)\"]],\"sequentialminus\":[[0,\"rgb(20,44,66)\"],[1,\"rgb(90,179,244)\"]]},\"colorway\":[\"#F8766D\",\"#A3A500\",\"#00BF7D\",\"#00B0F6\",\"#E76BF3\"],\"font\":{\"color\":\"rgb(51,51,51)\"},\"geo\":{\"bgcolor\":\"white\",\"lakecolor\":\"white\",\"landcolor\":\"rgb(237,237,237)\",\"showlakes\":true,\"showland\":true,\"subunitcolor\":\"white\"},\"hoverlabel\":{\"align\":\"left\"},\"hovermode\":\"closest\",\"paper_bgcolor\":\"white\",\"plot_bgcolor\":\"rgb(237,237,237)\",\"polar\":{\"angularaxis\":{\"gridcolor\":\"white\",\"linecolor\":\"white\",\"showgrid\":true,\"tickcolor\":\"rgb(51,51,51)\",\"ticks\":\"outside\"},\"bgcolor\":\"rgb(237,237,237)\",\"radialaxis\":{\"gridcolor\":\"white\",\"linecolor\":\"white\",\"showgrid\":true,\"tickcolor\":\"rgb(51,51,51)\",\"ticks\":\"outside\"}},\"scene\":{\"xaxis\":{\"backgroundcolor\":\"rgb(237,237,237)\",\"gridcolor\":\"white\",\"gridwidth\":2,\"linecolor\":\"white\",\"showbackground\":true,\"showgrid\":true,\"tickcolor\":\"rgb(51,51,51)\",\"ticks\":\"outside\",\"zerolinecolor\":\"white\"},\"yaxis\":{\"backgroundcolor\":\"rgb(237,237,237)\",\"gridcolor\":\"white\",\"gridwidth\":2,\"linecolor\":\"white\",\"showbackground\":true,\"showgrid\":true,\"tickcolor\":\"rgb(51,51,51)\",\"ticks\":\"outside\",\"zerolinecolor\":\"white\"},\"zaxis\":{\"backgroundcolor\":\"rgb(237,237,237)\",\"gridcolor\":\"white\",\"gridwidth\":2,\"linecolor\":\"white\",\"showbackground\":true,\"showgrid\":true,\"tickcolor\":\"rgb(51,51,51)\",\"ticks\":\"outside\",\"zerolinecolor\":\"white\"}},\"shapedefaults\":{\"fillcolor\":\"black\",\"line\":{\"width\":0},\"opacity\":0.3},\"ternary\":{\"aaxis\":{\"gridcolor\":\"white\",\"linecolor\":\"white\",\"showgrid\":true,\"tickcolor\":\"rgb(51,51,51)\",\"ticks\":\"outside\"},\"baxis\":{\"gridcolor\":\"white\",\"linecolor\":\"white\",\"showgrid\":true,\"tickcolor\":\"rgb(51,51,51)\",\"ticks\":\"outside\"},\"bgcolor\":\"rgb(237,237,237)\",\"caxis\":{\"gridcolor\":\"white\",\"linecolor\":\"white\",\"showgrid\":true,\"tickcolor\":\"rgb(51,51,51)\",\"ticks\":\"outside\"}},\"xaxis\":{\"automargin\":true,\"gridcolor\":\"white\",\"linecolor\":\"white\",\"showgrid\":true,\"tickcolor\":\"rgb(51,51,51)\",\"ticks\":\"outside\",\"title\":{\"standoff\":15},\"zerolinecolor\":\"white\"},\"yaxis\":{\"automargin\":true,\"gridcolor\":\"white\",\"linecolor\":\"white\",\"showgrid\":true,\"tickcolor\":\"rgb(51,51,51)\",\"ticks\":\"outside\",\"title\":{\"standoff\":15},\"zerolinecolor\":\"white\"}}},\"xaxis\":{\"anchor\":\"y\",\"domain\":[0.0,1.0],\"title\":{\"text\":\"\"},\"tickangle\":45},\"yaxis\":{\"anchor\":\"x\",\"domain\":[0.0,1.0],\"title\":{\"text\":\"%\"},\"range\":[0,100]},\"legend\":{\"title\":{\"text\":\"variable\"},\"tracegroupgap\":0},\"title\":{\"text\":\"Pourcentage de valeurs manquantes par variable\"},\"barmode\":\"relative\",\"width\":800},                        {\"responsive\": true}                    ).then(function(){\n",
              "                            \n",
              "var gd = document.getElementById('9253db52-b0c9-4cec-be37-197b33d4b923');\n",
              "var x = new MutationObserver(function (mutations, observer) {{\n",
              "        var display = window.getComputedStyle(gd).display;\n",
              "        if (!display || display === 'none') {{\n",
              "            console.log([gd, 'removed!']);\n",
              "            Plotly.purge(gd);\n",
              "            observer.disconnect();\n",
              "        }}\n",
              "}});\n",
              "\n",
              "// Listen for the removal of the full notebook cells\n",
              "var notebookContainer = gd.closest('#notebook-container');\n",
              "if (notebookContainer) {{\n",
              "    x.observe(notebookContainer, {childList: true});\n",
              "}}\n",
              "\n",
              "// Listen for the clearing of the current output cell\n",
              "var outputEl = gd.closest('.output');\n",
              "if (outputEl) {{\n",
              "    x.observe(outputEl, {childList: true});\n",
              "}}\n",
              "\n",
              "                        })                };                            </script>        </div>\n",
              "</body>\n",
              "</html>"
            ]
          },
          "metadata": {}
        }
      ]
    },
    {
      "cell_type": "code",
      "source": [
        "# imputer perso compatible avec sklearn\n",
        "# necéssite d'implémenter les méthodes fit, transform et fit_transform\n",
        "# pour plus d'infos: https://scikit-learn.org/stable/developers/develop.html\n",
        "\n",
        "class inputer_perso():\n",
        "    def __init__(self) -> None:\n",
        "        pass\n",
        "\n",
        "    def fit(self, X, y=None):\n",
        "        self.X = X\n",
        "        return self\n",
        "\n",
        "    def transform(self, X, y=None):\n",
        "        X = X.copy()\n",
        "        for col in X.columns:\n",
        "            if X[col].dtype != 'float64':\n",
        "                X[col] = X.loc[:,col].fillna(X[col].mode()[0])\n",
        "            else:\n",
        "                X[col] = X.loc[:,col].fillna(X[col].mean())\n",
        "        return X\n",
        "\n",
        "    def fit_transform(self, X, y=None):\n",
        "        self.fit(X)\n",
        "        return self.transform(X)"
      ],
      "metadata": {
        "id": "eZgSQHZMbcAx"
      },
      "execution_count": 17,
      "outputs": []
    },
    {
      "cell_type": "code",
      "source": [
        "trains_data.loc[trains_data['date'].dt.weekday >= 5, 'weekend'] = trains_data['weekend'].fillna(1)\n",
        "trains_data.loc[trains_data['date'].dt.weekday < 5, 'weekend'] = trains_data['weekend'].fillna(0)"
      ],
      "metadata": {
        "id": "8g-G2DYbfz0m"
      },
      "execution_count": 18,
      "outputs": []
    },
    {
      "cell_type": "code",
      "source": [
        "# Regles de imputation des données\n",
        "# 1. Si la variable a plus de 40% de valeurs manquantes, on la supprime\n",
        "# 2. Si la variable est qualitative, on remplace les valeurs manquantes par le mode\n",
        "# 3. Si la variable est quantitative, on remplace les valeurs manquantes par la médiane\n",
        "# 4. Autre règle que je veux ajouter à tester après :\n",
        "# 4.1 Au lieu de remplacer par le mode de la colonne je veux plutôt remplacer par le mode du produit( pour variable catégorielles)\n",
        "# 4.2 Au lieu de remplacer par la médiane de la colonne je veux plutôt remplacer par la médianne du produit( pour variable quantitative)\n",
        "\n",
        "def imputation_par_categorie_marque_date(df):\n",
        "    print(\"Nombre de lignes et de colonnes : \", df.shape,\n",
        "          \"\\nNombre de valeurs manquantes : \", df.isnull().sum().sum())\n",
        "\n",
        "    default_categories = {\n",
        "    \"marque\": \"Nestlé\",\n",
        "    \"condition_meteo\": \"Ensoleillé\",\n",
        "    \"moment_journee\": \"Après-midi\",\n",
        "    \"region\": \"Urbain\"\n",
        "        }\n",
        "\n",
        "    df = df.copy()\n",
        "\n",
        "    # Trier les données pour maintenir un ordre logique\n",
        "    # df = df.sort_values(by=['categorie', 'marque', 'date', 'id_produit'], ascending=True)\n",
        "\n",
        "    # Supprimer les colonnes avec plus de 40% de valeurs manquantes\n",
        "    df = df.dropna(thresh=len(df) * 0.6, axis=1)\n",
        "\n",
        "    # Imputation des valeurs manquantes\n",
        "    for col in df.columns:\n",
        "        if col not in ['categorie','date']:  # Exclure les colonnes qui n'ont pas de na\n",
        "            if df[col].dtype == 'object' or df[col].dtype.name == 'category':  # Variables catégorielles\n",
        "                # Remplir les NaN avec le mode par catégorie, marque, date et id_produit\n",
        "                df[col] = df[col].transform(\n",
        "                    lambda x: x.fillna(x.mode()[0] if not x.mode().empty else default_categories.get(col, \"Unknown\")\n",
        "                ))\n",
        "                print(f\"{col} : Mode appliqué\")\n",
        "            else:  # Variables quantitatives\n",
        "                # Remplir les NaN avec la médiane par catégorie, marque et date\n",
        "                df[col] = df[col].transform(\n",
        "                    lambda x: x.fillna(x.median())\n",
        "                )\n",
        "                print(f\"{col} : Médiane appliquée\")\n",
        "\n",
        "    print(\"Données nettoyées !\",\n",
        "          \"\\nNombre de lignes et de colonnes : \", df.shape,\n",
        "          \"\\nNombre de valeurs manquantes : \", df.isnull().sum().sum())\n",
        "\n",
        "    return df\n",
        "clean_data_trains= imputation_par_categorie_marque_date(trains_data)\n",
        "clean_data_subs= imputation_par_categorie_marque_date(subs_data)"
      ],
      "metadata": {
        "id": "o5z-NrK4d37g",
        "colab": {
          "base_uri": "https://localhost:8080/"
        },
        "outputId": "ab2737e4-fa94-4530-ee5c-7f4ddab9f8e9"
      },
      "execution_count": 19,
      "outputs": [
        {
          "output_type": "stream",
          "name": "stdout",
          "text": [
            "Nombre de lignes et de colonnes :  (83047, 13) \n",
            "Nombre de valeurs manquantes :  133446\n",
            "id_produit : Mode appliqué\n",
            "marque : Mode appliqué\n",
            "prix_unitaire : Médiane appliquée\n",
            "promotion : Médiane appliquée\n",
            "jour_ferie : Médiane appliquée\n",
            "weekend : Médiane appliquée\n",
            "stock_disponible : Médiane appliquée\n",
            "condition_meteo : Mode appliqué\n",
            "region : Mode appliqué\n",
            "moment_journee : Mode appliqué\n",
            "quantite_vendue : Médiane appliquée\n",
            "Données nettoyées ! \n",
            "Nombre de lignes et de colonnes :  (83047, 13) \n",
            "Nombre de valeurs manquantes :  0\n",
            "Nombre de lignes et de colonnes :  (2576, 12) \n",
            "Nombre de valeurs manquantes :  0\n",
            "id_produit : Mode appliqué\n",
            "marque : Mode appliqué\n",
            "prix_unitaire : Médiane appliquée\n",
            "promotion : Médiane appliquée\n",
            "jour_ferie : Médiane appliquée\n",
            "weekend : Médiane appliquée\n",
            "stock_disponible : Médiane appliquée\n",
            "condition_meteo : Mode appliqué\n",
            "region : Mode appliqué\n",
            "moment_journee : Mode appliqué\n",
            "Données nettoyées ! \n",
            "Nombre de lignes et de colonnes :  (2576, 12) \n",
            "Nombre de valeurs manquantes :  0\n"
          ]
        }
      ]
    },
    {
      "cell_type": "code",
      "source": [
        "def indicator_to_int(df):\n",
        "  \"\"\"Transforms indicator variables in a DataFrame to integers.\n",
        "\n",
        "  Args:\n",
        "    df: The input DataFrame.\n",
        "\n",
        "  Returns:\n",
        "    A new DataFrame with indicator variables converted to integers.\n",
        "  \"\"\"\n",
        "  ##Convertir ces variables dans le bon format après le nettoyages\n",
        "  dfs=[]\n",
        "  variables_indicatrice=['weekend','promotion','jour_ferie']\n",
        "  df_copy = df.copy()  # Create a copy to avoid modifying the original DataFrame\n",
        "\n",
        "  for df in df_copy:\n",
        "      for col in variables_indicatrice:\n",
        "          try:\n",
        "              # Attempt to convert to integer, handling potential errors gracefully\n",
        "              df[col] = df[col].astype(int)\n",
        "\n",
        "          except Exception as e:\n",
        "              print(f\"Column '{col}' could not be converted to integers. Check for non-numeric categories due to {e}\")\n",
        "              # You can choose to handle the error in another way (e.g., replace values)\n",
        "              # if necessary.\n",
        "      dfs.append(df)\n",
        "\n",
        "  return dfs\n",
        "\n",
        "\n",
        "# Example usage (assuming 'analyst_data' is your DataFrame)\n",
        "final_clean_data_trains, final_clean_data_subs= indicator_to_int([clean_data_trains,clean_data_subs])"
      ],
      "metadata": {
        "id": "GxtQIQ3l7bkM"
      },
      "execution_count": 20,
      "outputs": []
    },
    {
      "cell_type": "markdown",
      "source": [
        "# Modélisation"
      ],
      "metadata": {
        "id": "-Lhu-HCaL-EX"
      }
    },
    {
      "cell_type": "code",
      "source": [
        "final_clean_data_trains.head()"
      ],
      "metadata": {
        "colab": {
          "base_uri": "https://localhost:8080/",
          "height": 313
        },
        "id": "Wn_ZgJjCutTy",
        "outputId": "28042058-893a-449b-85bb-f2be8e3ede5a"
      },
      "execution_count": 21,
      "outputs": [
        {
          "output_type": "execute_result",
          "data": {
            "text/plain": [
              "       id_produit       date     categorie  marque  prix_unitaire  promotion  \\\n",
              "0  HAB-102024-024 2022-01-01   Habillement    Nike       31247.38          0   \n",
              "1  ÉLE-062022-019 2022-01-01  Électronique    Sony       13627.42          1   \n",
              "2  ALI-072022-019 2022-01-01   Alimentaire  Nestlé       14606.88          1   \n",
              "3  HAB-042023-029 2022-01-01   Habillement  Levi's       30778.05          0   \n",
              "4  HAB-122023-027 2022-01-01   Habillement  Levi's        5627.53          0   \n",
              "\n",
              "   jour_ferie  weekend  stock_disponible condition_meteo      region  \\\n",
              "0           0        1              37.0         Neigeux      Urbain   \n",
              "1           0        1             250.0      Ensoleillé      Urbain   \n",
              "2           0        1             426.0         Neigeux       Rural   \n",
              "3           0        1             341.0         Neigeux  Périurbain   \n",
              "4           0        1             135.0      Ensoleillé      Urbain   \n",
              "\n",
              "  moment_journee  quantite_vendue  \n",
              "0         Soirée             15.0  \n",
              "1     Après-midi             23.0  \n",
              "2     Après-midi              7.0  \n",
              "3         Soirée             17.0  \n",
              "4         Soirée             16.0  "
            ],
            "text/html": [
              "\n",
              "  <div id=\"df-ca31b9bf-ca1c-40f9-a7fc-543efe006897\" class=\"colab-df-container\">\n",
              "    <div>\n",
              "<style scoped>\n",
              "    .dataframe tbody tr th:only-of-type {\n",
              "        vertical-align: middle;\n",
              "    }\n",
              "\n",
              "    .dataframe tbody tr th {\n",
              "        vertical-align: top;\n",
              "    }\n",
              "\n",
              "    .dataframe thead th {\n",
              "        text-align: right;\n",
              "    }\n",
              "</style>\n",
              "<table border=\"1\" class=\"dataframe\">\n",
              "  <thead>\n",
              "    <tr style=\"text-align: right;\">\n",
              "      <th></th>\n",
              "      <th>id_produit</th>\n",
              "      <th>date</th>\n",
              "      <th>categorie</th>\n",
              "      <th>marque</th>\n",
              "      <th>prix_unitaire</th>\n",
              "      <th>promotion</th>\n",
              "      <th>jour_ferie</th>\n",
              "      <th>weekend</th>\n",
              "      <th>stock_disponible</th>\n",
              "      <th>condition_meteo</th>\n",
              "      <th>region</th>\n",
              "      <th>moment_journee</th>\n",
              "      <th>quantite_vendue</th>\n",
              "    </tr>\n",
              "  </thead>\n",
              "  <tbody>\n",
              "    <tr>\n",
              "      <th>0</th>\n",
              "      <td>HAB-102024-024</td>\n",
              "      <td>2022-01-01</td>\n",
              "      <td>Habillement</td>\n",
              "      <td>Nike</td>\n",
              "      <td>31247.38</td>\n",
              "      <td>0</td>\n",
              "      <td>0</td>\n",
              "      <td>1</td>\n",
              "      <td>37.0</td>\n",
              "      <td>Neigeux</td>\n",
              "      <td>Urbain</td>\n",
              "      <td>Soirée</td>\n",
              "      <td>15.0</td>\n",
              "    </tr>\n",
              "    <tr>\n",
              "      <th>1</th>\n",
              "      <td>ÉLE-062022-019</td>\n",
              "      <td>2022-01-01</td>\n",
              "      <td>Électronique</td>\n",
              "      <td>Sony</td>\n",
              "      <td>13627.42</td>\n",
              "      <td>1</td>\n",
              "      <td>0</td>\n",
              "      <td>1</td>\n",
              "      <td>250.0</td>\n",
              "      <td>Ensoleillé</td>\n",
              "      <td>Urbain</td>\n",
              "      <td>Après-midi</td>\n",
              "      <td>23.0</td>\n",
              "    </tr>\n",
              "    <tr>\n",
              "      <th>2</th>\n",
              "      <td>ALI-072022-019</td>\n",
              "      <td>2022-01-01</td>\n",
              "      <td>Alimentaire</td>\n",
              "      <td>Nestlé</td>\n",
              "      <td>14606.88</td>\n",
              "      <td>1</td>\n",
              "      <td>0</td>\n",
              "      <td>1</td>\n",
              "      <td>426.0</td>\n",
              "      <td>Neigeux</td>\n",
              "      <td>Rural</td>\n",
              "      <td>Après-midi</td>\n",
              "      <td>7.0</td>\n",
              "    </tr>\n",
              "    <tr>\n",
              "      <th>3</th>\n",
              "      <td>HAB-042023-029</td>\n",
              "      <td>2022-01-01</td>\n",
              "      <td>Habillement</td>\n",
              "      <td>Levi's</td>\n",
              "      <td>30778.05</td>\n",
              "      <td>0</td>\n",
              "      <td>0</td>\n",
              "      <td>1</td>\n",
              "      <td>341.0</td>\n",
              "      <td>Neigeux</td>\n",
              "      <td>Périurbain</td>\n",
              "      <td>Soirée</td>\n",
              "      <td>17.0</td>\n",
              "    </tr>\n",
              "    <tr>\n",
              "      <th>4</th>\n",
              "      <td>HAB-122023-027</td>\n",
              "      <td>2022-01-01</td>\n",
              "      <td>Habillement</td>\n",
              "      <td>Levi's</td>\n",
              "      <td>5627.53</td>\n",
              "      <td>0</td>\n",
              "      <td>0</td>\n",
              "      <td>1</td>\n",
              "      <td>135.0</td>\n",
              "      <td>Ensoleillé</td>\n",
              "      <td>Urbain</td>\n",
              "      <td>Soirée</td>\n",
              "      <td>16.0</td>\n",
              "    </tr>\n",
              "  </tbody>\n",
              "</table>\n",
              "</div>\n",
              "    <div class=\"colab-df-buttons\">\n",
              "\n",
              "  <div class=\"colab-df-container\">\n",
              "    <button class=\"colab-df-convert\" onclick=\"convertToInteractive('df-ca31b9bf-ca1c-40f9-a7fc-543efe006897')\"\n",
              "            title=\"Convert this dataframe to an interactive table.\"\n",
              "            style=\"display:none;\">\n",
              "\n",
              "  <svg xmlns=\"http://www.w3.org/2000/svg\" height=\"24px\" viewBox=\"0 -960 960 960\">\n",
              "    <path d=\"M120-120v-720h720v720H120Zm60-500h600v-160H180v160Zm220 220h160v-160H400v160Zm0 220h160v-160H400v160ZM180-400h160v-160H180v160Zm440 0h160v-160H620v160ZM180-180h160v-160H180v160Zm440 0h160v-160H620v160Z\"/>\n",
              "  </svg>\n",
              "    </button>\n",
              "\n",
              "  <style>\n",
              "    .colab-df-container {\n",
              "      display:flex;\n",
              "      gap: 12px;\n",
              "    }\n",
              "\n",
              "    .colab-df-convert {\n",
              "      background-color: #E8F0FE;\n",
              "      border: none;\n",
              "      border-radius: 50%;\n",
              "      cursor: pointer;\n",
              "      display: none;\n",
              "      fill: #1967D2;\n",
              "      height: 32px;\n",
              "      padding: 0 0 0 0;\n",
              "      width: 32px;\n",
              "    }\n",
              "\n",
              "    .colab-df-convert:hover {\n",
              "      background-color: #E2EBFA;\n",
              "      box-shadow: 0px 1px 2px rgba(60, 64, 67, 0.3), 0px 1px 3px 1px rgba(60, 64, 67, 0.15);\n",
              "      fill: #174EA6;\n",
              "    }\n",
              "\n",
              "    .colab-df-buttons div {\n",
              "      margin-bottom: 4px;\n",
              "    }\n",
              "\n",
              "    [theme=dark] .colab-df-convert {\n",
              "      background-color: #3B4455;\n",
              "      fill: #D2E3FC;\n",
              "    }\n",
              "\n",
              "    [theme=dark] .colab-df-convert:hover {\n",
              "      background-color: #434B5C;\n",
              "      box-shadow: 0px 1px 3px 1px rgba(0, 0, 0, 0.15);\n",
              "      filter: drop-shadow(0px 1px 2px rgba(0, 0, 0, 0.3));\n",
              "      fill: #FFFFFF;\n",
              "    }\n",
              "  </style>\n",
              "\n",
              "    <script>\n",
              "      const buttonEl =\n",
              "        document.querySelector('#df-ca31b9bf-ca1c-40f9-a7fc-543efe006897 button.colab-df-convert');\n",
              "      buttonEl.style.display =\n",
              "        google.colab.kernel.accessAllowed ? 'block' : 'none';\n",
              "\n",
              "      async function convertToInteractive(key) {\n",
              "        const element = document.querySelector('#df-ca31b9bf-ca1c-40f9-a7fc-543efe006897');\n",
              "        const dataTable =\n",
              "          await google.colab.kernel.invokeFunction('convertToInteractive',\n",
              "                                                    [key], {});\n",
              "        if (!dataTable) return;\n",
              "\n",
              "        const docLinkHtml = 'Like what you see? Visit the ' +\n",
              "          '<a target=\"_blank\" href=https://colab.research.google.com/notebooks/data_table.ipynb>data table notebook</a>'\n",
              "          + ' to learn more about interactive tables.';\n",
              "        element.innerHTML = '';\n",
              "        dataTable['output_type'] = 'display_data';\n",
              "        await google.colab.output.renderOutput(dataTable, element);\n",
              "        const docLink = document.createElement('div');\n",
              "        docLink.innerHTML = docLinkHtml;\n",
              "        element.appendChild(docLink);\n",
              "      }\n",
              "    </script>\n",
              "  </div>\n",
              "\n",
              "\n",
              "<div id=\"df-9a1c2e2d-f32c-4f2d-a1e1-36096c3704af\">\n",
              "  <button class=\"colab-df-quickchart\" onclick=\"quickchart('df-9a1c2e2d-f32c-4f2d-a1e1-36096c3704af')\"\n",
              "            title=\"Suggest charts\"\n",
              "            style=\"display:none;\">\n",
              "\n",
              "<svg xmlns=\"http://www.w3.org/2000/svg\" height=\"24px\"viewBox=\"0 0 24 24\"\n",
              "     width=\"24px\">\n",
              "    <g>\n",
              "        <path d=\"M19 3H5c-1.1 0-2 .9-2 2v14c0 1.1.9 2 2 2h14c1.1 0 2-.9 2-2V5c0-1.1-.9-2-2-2zM9 17H7v-7h2v7zm4 0h-2V7h2v10zm4 0h-2v-4h2v4z\"/>\n",
              "    </g>\n",
              "</svg>\n",
              "  </button>\n",
              "\n",
              "<style>\n",
              "  .colab-df-quickchart {\n",
              "      --bg-color: #E8F0FE;\n",
              "      --fill-color: #1967D2;\n",
              "      --hover-bg-color: #E2EBFA;\n",
              "      --hover-fill-color: #174EA6;\n",
              "      --disabled-fill-color: #AAA;\n",
              "      --disabled-bg-color: #DDD;\n",
              "  }\n",
              "\n",
              "  [theme=dark] .colab-df-quickchart {\n",
              "      --bg-color: #3B4455;\n",
              "      --fill-color: #D2E3FC;\n",
              "      --hover-bg-color: #434B5C;\n",
              "      --hover-fill-color: #FFFFFF;\n",
              "      --disabled-bg-color: #3B4455;\n",
              "      --disabled-fill-color: #666;\n",
              "  }\n",
              "\n",
              "  .colab-df-quickchart {\n",
              "    background-color: var(--bg-color);\n",
              "    border: none;\n",
              "    border-radius: 50%;\n",
              "    cursor: pointer;\n",
              "    display: none;\n",
              "    fill: var(--fill-color);\n",
              "    height: 32px;\n",
              "    padding: 0;\n",
              "    width: 32px;\n",
              "  }\n",
              "\n",
              "  .colab-df-quickchart:hover {\n",
              "    background-color: var(--hover-bg-color);\n",
              "    box-shadow: 0 1px 2px rgba(60, 64, 67, 0.3), 0 1px 3px 1px rgba(60, 64, 67, 0.15);\n",
              "    fill: var(--button-hover-fill-color);\n",
              "  }\n",
              "\n",
              "  .colab-df-quickchart-complete:disabled,\n",
              "  .colab-df-quickchart-complete:disabled:hover {\n",
              "    background-color: var(--disabled-bg-color);\n",
              "    fill: var(--disabled-fill-color);\n",
              "    box-shadow: none;\n",
              "  }\n",
              "\n",
              "  .colab-df-spinner {\n",
              "    border: 2px solid var(--fill-color);\n",
              "    border-color: transparent;\n",
              "    border-bottom-color: var(--fill-color);\n",
              "    animation:\n",
              "      spin 1s steps(1) infinite;\n",
              "  }\n",
              "\n",
              "  @keyframes spin {\n",
              "    0% {\n",
              "      border-color: transparent;\n",
              "      border-bottom-color: var(--fill-color);\n",
              "      border-left-color: var(--fill-color);\n",
              "    }\n",
              "    20% {\n",
              "      border-color: transparent;\n",
              "      border-left-color: var(--fill-color);\n",
              "      border-top-color: var(--fill-color);\n",
              "    }\n",
              "    30% {\n",
              "      border-color: transparent;\n",
              "      border-left-color: var(--fill-color);\n",
              "      border-top-color: var(--fill-color);\n",
              "      border-right-color: var(--fill-color);\n",
              "    }\n",
              "    40% {\n",
              "      border-color: transparent;\n",
              "      border-right-color: var(--fill-color);\n",
              "      border-top-color: var(--fill-color);\n",
              "    }\n",
              "    60% {\n",
              "      border-color: transparent;\n",
              "      border-right-color: var(--fill-color);\n",
              "    }\n",
              "    80% {\n",
              "      border-color: transparent;\n",
              "      border-right-color: var(--fill-color);\n",
              "      border-bottom-color: var(--fill-color);\n",
              "    }\n",
              "    90% {\n",
              "      border-color: transparent;\n",
              "      border-bottom-color: var(--fill-color);\n",
              "    }\n",
              "  }\n",
              "</style>\n",
              "\n",
              "  <script>\n",
              "    async function quickchart(key) {\n",
              "      const quickchartButtonEl =\n",
              "        document.querySelector('#' + key + ' button');\n",
              "      quickchartButtonEl.disabled = true;  // To prevent multiple clicks.\n",
              "      quickchartButtonEl.classList.add('colab-df-spinner');\n",
              "      try {\n",
              "        const charts = await google.colab.kernel.invokeFunction(\n",
              "            'suggestCharts', [key], {});\n",
              "      } catch (error) {\n",
              "        console.error('Error during call to suggestCharts:', error);\n",
              "      }\n",
              "      quickchartButtonEl.classList.remove('colab-df-spinner');\n",
              "      quickchartButtonEl.classList.add('colab-df-quickchart-complete');\n",
              "    }\n",
              "    (() => {\n",
              "      let quickchartButtonEl =\n",
              "        document.querySelector('#df-9a1c2e2d-f32c-4f2d-a1e1-36096c3704af button');\n",
              "      quickchartButtonEl.style.display =\n",
              "        google.colab.kernel.accessAllowed ? 'block' : 'none';\n",
              "    })();\n",
              "  </script>\n",
              "</div>\n",
              "\n",
              "    </div>\n",
              "  </div>\n"
            ],
            "application/vnd.google.colaboratory.intrinsic+json": {
              "type": "dataframe",
              "variable_name": "final_clean_data_trains",
              "summary": "{\n  \"name\": \"final_clean_data_trains\",\n  \"rows\": 83047,\n  \"fields\": [\n    {\n      \"column\": \"id_produit\",\n      \"properties\": {\n        \"dtype\": \"category\",\n        \"num_unique_values\": 150,\n        \"samples\": [\n          \"HAB-042023-028\",\n          \"HAB-062022-006\",\n          \"HAB-102024-035\"\n        ],\n        \"semantic_type\": \"\",\n        \"description\": \"\"\n      }\n    },\n    {\n      \"column\": \"date\",\n      \"properties\": {\n        \"dtype\": \"date\",\n        \"min\": \"2022-01-01 00:00:00\",\n        \"max\": \"2024-10-31 00:00:00\",\n        \"num_unique_values\": 1035,\n        \"samples\": [\n          \"2022-10-22 00:00:00\",\n          \"2023-03-30 00:00:00\",\n          \"2023-10-01 00:00:00\"\n        ],\n        \"semantic_type\": \"\",\n        \"description\": \"\"\n      }\n    },\n    {\n      \"column\": \"categorie\",\n      \"properties\": {\n        \"dtype\": \"category\",\n        \"num_unique_values\": 3,\n        \"samples\": [\n          \"Habillement\",\n          \"\\u00c9lectronique\",\n          \"Alimentaire\"\n        ],\n        \"semantic_type\": \"\",\n        \"description\": \"\"\n      }\n    },\n    {\n      \"column\": \"marque\",\n      \"properties\": {\n        \"dtype\": \"category\",\n        \"num_unique_values\": 15,\n        \"samples\": [\n          \"Samsung\",\n          \"Coca-Cola\",\n          \"Nike\"\n        ],\n        \"semantic_type\": \"\",\n        \"description\": \"\"\n      }\n    },\n    {\n      \"column\": \"prix_unitaire\",\n      \"properties\": {\n        \"dtype\": \"number\",\n        \"std\": 13901.481995156943,\n        \"min\": 501.46,\n        \"max\": 49999.74,\n        \"num_unique_values\": 77957,\n        \"samples\": [\n          20931.47,\n          10781.23,\n          46551.18\n        ],\n        \"semantic_type\": \"\",\n        \"description\": \"\"\n      }\n    },\n    {\n      \"column\": \"promotion\",\n      \"properties\": {\n        \"dtype\": \"number\",\n        \"std\": 0,\n        \"min\": 0,\n        \"max\": 1,\n        \"num_unique_values\": 2,\n        \"samples\": [\n          1,\n          0\n        ],\n        \"semantic_type\": \"\",\n        \"description\": \"\"\n      }\n    },\n    {\n      \"column\": \"jour_ferie\",\n      \"properties\": {\n        \"dtype\": \"number\",\n        \"std\": 0,\n        \"min\": 0,\n        \"max\": 1,\n        \"num_unique_values\": 2,\n        \"samples\": [\n          1,\n          0\n        ],\n        \"semantic_type\": \"\",\n        \"description\": \"\"\n      }\n    },\n    {\n      \"column\": \"weekend\",\n      \"properties\": {\n        \"dtype\": \"number\",\n        \"std\": 0,\n        \"min\": 0,\n        \"max\": 1,\n        \"num_unique_values\": 2,\n        \"samples\": [\n          0,\n          1\n        ],\n        \"semantic_type\": \"\",\n        \"description\": \"\"\n      }\n    },\n    {\n      \"column\": \"stock_disponible\",\n      \"properties\": {\n        \"dtype\": \"number\",\n        \"std\": 132.19391845816213,\n        \"min\": 0.0,\n        \"max\": 500.0,\n        \"num_unique_values\": 501,\n        \"samples\": [\n          1.0,\n          423.0\n        ],\n        \"semantic_type\": \"\",\n        \"description\": \"\"\n      }\n    },\n    {\n      \"column\": \"condition_meteo\",\n      \"properties\": {\n        \"dtype\": \"category\",\n        \"num_unique_values\": 5,\n        \"samples\": [\n          \"Ensoleill\\u00e9\",\n          \"Pluie\"\n        ],\n        \"semantic_type\": \"\",\n        \"description\": \"\"\n      }\n    },\n    {\n      \"column\": \"region\",\n      \"properties\": {\n        \"dtype\": \"category\",\n        \"num_unique_values\": 3,\n        \"samples\": [\n          \"Urbain\",\n          \"Rural\"\n        ],\n        \"semantic_type\": \"\",\n        \"description\": \"\"\n      }\n    },\n    {\n      \"column\": \"moment_journee\",\n      \"properties\": {\n        \"dtype\": \"category\",\n        \"num_unique_values\": 3,\n        \"samples\": [\n          \"Soir\\u00e9e\",\n          \"Apr\\u00e8s-midi\"\n        ],\n        \"semantic_type\": \"\",\n        \"description\": \"\"\n      }\n    },\n    {\n      \"column\": \"quantite_vendue\",\n      \"properties\": {\n        \"dtype\": \"number\",\n        \"std\": 4.322819789373018,\n        \"min\": 1.0,\n        \"max\": 39.0,\n        \"num_unique_values\": 39,\n        \"samples\": [\n          36.0,\n          1.0\n        ],\n        \"semantic_type\": \"\",\n        \"description\": \"\"\n      }\n    }\n  ]\n}"
            }
          },
          "metadata": {},
          "execution_count": 21
        }
      ]
    },
    {
      "cell_type": "code",
      "source": [
        "import pandas as pd\n",
        "from sklearn.preprocessing import OneHotEncoder\n",
        "\n",
        "# Chargement de la base de données\n",
        "df = final_clean_data_trains\n",
        "sub_data_s=final_clean_data_subs\n",
        "# meteo_temp = {'Neigeux': 0, 'Ensoleillé': 35, 'Pluie': 35,'Orageux':20,'Nuageux':22}\n",
        "# df['temperature_moyenne'] = df['condition_meteo'].map(meteo_temp)\n",
        "# sub_data_s['temperature_moyenne'] = sub_data_s['condition_meteo'].map(meteo_temp)\n",
        "# Encodage des variables catégorielles pour l'entrainement\n",
        "encoder = OneHotEncoder(sparse_output=False)\n",
        "encoded_categories = encoder.fit_transform(df[['categorie', 'marque', 'region', 'moment_journee','condition_meteo']])\n",
        "encoded_df = pd.DataFrame(encoded_categories, columns=encoder.get_feature_names_out(['categorie', 'marque', 'region', 'moment_journee','condition_meteo']))\n",
        "\n",
        "#encodage pour les données de submission\n",
        "encoded_categories_s = encoder.transform(sub_data_s[['categorie', 'marque', 'region', 'moment_journee','condition_meteo']])\n",
        "encoded_df_s = pd.DataFrame(encoded_categories_s, columns=encoder.get_feature_names_out(['categorie', 'marque', 'region', 'moment_journee','condition_meteo']))\n",
        "\n",
        "# Ajout au DataFrame principal de train\n",
        "df = pd.concat([df, encoded_df], axis=1)\n",
        "df.drop(['categorie', 'marque', 'region', 'moment_journee','condition_meteo'], axis=1, inplace=True)\n",
        "\n",
        "#Ajout au dataframe principal de sub\n",
        "sub_data_s = pd.concat([sub_data_s, encoded_df_s], axis=1)\n",
        "sub_data_s.drop(['categorie', 'marque', 'region', 'moment_journee','condition_meteo'], axis=1, inplace=True)"
      ],
      "metadata": {
        "id": "_tWK_5w0r-B0"
      },
      "execution_count": 22,
      "outputs": []
    },
    {
      "cell_type": "code",
      "source": [
        "from operator import sub\n",
        "#feature engenering\n",
        "\n",
        "# Extraire les informations temporelles\n",
        "df['date'] = pd.to_datetime(df['date'])\n",
        "df['jour_semaine'] = df['date'].dt.weekday  # 0=Lundi, 6=Dimanche\n",
        "df['mois'] = df['date'].dt.month\n",
        "# df['saison'] = df['mois'].apply(lambda x: 'Hiver' if x in [12, 1, 2] else ('Printemps' if x in [3, 4, 5] else ('Été' if x in [6, 7, 8] else 'Automne')))\n",
        "\n",
        "# Tri des données par produit et date\n",
        "df = df.sort_values(by=['id_produit', 'date'])\n",
        "\n",
        "# Transformer les ventes des 30 jours précédents en listes\n",
        "# Appliquer cette fonction à chaque produit\n",
        "# Appliquer le décalage de 30 jours par produit\n",
        "df['quantite_vendue_lag_30'] = df.groupby('id_produit')['quantite_vendue'].shift(30)\n",
        "df = df[df['quantite_vendue_lag_30'].notna()]\n",
        "\n",
        "\n",
        "##Pour la base sub\n",
        "#feature engenering\n",
        "# Extraire les informations temporelles\n",
        "sub_data_s['date'] = pd.to_datetime(sub_data_s['date'])\n",
        "sub_data_s['jour_semaine'] = sub_data_s['date'].dt.weekday  # 0=Lundi, 6=Dimanche\n",
        "sub_data_s['mois']=sub_data_s['date'].dt.month\n",
        "# # Extraire les 30 dernières valeurs de 'quantite_vendue' par produit\n",
        "grouped_data30 = final_clean_data_trains.groupby('id_produit').apply(\n",
        "     lambda x: x.sort_values('date', ascending=False).head(30)\n",
        " )\n",
        "\n",
        "# # Reset index and select the desired columns\n",
        "last_30_sales = grouped_data30.reset_index(drop=True)[['id_produit', 'date', 'quantite_vendue']]\n",
        "last_30_sales = last_30_sales.rename(columns={'quantite_vendue': 'quantite_vendue_lag_30'})\n",
        "# Associer les dates de sub_data_s à last_30_sales pour aligner les données\n",
        "last_30_sales= last_30_sales.drop('date', axis=1).merge(\n",
        "    sub_data_s[['id_produit', 'date']], on='id_produit', how='inner'\n",
        ")\n",
        "# Dédupliquer last_30_sales pour s'assurer qu'une seule ligne par (id_produit, date)\n",
        "last_30_sales = last_30_sales.drop_duplicates(subset=['id_produit', 'date'])\n",
        "\n",
        "# Réaliser la jointure en garantissant la taille finale de sub_data_s\n",
        "sub_data_s= sub_data_s.merge(\n",
        "    last_30_sales[['id_produit', 'date', 'quantite_vendue_lag_30']],\n",
        "    on=['id_produit', 'date'],\n",
        "    how='left'\n",
        ")\n",
        "\n",
        "# Vérifier la taille finale\n",
        "assert len(sub_data_s) == 2576, \"La taille finale de sub_data_s n'est pas correcte !\""
      ],
      "metadata": {
        "id": "wXZBSambNTzy"
      },
      "execution_count": 23,
      "outputs": []
    },
    {
      "cell_type": "code",
      "source": [
        "##Calculer l'impact du stock sur la quantité vendue.\n",
        "# Si le stock est faible, cela peut limiter les ventes.\n",
        "# Créer une nouvelle variable stock_ratio pour indiquer le ratio de stock par rapport à la demande passée."
      ],
      "metadata": {
        "id": "eWDqDwKQvP2t"
      },
      "execution_count": null,
      "outputs": []
    },
    {
      "cell_type": "code",
      "source": [
        "#modélisation\n",
        "from sklearn.ensemble import RandomForestRegressor\n",
        "from sklearn.model_selection import train_test_split\n",
        "from sklearn.metrics import mean_squared_error\n",
        "\n",
        "# Séparation des variables indépendantes et dépendantes\n",
        "X = df.drop(['quantite_vendue', 'date','id_produit'], axis=1)\n",
        "y = df['quantite_vendue']\n",
        "\n",
        "# Division en train et test\n",
        "X_train, X_test, y_train, y_test = train_test_split(X, y, test_size=0.2, random_state=42)\n"
      ],
      "metadata": {
        "id": "amkKS6RPsJIk"
      },
      "execution_count": 24,
      "outputs": []
    },
    {
      "cell_type": "code",
      "source": [
        "\n",
        "plt.scatter(range(len(y[:200])),y[:200])\n",
        "\n",
        "plt.axhline(y=np.mean(y),color=\"r\",label = \"mean\")\n",
        "plt.title(\"Nuage de points de target\")\n",
        "plt.legend()\n",
        "plt.show()"
      ],
      "metadata": {
        "colab": {
          "base_uri": "https://localhost:8080/",
          "height": 452
        },
        "id": "lqLccxV5dcq5",
        "outputId": "c6d4c99d-3cc3-4395-9a6e-b144fe6d1dad"
      },
      "execution_count": 33,
      "outputs": [
        {
          "output_type": "display_data",
          "data": {
            "text/plain": [
              "<Figure size 640x480 with 1 Axes>"
            ],
            "image/png": "[encoded data removed]"
          },
          "metadata": {}
        }
      ]
    },
    {
      "cell_type": "code",
      "source": [
        "import pandas as pd\n",
        "from sklearn.ensemble import RandomForestRegressor,GradientBoostingRegressor\n",
        "from sklearn.metrics import mean_absolute_percentage_error, root_mean_squared_error\n",
        "\n",
        "def random_forest(X_train, y_train, X_test, y_test):\n",
        "\n",
        "    # 1. Entraîner RandomForest\n",
        "    rf_model = RandomForestRegressor(n_estimators=400, max_depth=5,random_state=42)\n",
        "    rf_model.fit(X_train, y_train)\n",
        "\n",
        "    # 2. Prédictions de RandomForest et calcul des résidus\n",
        "    rf_predictions = rf_model.predict(X_test)\n",
        "    return rf_predictions,rf_model"
      ],
      "metadata": {
        "id": "HqA3-7cLhDor"
      },
      "execution_count": 34,
      "outputs": []
    },
    {
      "cell_type": "code",
      "source": [
        "gbr = GradientBoostingRegressor(n_estimators = 400, learning_rate = 0.01 , random_state=42)\n",
        "gbr.fit(X_train, y_train)\n",
        "\n",
        "results={\n",
        "    'MAPE': mean_absolute_percentage_error(y_test, gbr.predict(X_test)),\n",
        "    'RMSE': root_mean_squared_error(y_test, gbr.predict(X_test))\n",
        "}\n",
        "\n",
        "print(results)"
      ],
      "metadata": {
        "colab": {
          "base_uri": "https://localhost:8080/"
        },
        "id": "xekWLK4EQ7Hb",
        "outputId": "db1acc09-d302-4bfb-a43e-1e0b3a919f77"
      },
      "execution_count": 35,
      "outputs": [
        {
          "output_type": "stream",
          "name": "stdout",
          "text": [
            "{'MAPE': 0.23324350390045043, 'RMSE': 4.0218329504862345}\n"
          ]
        }
      ]
    },
    {
      "cell_type": "code",
      "source": [
        "def evaluate_model(model, X_test, y_test):\n",
        "\n",
        "    predictions = model.predict(X_test)\n",
        "    mape = mean_absolute_percentage_error(y_test, predictions)\n",
        "    rmse = root_mean_squared_error(y_test, predictions)\n",
        "\n",
        "    results = {\n",
        "        'MAPE': mape,\n",
        "        'RMSE': rmse\n",
        "    }\n",
        "\n",
        "    print(results)\n",
        "    return"
      ],
      "metadata": {
        "id": "By2gTAFXhflJ"
      },
      "execution_count": 36,
      "outputs": []
    },
    {
      "cell_type": "markdown",
      "source": [
        "# Je m'intéresse à l'erreur sur les données d'entrainnement et après l'étude des erreurs j'élimise les lignes menant à une grande erreur en dehors de l'intervalle de confiance"
      ],
      "metadata": {
        "id": "JQmeVJGGpifs"
      }
    },
    {
      "cell_type": "code",
      "source": [
        "rf_model = RandomForestRegressor(n_estimators=400, max_depth=5,random_state=42)\n",
        "rf_model.fit(X_train, y_train)"
      ],
      "metadata": {
        "id": "zR9NJ0bnh6-V"
      },
      "execution_count": null,
      "outputs": []
    },
    {
      "cell_type": "code",
      "source": [
        "#residuals = y_test - rf_predictions\n",
        "residuals = y_train - rf_model.predict(X_train)\n",
        "moy = np.mean(residuals)\n",
        "std = np.std(residuals)\n",
        "plt.scatter(range(len(residuals[:400])), residuals[:400])  # x = index, y = résidus\n",
        "plt.axhline(y=moy, color='y', linestyle='--')\n",
        "plt.axhline(y=moy + 1.96*std, color='r', linestyle='-')\n",
        "plt.axhline(y=moy - 1.96*std, color='r', linestyle='-')\n",
        "plt.xlabel('Index')\n",
        "plt.ylabel('Résidus')\n",
        "plt.title('Nuage de points des résidus')"
      ],
      "metadata": {
        "colab": {
          "base_uri": "https://localhost:8080/",
          "height": 489
        },
        "id": "_zz7VBC0hgo1",
        "outputId": "d86f4207-af46-4964-bb2b-07bbb4c8ec7f"
      },
      "execution_count": 37,
      "outputs": [
        {
          "output_type": "execute_result",
          "data": {
            "text/plain": [
              "Text(0.5, 1.0, 'Nuage de points des résidus')"
            ]
          },
          "metadata": {},
          "execution_count": 37
        },
        {
          "output_type": "display_data",
          "data": {
            "text/plain": [
              "<Figure size 640x480 with 1 Axes>"
            ],
            "image/png": "[encoded data removed]"
          },
          "metadata": {}
        }
      ]
    },
    {
      "cell_type": "markdown",
      "source": [
        "# Filtrage des données d'entrainnement\n",
        "\n",
        "Après avoir detecter l'influence des valeurs extrêmes causant une grande erreur de prediction. Nous nous définissons une fonction avec des seuils obtenons en faisant une recherche de bord pour obtenir un seuil minisant l'erreur sur test set mais tout minisant la différence entre MAPE de train et test pour garder un oeil sur le risque de overfitting."
      ],
      "metadata": {
        "id": "FE5gBEJVqIEO"
      }
    },
    {
      "cell_type": "code",
      "source": [
        "# Calculate residuals\n",
        "from scipy.stats import median_abs_deviation\n",
        "def filtrage_data(model, X_train, y_train):\n",
        "\n",
        "    predictions_train = model.predict(X_train)\n",
        "    residuals_train = y_train - predictions_train\n",
        "    # Median des residus\n",
        "    med = np.median(residuals_train)\n",
        "    # as the name it helps to detection outliers\n",
        "    mad = median_abs_deviation(residuals_train)\n",
        "    z_mad = np.abs((residuals_train- med) / mad)\n",
        "\n",
        "\n",
        "    # Defining bounds\n",
        "    lower_bound = moy - 1.90*std\n",
        "    upper_bound = moy + 0.79111*std\n",
        "\n",
        "    # outliers (We take the default threshold for z_mad as 3 but can be improved)\n",
        "    outliers = np.where((z_mad> 3) | (residuals_train < lower_bound) | (residuals_train> upper_bound))[0]\n",
        "    # Filter out outliers from the test data\n",
        "    X_train_filtered = X_train.drop(index=X_train.index[outliers])\n",
        "    y_train_filtered = y_train.drop(index=y_train.index[outliers])\n",
        "\n",
        "    return X_train_filtered, y_train_filtered\n",
        "\n",
        "X_train_filtered, y_train_filtered = filtrage_data(rf_model, X_train, y_train)"
      ],
      "metadata": {
        "id": "i67CyD5GWYmX"
      },
      "execution_count": 41,
      "outputs": []
    },
    {
      "cell_type": "code",
      "source": [
        "# 2. Entraîner RandomForest avec les paramètres spécifiés\n",
        "rf_model = RandomForestRegressor(n_estimators=400, max_depth=5, random_state=42)\n",
        "rf_model.fit(X_train_filtered, y_train_filtered)\n",
        "\n",
        "# 3. Prédictions de RandomForest et calcul des résidus\n",
        "rf_predictions = rf_model.predict(X_test)\n",
        "\n",
        "evaluate_model(rf_model, X_test, y_test)"
      ],
      "metadata": {
        "id": "hC2XKiwqjGG3",
        "colab": {
          "base_uri": "https://localhost:8080/"
        },
        "outputId": "7786fe6e-788c-4097-edf1-1ffb011c3bbd"
      },
      "execution_count": 42,
      "outputs": [
        {
          "output_type": "stream",
          "name": "stdout",
          "text": [
            "{'MAPE': 0.22097342269848236, 'RMSE': 4.2279582207403035}\n"
          ]
        }
      ]
    },
    {
      "cell_type": "code",
      "source": [
        "evaluate_model(rf_model, X_train, y_train)"
      ],
      "metadata": {
        "colab": {
          "base_uri": "https://localhost:8080/"
        },
        "id": "X2rCMy1djZdV",
        "outputId": "75bec8ef-2402-44b1-fac9-f8c2a2572c3d"
      },
      "execution_count": 43,
      "outputs": [
        {
          "output_type": "stream",
          "name": "stdout",
          "text": [
            "{'MAPE': 0.22157628385658637, 'RMSE': 4.275235061984247}\n"
          ]
        }
      ]
    },
    {
      "cell_type": "markdown",
      "source": [
        "# Les modèles plus perfomants que nous avons considéré sont:\\\\\n",
        "- GradientBoostingRegressor\n",
        "- RandomForestRegressor \\\\\n",
        "\n",
        "Mais le prémier a été sujet à plusieurs instabilité donc nous avons préféré RF pour soumission.\n"
      ],
      "metadata": {
        "id": "fIFv3a_8mtc8"
      }
    },
    {
      "cell_type": "code",
      "source": [
        "#Les paramètres ont été choisis suite au gridsearch\n",
        "model1 = RandomForestRegressor(n_estimators=400, max_depth=5, random_state=42)\n",
        "model2 = GradientBoostingRegressor(n_estimators = 300, learning_rate = 0.01 , random_state=42)\n",
        "\n",
        "# Entraîner les modèles\n",
        "model1.fit(X_train_filtered, y_train_filtered)\n",
        "model2.fit(X_train_filtered, y_train_filtered)\n",
        "\n",
        "# Prédictions\n",
        "predictions1 = model1.predict(X_test)\n",
        "predictions2 = model2.predict(X_test)\n",
        "\n",
        "print(\"la performane du modèle 1\")\n",
        "evaluate_model(model1, X_test, y_test)\n",
        "\n",
        "print(\"la performane du modèle 2\")\n",
        "result2 = evaluate_model(model2, X_test, y_test)"
      ],
      "metadata": {
        "colab": {
          "base_uri": "https://localhost:8080/"
        },
        "id": "BAW3dd5Lvfcq",
        "outputId": "52a2e796-e81c-48b3-ce01-e361bd5b5422"
      },
      "execution_count": null,
      "outputs": [
        {
          "output_type": "stream",
          "name": "stdout",
          "text": [
            "la performane du modèle 1\n",
            "{'MAPE': 0.22097342269848236, 'RMSE': 4.2279582207403035}\n",
            "la performane du modèle 2\n",
            "{'MAPE': 0.22136014369688556, 'RMSE': 4.243370011374211}\n"
          ]
        }
      ]
    },
    {
      "cell_type": "code",
      "source": [
        "import pandas as pd\n",
        "from sklearn.preprocessing import StandardScaler #Not necessary for RF\n",
        "\n",
        "def predict_on_sub_data(sub_data, model,model_name = \"rf\"):\n",
        "    \"\"\"\n",
        "    Makes predictions on sub_data using the combined models from combine_models.\n",
        "\n",
        "    Args:\n",
        "        sub_data: The DataFrame containing the data to make predictions on.\n",
        "        model: The first trained model.\n",
        "        features_to_drop: A list of features to drop from sub_data.\n",
        "\n",
        "    Returns:\n",
        "        A pandas Series containing the predictions for sub_data.\n",
        "    \"\"\"\n",
        "    sub_d=sub_data.copy()\n",
        "    # 3. Make predictions using both models\n",
        "    predictions = model.predict(sub_d.drop(['date','id_produit'], axis=1))\n",
        "    sub_d['quantite_vendue'] = predictions\n",
        "    sub_d[\"id\"] = sub_d.index\n",
        "    # ... (Save your predictions to a CSV file for submission)\n",
        "    sub_d[['id', 'quantite_vendue']].to_csv(model_name+'_predictions.csv', index=False)\n",
        "    # 5. Return the combined predictions as a pandas Series\n",
        "    return"
      ],
      "metadata": {
        "id": "KlvibhPwdFHf"
      },
      "execution_count": null,
      "outputs": []
    },
    {
      "cell_type": "code",
      "source": [
        "predict_on_sub_data(sub_data_s, rf_model,model_name = \"rf\")"
      ],
      "metadata": {
        "id": "4_MBAChNfV9D"
      },
      "execution_count": null,
      "outputs": []
    },
    {
      "cell_type": "code",
      "source": [
        "predict_on_sub_data(sub_data_s, model2,model_name = \"gb\")"
      ],
      "metadata": {
        "id": "h51_qdJAm6we"
      },
      "execution_count": null,
      "outputs": []
    },
    {
      "cell_type": "markdown",
      "source": [
        "# Les pistes non explorées:"
      ],
      "metadata": {
        "id": "g-p24pxMoDua"
      }
    },
    {
      "cell_type": "markdown",
      "source": [
        "Selon la distribution des résidus il serait intéressante de tester les ARCH, G-ARCH pour modéliser la variance résiduelle."
      ],
      "metadata": {
        "id": "w2fop0b0oplX"
      }
    },
    {
      "cell_type": "markdown",
      "source": [
        "![image.png](data:image/png;base64,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)"
      ],
      "metadata": {
        "id": "fNKZZnSppCMa"
      }
    },
    {
      "cell_type": "markdown",
      "source": [
        "Il y'a plusieurs version ici:\n",
        "\n",
        "- https://github.com/SIDIBEMoussa/DataHubInternational/tree/main\n",
        "\n",
        "On n'a éliminé la gridsearch après l'obtention du meilleur hyperparamètre pour éviter son exécution."
      ],
      "metadata": {
        "id": "NHpmIJexq1br"
      }
    }
  ]
}